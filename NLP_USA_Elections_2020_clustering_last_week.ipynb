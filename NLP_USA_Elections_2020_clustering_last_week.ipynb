{
 "cells": [
  {
   "cell_type": "code",
   "execution_count": 1,
   "id": "structured-marathon",
   "metadata": {},
   "outputs": [],
   "source": [
    "import numpy as np\n",
    "import pandas as pd\n",
    "pd.set_option('max_colwidth', 80)\n",
    "\n",
    "import re\n",
    "import nltk\n",
    "from nltk.corpus import stopwords\n",
    "from nltk.tokenize import word_tokenize\n",
    "from nltk.stem import WordNetLemmatizer\n",
    "from nltk.stem import PorterStemmer\n",
    "\n",
    "import seaborn as sns\n",
    "import matplotlib.pyplot as plt\n",
    "from wordcloud import WordCloud, STOPWORDS\n",
    "\n",
    "from sklearn.feature_extraction.text import TfidfVectorizer, CountVectorizer\n",
    "from sklearn.cluster import KMeans\n",
    "from sklearn.decomposition import LatentDirichletAllocation"
   ]
  },
  {
   "cell_type": "code",
   "execution_count": 2,
   "id": "steady-tampa",
   "metadata": {},
   "outputs": [
    {
     "name": "stderr",
     "output_type": "stream",
     "text": [
      "[nltk_data] Downloading package stopwords to\n",
      "[nltk_data]     C:\\Users\\user\\AppData\\Roaming\\nltk_data...\n",
      "[nltk_data]   Package stopwords is already up-to-date!\n",
      "[nltk_data] Downloading package punkt to\n",
      "[nltk_data]     C:\\Users\\user\\AppData\\Roaming\\nltk_data...\n",
      "[nltk_data]   Package punkt is already up-to-date!\n",
      "[nltk_data] Downloading package wordnet to\n",
      "[nltk_data]     C:\\Users\\user\\AppData\\Roaming\\nltk_data...\n",
      "[nltk_data]   Package wordnet is already up-to-date!\n"
     ]
    },
    {
     "data": {
      "text/plain": [
       "True"
      ]
     },
     "execution_count": 2,
     "metadata": {},
     "output_type": "execute_result"
    }
   ],
   "source": [
    "nltk.download('stopwords')\n",
    "nltk.download('punkt')\n",
    "nltk.download('wordnet')"
   ]
  },
  {
   "cell_type": "code",
   "execution_count": 3,
   "id": "lined-toddler",
   "metadata": {},
   "outputs": [],
   "source": [
    "stopwords_eng = stopwords.words('english')"
   ]
  },
  {
   "cell_type": "markdown",
   "id": "undefined-prayer",
   "metadata": {},
   "source": [
    "# Import Data"
   ]
  },
  {
   "cell_type": "code",
   "execution_count": 4,
   "id": "continued-consciousness",
   "metadata": {},
   "outputs": [],
   "source": [
    "tweets_df = pd.read_csv('Data/tweets_election.csv')\n",
    "tweets_df.drop(tweets_df.columns[0], axis=1, inplace=True)"
   ]
  },
  {
   "cell_type": "code",
   "execution_count": 5,
   "id": "vertical-programming",
   "metadata": {},
   "outputs": [],
   "source": [
    "tweets_df.drop_duplicates('text', keep='first', inplace=True)\n",
    "tweets_df.reset_index(drop=True, inplace=True)"
   ]
  },
  {
   "cell_type": "code",
   "execution_count": 6,
   "id": "seeing-possibility",
   "metadata": {},
   "outputs": [
    {
     "data": {
      "text/html": [
       "<div>\n",
       "<style scoped>\n",
       "    .dataframe tbody tr th:only-of-type {\n",
       "        vertical-align: middle;\n",
       "    }\n",
       "\n",
       "    .dataframe tbody tr th {\n",
       "        vertical-align: top;\n",
       "    }\n",
       "\n",
       "    .dataframe thead th {\n",
       "        text-align: right;\n",
       "    }\n",
       "</style>\n",
       "<table border=\"1\" class=\"dataframe\">\n",
       "  <thead>\n",
       "    <tr style=\"text-align: right;\">\n",
       "      <th></th>\n",
       "      <th>geo</th>\n",
       "      <th>text</th>\n",
       "      <th>user</th>\n",
       "      <th>location</th>\n",
       "      <th>Subject</th>\n",
       "      <th>state</th>\n",
       "    </tr>\n",
       "  </thead>\n",
       "  <tbody>\n",
       "    <tr>\n",
       "      <th>0</th>\n",
       "      <td>NaN</td>\n",
       "      <td>After the confrontation that cost Walter Wallace Jr. his life set off prote...</td>\n",
       "      <td>wheresestela1</td>\n",
       "      <td>New Jersey</td>\n",
       "      <td>Donald Trump</td>\n",
       "      <td>New Jersey</td>\n",
       "    </tr>\n",
       "    <tr>\n",
       "      <th>1</th>\n",
       "      <td>NaN</td>\n",
       "      <td>\"COVID-19 is still raging. Trump is still lying.\"</td>\n",
       "      <td>TheFemaleYungin</td>\n",
       "      <td>The Wrong Address, Texas</td>\n",
       "      <td>Donald Trump</td>\n",
       "      <td>Texas</td>\n",
       "    </tr>\n",
       "    <tr>\n",
       "      <th>2</th>\n",
       "      <td>NaN</td>\n",
       "      <td>Donald Trump Jr.: \"Why aren't they talking about deaths? Oh, oh, because th...</td>\n",
       "      <td>KathrynTomashu1</td>\n",
       "      <td>Northborough, MA</td>\n",
       "      <td>Donald Trump</td>\n",
       "      <td>Massachusetts</td>\n",
       "    </tr>\n",
       "    <tr>\n",
       "      <th>3</th>\n",
       "      <td>NaN</td>\n",
       "      <td>Let’s not forget who created these problems. Tell Donald Trump his scheme to...</td>\n",
       "      <td>ajserino</td>\n",
       "      <td>New Jersey, USA</td>\n",
       "      <td>Donald Trump</td>\n",
       "      <td>New Jersey</td>\n",
       "    </tr>\n",
       "    <tr>\n",
       "      <th>4</th>\n",
       "      <td>NaN</td>\n",
       "      <td>There is no greater supporter of Donald Trump in the world than Mark Zucker...</td>\n",
       "      <td>SpeakBravely</td>\n",
       "      <td>Twin Cities, Minnesota</td>\n",
       "      <td>Donald Trump</td>\n",
       "      <td>Minnesota</td>\n",
       "    </tr>\n",
       "  </tbody>\n",
       "</table>\n",
       "</div>"
      ],
      "text/plain": [
       "   geo  \\\n",
       "0  NaN   \n",
       "1  NaN   \n",
       "2  NaN   \n",
       "3  NaN   \n",
       "4  NaN   \n",
       "\n",
       "                                                                              text  \\\n",
       "0   After the confrontation that cost Walter Wallace Jr. his life set off prote...   \n",
       "1                               \"COVID-19 is still raging. Trump is still lying.\"    \n",
       "2   Donald Trump Jr.: \"Why aren't they talking about deaths? Oh, oh, because th...   \n",
       "3  Let’s not forget who created these problems. Tell Donald Trump his scheme to...   \n",
       "4   There is no greater supporter of Donald Trump in the world than Mark Zucker...   \n",
       "\n",
       "              user                   location       Subject          state  \n",
       "0    wheresestela1                 New Jersey  Donald Trump     New Jersey  \n",
       "1  TheFemaleYungin  The Wrong Address, Texas   Donald Trump          Texas  \n",
       "2  KathrynTomashu1           Northborough, MA  Donald Trump  Massachusetts  \n",
       "3         ajserino            New Jersey, USA  Donald Trump     New Jersey  \n",
       "4     SpeakBravely     Twin Cities, Minnesota  Donald Trump      Minnesota  "
      ]
     },
     "execution_count": 6,
     "metadata": {},
     "output_type": "execute_result"
    }
   ],
   "source": [
    "tweets_df.head()"
   ]
  },
  {
   "cell_type": "markdown",
   "id": "fixed-greenhouse",
   "metadata": {},
   "source": [
    "# NLTK text preprocess"
   ]
  },
  {
   "cell_type": "code",
   "execution_count": 7,
   "id": "comparable-scout",
   "metadata": {},
   "outputs": [],
   "source": [
    "def clean_tweet(tweet):\n",
    "    tweet = re.sub('RT','',tweet)\n",
    "    tweet = re.sub('@','',tweet)\n",
    "    tweet = re.sub('#','',tweet)\n",
    "    tweet = re.sub('https?://[A-Za-z0-9./]*','',tweet)\n",
    "    tweet = re.sub('\\n','',tweet)\n",
    "    return tweet"
   ]
  },
  {
   "cell_type": "code",
   "execution_count": 8,
   "id": "ecological-myrtle",
   "metadata": {},
   "outputs": [],
   "source": [
    "# lemmatization function\n",
    "lemmatizer = WordNetLemmatizer()\n",
    "def lemmatize_tweet(tweet):\n",
    "    lemmatized_tweet = []\n",
    "    for word in tweet:\n",
    "        lemmatized_tweet.append(lemmatizer.lemmatize(word, pos='v'))\n",
    "    return lemmatized_tweet\n",
    "\n",
    "# stemming function\n",
    "porter = PorterStemmer()\n",
    "def stem_tweet(tweet):\n",
    "    stemmed_tweet = []\n",
    "    for word in tweet:\n",
    "        stemmed_tweet.append(porter.stem(word))\n",
    "    return stemmed_tweet\n",
    "\n",
    "\n",
    "# remove stopwords function\n",
    "def remove_stopwords(tweet):\n",
    "    tweet_witout_stops = []\n",
    "    for word in tweet:\n",
    "        if word not in stopwords_eng:\n",
    "            tweet_witout_stops.append(word)\n",
    "    return tweet_witout_stops"
   ]
  },
  {
   "cell_type": "code",
   "execution_count": 9,
   "id": "overall-mexican",
   "metadata": {},
   "outputs": [],
   "source": [
    "tweets_df['cleaned_text'] = tweets_df['text'].apply(clean_tweet)"
   ]
  },
  {
   "cell_type": "code",
   "execution_count": 10,
   "id": "constitutional-optimum",
   "metadata": {},
   "outputs": [],
   "source": [
    "# make all text lowercase\n",
    "tweets_df['cleaned_text'] = tweets_df['cleaned_text'].apply(lambda x: x.lower())"
   ]
  },
  {
   "cell_type": "code",
   "execution_count": 11,
   "id": "answering-amsterdam",
   "metadata": {},
   "outputs": [
    {
     "name": "stderr",
     "output_type": "stream",
     "text": [
      "<ipython-input-11-7b644cf159d7>:2: FutureWarning: The default value of regex will change from True to False in a future version.\n",
      "  tweets_df['cleaned_text'] = tweets_df['cleaned_text'].str.replace(\"[^a-zA-z]\", \" \")\n"
     ]
    }
   ],
   "source": [
    "# remove punctuations and numbers and emoji\n",
    "tweets_df['cleaned_text'] = tweets_df['cleaned_text'].str.replace(\"[^a-zA-z]\", \" \")"
   ]
  },
  {
   "cell_type": "code",
   "execution_count": 12,
   "id": "boring-detroit",
   "metadata": {},
   "outputs": [],
   "source": [
    "#tokenize text\n",
    "tweets_df['tokenized_text'] = tweets_df['cleaned_text'].apply(lambda x: word_tokenize(x))"
   ]
  },
  {
   "cell_type": "code",
   "execution_count": 13,
   "id": "social-irrigation",
   "metadata": {},
   "outputs": [],
   "source": [
    "#remove stopwords\n",
    "tweets_df['tokenized_text'] = tweets_df['tokenized_text'].apply(remove_stopwords)"
   ]
  },
  {
   "cell_type": "code",
   "execution_count": 14,
   "id": "given-technician",
   "metadata": {},
   "outputs": [],
   "source": [
    "#lemmatize text\n",
    "tweets_df['lemmatized_text'] = tweets_df['tokenized_text']. apply(lemmatize_tweet)"
   ]
  },
  {
   "cell_type": "code",
   "execution_count": 15,
   "id": "synthetic-springer",
   "metadata": {},
   "outputs": [],
   "source": [
    "#stem text\n",
    "tweets_df['stemmed_text'] = tweets_df['lemmatized_text'].apply(stem_tweet)"
   ]
  },
  {
   "cell_type": "code",
   "execution_count": 16,
   "id": "standard-transcription",
   "metadata": {},
   "outputs": [],
   "source": [
    "#de tokenize text\n",
    "tweets_df['lemmatized_string'] = tweets_df['lemmatized_text'].apply(lambda x: ' '.join(x))\n",
    "tweets_df['stemmed_string'] = tweets_df['stemmed_text'].apply(lambda x: ' '.join(x))"
   ]
  },
  {
   "cell_type": "code",
   "execution_count": 17,
   "id": "regulated-driving",
   "metadata": {},
   "outputs": [
    {
     "data": {
      "text/html": [
       "<div>\n",
       "<style scoped>\n",
       "    .dataframe tbody tr th:only-of-type {\n",
       "        vertical-align: middle;\n",
       "    }\n",
       "\n",
       "    .dataframe tbody tr th {\n",
       "        vertical-align: top;\n",
       "    }\n",
       "\n",
       "    .dataframe thead th {\n",
       "        text-align: right;\n",
       "    }\n",
       "</style>\n",
       "<table border=\"1\" class=\"dataframe\">\n",
       "  <thead>\n",
       "    <tr style=\"text-align: right;\">\n",
       "      <th></th>\n",
       "      <th>geo</th>\n",
       "      <th>text</th>\n",
       "      <th>user</th>\n",
       "      <th>location</th>\n",
       "      <th>Subject</th>\n",
       "      <th>state</th>\n",
       "      <th>cleaned_text</th>\n",
       "      <th>tokenized_text</th>\n",
       "      <th>lemmatized_text</th>\n",
       "      <th>stemmed_text</th>\n",
       "      <th>lemmatized_string</th>\n",
       "      <th>stemmed_string</th>\n",
       "    </tr>\n",
       "  </thead>\n",
       "  <tbody>\n",
       "    <tr>\n",
       "      <th>0</th>\n",
       "      <td>NaN</td>\n",
       "      <td>After the confrontation that cost Walter Wallace Jr. his life set off prote...</td>\n",
       "      <td>wheresestela1</td>\n",
       "      <td>New Jersey</td>\n",
       "      <td>Donald Trump</td>\n",
       "      <td>New Jersey</td>\n",
       "      <td>after the confrontation that cost walter wallace jr  his life set off prote...</td>\n",
       "      <td>[confrontation, cost, walter, wallace, jr, life, set, protests, devolved, ri...</td>\n",
       "      <td>[confrontation, cost, walter, wallace, jr, life, set, protest, devolve, riot...</td>\n",
       "      <td>[confront, cost, walter, wallac, jr, life, set, protest, devolv, riot, loot,...</td>\n",
       "      <td>confrontation cost walter wallace jr life set protest devolve riot loot lead</td>\n",
       "      <td>confront cost walter wallac jr life set protest devolv riot loot lead</td>\n",
       "    </tr>\n",
       "    <tr>\n",
       "      <th>1</th>\n",
       "      <td>NaN</td>\n",
       "      <td>\"COVID-19 is still raging. Trump is still lying.\"</td>\n",
       "      <td>TheFemaleYungin</td>\n",
       "      <td>The Wrong Address, Texas</td>\n",
       "      <td>Donald Trump</td>\n",
       "      <td>Texas</td>\n",
       "      <td>covid    is still raging  trump is still lying</td>\n",
       "      <td>[covid, still, raging, trump, still, lying]</td>\n",
       "      <td>[covid, still, rag, trump, still, lie]</td>\n",
       "      <td>[covid, still, rag, trump, still, lie]</td>\n",
       "      <td>covid still rag trump still lie</td>\n",
       "      <td>covid still rag trump still lie</td>\n",
       "    </tr>\n",
       "    <tr>\n",
       "      <th>2</th>\n",
       "      <td>NaN</td>\n",
       "      <td>Donald Trump Jr.: \"Why aren't they talking about deaths? Oh, oh, because th...</td>\n",
       "      <td>KathrynTomashu1</td>\n",
       "      <td>Northborough, MA</td>\n",
       "      <td>Donald Trump</td>\n",
       "      <td>Massachusetts</td>\n",
       "      <td>donald trump jr    why aren t they talking about deaths  oh  oh  because th...</td>\n",
       "      <td>[donald, trump, jr, talking, deaths, oh, oh, number, almost, nothing, gott]</td>\n",
       "      <td>[donald, trump, jr, talk, deaths, oh, oh, number, almost, nothing, gott]</td>\n",
       "      <td>[donald, trump, jr, talk, death, oh, oh, number, almost, noth, gott]</td>\n",
       "      <td>donald trump jr talk deaths oh oh number almost nothing gott</td>\n",
       "      <td>donald trump jr talk death oh oh number almost noth gott</td>\n",
       "    </tr>\n",
       "    <tr>\n",
       "      <th>3</th>\n",
       "      <td>NaN</td>\n",
       "      <td>Let’s not forget who created these problems. Tell Donald Trump his scheme to...</td>\n",
       "      <td>ajserino</td>\n",
       "      <td>New Jersey, USA</td>\n",
       "      <td>Donald Trump</td>\n",
       "      <td>New Jersey</td>\n",
       "      <td>let s not forget who created these problems  tell donald trump his scheme to...</td>\n",
       "      <td>[let, forget, created, problems, tell, donald, trump, scheme, undermine, rig...</td>\n",
       "      <td>[let, forget, create, problems, tell, donald, trump, scheme, undermine, righ...</td>\n",
       "      <td>[let, forget, creat, problem, tell, donald, trump, scheme, undermin, right, ...</td>\n",
       "      <td>let forget create problems tell donald trump scheme undermine right vote safely</td>\n",
       "      <td>let forget creat problem tell donald trump scheme undermin right vote safe</td>\n",
       "    </tr>\n",
       "    <tr>\n",
       "      <th>4</th>\n",
       "      <td>NaN</td>\n",
       "      <td>There is no greater supporter of Donald Trump in the world than Mark Zucker...</td>\n",
       "      <td>SpeakBravely</td>\n",
       "      <td>Twin Cities, Minnesota</td>\n",
       "      <td>Donald Trump</td>\n",
       "      <td>Minnesota</td>\n",
       "      <td>there is no greater supporter of donald trump in the world than mark zucker...</td>\n",
       "      <td>[greater, supporter, donald, trump, world, mark, zuckerberg, one, done, elect]</td>\n",
       "      <td>[greater, supporter, donald, trump, world, mark, zuckerberg, one, do, elect]</td>\n",
       "      <td>[greater, support, donald, trump, world, mark, zuckerberg, one, do, elect]</td>\n",
       "      <td>greater supporter donald trump world mark zuckerberg one do elect</td>\n",
       "      <td>greater support donald trump world mark zuckerberg one do elect</td>\n",
       "    </tr>\n",
       "  </tbody>\n",
       "</table>\n",
       "</div>"
      ],
      "text/plain": [
       "   geo  \\\n",
       "0  NaN   \n",
       "1  NaN   \n",
       "2  NaN   \n",
       "3  NaN   \n",
       "4  NaN   \n",
       "\n",
       "                                                                              text  \\\n",
       "0   After the confrontation that cost Walter Wallace Jr. his life set off prote...   \n",
       "1                               \"COVID-19 is still raging. Trump is still lying.\"    \n",
       "2   Donald Trump Jr.: \"Why aren't they talking about deaths? Oh, oh, because th...   \n",
       "3  Let’s not forget who created these problems. Tell Donald Trump his scheme to...   \n",
       "4   There is no greater supporter of Donald Trump in the world than Mark Zucker...   \n",
       "\n",
       "              user                   location       Subject          state  \\\n",
       "0    wheresestela1                 New Jersey  Donald Trump     New Jersey   \n",
       "1  TheFemaleYungin  The Wrong Address, Texas   Donald Trump          Texas   \n",
       "2  KathrynTomashu1           Northborough, MA  Donald Trump  Massachusetts   \n",
       "3         ajserino            New Jersey, USA  Donald Trump     New Jersey   \n",
       "4     SpeakBravely     Twin Cities, Minnesota  Donald Trump      Minnesota   \n",
       "\n",
       "                                                                      cleaned_text  \\\n",
       "0   after the confrontation that cost walter wallace jr  his life set off prote...   \n",
       "1                                covid    is still raging  trump is still lying      \n",
       "2   donald trump jr    why aren t they talking about deaths  oh  oh  because th...   \n",
       "3  let s not forget who created these problems  tell donald trump his scheme to...   \n",
       "4   there is no greater supporter of donald trump in the world than mark zucker...   \n",
       "\n",
       "                                                                    tokenized_text  \\\n",
       "0  [confrontation, cost, walter, wallace, jr, life, set, protests, devolved, ri...   \n",
       "1                                      [covid, still, raging, trump, still, lying]   \n",
       "2      [donald, trump, jr, talking, deaths, oh, oh, number, almost, nothing, gott]   \n",
       "3  [let, forget, created, problems, tell, donald, trump, scheme, undermine, rig...   \n",
       "4   [greater, supporter, donald, trump, world, mark, zuckerberg, one, done, elect]   \n",
       "\n",
       "                                                                   lemmatized_text  \\\n",
       "0  [confrontation, cost, walter, wallace, jr, life, set, protest, devolve, riot...   \n",
       "1                                           [covid, still, rag, trump, still, lie]   \n",
       "2         [donald, trump, jr, talk, deaths, oh, oh, number, almost, nothing, gott]   \n",
       "3  [let, forget, create, problems, tell, donald, trump, scheme, undermine, righ...   \n",
       "4     [greater, supporter, donald, trump, world, mark, zuckerberg, one, do, elect]   \n",
       "\n",
       "                                                                      stemmed_text  \\\n",
       "0  [confront, cost, walter, wallac, jr, life, set, protest, devolv, riot, loot,...   \n",
       "1                                           [covid, still, rag, trump, still, lie]   \n",
       "2             [donald, trump, jr, talk, death, oh, oh, number, almost, noth, gott]   \n",
       "3  [let, forget, creat, problem, tell, donald, trump, scheme, undermin, right, ...   \n",
       "4       [greater, support, donald, trump, world, mark, zuckerberg, one, do, elect]   \n",
       "\n",
       "                                                                 lemmatized_string  \\\n",
       "0     confrontation cost walter wallace jr life set protest devolve riot loot lead   \n",
       "1                                                  covid still rag trump still lie   \n",
       "2                     donald trump jr talk deaths oh oh number almost nothing gott   \n",
       "3  let forget create problems tell donald trump scheme undermine right vote safely   \n",
       "4                greater supporter donald trump world mark zuckerberg one do elect   \n",
       "\n",
       "                                                               stemmed_string  \n",
       "0       confront cost walter wallac jr life set protest devolv riot loot lead  \n",
       "1                                             covid still rag trump still lie  \n",
       "2                    donald trump jr talk death oh oh number almost noth gott  \n",
       "3  let forget creat problem tell donald trump scheme undermin right vote safe  \n",
       "4             greater support donald trump world mark zuckerberg one do elect  "
      ]
     },
     "execution_count": 17,
     "metadata": {},
     "output_type": "execute_result"
    }
   ],
   "source": [
    "tweets_df.head()"
   ]
  },
  {
   "cell_type": "code",
   "execution_count": 18,
   "id": "faced-inside",
   "metadata": {},
   "outputs": [
    {
     "data": {
      "text/plain": [
       "1933"
      ]
     },
     "execution_count": 18,
     "metadata": {},
     "output_type": "execute_result"
    }
   ],
   "source": [
    "len(tweets_df)"
   ]
  },
  {
   "cell_type": "markdown",
   "id": "valid-wealth",
   "metadata": {},
   "source": [
    "# Clustering - Topic Modeling"
   ]
  },
  {
   "cell_type": "markdown",
   "id": "noticed-result",
   "metadata": {},
   "source": [
    "## TFIDF Vectorizer"
   ]
  },
  {
   "cell_type": "code",
   "execution_count": 19,
   "id": "integral-glass",
   "metadata": {},
   "outputs": [],
   "source": [
    "tfidf_vector = TfidfVectorizer(max_df=0.3, min_df=10, stop_words=stopwords_eng, ngram_range=(1,2), max_features=100, use_idf=True, smooth_idf=True)\n",
    "\n",
    "X  = tfidf_vector.fit_transform(tweets_df['lemmatized_string'])"
   ]
  },
  {
   "cell_type": "code",
   "execution_count": null,
   "id": "fewer-cruise",
   "metadata": {},
   "outputs": [],
   "source": []
  },
  {
   "cell_type": "markdown",
   "id": "dangerous-management",
   "metadata": {},
   "source": [
    "Choosing K value"
   ]
  },
  {
   "cell_type": "code",
   "execution_count": 20,
   "id": "fiscal-enforcement",
   "metadata": {},
   "outputs": [],
   "source": [
    "ssd = []\n",
    "\n",
    "for k in range(1,15):\n",
    "    \n",
    "    model = KMeans(n_clusters=k)\n",
    "    \n",
    "    \n",
    "    model.fit(X)\n",
    "    \n",
    "    #Sum of squared distances of samples to their closest cluster center.\n",
    "    ssd.append(model.inertia_)"
   ]
  },
  {
   "cell_type": "code",
   "execution_count": 21,
   "id": "subtle-marriage",
   "metadata": {},
   "outputs": [
    {
     "data": {
      "text/plain": [
       "Text(0.5, 1.0, 'Elbow method to find the optimal k value')"
      ]
     },
     "execution_count": 21,
     "metadata": {},
     "output_type": "execute_result"
    },
    {
     "data": {
      "image/png": "[encoded data removed]",
      "text/plain": [
       "<Figure size 720x576 with 1 Axes>"
      ]
     },
     "metadata": {
      "needs_background": "light"
     },
     "output_type": "display_data"
    }
   ],
   "source": [
    "fig = plt.figure(figsize=(10,8))\n",
    "plt.plot(range(1,15),ssd,'o--')\n",
    "plt.xlabel(\"K Value\")\n",
    "plt.ylabel(\" Sum of Squared Distances\")\n",
    "plt.title(\"Elbow method to find the optimal k value\")"
   ]
  },
  {
   "cell_type": "markdown",
   "id": "sharing-space",
   "metadata": {},
   "source": [
    "# K-Means"
   ]
  },
  {
   "cell_type": "code",
   "execution_count": 22,
   "id": "cooked-korea",
   "metadata": {},
   "outputs": [],
   "source": [
    "num_clusters = 7\n",
    "\n",
    "km = KMeans(n_clusters=num_clusters, init='k-means++', random_state=42)\n",
    "labels = km.fit_predict(X)"
   ]
  },
  {
   "cell_type": "code",
   "execution_count": 23,
   "id": "representative-reply",
   "metadata": {},
   "outputs": [
    {
     "name": "stdout",
     "output_type": "stream",
     "text": [
      "Top 10 words per cluster\n",
      "Cluster #0\n",
      "['hunter', 'go', 'hunter biden', 'campaign', 'know', 'via', 'make', 'election', 'win', 'support']\n",
      "\n",
      "\n",
      "Cluster #1\n",
      "['americans', 'kamala', 'harris', 'day', 'vote', 'vote joe', 'take', 'election', 'run', 'campaign']\n",
      "\n",
      "\n",
      "Cluster #2\n",
      "['president', 'president donald', 'president trump', 'election', 'campaign', 'via', 'former', 'obama', 'rally', 'america']\n",
      "\n",
      "\n",
      "Cluster #3\n",
      "['get', 'us', 'use', 'back', 'like', 'right', 'president', 'say', 'try', 'think']\n",
      "\n",
      "\n",
      "Cluster #4\n",
      "['people', 'vote', 'black', 'like', 'call', 'time', 'say', 'president', 'many', 'go']\n",
      "\n",
      "\n",
      "Cluster #5\n",
      "['say', 'jr', 'trump jr', 'nothing', 'almost', 'almost nothing', 'deaths', 'covid', 'day', 'go']\n",
      "\n",
      "\n",
      "Cluster #6\n",
      "['vote', 'vote joe', 'vote donald', 'go', 'want', 'election', 'let', 'president', 'country', 'right']\n",
      "\n",
      "\n"
     ]
    }
   ],
   "source": [
    "print(\"Top 10 words per cluster\")\n",
    "order_centroids = km.cluster_centers_.argsort()[:, ::-1]\n",
    "for i in range(num_clusters):\n",
    "    print(f\"Cluster #{i}\")\n",
    "    top_ten_words = [tfidf_vector.get_feature_names()[ind] for ind in order_centroids[i, :10]]\n",
    "    print(top_ten_words)\n",
    "    print('\\n')"
   ]
  },
  {
   "cell_type": "code",
   "execution_count": 24,
   "id": "congressional-subscription",
   "metadata": {},
   "outputs": [],
   "source": [
    "tweets_df['cluster'] = labels"
   ]
  },
  {
   "cell_type": "code",
   "execution_count": 25,
   "id": "saving-shakespeare",
   "metadata": {},
   "outputs": [
    {
     "data": {
      "text/html": [
       "<div>\n",
       "<style scoped>\n",
       "    .dataframe tbody tr th:only-of-type {\n",
       "        vertical-align: middle;\n",
       "    }\n",
       "\n",
       "    .dataframe tbody tr th {\n",
       "        vertical-align: top;\n",
       "    }\n",
       "\n",
       "    .dataframe thead th {\n",
       "        text-align: right;\n",
       "    }\n",
       "</style>\n",
       "<table border=\"1\" class=\"dataframe\">\n",
       "  <thead>\n",
       "    <tr style=\"text-align: right;\">\n",
       "      <th></th>\n",
       "      <th>geo</th>\n",
       "      <th>text</th>\n",
       "      <th>user</th>\n",
       "      <th>location</th>\n",
       "      <th>Subject</th>\n",
       "      <th>state</th>\n",
       "      <th>cleaned_text</th>\n",
       "      <th>tokenized_text</th>\n",
       "      <th>lemmatized_text</th>\n",
       "      <th>stemmed_text</th>\n",
       "      <th>lemmatized_string</th>\n",
       "      <th>stemmed_string</th>\n",
       "      <th>cluster</th>\n",
       "    </tr>\n",
       "  </thead>\n",
       "  <tbody>\n",
       "    <tr>\n",
       "      <th>0</th>\n",
       "      <td>NaN</td>\n",
       "      <td>After the confrontation that cost Walter Wallace Jr. his life set off prote...</td>\n",
       "      <td>wheresestela1</td>\n",
       "      <td>New Jersey</td>\n",
       "      <td>Donald Trump</td>\n",
       "      <td>New Jersey</td>\n",
       "      <td>after the confrontation that cost walter wallace jr  his life set off prote...</td>\n",
       "      <td>[confrontation, cost, walter, wallace, jr, life, set, protests, devolved, ri...</td>\n",
       "      <td>[confrontation, cost, walter, wallace, jr, life, set, protest, devolve, riot...</td>\n",
       "      <td>[confront, cost, walter, wallac, jr, life, set, protest, devolv, riot, loot,...</td>\n",
       "      <td>confrontation cost walter wallace jr life set protest devolve riot loot lead</td>\n",
       "      <td>confront cost walter wallac jr life set protest devolv riot loot lead</td>\n",
       "      <td>0</td>\n",
       "    </tr>\n",
       "    <tr>\n",
       "      <th>1</th>\n",
       "      <td>NaN</td>\n",
       "      <td>\"COVID-19 is still raging. Trump is still lying.\"</td>\n",
       "      <td>TheFemaleYungin</td>\n",
       "      <td>The Wrong Address, Texas</td>\n",
       "      <td>Donald Trump</td>\n",
       "      <td>Texas</td>\n",
       "      <td>covid    is still raging  trump is still lying</td>\n",
       "      <td>[covid, still, raging, trump, still, lying]</td>\n",
       "      <td>[covid, still, rag, trump, still, lie]</td>\n",
       "      <td>[covid, still, rag, trump, still, lie]</td>\n",
       "      <td>covid still rag trump still lie</td>\n",
       "      <td>covid still rag trump still lie</td>\n",
       "      <td>0</td>\n",
       "    </tr>\n",
       "    <tr>\n",
       "      <th>2</th>\n",
       "      <td>NaN</td>\n",
       "      <td>Donald Trump Jr.: \"Why aren't they talking about deaths? Oh, oh, because th...</td>\n",
       "      <td>KathrynTomashu1</td>\n",
       "      <td>Northborough, MA</td>\n",
       "      <td>Donald Trump</td>\n",
       "      <td>Massachusetts</td>\n",
       "      <td>donald trump jr    why aren t they talking about deaths  oh  oh  because th...</td>\n",
       "      <td>[donald, trump, jr, talking, deaths, oh, oh, number, almost, nothing, gott]</td>\n",
       "      <td>[donald, trump, jr, talk, deaths, oh, oh, number, almost, nothing, gott]</td>\n",
       "      <td>[donald, trump, jr, talk, death, oh, oh, number, almost, noth, gott]</td>\n",
       "      <td>donald trump jr talk deaths oh oh number almost nothing gott</td>\n",
       "      <td>donald trump jr talk death oh oh number almost noth gott</td>\n",
       "      <td>5</td>\n",
       "    </tr>\n",
       "    <tr>\n",
       "      <th>3</th>\n",
       "      <td>NaN</td>\n",
       "      <td>Let’s not forget who created these problems. Tell Donald Trump his scheme to...</td>\n",
       "      <td>ajserino</td>\n",
       "      <td>New Jersey, USA</td>\n",
       "      <td>Donald Trump</td>\n",
       "      <td>New Jersey</td>\n",
       "      <td>let s not forget who created these problems  tell donald trump his scheme to...</td>\n",
       "      <td>[let, forget, created, problems, tell, donald, trump, scheme, undermine, rig...</td>\n",
       "      <td>[let, forget, create, problems, tell, donald, trump, scheme, undermine, righ...</td>\n",
       "      <td>[let, forget, creat, problem, tell, donald, trump, scheme, undermin, right, ...</td>\n",
       "      <td>let forget create problems tell donald trump scheme undermine right vote safely</td>\n",
       "      <td>let forget creat problem tell donald trump scheme undermin right vote safe</td>\n",
       "      <td>6</td>\n",
       "    </tr>\n",
       "    <tr>\n",
       "      <th>4</th>\n",
       "      <td>NaN</td>\n",
       "      <td>There is no greater supporter of Donald Trump in the world than Mark Zucker...</td>\n",
       "      <td>SpeakBravely</td>\n",
       "      <td>Twin Cities, Minnesota</td>\n",
       "      <td>Donald Trump</td>\n",
       "      <td>Minnesota</td>\n",
       "      <td>there is no greater supporter of donald trump in the world than mark zucker...</td>\n",
       "      <td>[greater, supporter, donald, trump, world, mark, zuckerberg, one, done, elect]</td>\n",
       "      <td>[greater, supporter, donald, trump, world, mark, zuckerberg, one, do, elect]</td>\n",
       "      <td>[greater, support, donald, trump, world, mark, zuckerberg, one, do, elect]</td>\n",
       "      <td>greater supporter donald trump world mark zuckerberg one do elect</td>\n",
       "      <td>greater support donald trump world mark zuckerberg one do elect</td>\n",
       "      <td>0</td>\n",
       "    </tr>\n",
       "  </tbody>\n",
       "</table>\n",
       "</div>"
      ],
      "text/plain": [
       "   geo  \\\n",
       "0  NaN   \n",
       "1  NaN   \n",
       "2  NaN   \n",
       "3  NaN   \n",
       "4  NaN   \n",
       "\n",
       "                                                                              text  \\\n",
       "0   After the confrontation that cost Walter Wallace Jr. his life set off prote...   \n",
       "1                               \"COVID-19 is still raging. Trump is still lying.\"    \n",
       "2   Donald Trump Jr.: \"Why aren't they talking about deaths? Oh, oh, because th...   \n",
       "3  Let’s not forget who created these problems. Tell Donald Trump his scheme to...   \n",
       "4   There is no greater supporter of Donald Trump in the world than Mark Zucker...   \n",
       "\n",
       "              user                   location       Subject          state  \\\n",
       "0    wheresestela1                 New Jersey  Donald Trump     New Jersey   \n",
       "1  TheFemaleYungin  The Wrong Address, Texas   Donald Trump          Texas   \n",
       "2  KathrynTomashu1           Northborough, MA  Donald Trump  Massachusetts   \n",
       "3         ajserino            New Jersey, USA  Donald Trump     New Jersey   \n",
       "4     SpeakBravely     Twin Cities, Minnesota  Donald Trump      Minnesota   \n",
       "\n",
       "                                                                      cleaned_text  \\\n",
       "0   after the confrontation that cost walter wallace jr  his life set off prote...   \n",
       "1                                covid    is still raging  trump is still lying      \n",
       "2   donald trump jr    why aren t they talking about deaths  oh  oh  because th...   \n",
       "3  let s not forget who created these problems  tell donald trump his scheme to...   \n",
       "4   there is no greater supporter of donald trump in the world than mark zucker...   \n",
       "\n",
       "                                                                    tokenized_text  \\\n",
       "0  [confrontation, cost, walter, wallace, jr, life, set, protests, devolved, ri...   \n",
       "1                                      [covid, still, raging, trump, still, lying]   \n",
       "2      [donald, trump, jr, talking, deaths, oh, oh, number, almost, nothing, gott]   \n",
       "3  [let, forget, created, problems, tell, donald, trump, scheme, undermine, rig...   \n",
       "4   [greater, supporter, donald, trump, world, mark, zuckerberg, one, done, elect]   \n",
       "\n",
       "                                                                   lemmatized_text  \\\n",
       "0  [confrontation, cost, walter, wallace, jr, life, set, protest, devolve, riot...   \n",
       "1                                           [covid, still, rag, trump, still, lie]   \n",
       "2         [donald, trump, jr, talk, deaths, oh, oh, number, almost, nothing, gott]   \n",
       "3  [let, forget, create, problems, tell, donald, trump, scheme, undermine, righ...   \n",
       "4     [greater, supporter, donald, trump, world, mark, zuckerberg, one, do, elect]   \n",
       "\n",
       "                                                                      stemmed_text  \\\n",
       "0  [confront, cost, walter, wallac, jr, life, set, protest, devolv, riot, loot,...   \n",
       "1                                           [covid, still, rag, trump, still, lie]   \n",
       "2             [donald, trump, jr, talk, death, oh, oh, number, almost, noth, gott]   \n",
       "3  [let, forget, creat, problem, tell, donald, trump, scheme, undermin, right, ...   \n",
       "4       [greater, support, donald, trump, world, mark, zuckerberg, one, do, elect]   \n",
       "\n",
       "                                                                 lemmatized_string  \\\n",
       "0     confrontation cost walter wallace jr life set protest devolve riot loot lead   \n",
       "1                                                  covid still rag trump still lie   \n",
       "2                     donald trump jr talk deaths oh oh number almost nothing gott   \n",
       "3  let forget create problems tell donald trump scheme undermine right vote safely   \n",
       "4                greater supporter donald trump world mark zuckerberg one do elect   \n",
       "\n",
       "                                                               stemmed_string  \\\n",
       "0       confront cost walter wallac jr life set protest devolv riot loot lead   \n",
       "1                                             covid still rag trump still lie   \n",
       "2                    donald trump jr talk death oh oh number almost noth gott   \n",
       "3  let forget creat problem tell donald trump scheme undermin right vote safe   \n",
       "4             greater support donald trump world mark zuckerberg one do elect   \n",
       "\n",
       "   cluster  \n",
       "0        0  \n",
       "1        0  \n",
       "2        5  \n",
       "3        6  \n",
       "4        0  "
      ]
     },
     "execution_count": 25,
     "metadata": {},
     "output_type": "execute_result"
    }
   ],
   "source": [
    "tweets_df.head()"
   ]
  },
  {
   "cell_type": "markdown",
   "id": "convertible-salmon",
   "metadata": {},
   "source": [
    "# Ploting clusters' size"
   ]
  },
  {
   "cell_type": "code",
   "execution_count": 26,
   "id": "medical-oracle",
   "metadata": {},
   "outputs": [
    {
     "data": {
      "image/png": "[encoded data removed]",
      "text/plain": [
       "<Figure size 576x432 with 1 Axes>"
      ]
     },
     "metadata": {
      "needs_background": "light"
     },
     "output_type": "display_data"
    }
   ],
   "source": [
    "fig = plt.figure(figsize=(8,6))\n",
    "#plt.style.use('fivethirtyeight')\n",
    "sns.countplot(x='cluster', data=tweets_df)\n",
    "fig.suptitle('Size of each cluster', fontsize=16)\n",
    "fig.savefig('Plots/clusters size.png')"
   ]
  },
  {
   "cell_type": "code",
   "execution_count": 27,
   "id": "joint-pierce",
   "metadata": {},
   "outputs": [],
   "source": [
    "# tweets_df"
   ]
  },
  {
   "cell_type": "code",
   "execution_count": 28,
   "id": "biological-chancellor",
   "metadata": {
    "scrolled": false
   },
   "outputs": [
    {
     "name": "stdout",
     "output_type": "stream",
     "text": [
      "Cluster 0\n",
      "0        After the confrontation that cost Walter Wallace Jr. his life set off prote...\n",
      "1                                    \"COVID-19 is still raging. Trump is still lying.\" \n",
      "4        There is no greater supporter of Donald Trump in the world than Mark Zucker...\n",
      "8       It is Friday, October 30, 2020. One citizen, I call for the removal from off...\n",
      "9                  Donald Trump is a dipshit. The presidency is no place for a dipshit.\n",
      "                                             ...                                       \n",
      "1921     👉JOE BIDEN/ADAM SCHIFF       Both LIARS &amp; TRAITORS!#DemocratsAreEvil“I ...\n",
      "1926     7 Key Corruption Questions Joe Biden Must Answer After FBI Bombshell | Zero...\n",
      "1927    Hunter Biden Emails CONFIRMED Real! Joe Biden LIED &amp; Nobody Is Covering ...\n",
      "1928     Donald Trump is just one big #COVID19 super spreader. Our nation needs heal...\n",
      "1930                               Tony Bobulinski Communicates A Message To Joe Biden \n",
      "Name: text, Length: 1244, dtype: object\n",
      "\n",
      "\n",
      "Cluster 1\n",
      "27          Americans understand the dire prospects of #ClimateChange. They will not...\n",
      "46       Donald Trump has not seen it as his duty to represent the majority of Ameri...\n",
      "61        \"Just the facts, ma'am\"Thanks to lyin' Donald Trump-Over 23M Americans on ...\n",
      "63       Americans plan widespread protests if Donald Trump interferes with election...\n",
      "129       Thanks to the incompetent Donald J. Trump:Over 23M Americans are on unempl...\n",
      "                                             ...                                       \n",
      "1724     So we have Kamala in Texas and Joe Biden in 3 different states today... it’...\n",
      "1727                 Joe Biden and Kamala Harris Support Criminals and Demoralize Cops \n",
      "1748     The #TCJA provided tax cuts for 91% of middle-income Americans. Joe Biden a...\n",
      "1817     South Atlanta business owners are showing off their Biden-Harris signs beca...\n",
      "1886     Is anyone else thinking about how powerful it would be when Kamala Harris a...\n",
      "Name: text, Length: 61, dtype: object\n",
      "\n",
      "\n",
      "Cluster 2\n",
      "7        Donald Trump is on track to become the worst jobs president in modern Ameri...\n",
      "14       Donald Trump taking credit for President Obama’s economy is like a guy inhe...\n",
      "20       Donald Trump will go down as the most beloved President ever.God bless you,...\n",
      "24       PROTESTS PLANNED TO OPPOSE A STOLEN ELECTIONActivist groups plan to hit the...\n",
      "28            Pollak: 11 Shining Successes of President Donald Trump‘s First Term  via \n",
      "                                             ...                                       \n",
      "1914    Is Joe Biden a sinking ship?The staggering new GDP numbers could be the secr...\n",
      "1922     it’s all real. all of it. 100% authenticated.this is not a conspiracy theor...\n",
      "1923    Packers Hall of Famer Brett Favre endorsed President Donald Trump, aligning ...\n",
      "1925     when Joe Biden becomes President, how long do you think it will be before F...\n",
      "1931    After campaigning in 2016 to lift up the ‘forgotten man,’ President Trump ha...\n",
      "Name: text, Length: 177, dtype: object\n",
      "\n",
      "\n",
      "Cluster 3\n",
      "11      Download the official Donald Trump for President mobile app to get involved ...\n",
      "38       \"Trump's insistence that we are 'rounding the corner' on the virus is nonse...\n",
      "64       Donald Trump has gotten:-$885 million in subsidies for his real estate empi...\n",
      "99      Wait until people like LIL John and LIL Wayne get pushed by the left to get ...\n",
      "102      Philly DA Throws Down Over Trump Poll Watchers: We Won't Be Cowed By A 'Des...\n",
      "                                             ...                                       \n",
      "1778    . Vitally important!!!A Song / Anthem / Movie Use for Free!!!Get to Joe Bide...\n",
      "1802                                          I can’t wait for Joe Biden to get elected\n",
      "1842     Joe Biden said he couldn’t get anything done during his last eight years be...\n",
      "1893                                  Joe Biden gets an op-ed on the Fox News website. \n",
      "1924    The most hopeful (and realistic) article that I have read about prospects fo...\n",
      "Name: text, Length: 86, dtype: object\n",
      "\n",
      "\n",
      "Cluster 4\n",
      "6        The same people who are outraged at AOC for slipping into a borrowed $14,00...\n",
      "40       Show this clip to all of the people you know who support Donald Trump and c...\n",
      "77       ‘Shoot Black People’ is the battle cry Right Wing Extremists chant in the n...\n",
      "84       Pissed off young people have the power to defeat Donald Trump. Fucking vote.  \n",
      "115      It’s hard to believe that the people who raised us to never be like Donald ...\n",
      "                                             ...                                       \n",
      "1783    People voting for socialism don't understand what they aredoing. Biden has p...\n",
      "1788     Vietnam wants America’s clean natural gas. That means jobs for the people o...\n",
      "1799     After campaigning in 2016 to lift up the ‘forgotten man,’ President Trump h...\n",
      "1827                                   The fact that your don’t realize that people w… \n",
      "1873     Sounds like you want to win at any cost. You need to be careful on your twe...\n",
      "Name: text, Length: 73, dtype: object\n",
      "\n",
      "\n",
      "Cluster 5\n",
      "2        Donald Trump Jr.: \"Why aren't they talking about deaths? Oh, oh, because th...\n",
      "57       Donald Trump, Jr., laughing, says the 1,004 Americans who died of COVID-19 ...\n",
      "62       \"It's like a gangster culture,\" Robert De Niro says of Donald Trump's presi...\n",
      "74       Please tell me y’all aren’t taking Lil Wayne seriously! Donald Trump said t...\n",
      "105      Donald Trump, Boris Johnson and Peter Dutton have all had COVID-19. Has any...\n",
      "                                             ...                                       \n",
      "1803     Last night, Joe Biden said that not one single person with private insuranc...\n",
      "1826    The Polls are all saying BidenThe Pundits are rooting for BidenSocial Media ...\n",
      "1847     Obama is hitting the stump for Joe Biden—and lashing out at his political n...\n",
      "1850     NEW: Joe Biden misstated the price of his free public college plan. The Bid...\n",
      "1920       You do realize Biden said “If you don’t vote for me than you ain’t Black!”… \n",
      "Name: text, Length: 135, dtype: object\n",
      "\n",
      "\n",
      "Cluster 6\n",
      "3       Let’s not forget who created these problems. Tell Donald Trump his scheme to...\n",
      "5       'A vote for Donald Trump is a vote against the very ideals upon which our de...\n",
      "19       BREAKING:  Donald Trump just called the process of counting all the votes, ...\n",
      "25       Remember... it’s not just Donald Trump being voted out.... it’s his entire ...\n",
      "33        I don’t want someone in the WH who wants to suppress the votes of our mili...\n",
      "                                             ...                                       \n",
      "1897      We need McSally to win as well.  How could anyone vote Mark Kelly?  He's J...\n",
      "1898     I hate posts like this.  It’s not Joe Biden’s state unless he can motivate ...\n",
      "1905    Hunter Biden is nothing but a crackhead, Joe should honestly be ashamed of h...\n",
      "1929                   Obama was a black voted by all! He reigned for 8 yrs along sid… \n",
      "1932    But yes. Let’s all run and vote in corrupt, pro-lockdown forever Joe Biden. ...\n",
      "Name: text, Length: 157, dtype: object\n",
      "\n",
      "\n"
     ]
    }
   ],
   "source": [
    "for c in range(num_clusters):\n",
    "    print(f\"Cluster {c}\")\n",
    "    print(tweets_df[tweets_df['cluster'] == c].text)\n",
    "    print('\\n')"
   ]
  },
  {
   "cell_type": "markdown",
   "id": "quality-supply",
   "metadata": {},
   "source": [
    "### Sentiment Analysis for each cluster"
   ]
  },
  {
   "cell_type": "code",
   "execution_count": 29,
   "id": "pharmaceutical-cinema",
   "metadata": {},
   "outputs": [],
   "source": [
    "from nltk.sentiment.vader import SentimentIntensityAnalyzer"
   ]
  },
  {
   "cell_type": "code",
   "execution_count": 30,
   "id": "entertaining-formation",
   "metadata": {},
   "outputs": [],
   "source": [
    "sid = SentimentIntensityAnalyzer()"
   ]
  },
  {
   "cell_type": "code",
   "execution_count": 31,
   "id": "identical-steal",
   "metadata": {},
   "outputs": [],
   "source": [
    "tweets_df['Polarity'] = tweets_df['stemmed_string'].apply(lambda x: sid.polarity_scores(x))"
   ]
  },
  {
   "cell_type": "code",
   "execution_count": 32,
   "id": "reserved-federal",
   "metadata": {},
   "outputs": [],
   "source": [
    "def sentimentVerdict(polarity):\n",
    "    #print(polarity['compound'])\n",
    "    if polarity['compound'] >= 0.05:\n",
    "        return \"Positive\"\n",
    "    elif polarity['compound'] <= -0.05:\n",
    "        return \"Negative\"\n",
    "    else:\n",
    "        return \"Neutral\""
   ]
  },
  {
   "cell_type": "code",
   "execution_count": 33,
   "id": "valuable-concentration",
   "metadata": {},
   "outputs": [],
   "source": [
    "tweets_df['Sentiment'] = tweets_df['Polarity'].apply(sentimentVerdict)"
   ]
  },
  {
   "cell_type": "code",
   "execution_count": 34,
   "id": "editorial-conclusion",
   "metadata": {
    "scrolled": false
   },
   "outputs": [
    {
     "name": "stdout",
     "output_type": "stream",
     "text": [
      "Cluster #0\n"
     ]
    },
    {
     "data": {
      "image/png": "[encoded data removed]",
      "text/plain": [
       "<Figure size 432x288 with 1 Axes>"
      ]
     },
     "metadata": {
      "needs_background": "light"
     },
     "output_type": "display_data"
    },
    {
     "name": "stdout",
     "output_type": "stream",
     "text": [
      "Cluster #1\n"
     ]
    },
    {
     "data": {
      "image/png": "[encoded data removed]",
      "text/plain": [
       "<Figure size 432x288 with 1 Axes>"
      ]
     },
     "metadata": {
      "needs_background": "light"
     },
     "output_type": "display_data"
    },
    {
     "name": "stdout",
     "output_type": "stream",
     "text": [
      "Cluster #2\n"
     ]
    },
    {
     "data": {
      "image/png": "[encoded data removed]",
      "text/plain": [
       "<Figure size 432x288 with 1 Axes>"
      ]
     },
     "metadata": {
      "needs_background": "light"
     },
     "output_type": "display_data"
    },
    {
     "name": "stdout",
     "output_type": "stream",
     "text": [
      "Cluster #3\n"
     ]
    },
    {
     "data": {
      "image/png": "[encoded data removed]",
      "text/plain": [
       "<Figure size 432x288 with 1 Axes>"
      ]
     },
     "metadata": {
      "needs_background": "light"
     },
     "output_type": "display_data"
    },
    {
     "name": "stdout",
     "output_type": "stream",
     "text": [
      "Cluster #4\n"
     ]
    },
    {
     "data": {
      "image/png": "[encoded data removed]",
      "text/plain": [
       "<Figure size 432x288 with 1 Axes>"
      ]
     },
     "metadata": {
      "needs_background": "light"
     },
     "output_type": "display_data"
    },
    {
     "name": "stdout",
     "output_type": "stream",
     "text": [
      "Cluster #5\n"
     ]
    },
    {
     "data": {
      "image/png": "[encoded data removed]",
      "text/plain": [
       "<Figure size 432x288 with 1 Axes>"
      ]
     },
     "metadata": {
      "needs_background": "light"
     },
     "output_type": "display_data"
    },
    {
     "name": "stdout",
     "output_type": "stream",
     "text": [
      "Cluster #6\n"
     ]
    },
    {
     "data": {
      "image/png": "[encoded data removed]",
      "text/plain": [
       "<Figure size 432x288 with 1 Axes>"
      ]
     },
     "metadata": {
      "needs_background": "light"
     },
     "output_type": "display_data"
    }
   ],
   "source": [
    "for i in range(num_clusters):\n",
    "    df = tweets_df[tweets_df['cluster'] == i]\n",
    "    print(f'Cluster #{i}')\n",
    "    ax = sns.countplot(x='Sentiment', data=df)\n",
    "    plt.show()"
   ]
  },
  {
   "cell_type": "markdown",
   "id": "changing-springfield",
   "metadata": {},
   "source": [
    "# Sentiment Analysis using NRC Lexicon"
   ]
  },
  {
   "cell_type": "markdown",
   "id": "broken-deposit",
   "metadata": {},
   "source": [
    "NRC Lexicon is used mostly here to analyze the emotions for cluster 0, as it is obvious correlated with US Elections"
   ]
  },
  {
   "cell_type": "code",
   "execution_count": 35,
   "id": "liked-administration",
   "metadata": {},
   "outputs": [
    {
     "name": "stdout",
     "output_type": "stream",
     "text": [
      "Requirement already satisfied: NRCLex in c:\\users\\user\\documents\\twittersentimentanalysis\\env\\lib\\site-packages (3.0.0)"
     ]
    },
    {
     "name": "stderr",
     "output_type": "stream",
     "text": [
      "WARNING: You are using pip version 19.2.3, however version 21.2.1 is available.\n",
      "You should consider upgrading via the 'python -m pip install --upgrade pip' command.\n"
     ]
    },
    {
     "name": "stdout",
     "output_type": "stream",
     "text": [
      "\n",
      "Requirement already satisfied: textblob in c:\\users\\user\\documents\\twittersentimentanalysis\\env\\lib\\site-packages (from NRCLex) (0.15.3)\n",
      "Requirement already satisfied: nltk>=3.1 in c:\\users\\user\\documents\\twittersentimentanalysis\\env\\lib\\site-packages (from textblob->NRCLex) (3.5)\n",
      "Requirement already satisfied: click in c:\\users\\user\\documents\\twittersentimentanalysis\\env\\lib\\site-packages (from nltk>=3.1->textblob->NRCLex) (7.1.2)\n",
      "Requirement already satisfied: joblib in c:\\users\\user\\documents\\twittersentimentanalysis\\env\\lib\\site-packages (from nltk>=3.1->textblob->NRCLex) (1.0.1)\n",
      "Requirement already satisfied: regex in c:\\users\\user\\documents\\twittersentimentanalysis\\env\\lib\\site-packages (from nltk>=3.1->textblob->NRCLex) (2020.11.13)\n",
      "Requirement already satisfied: tqdm in c:\\users\\user\\documents\\twittersentimentanalysis\\env\\lib\\site-packages (from nltk>=3.1->textblob->NRCLex) (4.59.0)\n"
     ]
    }
   ],
   "source": [
    "! pip install NRCLex"
   ]
  },
  {
   "cell_type": "code",
   "execution_count": 36,
   "id": "divine-yemen",
   "metadata": {},
   "outputs": [],
   "source": [
    "from nrclex import NRCLex"
   ]
  },
  {
   "cell_type": "code",
   "execution_count": 37,
   "id": "greater-africa",
   "metadata": {},
   "outputs": [],
   "source": [
    "tweets_df['emotion'] = ''"
   ]
  },
  {
   "cell_type": "code",
   "execution_count": 38,
   "id": "atomic-algeria",
   "metadata": {},
   "outputs": [
    {
     "data": {
      "text/html": [
       "<div>\n",
       "<style scoped>\n",
       "    .dataframe tbody tr th:only-of-type {\n",
       "        vertical-align: middle;\n",
       "    }\n",
       "\n",
       "    .dataframe tbody tr th {\n",
       "        vertical-align: top;\n",
       "    }\n",
       "\n",
       "    .dataframe thead th {\n",
       "        text-align: right;\n",
       "    }\n",
       "</style>\n",
       "<table border=\"1\" class=\"dataframe\">\n",
       "  <thead>\n",
       "    <tr style=\"text-align: right;\">\n",
       "      <th></th>\n",
       "      <th>geo</th>\n",
       "      <th>text</th>\n",
       "      <th>user</th>\n",
       "      <th>location</th>\n",
       "      <th>Subject</th>\n",
       "      <th>state</th>\n",
       "      <th>cleaned_text</th>\n",
       "      <th>tokenized_text</th>\n",
       "      <th>lemmatized_text</th>\n",
       "      <th>stemmed_text</th>\n",
       "      <th>lemmatized_string</th>\n",
       "      <th>stemmed_string</th>\n",
       "      <th>cluster</th>\n",
       "      <th>Polarity</th>\n",
       "      <th>Sentiment</th>\n",
       "      <th>emotion</th>\n",
       "    </tr>\n",
       "  </thead>\n",
       "  <tbody>\n",
       "    <tr>\n",
       "      <th>0</th>\n",
       "      <td>NaN</td>\n",
       "      <td>After the confrontation that cost Walter Wallace Jr. his life set off prote...</td>\n",
       "      <td>wheresestela1</td>\n",
       "      <td>New Jersey</td>\n",
       "      <td>Donald Trump</td>\n",
       "      <td>New Jersey</td>\n",
       "      <td>after the confrontation that cost walter wallace jr  his life set off prote...</td>\n",
       "      <td>[confrontation, cost, walter, wallace, jr, life, set, protests, devolved, ri...</td>\n",
       "      <td>[confrontation, cost, walter, wallace, jr, life, set, protest, devolve, riot...</td>\n",
       "      <td>[confront, cost, walter, wallac, jr, life, set, protest, devolv, riot, loot,...</td>\n",
       "      <td>confrontation cost walter wallace jr life set protest devolve riot loot lead</td>\n",
       "      <td>confront cost walter wallac jr life set protest devolv riot loot lead</td>\n",
       "      <td>0</td>\n",
       "      <td>{'neg': 0.448, 'neu': 0.552, 'pos': 0.0, 'compound': -0.743}</td>\n",
       "      <td>Negative</td>\n",
       "      <td></td>\n",
       "    </tr>\n",
       "    <tr>\n",
       "      <th>1</th>\n",
       "      <td>NaN</td>\n",
       "      <td>\"COVID-19 is still raging. Trump is still lying.\"</td>\n",
       "      <td>TheFemaleYungin</td>\n",
       "      <td>The Wrong Address, Texas</td>\n",
       "      <td>Donald Trump</td>\n",
       "      <td>Texas</td>\n",
       "      <td>covid    is still raging  trump is still lying</td>\n",
       "      <td>[covid, still, raging, trump, still, lying]</td>\n",
       "      <td>[covid, still, rag, trump, still, lie]</td>\n",
       "      <td>[covid, still, rag, trump, still, lie]</td>\n",
       "      <td>covid still rag trump still lie</td>\n",
       "      <td>covid still rag trump still lie</td>\n",
       "      <td>0</td>\n",
       "      <td>{'neg': 0.0, 'neu': 1.0, 'pos': 0.0, 'compound': 0.0}</td>\n",
       "      <td>Neutral</td>\n",
       "      <td></td>\n",
       "    </tr>\n",
       "    <tr>\n",
       "      <th>2</th>\n",
       "      <td>NaN</td>\n",
       "      <td>Donald Trump Jr.: \"Why aren't they talking about deaths? Oh, oh, because th...</td>\n",
       "      <td>KathrynTomashu1</td>\n",
       "      <td>Northborough, MA</td>\n",
       "      <td>Donald Trump</td>\n",
       "      <td>Massachusetts</td>\n",
       "      <td>donald trump jr    why aren t they talking about deaths  oh  oh  because th...</td>\n",
       "      <td>[donald, trump, jr, talking, deaths, oh, oh, number, almost, nothing, gott]</td>\n",
       "      <td>[donald, trump, jr, talk, deaths, oh, oh, number, almost, nothing, gott]</td>\n",
       "      <td>[donald, trump, jr, talk, death, oh, oh, number, almost, noth, gott]</td>\n",
       "      <td>donald trump jr talk deaths oh oh number almost nothing gott</td>\n",
       "      <td>donald trump jr talk death oh oh number almost noth gott</td>\n",
       "      <td>5</td>\n",
       "      <td>{'neg': 0.275, 'neu': 0.634, 'pos': 0.092, 'compound': -0.5574}</td>\n",
       "      <td>Negative</td>\n",
       "      <td></td>\n",
       "    </tr>\n",
       "    <tr>\n",
       "      <th>3</th>\n",
       "      <td>NaN</td>\n",
       "      <td>Let’s not forget who created these problems. Tell Donald Trump his scheme to...</td>\n",
       "      <td>ajserino</td>\n",
       "      <td>New Jersey, USA</td>\n",
       "      <td>Donald Trump</td>\n",
       "      <td>New Jersey</td>\n",
       "      <td>let s not forget who created these problems  tell donald trump his scheme to...</td>\n",
       "      <td>[let, forget, created, problems, tell, donald, trump, scheme, undermine, rig...</td>\n",
       "      <td>[let, forget, create, problems, tell, donald, trump, scheme, undermine, righ...</td>\n",
       "      <td>[let, forget, creat, problem, tell, donald, trump, scheme, undermin, right, ...</td>\n",
       "      <td>let forget create problems tell donald trump scheme undermine right vote safely</td>\n",
       "      <td>let forget creat problem tell donald trump scheme undermin right vote safe</td>\n",
       "      <td>6</td>\n",
       "      <td>{'neg': 0.279, 'neu': 0.545, 'pos': 0.176, 'compound': -0.1779}</td>\n",
       "      <td>Negative</td>\n",
       "      <td></td>\n",
       "    </tr>\n",
       "    <tr>\n",
       "      <th>4</th>\n",
       "      <td>NaN</td>\n",
       "      <td>There is no greater supporter of Donald Trump in the world than Mark Zucker...</td>\n",
       "      <td>SpeakBravely</td>\n",
       "      <td>Twin Cities, Minnesota</td>\n",
       "      <td>Donald Trump</td>\n",
       "      <td>Minnesota</td>\n",
       "      <td>there is no greater supporter of donald trump in the world than mark zucker...</td>\n",
       "      <td>[greater, supporter, donald, trump, world, mark, zuckerberg, one, done, elect]</td>\n",
       "      <td>[greater, supporter, donald, trump, world, mark, zuckerberg, one, do, elect]</td>\n",
       "      <td>[greater, support, donald, trump, world, mark, zuckerberg, one, do, elect]</td>\n",
       "      <td>greater supporter donald trump world mark zuckerberg one do elect</td>\n",
       "      <td>greater support donald trump world mark zuckerberg one do elect</td>\n",
       "      <td>0</td>\n",
       "      <td>{'neg': 0.0, 'neu': 0.606, 'pos': 0.394, 'compound': 0.6369}</td>\n",
       "      <td>Positive</td>\n",
       "      <td></td>\n",
       "    </tr>\n",
       "    <tr>\n",
       "      <th>...</th>\n",
       "      <td>...</td>\n",
       "      <td>...</td>\n",
       "      <td>...</td>\n",
       "      <td>...</td>\n",
       "      <td>...</td>\n",
       "      <td>...</td>\n",
       "      <td>...</td>\n",
       "      <td>...</td>\n",
       "      <td>...</td>\n",
       "      <td>...</td>\n",
       "      <td>...</td>\n",
       "      <td>...</td>\n",
       "      <td>...</td>\n",
       "      <td>...</td>\n",
       "      <td>...</td>\n",
       "      <td>...</td>\n",
       "    </tr>\n",
       "    <tr>\n",
       "      <th>1928</th>\n",
       "      <td>NaN</td>\n",
       "      <td>Donald Trump is just one big #COVID19 super spreader. Our nation needs heal...</td>\n",
       "      <td>karen_brioso</td>\n",
       "      <td>Salem, OR</td>\n",
       "      <td>Joe Biden</td>\n",
       "      <td>Oregon</td>\n",
       "      <td>donald trump is just one big covid   super spreader  our nation needs heali...</td>\n",
       "      <td>[donald, trump, one, big, covid, super, spreader, nation, needs, healing, on...</td>\n",
       "      <td>[donald, trump, one, big, covid, super, spreader, nation, need, heal, one, r...</td>\n",
       "      <td>[donald, trump, one, big, covid, super, spreader, nation, need, heal, one, r...</td>\n",
       "      <td>donald trump one big covid super spreader nation need heal one reason cast v...</td>\n",
       "      <td>donald trump one big covid super spreader nation need heal one reason cast v...</td>\n",
       "      <td>0</td>\n",
       "      <td>{'neg': 0.0, 'neu': 0.782, 'pos': 0.218, 'compound': 0.5994}</td>\n",
       "      <td>Positive</td>\n",
       "      <td></td>\n",
       "    </tr>\n",
       "    <tr>\n",
       "      <th>1929</th>\n",
       "      <td>NaN</td>\n",
       "      <td>Obama was a black voted by all! He reigned for 8 yrs along sid…</td>\n",
       "      <td>ArcYuyu</td>\n",
       "      <td>Las Vegas, Nevada, USA</td>\n",
       "      <td>Joe Biden</td>\n",
       "      <td>Nevada</td>\n",
       "      <td>obama was a black voted by all  he reigned for   yrs along sid</td>\n",
       "      <td>[obama, black, voted, reigned, yrs, along, sid]</td>\n",
       "      <td>[obama, black, vote, reign, yrs, along, sid]</td>\n",
       "      <td>[obama, black, vote, reign, yr, along, sid]</td>\n",
       "      <td>obama black vote reign yrs along sid</td>\n",
       "      <td>obama black vote reign yr along sid</td>\n",
       "      <td>6</td>\n",
       "      <td>{'neg': 0.0, 'neu': 1.0, 'pos': 0.0, 'compound': 0.0}</td>\n",
       "      <td>Neutral</td>\n",
       "      <td></td>\n",
       "    </tr>\n",
       "    <tr>\n",
       "      <th>1930</th>\n",
       "      <td>NaN</td>\n",
       "      <td>Tony Bobulinski Communicates A Message To Joe Biden</td>\n",
       "      <td>USMCMIL03</td>\n",
       "      <td>Texas, USA</td>\n",
       "      <td>Joe Biden</td>\n",
       "      <td>Texas</td>\n",
       "      <td>tony bobulinski communicates a message to joe biden</td>\n",
       "      <td>[tony, bobulinski, communicates, message, joe, biden]</td>\n",
       "      <td>[tony, bobulinski, communicate, message, joe, biden]</td>\n",
       "      <td>[toni, bobulinski, commun, messag, joe, biden]</td>\n",
       "      <td>tony bobulinski communicate message joe biden</td>\n",
       "      <td>toni bobulinski commun messag joe biden</td>\n",
       "      <td>0</td>\n",
       "      <td>{'neg': 0.0, 'neu': 1.0, 'pos': 0.0, 'compound': 0.0}</td>\n",
       "      <td>Neutral</td>\n",
       "      <td></td>\n",
       "    </tr>\n",
       "    <tr>\n",
       "      <th>1931</th>\n",
       "      <td>NaN</td>\n",
       "      <td>After campaigning in 2016 to lift up the ‘forgotten man,’ President Trump ha...</td>\n",
       "      <td>JoeBiden</td>\n",
       "      <td>Wilmington, DE</td>\n",
       "      <td>Joe Biden</td>\n",
       "      <td>Delaware</td>\n",
       "      <td>after campaigning in      to lift up the  forgotten man   president trump ha...</td>\n",
       "      <td>[campaigning, lift, forgotten, man, president, trump, completely, lost, sigh...</td>\n",
       "      <td>[campaign, lift, forget, man, president, trump, completely, lose, sight, wor...</td>\n",
       "      <td>[campaign, lift, forget, man, presid, trump, complet, lose, sight, work, peop]</td>\n",
       "      <td>campaign lift forget man president trump completely lose sight work peop</td>\n",
       "      <td>campaign lift forget man presid trump complet lose sight work peop</td>\n",
       "      <td>2</td>\n",
       "      <td>{'neg': 0.338, 'neu': 0.662, 'pos': 0.0, 'compound': -0.5574}</td>\n",
       "      <td>Negative</td>\n",
       "      <td></td>\n",
       "    </tr>\n",
       "    <tr>\n",
       "      <th>1932</th>\n",
       "      <td>NaN</td>\n",
       "      <td>But yes. Let’s all run and vote in corrupt, pro-lockdown forever Joe Biden. ...</td>\n",
       "      <td>ZeroIndulgence</td>\n",
       "      <td>San Jose, CA</td>\n",
       "      <td>Joe Biden</td>\n",
       "      <td>California</td>\n",
       "      <td>but yes  let s all run and vote in corrupt  pro lockdown forever joe biden  ...</td>\n",
       "      <td>[yes, let, run, vote, corrupt, pro, lockdown, forever, joe, biden, sure, kil...</td>\n",
       "      <td>[yes, let, run, vote, corrupt, pro, lockdown, forever, joe, biden, sure, kil...</td>\n",
       "      <td>[ye, let, run, vote, corrupt, pro, lockdown, forev, joe, biden, sure, kill, us]</td>\n",
       "      <td>yes let run vote corrupt pro lockdown forever joe biden sure kill us</td>\n",
       "      <td>ye let run vote corrupt pro lockdown forev joe biden sure kill us</td>\n",
       "      <td>6</td>\n",
       "      <td>{'neg': 0.261, 'neu': 0.611, 'pos': 0.128, 'compound': -0.5267}</td>\n",
       "      <td>Negative</td>\n",
       "      <td></td>\n",
       "    </tr>\n",
       "  </tbody>\n",
       "</table>\n",
       "<p>1933 rows × 16 columns</p>\n",
       "</div>"
      ],
      "text/plain": [
       "      geo  \\\n",
       "0     NaN   \n",
       "1     NaN   \n",
       "2     NaN   \n",
       "3     NaN   \n",
       "4     NaN   \n",
       "...   ...   \n",
       "1928  NaN   \n",
       "1929  NaN   \n",
       "1930  NaN   \n",
       "1931  NaN   \n",
       "1932  NaN   \n",
       "\n",
       "                                                                                 text  \\\n",
       "0      After the confrontation that cost Walter Wallace Jr. his life set off prote...   \n",
       "1                                  \"COVID-19 is still raging. Trump is still lying.\"    \n",
       "2      Donald Trump Jr.: \"Why aren't they talking about deaths? Oh, oh, because th...   \n",
       "3     Let’s not forget who created these problems. Tell Donald Trump his scheme to...   \n",
       "4      There is no greater supporter of Donald Trump in the world than Mark Zucker...   \n",
       "...                                                                               ...   \n",
       "1928   Donald Trump is just one big #COVID19 super spreader. Our nation needs heal...   \n",
       "1929                 Obama was a black voted by all! He reigned for 8 yrs along sid…    \n",
       "1930                             Tony Bobulinski Communicates A Message To Joe Biden    \n",
       "1931  After campaigning in 2016 to lift up the ‘forgotten man,’ President Trump ha...   \n",
       "1932  But yes. Let’s all run and vote in corrupt, pro-lockdown forever Joe Biden. ...   \n",
       "\n",
       "                 user                   location       Subject          state  \\\n",
       "0       wheresestela1                 New Jersey  Donald Trump     New Jersey   \n",
       "1     TheFemaleYungin  The Wrong Address, Texas   Donald Trump          Texas   \n",
       "2     KathrynTomashu1           Northborough, MA  Donald Trump  Massachusetts   \n",
       "3            ajserino            New Jersey, USA  Donald Trump     New Jersey   \n",
       "4        SpeakBravely     Twin Cities, Minnesota  Donald Trump      Minnesota   \n",
       "...               ...                        ...           ...            ...   \n",
       "1928     karen_brioso                  Salem, OR     Joe Biden         Oregon   \n",
       "1929          ArcYuyu     Las Vegas, Nevada, USA     Joe Biden         Nevada   \n",
       "1930        USMCMIL03                 Texas, USA     Joe Biden          Texas   \n",
       "1931         JoeBiden             Wilmington, DE     Joe Biden       Delaware   \n",
       "1932   ZeroIndulgence               San Jose, CA     Joe Biden     California   \n",
       "\n",
       "                                                                         cleaned_text  \\\n",
       "0      after the confrontation that cost walter wallace jr  his life set off prote...   \n",
       "1                                   covid    is still raging  trump is still lying      \n",
       "2      donald trump jr    why aren t they talking about deaths  oh  oh  because th...   \n",
       "3     let s not forget who created these problems  tell donald trump his scheme to...   \n",
       "4      there is no greater supporter of donald trump in the world than mark zucker...   \n",
       "...                                                                               ...   \n",
       "1928   donald trump is just one big covid   super spreader  our nation needs heali...   \n",
       "1929                 obama was a black voted by all  he reigned for   yrs along sid     \n",
       "1930                             tony bobulinski communicates a message to joe biden    \n",
       "1931  after campaigning in      to lift up the  forgotten man   president trump ha...   \n",
       "1932  but yes  let s all run and vote in corrupt  pro lockdown forever joe biden  ...   \n",
       "\n",
       "                                                                       tokenized_text  \\\n",
       "0     [confrontation, cost, walter, wallace, jr, life, set, protests, devolved, ri...   \n",
       "1                                         [covid, still, raging, trump, still, lying]   \n",
       "2         [donald, trump, jr, talking, deaths, oh, oh, number, almost, nothing, gott]   \n",
       "3     [let, forget, created, problems, tell, donald, trump, scheme, undermine, rig...   \n",
       "4      [greater, supporter, donald, trump, world, mark, zuckerberg, one, done, elect]   \n",
       "...                                                                               ...   \n",
       "1928  [donald, trump, one, big, covid, super, spreader, nation, needs, healing, on...   \n",
       "1929                                  [obama, black, voted, reigned, yrs, along, sid]   \n",
       "1930                            [tony, bobulinski, communicates, message, joe, biden]   \n",
       "1931  [campaigning, lift, forgotten, man, president, trump, completely, lost, sigh...   \n",
       "1932  [yes, let, run, vote, corrupt, pro, lockdown, forever, joe, biden, sure, kil...   \n",
       "\n",
       "                                                                      lemmatized_text  \\\n",
       "0     [confrontation, cost, walter, wallace, jr, life, set, protest, devolve, riot...   \n",
       "1                                              [covid, still, rag, trump, still, lie]   \n",
       "2            [donald, trump, jr, talk, deaths, oh, oh, number, almost, nothing, gott]   \n",
       "3     [let, forget, create, problems, tell, donald, trump, scheme, undermine, righ...   \n",
       "4        [greater, supporter, donald, trump, world, mark, zuckerberg, one, do, elect]   \n",
       "...                                                                               ...   \n",
       "1928  [donald, trump, one, big, covid, super, spreader, nation, need, heal, one, r...   \n",
       "1929                                     [obama, black, vote, reign, yrs, along, sid]   \n",
       "1930                             [tony, bobulinski, communicate, message, joe, biden]   \n",
       "1931  [campaign, lift, forget, man, president, trump, completely, lose, sight, wor...   \n",
       "1932  [yes, let, run, vote, corrupt, pro, lockdown, forever, joe, biden, sure, kil...   \n",
       "\n",
       "                                                                         stemmed_text  \\\n",
       "0     [confront, cost, walter, wallac, jr, life, set, protest, devolv, riot, loot,...   \n",
       "1                                              [covid, still, rag, trump, still, lie]   \n",
       "2                [donald, trump, jr, talk, death, oh, oh, number, almost, noth, gott]   \n",
       "3     [let, forget, creat, problem, tell, donald, trump, scheme, undermin, right, ...   \n",
       "4          [greater, support, donald, trump, world, mark, zuckerberg, one, do, elect]   \n",
       "...                                                                               ...   \n",
       "1928  [donald, trump, one, big, covid, super, spreader, nation, need, heal, one, r...   \n",
       "1929                                      [obama, black, vote, reign, yr, along, sid]   \n",
       "1930                                   [toni, bobulinski, commun, messag, joe, biden]   \n",
       "1931   [campaign, lift, forget, man, presid, trump, complet, lose, sight, work, peop]   \n",
       "1932  [ye, let, run, vote, corrupt, pro, lockdown, forev, joe, biden, sure, kill, us]   \n",
       "\n",
       "                                                                    lemmatized_string  \\\n",
       "0        confrontation cost walter wallace jr life set protest devolve riot loot lead   \n",
       "1                                                     covid still rag trump still lie   \n",
       "2                        donald trump jr talk deaths oh oh number almost nothing gott   \n",
       "3     let forget create problems tell donald trump scheme undermine right vote safely   \n",
       "4                   greater supporter donald trump world mark zuckerberg one do elect   \n",
       "...                                                                               ...   \n",
       "1928  donald trump one big covid super spreader nation need heal one reason cast v...   \n",
       "1929                                             obama black vote reign yrs along sid   \n",
       "1930                                    tony bobulinski communicate message joe biden   \n",
       "1931         campaign lift forget man president trump completely lose sight work peop   \n",
       "1932             yes let run vote corrupt pro lockdown forever joe biden sure kill us   \n",
       "\n",
       "                                                                       stemmed_string  \\\n",
       "0               confront cost walter wallac jr life set protest devolv riot loot lead   \n",
       "1                                                     covid still rag trump still lie   \n",
       "2                            donald trump jr talk death oh oh number almost noth gott   \n",
       "3          let forget creat problem tell donald trump scheme undermin right vote safe   \n",
       "4                     greater support donald trump world mark zuckerberg one do elect   \n",
       "...                                                                               ...   \n",
       "1928  donald trump one big covid super spreader nation need heal one reason cast v...   \n",
       "1929                                              obama black vote reign yr along sid   \n",
       "1930                                          toni bobulinski commun messag joe biden   \n",
       "1931               campaign lift forget man presid trump complet lose sight work peop   \n",
       "1932                ye let run vote corrupt pro lockdown forev joe biden sure kill us   \n",
       "\n",
       "      cluster  \\\n",
       "0           0   \n",
       "1           0   \n",
       "2           5   \n",
       "3           6   \n",
       "4           0   \n",
       "...       ...   \n",
       "1928        0   \n",
       "1929        6   \n",
       "1930        0   \n",
       "1931        2   \n",
       "1932        6   \n",
       "\n",
       "                                                             Polarity  \\\n",
       "0        {'neg': 0.448, 'neu': 0.552, 'pos': 0.0, 'compound': -0.743}   \n",
       "1               {'neg': 0.0, 'neu': 1.0, 'pos': 0.0, 'compound': 0.0}   \n",
       "2     {'neg': 0.275, 'neu': 0.634, 'pos': 0.092, 'compound': -0.5574}   \n",
       "3     {'neg': 0.279, 'neu': 0.545, 'pos': 0.176, 'compound': -0.1779}   \n",
       "4        {'neg': 0.0, 'neu': 0.606, 'pos': 0.394, 'compound': 0.6369}   \n",
       "...                                                               ...   \n",
       "1928     {'neg': 0.0, 'neu': 0.782, 'pos': 0.218, 'compound': 0.5994}   \n",
       "1929            {'neg': 0.0, 'neu': 1.0, 'pos': 0.0, 'compound': 0.0}   \n",
       "1930            {'neg': 0.0, 'neu': 1.0, 'pos': 0.0, 'compound': 0.0}   \n",
       "1931    {'neg': 0.338, 'neu': 0.662, 'pos': 0.0, 'compound': -0.5574}   \n",
       "1932  {'neg': 0.261, 'neu': 0.611, 'pos': 0.128, 'compound': -0.5267}   \n",
       "\n",
       "     Sentiment emotion  \n",
       "0     Negative          \n",
       "1      Neutral          \n",
       "2     Negative          \n",
       "3     Negative          \n",
       "4     Positive          \n",
       "...        ...     ...  \n",
       "1928  Positive          \n",
       "1929   Neutral          \n",
       "1930   Neutral          \n",
       "1931  Negative          \n",
       "1932  Negative          \n",
       "\n",
       "[1933 rows x 16 columns]"
      ]
     },
     "execution_count": 38,
     "metadata": {},
     "output_type": "execute_result"
    }
   ],
   "source": [
    "tweets_df\n"
   ]
  },
  {
   "cell_type": "code",
   "execution_count": 39,
   "id": "reliable-technician",
   "metadata": {},
   "outputs": [
    {
     "name": "stderr",
     "output_type": "stream",
     "text": [
      "<ipython-input-39-ab633d348f37>:4: SettingWithCopyWarning: \n",
      "A value is trying to be set on a copy of a slice from a DataFrame\n",
      "\n",
      "See the caveats in the documentation: https://pandas.pydata.org/pandas-docs/stable/user_guide/indexing.html#returning-a-view-versus-a-copy\n",
      "  tweets_df['emotion'][i] = nrc_tweet.top_emotions[0][0]\n"
     ]
    }
   ],
   "source": [
    "for i in range(0,len(tweets_df)):\n",
    "    tweet = tweets_df['lemmatized_string'][i]\n",
    "    nrc_tweet = NRCLex(tweet)\n",
    "    tweets_df['emotion'][i] = nrc_tweet.top_emotions[0][0]"
   ]
  },
  {
   "cell_type": "code",
   "execution_count": 40,
   "id": "informal-washer",
   "metadata": {},
   "outputs": [
    {
     "data": {
      "text/html": [
       "<div>\n",
       "<style scoped>\n",
       "    .dataframe tbody tr th:only-of-type {\n",
       "        vertical-align: middle;\n",
       "    }\n",
       "\n",
       "    .dataframe tbody tr th {\n",
       "        vertical-align: top;\n",
       "    }\n",
       "\n",
       "    .dataframe thead th {\n",
       "        text-align: right;\n",
       "    }\n",
       "</style>\n",
       "<table border=\"1\" class=\"dataframe\">\n",
       "  <thead>\n",
       "    <tr style=\"text-align: right;\">\n",
       "      <th></th>\n",
       "      <th>geo</th>\n",
       "      <th>text</th>\n",
       "      <th>user</th>\n",
       "      <th>location</th>\n",
       "      <th>Subject</th>\n",
       "      <th>state</th>\n",
       "      <th>cleaned_text</th>\n",
       "      <th>tokenized_text</th>\n",
       "      <th>lemmatized_text</th>\n",
       "      <th>stemmed_text</th>\n",
       "      <th>lemmatized_string</th>\n",
       "      <th>stemmed_string</th>\n",
       "      <th>cluster</th>\n",
       "      <th>Polarity</th>\n",
       "      <th>Sentiment</th>\n",
       "      <th>emotion</th>\n",
       "    </tr>\n",
       "  </thead>\n",
       "  <tbody>\n",
       "    <tr>\n",
       "      <th>0</th>\n",
       "      <td>NaN</td>\n",
       "      <td>After the confrontation that cost Walter Wallace Jr. his life set off prote...</td>\n",
       "      <td>wheresestela1</td>\n",
       "      <td>New Jersey</td>\n",
       "      <td>Donald Trump</td>\n",
       "      <td>New Jersey</td>\n",
       "      <td>after the confrontation that cost walter wallace jr  his life set off prote...</td>\n",
       "      <td>[confrontation, cost, walter, wallace, jr, life, set, protests, devolved, ri...</td>\n",
       "      <td>[confrontation, cost, walter, wallace, jr, life, set, protest, devolve, riot...</td>\n",
       "      <td>[confront, cost, walter, wallac, jr, life, set, protest, devolv, riot, loot,...</td>\n",
       "      <td>confrontation cost walter wallace jr life set protest devolve riot loot lead</td>\n",
       "      <td>confront cost walter wallac jr life set protest devolv riot loot lead</td>\n",
       "      <td>0</td>\n",
       "      <td>{'neg': 0.448, 'neu': 0.552, 'pos': 0.0, 'compound': -0.743}</td>\n",
       "      <td>Negative</td>\n",
       "      <td>negative</td>\n",
       "    </tr>\n",
       "    <tr>\n",
       "      <th>1</th>\n",
       "      <td>NaN</td>\n",
       "      <td>\"COVID-19 is still raging. Trump is still lying.\"</td>\n",
       "      <td>TheFemaleYungin</td>\n",
       "      <td>The Wrong Address, Texas</td>\n",
       "      <td>Donald Trump</td>\n",
       "      <td>Texas</td>\n",
       "      <td>covid    is still raging  trump is still lying</td>\n",
       "      <td>[covid, still, raging, trump, still, lying]</td>\n",
       "      <td>[covid, still, rag, trump, still, lie]</td>\n",
       "      <td>[covid, still, rag, trump, still, lie]</td>\n",
       "      <td>covid still rag trump still lie</td>\n",
       "      <td>covid still rag trump still lie</td>\n",
       "      <td>0</td>\n",
       "      <td>{'neg': 0.0, 'neu': 1.0, 'pos': 0.0, 'compound': 0.0}</td>\n",
       "      <td>Neutral</td>\n",
       "      <td>anger</td>\n",
       "    </tr>\n",
       "    <tr>\n",
       "      <th>2</th>\n",
       "      <td>NaN</td>\n",
       "      <td>Donald Trump Jr.: \"Why aren't they talking about deaths? Oh, oh, because th...</td>\n",
       "      <td>KathrynTomashu1</td>\n",
       "      <td>Northborough, MA</td>\n",
       "      <td>Donald Trump</td>\n",
       "      <td>Massachusetts</td>\n",
       "      <td>donald trump jr    why aren t they talking about deaths  oh  oh  because th...</td>\n",
       "      <td>[donald, trump, jr, talking, deaths, oh, oh, number, almost, nothing, gott]</td>\n",
       "      <td>[donald, trump, jr, talk, deaths, oh, oh, number, almost, nothing, gott]</td>\n",
       "      <td>[donald, trump, jr, talk, death, oh, oh, number, almost, noth, gott]</td>\n",
       "      <td>donald trump jr talk deaths oh oh number almost nothing gott</td>\n",
       "      <td>donald trump jr talk death oh oh number almost noth gott</td>\n",
       "      <td>5</td>\n",
       "      <td>{'neg': 0.275, 'neu': 0.634, 'pos': 0.092, 'compound': -0.5574}</td>\n",
       "      <td>Negative</td>\n",
       "      <td>surprise</td>\n",
       "    </tr>\n",
       "    <tr>\n",
       "      <th>3</th>\n",
       "      <td>NaN</td>\n",
       "      <td>Let’s not forget who created these problems. Tell Donald Trump his scheme to...</td>\n",
       "      <td>ajserino</td>\n",
       "      <td>New Jersey, USA</td>\n",
       "      <td>Donald Trump</td>\n",
       "      <td>New Jersey</td>\n",
       "      <td>let s not forget who created these problems  tell donald trump his scheme to...</td>\n",
       "      <td>[let, forget, created, problems, tell, donald, trump, scheme, undermine, rig...</td>\n",
       "      <td>[let, forget, create, problems, tell, donald, trump, scheme, undermine, righ...</td>\n",
       "      <td>[let, forget, creat, problem, tell, donald, trump, scheme, undermin, right, ...</td>\n",
       "      <td>let forget create problems tell donald trump scheme undermine right vote safely</td>\n",
       "      <td>let forget creat problem tell donald trump scheme undermin right vote safe</td>\n",
       "      <td>6</td>\n",
       "      <td>{'neg': 0.279, 'neu': 0.545, 'pos': 0.176, 'compound': -0.1779}</td>\n",
       "      <td>Negative</td>\n",
       "      <td>negative</td>\n",
       "    </tr>\n",
       "    <tr>\n",
       "      <th>4</th>\n",
       "      <td>NaN</td>\n",
       "      <td>There is no greater supporter of Donald Trump in the world than Mark Zucker...</td>\n",
       "      <td>SpeakBravely</td>\n",
       "      <td>Twin Cities, Minnesota</td>\n",
       "      <td>Donald Trump</td>\n",
       "      <td>Minnesota</td>\n",
       "      <td>there is no greater supporter of donald trump in the world than mark zucker...</td>\n",
       "      <td>[greater, supporter, donald, trump, world, mark, zuckerberg, one, done, elect]</td>\n",
       "      <td>[greater, supporter, donald, trump, world, mark, zuckerberg, one, do, elect]</td>\n",
       "      <td>[greater, support, donald, trump, world, mark, zuckerberg, one, do, elect]</td>\n",
       "      <td>greater supporter donald trump world mark zuckerberg one do elect</td>\n",
       "      <td>greater support donald trump world mark zuckerberg one do elect</td>\n",
       "      <td>0</td>\n",
       "      <td>{'neg': 0.0, 'neu': 0.606, 'pos': 0.394, 'compound': 0.6369}</td>\n",
       "      <td>Positive</td>\n",
       "      <td>positive</td>\n",
       "    </tr>\n",
       "  </tbody>\n",
       "</table>\n",
       "</div>"
      ],
      "text/plain": [
       "   geo  \\\n",
       "0  NaN   \n",
       "1  NaN   \n",
       "2  NaN   \n",
       "3  NaN   \n",
       "4  NaN   \n",
       "\n",
       "                                                                              text  \\\n",
       "0   After the confrontation that cost Walter Wallace Jr. his life set off prote...   \n",
       "1                               \"COVID-19 is still raging. Trump is still lying.\"    \n",
       "2   Donald Trump Jr.: \"Why aren't they talking about deaths? Oh, oh, because th...   \n",
       "3  Let’s not forget who created these problems. Tell Donald Trump his scheme to...   \n",
       "4   There is no greater supporter of Donald Trump in the world than Mark Zucker...   \n",
       "\n",
       "              user                   location       Subject          state  \\\n",
       "0    wheresestela1                 New Jersey  Donald Trump     New Jersey   \n",
       "1  TheFemaleYungin  The Wrong Address, Texas   Donald Trump          Texas   \n",
       "2  KathrynTomashu1           Northborough, MA  Donald Trump  Massachusetts   \n",
       "3         ajserino            New Jersey, USA  Donald Trump     New Jersey   \n",
       "4     SpeakBravely     Twin Cities, Minnesota  Donald Trump      Minnesota   \n",
       "\n",
       "                                                                      cleaned_text  \\\n",
       "0   after the confrontation that cost walter wallace jr  his life set off prote...   \n",
       "1                                covid    is still raging  trump is still lying      \n",
       "2   donald trump jr    why aren t they talking about deaths  oh  oh  because th...   \n",
       "3  let s not forget who created these problems  tell donald trump his scheme to...   \n",
       "4   there is no greater supporter of donald trump in the world than mark zucker...   \n",
       "\n",
       "                                                                    tokenized_text  \\\n",
       "0  [confrontation, cost, walter, wallace, jr, life, set, protests, devolved, ri...   \n",
       "1                                      [covid, still, raging, trump, still, lying]   \n",
       "2      [donald, trump, jr, talking, deaths, oh, oh, number, almost, nothing, gott]   \n",
       "3  [let, forget, created, problems, tell, donald, trump, scheme, undermine, rig...   \n",
       "4   [greater, supporter, donald, trump, world, mark, zuckerberg, one, done, elect]   \n",
       "\n",
       "                                                                   lemmatized_text  \\\n",
       "0  [confrontation, cost, walter, wallace, jr, life, set, protest, devolve, riot...   \n",
       "1                                           [covid, still, rag, trump, still, lie]   \n",
       "2         [donald, trump, jr, talk, deaths, oh, oh, number, almost, nothing, gott]   \n",
       "3  [let, forget, create, problems, tell, donald, trump, scheme, undermine, righ...   \n",
       "4     [greater, supporter, donald, trump, world, mark, zuckerberg, one, do, elect]   \n",
       "\n",
       "                                                                      stemmed_text  \\\n",
       "0  [confront, cost, walter, wallac, jr, life, set, protest, devolv, riot, loot,...   \n",
       "1                                           [covid, still, rag, trump, still, lie]   \n",
       "2             [donald, trump, jr, talk, death, oh, oh, number, almost, noth, gott]   \n",
       "3  [let, forget, creat, problem, tell, donald, trump, scheme, undermin, right, ...   \n",
       "4       [greater, support, donald, trump, world, mark, zuckerberg, one, do, elect]   \n",
       "\n",
       "                                                                 lemmatized_string  \\\n",
       "0     confrontation cost walter wallace jr life set protest devolve riot loot lead   \n",
       "1                                                  covid still rag trump still lie   \n",
       "2                     donald trump jr talk deaths oh oh number almost nothing gott   \n",
       "3  let forget create problems tell donald trump scheme undermine right vote safely   \n",
       "4                greater supporter donald trump world mark zuckerberg one do elect   \n",
       "\n",
       "                                                               stemmed_string  \\\n",
       "0       confront cost walter wallac jr life set protest devolv riot loot lead   \n",
       "1                                             covid still rag trump still lie   \n",
       "2                    donald trump jr talk death oh oh number almost noth gott   \n",
       "3  let forget creat problem tell donald trump scheme undermin right vote safe   \n",
       "4             greater support donald trump world mark zuckerberg one do elect   \n",
       "\n",
       "   cluster                                                         Polarity  \\\n",
       "0        0     {'neg': 0.448, 'neu': 0.552, 'pos': 0.0, 'compound': -0.743}   \n",
       "1        0            {'neg': 0.0, 'neu': 1.0, 'pos': 0.0, 'compound': 0.0}   \n",
       "2        5  {'neg': 0.275, 'neu': 0.634, 'pos': 0.092, 'compound': -0.5574}   \n",
       "3        6  {'neg': 0.279, 'neu': 0.545, 'pos': 0.176, 'compound': -0.1779}   \n",
       "4        0     {'neg': 0.0, 'neu': 0.606, 'pos': 0.394, 'compound': 0.6369}   \n",
       "\n",
       "  Sentiment   emotion  \n",
       "0  Negative  negative  \n",
       "1   Neutral     anger  \n",
       "2  Negative  surprise  \n",
       "3  Negative  negative  \n",
       "4  Positive  positive  "
      ]
     },
     "execution_count": 40,
     "metadata": {},
     "output_type": "execute_result"
    }
   ],
   "source": [
    "tweets_df.head()"
   ]
  },
  {
   "cell_type": "markdown",
   "id": "informal-jerusalem",
   "metadata": {},
   "source": [
    "### Ploting count emotions for each cluster"
   ]
  },
  {
   "cell_type": "code",
   "execution_count": 41,
   "id": "explicit-criticism",
   "metadata": {
    "scrolled": false
   },
   "outputs": [
    {
     "data": {
      "image/png": "[encoded data removed]",
      "text/plain": [
       "<Figure size 720x576 with 1 Axes>"
      ]
     },
     "metadata": {
      "needs_background": "light"
     },
     "output_type": "display_data"
    },
    {
     "data": {
      "image/png": "[encoded data removed]",
      "text/plain": [
       "<Figure size 720x576 with 1 Axes>"
      ]
     },
     "metadata": {
      "needs_background": "light"
     },
     "output_type": "display_data"
    },
    {
     "data": {
      "image/png": "[encoded data removed]",
      "text/plain": [
       "<Figure size 720x576 with 1 Axes>"
      ]
     },
     "metadata": {
      "needs_background": "light"
     },
     "output_type": "display_data"
    },
    {
     "data": {
      "image/png": "[encoded data removed]",
      "text/plain": [
       "<Figure size 720x576 with 1 Axes>"
      ]
     },
     "metadata": {
      "needs_background": "light"
     },
     "output_type": "display_data"
    },
    {
     "data": {
      "image/png": "[encoded data removed]",
      "text/plain": [
       "<Figure size 720x576 with 1 Axes>"
      ]
     },
     "metadata": {
      "needs_background": "light"
     },
     "output_type": "display_data"
    },
    {
     "data": {
      "image/png": "[encoded data removed]",
      "text/plain": [
       "<Figure size 720x576 with 1 Axes>"
      ]
     },
     "metadata": {
      "needs_background": "light"
     },
     "output_type": "display_data"
    },
    {
     "data": {
      "image/png": "[encoded data removed]",
      "text/plain": [
       "<Figure size 720x576 with 1 Axes>"
      ]
     },
     "metadata": {
      "needs_background": "light"
     },
     "output_type": "display_data"
    }
   ],
   "source": [
    "for c in range(num_clusters):\n",
    "    df = tweets_df[tweets_df['cluster'] == c]\n",
    "    fig, ax = plt.subplots(figsize = (10,8))\n",
    "    ax = sns.countplot(x='emotion', data=df, order=['negative', 'positive', 'anger', 'fear', 'surprise', 'trust', 'sadness', 'anticipation'])\n",
    "    ax.set_title(f\"Emotions count for the cluster #{c}\")\n",
    "    plt.show()\n",
    "    fig.savefig(f'Plots/emotions_cluster{c}.png')"
   ]
  },
  {
   "cell_type": "markdown",
   "id": "fossil-deposit",
   "metadata": {},
   "source": [
    "## Analyze cluster #0"
   ]
  },
  {
   "cell_type": "code",
   "execution_count": 42,
   "id": "returning-input",
   "metadata": {},
   "outputs": [],
   "source": [
    "df = tweets_df[(tweets_df['cluster'] == 0)]"
   ]
  },
  {
   "cell_type": "code",
   "execution_count": 43,
   "id": "solved-plastic",
   "metadata": {},
   "outputs": [
    {
     "data": {
      "text/plain": [
       "(1244, 16)"
      ]
     },
     "execution_count": 43,
     "metadata": {},
     "output_type": "execute_result"
    }
   ],
   "source": [
    "df.shape"
   ]
  },
  {
   "cell_type": "code",
   "execution_count": 84,
   "id": "synthetic-antigua",
   "metadata": {},
   "outputs": [],
   "source": [
    "tfidf_vector = TfidfVectorizer(max_df=0.3, min_df=10, stop_words=stopwords_eng, ngram_range=(1,2), max_features=1000, use_idf=True, smooth_idf=True)\n",
    "\n",
    "X_sub  = tfidf_vector.fit_transform(df['lemmatized_string'])"
   ]
  },
  {
   "cell_type": "markdown",
   "id": "worth-advice",
   "metadata": {},
   "source": [
    "Choosing K Value"
   ]
  },
  {
   "cell_type": "code",
   "execution_count": 85,
   "id": "opponent-commons",
   "metadata": {},
   "outputs": [],
   "source": [
    "ssd = []\n",
    "\n",
    "for k in range(1,15):\n",
    "    \n",
    "    model = KMeans(n_clusters=k)\n",
    "    \n",
    "    \n",
    "    model.fit(X_sub)\n",
    "    \n",
    "    #Sum of squared distances of samples to their closest cluster center.\n",
    "    ssd.append(model.inertia_)"
   ]
  },
  {
   "cell_type": "code",
   "execution_count": 86,
   "id": "wound-valuable",
   "metadata": {},
   "outputs": [
    {
     "data": {
      "text/plain": [
       "Text(0.5, 1.0, 'Elbow method to find the optimal k value')"
      ]
     },
     "execution_count": 86,
     "metadata": {},
     "output_type": "execute_result"
    },
    {
     "data": {
      "image/png": "[encoded data removed]",
      "text/plain": [
       "<Figure size 720x576 with 1 Axes>"
      ]
     },
     "metadata": {
      "needs_background": "light"
     },
     "output_type": "display_data"
    }
   ],
   "source": [
    "fig = plt.figure(figsize=(10,8))\n",
    "plt.plot(range(1,15),ssd,'o--')\n",
    "plt.xlabel(\"K Value\")\n",
    "plt.ylabel(\" Sum of Squared Distances\")\n",
    "plt.title(\"Elbow method to find the optimal k value\")"
   ]
  },
  {
   "cell_type": "code",
   "execution_count": 89,
   "id": "comparable-apparatus",
   "metadata": {},
   "outputs": [],
   "source": [
    "num_subclusters = 5\n",
    "\n",
    "km = KMeans(n_clusters=num_subclusters, init='k-means++', random_state=42)\n",
    "labels = km.fit_predict(X_sub)"
   ]
  },
  {
   "cell_type": "code",
   "execution_count": 90,
   "id": "marked-commonwealth",
   "metadata": {},
   "outputs": [
    {
     "name": "stdout",
     "output_type": "stream",
     "text": [
      "Top 10 words per sub-cluster\n",
      "Sub-cluster #0.0\n",
      "['go', 'campaign', 'know', 'family', 'would', 'state', 'make', 'support', 'new', 'america']\n",
      "\n",
      "\n",
      "Sub-cluster #0.1\n",
      "['donald', 'donald trump', 'lil', 'via', 'lil wayne', 'wayne', 'election', 'endorse', 'support', 'take']\n",
      "\n",
      "\n",
      "Sub-cluster #0.2\n",
      "['lie', 'son', 'stand', 'like', 'rally', 'tell', 'need', 'come', 'via', 'know']\n",
      "\n",
      "\n",
      "Sub-cluster #0.3\n",
      "['hunter', 'hunter biden', 'business', 'email', 'deal', 'amp', 'report', 'greenwald', 'criminal', 'corruption']\n",
      "\n",
      "\n",
      "Sub-cluster #0.4\n",
      "['win', 'white', 'biden win', 'house', 'white house', 'make', 'next', 'week', 'secretary', 'want']\n",
      "\n",
      "\n"
     ]
    }
   ],
   "source": [
    "print(\"Top 10 words per sub-cluster\")\n",
    "order_centroids = km.cluster_centers_.argsort()[:, ::-1]\n",
    "for i in range(num_subclusters):\n",
    "    print(f\"Sub-cluster #0.{i}\")\n",
    "    top_ten_words = [tfidf_vector.get_feature_names()[ind] for ind in order_centroids[i, :10]]\n",
    "    print(top_ten_words)\n",
    "    print('\\n')"
   ]
  },
  {
   "cell_type": "code",
   "execution_count": 95,
   "id": "distant-burden",
   "metadata": {},
   "outputs": [
    {
     "name": "stderr",
     "output_type": "stream",
     "text": [
      "<ipython-input-95-1c32b71b470c>:1: SettingWithCopyWarning: \n",
      "A value is trying to be set on a copy of a slice from a DataFrame.\n",
      "Try using .loc[row_indexer,col_indexer] = value instead\n",
      "\n",
      "See the caveats in the documentation: https://pandas.pydata.org/pandas-docs/stable/user_guide/indexing.html#returning-a-view-versus-a-copy\n",
      "  df['sub-cluster'] = labels\n"
     ]
    }
   ],
   "source": [
    "df['sub-cluster'] = labels"
   ]
  },
  {
   "cell_type": "code",
   "execution_count": 96,
   "id": "potential-ending",
   "metadata": {},
   "outputs": [
    {
     "data": {
      "text/plain": [
       "Text(0.5, 0.98, 'Size of each cluster')"
      ]
     },
     "execution_count": 96,
     "metadata": {},
     "output_type": "execute_result"
    },
    {
     "data": {
      "image/png": "[encoded data removed]",
      "text/plain": [
       "<Figure size 576x432 with 1 Axes>"
      ]
     },
     "metadata": {
      "needs_background": "light"
     },
     "output_type": "display_data"
    }
   ],
   "source": [
    "fig = plt.figure(figsize=(8,6))\n",
    "#plt.style.use('fivethirtyeight')\n",
    "sns.countplot(x='sub-cluster', data=df)\n",
    "fig.suptitle('Size of each cluster', fontsize=16)\n",
    "#fig.savefig('Plots/clusters size.png')"
   ]
  },
  {
   "cell_type": "code",
   "execution_count": 97,
   "id": "official-staff",
   "metadata": {
    "scrolled": false
   },
   "outputs": [
    {
     "name": "stdout",
     "output_type": "stream",
     "text": [
      "Sub-cluster 0\n",
      "0        After the confrontation that cost Walter Wallace Jr. his life set off prote...\n",
      "8       It is Friday, October 30, 2020. One citizen, I call for the removal from off...\n",
      "10       Trump is going to try to make his re-election his final giant con, losing t...\n",
      "16       It is Friday, October 30, 2020. One citizen, I call for the removal from of...\n",
      "36       \"17\" posts today about the \"Great Reset\", which is a plan to enslave all hu...\n",
      "                                             ...                                       \n",
      "1917                                                     joe biden after tweeting this \n",
      "1919     These are the folks that Joe Biden was in business with. Now FBI is investi...\n",
      "1921     👉JOE BIDEN/ADAM SCHIFF       Both LIARS &amp; TRAITORS!#DemocratsAreEvil“I ...\n",
      "1926     7 Key Corruption Questions Joe Biden Must Answer After FBI Bombshell | Zero...\n",
      "1930                               Tony Bobulinski Communicates A Message To Joe Biden \n",
      "Name: text, Length: 735, dtype: object\n",
      "\n",
      "\n",
      "Sub-cluster 1\n",
      "4        There is no greater supporter of Donald Trump in the world than Mark Zucker...\n",
      "9                  Donald Trump is a dipshit. The presidency is no place for a dipshit.\n",
      "12       Abandoned by Donald Trump, lemming-like cultists wander to their doom upon ...\n",
      "13                      ‘Trump rally sounds like Hitler in Berlin! Fuck Donald Trump’✌🏻\n",
      "15       ‘It is currently unclear whether Facebook is giving Donald Trump an unfair ...\n",
      "                                             ...                                       \n",
      "1852    Donald Trump releases his travel sked - he will not be back in Ohio before E...\n",
      "1884    Donald Trump and Joe Biden have spent a combined total of $200M on Facebook ...\n",
      "1907     Joe Biden v. Donald TrumpBiden will end the epidemic of violence against al...\n",
      "1913    Does anyone really believe that Donald Trump's philandering and dicey person...\n",
      "1928     Donald Trump is just one big #COVID19 super spreader. Our nation needs heal...\n",
      "Name: text, Length: 326, dtype: object\n",
      "\n",
      "\n",
      "Sub-cluster 2\n",
      "1                                    \"COVID-19 is still raging. Trump is still lying.\" \n",
      "47       Study Finds TheSingle Largest Driverof #Coronavirus Misinformation, #Lies, ...\n",
      "140                                              They all lie. Donald Trump lies like… \n",
      "142      “They lied to you about Donald Trump. They lied about Brett Kavanaugh. They...\n",
      "182      Like Donald Trump,  has lied to its audience about this virus for nine mont...\n",
      "428     Vaccines, 'cures,' and conspiracies: Trump's most desperate lies about the v...\n",
      "505                I Was Told Donald Trump Was Racist! I Was Duped by Media Lies!  via \n",
      "716     We don't need polls. We don't need you to manipulate us. We don't need your ...\n",
      "803      From the lying lips of Rubio who KNEW Trump colluded w Russia, all Republic...\n",
      "986      Joe Biden got called out at his rally in San Antonio for lying about Trump ...\n",
      "1038    I stand with Joe Biden. I stand for truth over lies. #BidenHarrisLandslide2020 \n",
      "1040    Ok with  shooting his lying mouth off about  accomplishments here is a link ...\n",
      "1052      how come you keep crapping on polls? Very frustrating! Trump's murdering p...\n",
      "1062      You have all the talking points, but Trump lies.+ US has the lowest fatali...\n",
      "1134      'I stand for truth over lies,' Spurs' Popovich endorses Joe Biden  #GoSpursGo\n",
      "1254     Joe Biden lied about his grades. He lied about getting arrested. He lied ab...\n",
      "1261     Joe Biden destroyed the reputation of a black man based on false testimony ...\n",
      "1281                Joe Biden's Mind Melts While Telling Yet Another Lie About His Son \n",
      "1298      Are they lies because you don't like the answers? I mean Joe Biden is a RA...\n",
      "1314       This is misinformation, lies, bias, political hacking, and non-journalism.… \n",
      "1332    Donald Trump’s monthslong lies about the coronavirus pandemic are laid bare ...\n",
      "1357                Joe Biden's Mind Melts While Telling Yet Another Lie About His Son \n",
      "1371                                 Joe Biden will lie about anything and everything. \n",
      "1379      Is Joe Biden lying about his Chinese connections through his worthless son...\n",
      "1439    New Audio Proves Joe Biden Lied;  Implicated in Criminal Investigation |... ...\n",
      "1575    NBC NEWS is lying and carrying water for Joe Biden. So now instead of Russia...\n",
      "1580     Adam Schiff lied to protect Joe Biden. Then this whistleblower came forward...\n",
      "1582     Perhaps the most amazing gaslighting I’ve seen in 4 years full of countless...\n",
      "1583     Because it's a lie. Vlad Putin, your buddy, has stated that there is no cor...\n",
      "1584    How many Joe Biden commercials do you need to watch before you realize he is...\n",
      "1601    A known fact Joe Biden has LIED about discussing business with his son. In a...\n",
      "1868     Joe does NOT want Large Crowds at his Rallies!!Joe Biden is a LiarHe cannot...\n",
      "1890    Joe does NOT want Large Crowds at his Rallies!!Joe Biden is a LiarHe cannot ...\n",
      "Name: text, dtype: object\n",
      "\n",
      "\n",
      "Sub-cluster 3\n",
      "42       The FBI was investigating Hunter Biden's overseas business deals in Decembe...\n",
      "51       At the precise moment Donald Trump was impeached for expressing concern abo...\n",
      "54        I don’t want Hunter Biden’s laptop. I want Donald Trump’s taxes, his medic...\n",
      "81       Mainstream media and their friends in Silicon Valley have covered up and ac...\n",
      "119       I want my future son to grow up to be like Donald or Eric Trump, not Hunte...\n",
      "                                             ...                                       \n",
      "1887     🚨New Video! Please Share🚨Hunter Biden's Emails Have Now Been VERIFIED.Joe B...\n",
      "1891     Why was Secret Service there if Hunter no longer had a detail? Did Joe clea...\n",
      "1902         Hunter Biden.*JOE BIDEN*Billion dollar bonds.Access. 2011.Coming soon on .\n",
      "1918    Hunter Biden business partner confirms Joe Biden ‘knew about money from Chin...\n",
      "1927    Hunter Biden Emails CONFIRMED Real! Joe Biden LIED &amp; Nobody Is Covering ...\n",
      "Name: text, Length: 92, dtype: object\n",
      "\n",
      "\n",
      "Sub-cluster 4\n",
      "69       . endorses #BidenHarris2020, stating that they will “restore steadiness and...\n",
      "70       “This is the entire Republican strategy in 2020: not to win the election bu...\n",
      "89       So much time and energy squandered because we entrusted the White House to ...\n",
      "241      The Chris Voss Show Podcast – White House Inc.: How Donald Trump Turned the...\n",
      "255      The 2020 US election is a week away. Will Donald Trump defeat Joe Biden to ...\n",
      "451       The coronavirus crisis is snowballing into a looming healthcare catastroph...\n",
      "622      Thank you Blue Bell! Five days from now, we’re going to win Pennsylvania -–...\n",
      "733                           Lil Wayne wants to keep Donald Trump in the White House. \n",
      "756      My little sister, Charlotte absolutely LOVED visiting the beautiful White H...\n",
      "892      If Sleepy Joe Biden is actually elected President, the 4 Justices (plus1) t...\n",
      "941      You know why most of the #HunterBiden stories never made much sense to me? ...\n",
      "949       I’m a proud member of the 30% of white men without a college degree suppor...\n",
      "955      Stand back!  Tea Pain’s gonna make a #prediction about the Presidential ele...\n",
      "964      Not only did Joe Biden commit to a White House task force reuniting 545 chi...\n",
      "970      Elizabeth Warren wants to be Joe Biden's Treasury secretary and will make h...\n",
      "1008    If Biden wins, there is 100% going to be a shift in Republican messaging to ...\n",
      "1009    Elizabeth Warren wants to be Joe Biden's Treasury secretary and will make he...\n",
      "1015     Come on America! Lets win every state so we can call him Sweepy Joe Biden f...\n",
      "1020    3-\" the president’s chances of winning a second term now require winning sta...\n",
      "1021        I pray they do but if Joe Biden  wins, it will all be swept under the rug😥!\n",
      "1024     Elizabeth Warren wants to be Joe Biden's Treasury secretary and will make h...\n",
      "1034     Joe Biden is traveling to Minnesota tomorrow.Minnesota hasn’t elected a Rep...\n",
      "1036     STUNNING: Libertarian VP Candidate's Waffle House Tour in Ohio Is Outdrawin...\n",
      "1045     BREAKING: Elizabeth Warren wants to be Joe Biden's Treasury secretary if he...\n",
      "1053     At 3AM, Trump is tweeting that the only way Biden can win the White House i...\n",
      "1061     This is what is keeping me up at night besides my insomnia. When Joe Biden ...\n",
      "1064    For Joe Biden to make good on his overtures to the left, progressives don't ...\n",
      "1066      . foresees a short second term for Mike Pence (if he wins) as Ivanka Trump...\n",
      "1069                                                     Joe Biden = Old Rich White Guy\n",
      "1082     If you elect Joe Biden, this white supremacist will stop collecting a salar...\n",
      "1088      Democrats will be left with a mess if they win because Trump is making sur...\n",
      "1089                     Here comes #SinglePayer and #OpenBorders if #JoeBiden wins....\n",
      "1104     Elizabeth Warren wants to be Joe Biden's Treasury secretary and will make h...\n",
      "1125     \"Democrats are far more likely to win Senate control if Joe Biden wins the ...\n",
      "1127     How Biden’s retirement plans could save small business workersIf Joe Biden ...\n",
      "1145              may be too ignorant to realize that Joe Biden is a rich old white m… \n",
      "1164     If Joe Biden wins the presidency and eases sanctions on Iran, oil from Iran...\n",
      "1295     Budget deficits and the U.S. national debt are projected to continue rising...\n",
      "1302     3AM Tweet: Trump Ominously Declares Joe Biden Will Only Win White House if ...\n",
      "1330      ignorance of how the branches of government works and when Joe Biden wins,...\n",
      "1359     It's been four, long years of division, hate, and lies.I can't wait to rest...\n",
      "1386    \"If Joe Biden wins the election, he will come into your home and steal all y...\n",
      "1420     If Joe Biden wins in Nov 3, Elizabeth Warren could end up being our next Tr...\n",
      "1478                          “poor kids as just as bright  as white kids” - Joe Biden.\n",
      "1498      Ok, I'm crying. We so need this win so we don't lose what sanity we have l...\n",
      "1604     Joe Biden is not a miracle cure for what ails America. But he would restore...\n",
      "1608    3AM Tweet: Trump Ominously Declares Joe Biden Will Only Win White House if S...\n",
      "1613               I’d rather have Betty White as as Commander in Chief than Joe Biden \n",
      "1619     I think we are all feeling our worst right now. If Joe Biden wins, we will ...\n",
      "1678    “The same Leftists that went berserk over imagined Russian collusion handing...\n",
      "1687     3AM Tweet: #Trump Ominously Declares Joe Biden Will Only Win White House if...\n",
      "1695     Trump's white supremacist senior adviser Stephen Miller has fleshed out pla...\n",
      "1708     9/ If Joe Biden wins the presidency, some of these rollbacks, like the U.S....\n",
      "1728     Scoop: Warren wants to be Joe Biden's Treasury secretary and will make her ...\n",
      "1775     America faces a fateful choice. At stake is the nature of its democracy. Jo...\n",
      "1843     If Joe Biden Wins Florida, It’s Over...Joe Biden Will Be Our Next President...\n",
      "1867     BIDEN SCANDAL UPDATE: Joe Biden faces investigation no matter who wins on E...\n",
      "1883     If Joe Biden “wins” the election by a long counting process with iffy shena...\n",
      "Name: text, dtype: object\n",
      "\n",
      "\n"
     ]
    }
   ],
   "source": [
    "for c in range(num_subclusters):\n",
    "    print(f\"Sub-cluster {c}\")\n",
    "    print(df[df['sub-cluster'] == c].text)\n",
    "    print('\\n')"
   ]
  },
  {
   "cell_type": "code",
   "execution_count": 99,
   "id": "english-investigation",
   "metadata": {
    "scrolled": false
   },
   "outputs": [
    {
     "data": {
      "image/png": "[encoded data removed]",
      "text/plain": [
       "<Figure size 720x576 with 1 Axes>"
      ]
     },
     "metadata": {
      "needs_background": "light"
     },
     "output_type": "display_data"
    },
    {
     "data": {
      "image/png": "[encoded data removed]",
      "text/plain": [
       "<Figure size 720x576 with 1 Axes>"
      ]
     },
     "metadata": {
      "needs_background": "light"
     },
     "output_type": "display_data"
    },
    {
     "data": {
      "image/png": "[encoded data removed]",
      "text/plain": [
       "<Figure size 720x576 with 1 Axes>"
      ]
     },
     "metadata": {
      "needs_background": "light"
     },
     "output_type": "display_data"
    },
    {
     "data": {
      "image/png": "[encoded data removed]",
      "text/plain": [
       "<Figure size 720x576 with 1 Axes>"
      ]
     },
     "metadata": {
      "needs_background": "light"
     },
     "output_type": "display_data"
    },
    {
     "data": {
      "image/png": "[encoded data removed]",
      "text/plain": [
       "<Figure size 720x576 with 1 Axes>"
      ]
     },
     "metadata": {
      "needs_background": "light"
     },
     "output_type": "display_data"
    }
   ],
   "source": [
    "for c in range(num_subclusters):\n",
    "    df2 = df[df['sub-cluster'] == c]\n",
    "    fig, ax = plt.subplots(figsize = (10,8))\n",
    "    ax = sns.countplot(x='emotion', data=df2, order=['negative', 'positive', 'anger', 'fear', 'surprise', 'trust', 'sadness', 'anticipation'])\n",
    "    ax.set_title(f\"Emotions count for the subcluster #0.{c}\")\n",
    "    plt.show()\n",
    "    fig.savefig(f'Plots/emotions_subcluster 0.{c}.png')"
   ]
  },
  {
   "cell_type": "code",
   "execution_count": null,
   "id": "saving-simpson",
   "metadata": {},
   "outputs": [],
   "source": []
  },
  {
   "cell_type": "markdown",
   "id": "positive-toronto",
   "metadata": {},
   "source": [
    "## Analyse the sentiment of fear in cluster #0"
   ]
  },
  {
   "cell_type": "code",
   "execution_count": 101,
   "id": "expensive-graphics",
   "metadata": {},
   "outputs": [],
   "source": [
    "df = tweets_df[(tweets_df['cluster'] == 0) & (tweets_df['emotion'] == 'fear')]"
   ]
  },
  {
   "cell_type": "code",
   "execution_count": 102,
   "id": "dental-lambda",
   "metadata": {},
   "outputs": [
    {
     "data": {
      "text/plain": [
       "(304, 16)"
      ]
     },
     "execution_count": 102,
     "metadata": {},
     "output_type": "execute_result"
    }
   ],
   "source": [
    "df.shape"
   ]
  },
  {
   "cell_type": "code",
   "execution_count": 103,
   "id": "vanilla-beach",
   "metadata": {},
   "outputs": [],
   "source": [
    "tfidf_vector = TfidfVectorizer(max_df=0.3, min_df=10, stop_words=stopwords_eng, ngram_range=(1,2), max_features=1000, use_idf=True, smooth_idf=True)\n",
    "\n",
    "X_sub  = tfidf_vector.fit_transform(df['lemmatized_string'])"
   ]
  },
  {
   "cell_type": "code",
   "execution_count": 113,
   "id": "egyptian-score",
   "metadata": {},
   "outputs": [],
   "source": [
    "ssd = []\n",
    "\n",
    "for k in range(1,15):\n",
    "    \n",
    "    model = KMeans(n_clusters=k)\n",
    "    \n",
    "    \n",
    "    model.fit(X_sub)\n",
    "    \n",
    "    #Sum of squared distances of samples to their closest cluster center.\n",
    "    ssd.append(model.inertia_)"
   ]
  },
  {
   "cell_type": "code",
   "execution_count": 114,
   "id": "parallel-authorization",
   "metadata": {},
   "outputs": [
    {
     "data": {
      "text/plain": [
       "Text(0.5, 1.0, 'Elbow method to find the optimal k value')"
      ]
     },
     "execution_count": 114,
     "metadata": {},
     "output_type": "execute_result"
    },
    {
     "data": {
      "image/png": "[encoded data removed]",
      "text/plain": [
       "<Figure size 720x576 with 1 Axes>"
      ]
     },
     "metadata": {
      "needs_background": "light"
     },
     "output_type": "display_data"
    }
   ],
   "source": [
    "fig = plt.figure(figsize=(10,8))\n",
    "plt.plot(range(1,15),ssd,'o--')\n",
    "plt.xlabel(\"K Value\")\n",
    "plt.ylabel(\" Sum of Squared Distances\")\n",
    "plt.title(\"Elbow method to find the optimal k value\")"
   ]
  },
  {
   "cell_type": "code",
   "execution_count": 118,
   "id": "extensive-boxing",
   "metadata": {},
   "outputs": [],
   "source": [
    "num_subclusters = 10\n",
    "km = KMeans(n_clusters=num_subclusters, init='k-means++', random_state=42)\n",
    "\n",
    "X = tfidf_vector.fit_transform(df['lemmatized_string'])\n",
    "\n",
    "label = km.fit_predict(X)"
   ]
  },
  {
   "cell_type": "code",
   "execution_count": 119,
   "id": "closing-contemporary",
   "metadata": {},
   "outputs": [
    {
     "name": "stdout",
     "output_type": "stream",
     "text": [
      "Top 10 words per sub-cluster\n",
      "Sub-Cluster #0\n",
      "['win', 'make', 'case', 'want', 'come', 'election', 'call', 'go', 'donald trump', 'campaign']\n",
      "\n",
      "\n",
      "Sub-Cluster #1\n",
      "['donald', 'donald trump', 'trump', 'take', 'want', 'election', 'hunter biden', 'hunter', 'would', 'think']\n",
      "\n",
      "\n",
      "Sub-Cluster #2\n",
      "['would', 'election', 'come', 'conspiracy', 'case', 'take', 'son', 'want', 'make', 'business']\n",
      "\n",
      "\n",
      "Sub-Cluster #3\n",
      "['greenwald', 'hunter', 'hunter biden', 'call', 'think', 'want', 'would', 'donald', 'campaign', 'case']\n",
      "\n",
      "\n",
      "Sub-Cluster #4\n",
      "['think', 'son', 'hunter', 'would', 'donald trump', 'call', 'campaign', 'case', 'come', 'conspiracy']\n",
      "\n",
      "\n",
      "Sub-Cluster #5\n",
      "['hunter', 'hunter biden', 'business', 'call', 'conspiracy', 'campaign', 'son', 'come', 'trump', 'election']\n",
      "\n",
      "\n",
      "Sub-Cluster #6\n",
      "['trump', 'would', 'conspiracy', 'take', 'case', 'election', 'call', 'campaign', 'come', 'covid']\n",
      "\n",
      "\n",
      "Sub-Cluster #7\n",
      "['campaign', 'come', 'go', 'business', 'trump', 'hunter', 'think', 'donald', 'call', 'want']\n",
      "\n",
      "\n",
      "Sub-Cluster #8\n",
      "['go', 'election', 'want', 'call', 'son', 'take', 'campaign', 'make', 'trump', 'donald']\n",
      "\n",
      "\n",
      "Sub-Cluster #9\n",
      "['covid', 'case', 'make', 'trump', 'son', 'take', 'would', 'win', 'go', 'donald']\n",
      "\n",
      "\n"
     ]
    }
   ],
   "source": [
    "print(\"Top 10 words per sub-cluster\")\n",
    "order_centroids = km.cluster_centers_.argsort()[:, ::-1]\n",
    "for i in range(num_subclusters):\n",
    "    print(f\"Sub-Cluster #{i}\")\n",
    "    top_ten_words = [tfidf_vector.get_feature_names()[ind] for ind in order_centroids[i, :10]]\n",
    "    print(top_ten_words)\n",
    "    print('\\n')"
   ]
  },
  {
   "cell_type": "markdown",
   "id": "neutral-vanilla",
   "metadata": {},
   "source": [
    "##### Analyse the sentiment of trust in cluster #0"
   ]
  },
  {
   "cell_type": "code",
   "execution_count": 100,
   "id": "reflected-bikini",
   "metadata": {},
   "outputs": [],
   "source": [
    "df = tweets_df[(tweets_df['cluster'] == 0) & (tweets_df['emotion'] == 'trust')]"
   ]
  },
  {
   "cell_type": "code",
   "execution_count": 95,
   "id": "appreciated-david",
   "metadata": {},
   "outputs": [],
   "source": [
    "num_subclusters = 10\n",
    "km = KMeans(n_clusters=num_subclusters, init='k-means++', random_state=42)\n",
    "\n",
    "X = tfidf_vector.fit_transform(df['lemmatized_string'])\n",
    "\n",
    "label = km.fit_predict(X)"
   ]
  },
  {
   "cell_type": "code",
   "execution_count": 96,
   "id": "respective-recall",
   "metadata": {},
   "outputs": [
    {
     "name": "stdout",
     "output_type": "stream",
     "text": [
      "Top 10 words per sub-cluster\n",
      "Sub-Cluster #0\n",
      "['vote', 'president', 'elect', 'election', 'white', 'fox', 'say', 'poll', 'days', 'news']\n",
      "\n",
      "\n",
      "Sub-Cluster #1\n",
      "['ridiculous', 'justices', 'possi', 'plus', 'actually', 'sleepy', 'win', 'help', 'make', 'elect']\n",
      "\n",
      "\n",
      "Sub-Cluster #2\n",
      "['nazi', 'hitler', 'threat', 'grandfather', 'churchill', 'granddaughter', 'mince', 'something', 'word', 'like']\n",
      "\n",
      "\n",
      "Sub-Cluster #3\n",
      "['economy', 'job', 'decimate', 'kudlow', 'crush', 'would', 'larry', 'go', 'shut', 'plan']\n",
      "\n",
      "\n",
      "Sub-Cluster #4\n",
      "['show', 'support', 'pump', 'lil', 'new', 'black', 'poll', 'know', 'daily', 'rasmussen']\n",
      "\n",
      "\n",
      "Sub-Cluster #5\n",
      "['get', 'song', 'movie', 'vitally', 'anthem', 'title', 'important', 'free', 'use', 'us']\n",
      "\n",
      "\n",
      "Sub-Cluster #6\n",
      "['camera', 'flash', 'advisor', 'power', 'reporter', 'still', 'ask', 'top', 'miller', 'stephen']\n",
      "\n",
      "\n",
      "Sub-Cluster #7\n",
      "['slow', 'poverty', 'visit', 'food', 'gdp', 'quarter', 'bank', 'worst', 'rise', 'track']\n",
      "\n",
      "\n"
     ]
    }
   ],
   "source": [
    "print(\"Top 10 words per sub-cluster\")\n",
    "order_centroids = km.cluster_centers_.argsort()[:, ::-1]\n",
    "for i in range(num_clusters):\n",
    "    print(f\"Sub-Cluster #{i}\")\n",
    "    top_ten_words = [tfidf_vector.get_feature_names()[ind] for ind in order_centroids[i, :10]]\n",
    "    print(top_ten_words)\n",
    "    print('\\n')"
   ]
  },
  {
   "cell_type": "markdown",
   "id": "spare-volleyball",
   "metadata": {},
   "source": [
    "# LDA"
   ]
  },
  {
   "cell_type": "code",
   "execution_count": 304,
   "id": "confirmed-pattern",
   "metadata": {},
   "outputs": [],
   "source": [
    "lda = LatentDirichletAllocation(n_components=num_clusters, random_state=42)"
   ]
  },
  {
   "cell_type": "code",
   "execution_count": 305,
   "id": "controlled-cartridge",
   "metadata": {},
   "outputs": [],
   "source": [
    "topics = lda.fit_transform(X)"
   ]
  },
  {
   "cell_type": "code",
   "execution_count": 306,
   "id": "threaded-replica",
   "metadata": {},
   "outputs": [
    {
     "name": "stdout",
     "output_type": "stream",
     "text": [
      "The top 10 words for topic #0\n",
      "['criminal', 'american', 'elect', 'america', 'force', 'final', 'keep', 'florida', 'god', 'every']\n",
      "\n",
      "\n",
      "The top 10 words for topic #1\n",
      "['corruption', 'guy', 'drive', 'endorse donald', 'greenwald', 'call', 'campaign', 'corrupt', 'big', 'black']\n",
      "\n",
      "\n",
      "The top 10 words for topic #2\n",
      "['find', 'job', 'claim', 'biden family', 'democrats', 'days', 'case', 'glenn greenwald', 'know', 'chinese']\n",
      "\n",
      "\n",
      "The top 10 words for topic #3\n",
      "['come', 'biden campaign', 'ever', 'censor', 'good', 'country', 'glenn', 'family', 'fbi', 'hold']\n",
      "\n",
      "\n",
      "The top 10 words for topic #4\n",
      "['care', 'last', 'fight', 'give', 'endorse', 'day', 'investigation', 'former', 'back', 'family']\n",
      "\n",
      "\n",
      "The top 10 words for topic #5\n",
      "['article', 'election day', 'hunter', 'biden win', 'help', 'another', 'donald trump', 'hear', 'hunter biden', 'house']\n",
      "\n",
      "\n",
      "The top 10 words for topic #6\n",
      "['fox news', 'ask', 'believe', 'also', 'launder', 'fail', 'amp', 'email', 'coronavirus', 'conspiracy']\n",
      "\n",
      "\n"
     ]
    }
   ],
   "source": [
    "for index,topic in enumerate(lda.components_):\n",
    "    print(f\"The top 10 words for topic #{index}\")\n",
    "    print([tfidf_vector.get_feature_names()[i] for i in topic.argsort()[-10:]])\n",
    "    print('\\n')"
   ]
  },
  {
   "cell_type": "code",
   "execution_count": 307,
   "id": "ready-speaker",
   "metadata": {},
   "outputs": [
    {
     "data": {
      "text/plain": [
       "(1933, 7)"
      ]
     },
     "execution_count": 307,
     "metadata": {},
     "output_type": "execute_result"
    }
   ],
   "source": [
    "topics.shape"
   ]
  },
  {
   "cell_type": "code",
   "execution_count": 308,
   "id": "aquatic-physiology",
   "metadata": {},
   "outputs": [
    {
     "data": {
      "text/plain": [
       "array([1, 0, 1, ..., 0, 4, 5], dtype=int64)"
      ]
     },
     "execution_count": 308,
     "metadata": {},
     "output_type": "execute_result"
    }
   ],
   "source": [
    "topics.argmax(axis=1)"
   ]
  },
  {
   "cell_type": "code",
   "execution_count": 309,
   "id": "premier-indian",
   "metadata": {},
   "outputs": [],
   "source": [
    "tweets_df['topic'] = topics.argmax(axis=1)"
   ]
  },
  {
   "cell_type": "code",
   "execution_count": 310,
   "id": "saving-bicycle",
   "metadata": {},
   "outputs": [
    {
     "data": {
      "text/html": [
       "<div>\n",
       "<style scoped>\n",
       "    .dataframe tbody tr th:only-of-type {\n",
       "        vertical-align: middle;\n",
       "    }\n",
       "\n",
       "    .dataframe tbody tr th {\n",
       "        vertical-align: top;\n",
       "    }\n",
       "\n",
       "    .dataframe thead th {\n",
       "        text-align: right;\n",
       "    }\n",
       "</style>\n",
       "<table border=\"1\" class=\"dataframe\">\n",
       "  <thead>\n",
       "    <tr style=\"text-align: right;\">\n",
       "      <th></th>\n",
       "      <th>geo</th>\n",
       "      <th>text</th>\n",
       "      <th>user</th>\n",
       "      <th>location</th>\n",
       "      <th>Subject</th>\n",
       "      <th>state</th>\n",
       "      <th>cleaned_text</th>\n",
       "      <th>tokenized_text</th>\n",
       "      <th>lemmatized_text</th>\n",
       "      <th>stemmed_text</th>\n",
       "      <th>lemmatized_string</th>\n",
       "      <th>stemmed_string</th>\n",
       "      <th>cluster</th>\n",
       "      <th>Polarity</th>\n",
       "      <th>Sentiment</th>\n",
       "      <th>emotion</th>\n",
       "      <th>topic</th>\n",
       "    </tr>\n",
       "  </thead>\n",
       "  <tbody>\n",
       "    <tr>\n",
       "      <th>0</th>\n",
       "      <td>NaN</td>\n",
       "      <td>After the confrontation that cost Walter Wallace Jr. his life set off prote...</td>\n",
       "      <td>wheresestela1</td>\n",
       "      <td>New Jersey</td>\n",
       "      <td>Donald Trump</td>\n",
       "      <td>New Jersey</td>\n",
       "      <td>after the confrontation that cost walter wallace jr  his life set off prote...</td>\n",
       "      <td>[confrontation, cost, walter, wallace, jr, life, set, protests, devolved, ri...</td>\n",
       "      <td>[confrontation, cost, walter, wallace, jr, life, set, protest, devolve, riot...</td>\n",
       "      <td>[confront, cost, walter, wallac, jr, life, set, protest, devolv, riot, loot,...</td>\n",
       "      <td>confrontation cost walter wallace jr life set protest devolve riot loot lead</td>\n",
       "      <td>confront cost walter wallac jr life set protest devolv riot loot lead</td>\n",
       "      <td>0</td>\n",
       "      <td>{'neg': 0.448, 'neu': 0.552, 'pos': 0.0, 'compound': -0.743}</td>\n",
       "      <td>Negative</td>\n",
       "      <td>negative</td>\n",
       "      <td>1</td>\n",
       "    </tr>\n",
       "    <tr>\n",
       "      <th>1</th>\n",
       "      <td>NaN</td>\n",
       "      <td>\"COVID-19 is still raging. Trump is still lying.\"</td>\n",
       "      <td>TheFemaleYungin</td>\n",
       "      <td>The Wrong Address, Texas</td>\n",
       "      <td>Donald Trump</td>\n",
       "      <td>Texas</td>\n",
       "      <td>covid    is still raging  trump is still lying</td>\n",
       "      <td>[covid, still, raging, trump, still, lying]</td>\n",
       "      <td>[covid, still, rag, trump, still, lie]</td>\n",
       "      <td>[covid, still, rag, trump, still, lie]</td>\n",
       "      <td>covid still rag trump still lie</td>\n",
       "      <td>covid still rag trump still lie</td>\n",
       "      <td>0</td>\n",
       "      <td>{'neg': 0.0, 'neu': 1.0, 'pos': 0.0, 'compound': 0.0}</td>\n",
       "      <td>Neutral</td>\n",
       "      <td>anger</td>\n",
       "      <td>0</td>\n",
       "    </tr>\n",
       "    <tr>\n",
       "      <th>2</th>\n",
       "      <td>NaN</td>\n",
       "      <td>Donald Trump Jr.: \"Why aren't they talking about deaths? Oh, oh, because th...</td>\n",
       "      <td>KathrynTomashu1</td>\n",
       "      <td>Northborough, MA</td>\n",
       "      <td>Donald Trump</td>\n",
       "      <td>Massachusetts</td>\n",
       "      <td>donald trump jr    why aren t they talking about deaths  oh  oh  because th...</td>\n",
       "      <td>[donald, trump, jr, talking, deaths, oh, oh, number, almost, nothing, gott]</td>\n",
       "      <td>[donald, trump, jr, talk, deaths, oh, oh, number, almost, nothing, gott]</td>\n",
       "      <td>[donald, trump, jr, talk, death, oh, oh, number, almost, noth, gott]</td>\n",
       "      <td>donald trump jr talk deaths oh oh number almost nothing gott</td>\n",
       "      <td>donald trump jr talk death oh oh number almost noth gott</td>\n",
       "      <td>5</td>\n",
       "      <td>{'neg': 0.275, 'neu': 0.634, 'pos': 0.092, 'compound': -0.5574}</td>\n",
       "      <td>Negative</td>\n",
       "      <td>surprise</td>\n",
       "      <td>1</td>\n",
       "    </tr>\n",
       "    <tr>\n",
       "      <th>3</th>\n",
       "      <td>NaN</td>\n",
       "      <td>Let’s not forget who created these problems. Tell Donald Trump his scheme to...</td>\n",
       "      <td>ajserino</td>\n",
       "      <td>New Jersey, USA</td>\n",
       "      <td>Donald Trump</td>\n",
       "      <td>New Jersey</td>\n",
       "      <td>let s not forget who created these problems  tell donald trump his scheme to...</td>\n",
       "      <td>[let, forget, created, problems, tell, donald, trump, scheme, undermine, rig...</td>\n",
       "      <td>[let, forget, create, problems, tell, donald, trump, scheme, undermine, righ...</td>\n",
       "      <td>[let, forget, creat, problem, tell, donald, trump, scheme, undermin, right, ...</td>\n",
       "      <td>let forget create problems tell donald trump scheme undermine right vote safely</td>\n",
       "      <td>let forget creat problem tell donald trump scheme undermin right vote safe</td>\n",
       "      <td>6</td>\n",
       "      <td>{'neg': 0.279, 'neu': 0.545, 'pos': 0.176, 'compound': -0.1779}</td>\n",
       "      <td>Negative</td>\n",
       "      <td>negative</td>\n",
       "      <td>0</td>\n",
       "    </tr>\n",
       "    <tr>\n",
       "      <th>4</th>\n",
       "      <td>NaN</td>\n",
       "      <td>There is no greater supporter of Donald Trump in the world than Mark Zucker...</td>\n",
       "      <td>SpeakBravely</td>\n",
       "      <td>Twin Cities, Minnesota</td>\n",
       "      <td>Donald Trump</td>\n",
       "      <td>Minnesota</td>\n",
       "      <td>there is no greater supporter of donald trump in the world than mark zucker...</td>\n",
       "      <td>[greater, supporter, donald, trump, world, mark, zuckerberg, one, done, elect]</td>\n",
       "      <td>[greater, supporter, donald, trump, world, mark, zuckerberg, one, do, elect]</td>\n",
       "      <td>[greater, support, donald, trump, world, mark, zuckerberg, one, do, elect]</td>\n",
       "      <td>greater supporter donald trump world mark zuckerberg one do elect</td>\n",
       "      <td>greater support donald trump world mark zuckerberg one do elect</td>\n",
       "      <td>0</td>\n",
       "      <td>{'neg': 0.0, 'neu': 0.606, 'pos': 0.394, 'compound': 0.6369}</td>\n",
       "      <td>Positive</td>\n",
       "      <td>positive</td>\n",
       "      <td>1</td>\n",
       "    </tr>\n",
       "  </tbody>\n",
       "</table>\n",
       "</div>"
      ],
      "text/plain": [
       "   geo  \\\n",
       "0  NaN   \n",
       "1  NaN   \n",
       "2  NaN   \n",
       "3  NaN   \n",
       "4  NaN   \n",
       "\n",
       "                                                                              text  \\\n",
       "0   After the confrontation that cost Walter Wallace Jr. his life set off prote...   \n",
       "1                               \"COVID-19 is still raging. Trump is still lying.\"    \n",
       "2   Donald Trump Jr.: \"Why aren't they talking about deaths? Oh, oh, because th...   \n",
       "3  Let’s not forget who created these problems. Tell Donald Trump his scheme to...   \n",
       "4   There is no greater supporter of Donald Trump in the world than Mark Zucker...   \n",
       "\n",
       "              user                   location       Subject          state  \\\n",
       "0    wheresestela1                 New Jersey  Donald Trump     New Jersey   \n",
       "1  TheFemaleYungin  The Wrong Address, Texas   Donald Trump          Texas   \n",
       "2  KathrynTomashu1           Northborough, MA  Donald Trump  Massachusetts   \n",
       "3         ajserino            New Jersey, USA  Donald Trump     New Jersey   \n",
       "4     SpeakBravely     Twin Cities, Minnesota  Donald Trump      Minnesota   \n",
       "\n",
       "                                                                      cleaned_text  \\\n",
       "0   after the confrontation that cost walter wallace jr  his life set off prote...   \n",
       "1                                covid    is still raging  trump is still lying      \n",
       "2   donald trump jr    why aren t they talking about deaths  oh  oh  because th...   \n",
       "3  let s not forget who created these problems  tell donald trump his scheme to...   \n",
       "4   there is no greater supporter of donald trump in the world than mark zucker...   \n",
       "\n",
       "                                                                    tokenized_text  \\\n",
       "0  [confrontation, cost, walter, wallace, jr, life, set, protests, devolved, ri...   \n",
       "1                                      [covid, still, raging, trump, still, lying]   \n",
       "2      [donald, trump, jr, talking, deaths, oh, oh, number, almost, nothing, gott]   \n",
       "3  [let, forget, created, problems, tell, donald, trump, scheme, undermine, rig...   \n",
       "4   [greater, supporter, donald, trump, world, mark, zuckerberg, one, done, elect]   \n",
       "\n",
       "                                                                   lemmatized_text  \\\n",
       "0  [confrontation, cost, walter, wallace, jr, life, set, protest, devolve, riot...   \n",
       "1                                           [covid, still, rag, trump, still, lie]   \n",
       "2         [donald, trump, jr, talk, deaths, oh, oh, number, almost, nothing, gott]   \n",
       "3  [let, forget, create, problems, tell, donald, trump, scheme, undermine, righ...   \n",
       "4     [greater, supporter, donald, trump, world, mark, zuckerberg, one, do, elect]   \n",
       "\n",
       "                                                                      stemmed_text  \\\n",
       "0  [confront, cost, walter, wallac, jr, life, set, protest, devolv, riot, loot,...   \n",
       "1                                           [covid, still, rag, trump, still, lie]   \n",
       "2             [donald, trump, jr, talk, death, oh, oh, number, almost, noth, gott]   \n",
       "3  [let, forget, creat, problem, tell, donald, trump, scheme, undermin, right, ...   \n",
       "4       [greater, support, donald, trump, world, mark, zuckerberg, one, do, elect]   \n",
       "\n",
       "                                                                 lemmatized_string  \\\n",
       "0     confrontation cost walter wallace jr life set protest devolve riot loot lead   \n",
       "1                                                  covid still rag trump still lie   \n",
       "2                     donald trump jr talk deaths oh oh number almost nothing gott   \n",
       "3  let forget create problems tell donald trump scheme undermine right vote safely   \n",
       "4                greater supporter donald trump world mark zuckerberg one do elect   \n",
       "\n",
       "                                                               stemmed_string  \\\n",
       "0       confront cost walter wallac jr life set protest devolv riot loot lead   \n",
       "1                                             covid still rag trump still lie   \n",
       "2                    donald trump jr talk death oh oh number almost noth gott   \n",
       "3  let forget creat problem tell donald trump scheme undermin right vote safe   \n",
       "4             greater support donald trump world mark zuckerberg one do elect   \n",
       "\n",
       "   cluster                                                         Polarity  \\\n",
       "0        0     {'neg': 0.448, 'neu': 0.552, 'pos': 0.0, 'compound': -0.743}   \n",
       "1        0            {'neg': 0.0, 'neu': 1.0, 'pos': 0.0, 'compound': 0.0}   \n",
       "2        5  {'neg': 0.275, 'neu': 0.634, 'pos': 0.092, 'compound': -0.5574}   \n",
       "3        6  {'neg': 0.279, 'neu': 0.545, 'pos': 0.176, 'compound': -0.1779}   \n",
       "4        0     {'neg': 0.0, 'neu': 0.606, 'pos': 0.394, 'compound': 0.6369}   \n",
       "\n",
       "  Sentiment   emotion  topic  \n",
       "0  Negative  negative      1  \n",
       "1   Neutral     anger      0  \n",
       "2  Negative  surprise      1  \n",
       "3  Negative  negative      0  \n",
       "4  Positive  positive      1  "
      ]
     },
     "execution_count": 310,
     "metadata": {},
     "output_type": "execute_result"
    }
   ],
   "source": [
    "tweets_df.head()"
   ]
  },
  {
   "cell_type": "markdown",
   "id": "formal-vulnerability",
   "metadata": {},
   "source": [
    "## Ploting topics' size"
   ]
  },
  {
   "cell_type": "code",
   "execution_count": 311,
   "id": "light-ottawa",
   "metadata": {},
   "outputs": [
    {
     "data": {
      "text/plain": [
       "Text(0.5, 0.98, 'Size of each topic')"
      ]
     },
     "execution_count": 311,
     "metadata": {},
     "output_type": "execute_result"
    },
    {
     "data": {
      "image/png": "[encoded data removed]",
      "text/plain": [
       "<Figure size 576x432 with 1 Axes>"
      ]
     },
     "metadata": {
      "needs_background": "light"
     },
     "output_type": "display_data"
    }
   ],
   "source": [
    "fig = plt.figure(figsize=(8,6))\n",
    "#plt.style.use('fivethirtyeight')\n",
    "sns.countplot(x='topic', data=tweets_df)\n",
    "fig.suptitle('Size of each topic', fontsize=16)"
   ]
  },
  {
   "cell_type": "code",
   "execution_count": null,
   "id": "desirable-irrigation",
   "metadata": {},
   "outputs": [],
   "source": []
  },
  {
   "cell_type": "code",
   "execution_count": null,
   "id": "subject-message",
   "metadata": {},
   "outputs": [],
   "source": []
  }
 ],
 "metadata": {
  "kernelspec": {
   "display_name": "Python 3",
   "language": "python",
   "name": "python3"
  },
  "language_info": {
   "codemirror_mode": {
    "name": "ipython",
    "version": 3
   },
   "file_extension": ".py",
   "mimetype": "text/x-python",
   "name": "python",
   "nbconvert_exporter": "python",
   "pygments_lexer": "ipython3",
   "version": "3.8.0"
  }
 },
 "nbformat": 4,
 "nbformat_minor": 5
}
