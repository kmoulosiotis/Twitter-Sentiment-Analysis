{
 "cells": [
  {
   "cell_type": "code",
   "execution_count": 150,
   "id": "polar-interim",
   "metadata": {},
   "outputs": [],
   "source": [
    "import numpy as np\n",
    "import pandas as pd\n",
    "pd.set_option('max_colwidth',80)\n",
    "\n",
    "import re\n",
    "import nltk\n",
    "from nltk.corpus import stopwords\n",
    "from nltk.tokenize import word_tokenize\n",
    "from nltk.stem import WordNetLemmatizer\n",
    "from nltk.stem import PorterStemmer\n",
    "\n",
    "import matplotlib.pyplot as plt\n",
    "import seaborn as sns\n",
    "import plotly.express as px"
   ]
  },
  {
   "cell_type": "code",
   "execution_count": 151,
   "id": "lightweight-hampshire",
   "metadata": {},
   "outputs": [
    {
     "name": "stderr",
     "output_type": "stream",
     "text": [
      "[nltk_data] Downloading package stopwords to\n",
      "[nltk_data]     C:\\Users\\user\\AppData\\Roaming\\nltk_data...\n",
      "[nltk_data]   Package stopwords is already up-to-date!\n",
      "[nltk_data] Downloading package punkt to\n",
      "[nltk_data]     C:\\Users\\user\\AppData\\Roaming\\nltk_data...\n",
      "[nltk_data]   Package punkt is already up-to-date!\n",
      "[nltk_data] Downloading package wordnet to\n",
      "[nltk_data]     C:\\Users\\user\\AppData\\Roaming\\nltk_data...\n",
      "[nltk_data]   Package wordnet is already up-to-date!\n"
     ]
    },
    {
     "data": {
      "text/plain": [
       "True"
      ]
     },
     "execution_count": 151,
     "metadata": {},
     "output_type": "execute_result"
    }
   ],
   "source": [
    "nltk.download('stopwords')\n",
    "nltk.download('punkt')\n",
    "nltk.download('wordnet')"
   ]
  },
  {
   "cell_type": "code",
   "execution_count": 152,
   "id": "signed-brake",
   "metadata": {},
   "outputs": [],
   "source": [
    "stopwords_eng = stopwords.words('english')"
   ]
  },
  {
   "cell_type": "markdown",
   "id": "ethical-genre",
   "metadata": {},
   "source": [
    "# Import Data"
   ]
  },
  {
   "cell_type": "code",
   "execution_count": 153,
   "id": "progressive-literacy",
   "metadata": {},
   "outputs": [],
   "source": [
    "tweets_df = pd.read_csv('Data/sentiments_for_us_tweets.csv')\n",
    "tweets_df.drop(tweets_df.columns[0], axis=1, inplace=True)"
   ]
  },
  {
   "cell_type": "code",
   "execution_count": 154,
   "id": "annual-plaintiff",
   "metadata": {},
   "outputs": [
    {
     "data": {
      "text/html": [
       "<div>\n",
       "<style scoped>\n",
       "    .dataframe tbody tr th:only-of-type {\n",
       "        vertical-align: middle;\n",
       "    }\n",
       "\n",
       "    .dataframe tbody tr th {\n",
       "        vertical-align: top;\n",
       "    }\n",
       "\n",
       "    .dataframe thead th {\n",
       "        text-align: right;\n",
       "    }\n",
       "</style>\n",
       "<table border=\"1\" class=\"dataframe\">\n",
       "  <thead>\n",
       "    <tr style=\"text-align: right;\">\n",
       "      <th></th>\n",
       "      <th>geo</th>\n",
       "      <th>text</th>\n",
       "      <th>user</th>\n",
       "      <th>location</th>\n",
       "      <th>Subject</th>\n",
       "      <th>state</th>\n",
       "      <th>Polarity</th>\n",
       "      <th>Sentiment</th>\n",
       "    </tr>\n",
       "  </thead>\n",
       "  <tbody>\n",
       "    <tr>\n",
       "      <th>0</th>\n",
       "      <td>NaN</td>\n",
       "      <td>After the confrontation that cost Walter Wallace Jr. his life set off prote...</td>\n",
       "      <td>wheresestela1</td>\n",
       "      <td>New Jersey</td>\n",
       "      <td>Donald Trump</td>\n",
       "      <td>New Jersey</td>\n",
       "      <td>{'neg': 0.448, 'neu': 0.552, 'pos': 0.0, 'compound': -0.743}</td>\n",
       "      <td>Negative</td>\n",
       "    </tr>\n",
       "    <tr>\n",
       "      <th>1</th>\n",
       "      <td>NaN</td>\n",
       "      <td>\"COVID-19 is still raging. Trump is still lying.\"</td>\n",
       "      <td>TheFemaleYungin</td>\n",
       "      <td>The Wrong Address, Texas</td>\n",
       "      <td>Donald Trump</td>\n",
       "      <td>Texas</td>\n",
       "      <td>{'neg': 0.0, 'neu': 1.0, 'pos': 0.0, 'compound': 0.0}</td>\n",
       "      <td>Neutral</td>\n",
       "    </tr>\n",
       "    <tr>\n",
       "      <th>2</th>\n",
       "      <td>NaN</td>\n",
       "      <td>Donald Trump Jr.: \"Why aren't they talking about deaths? Oh, oh, because th...</td>\n",
       "      <td>KathrynTomashu1</td>\n",
       "      <td>Northborough, MA</td>\n",
       "      <td>Donald Trump</td>\n",
       "      <td>Massachusetts</td>\n",
       "      <td>{'neg': 0.275, 'neu': 0.634, 'pos': 0.092, 'compound': -0.5574}</td>\n",
       "      <td>Negative</td>\n",
       "    </tr>\n",
       "    <tr>\n",
       "      <th>3</th>\n",
       "      <td>NaN</td>\n",
       "      <td>Let’s not forget who created these problems. Tell Donald Trump his scheme to...</td>\n",
       "      <td>ajserino</td>\n",
       "      <td>New Jersey, USA</td>\n",
       "      <td>Donald Trump</td>\n",
       "      <td>New Jersey</td>\n",
       "      <td>{'neg': 0.279, 'neu': 0.545, 'pos': 0.176, 'compound': -0.1779}</td>\n",
       "      <td>Negative</td>\n",
       "    </tr>\n",
       "    <tr>\n",
       "      <th>4</th>\n",
       "      <td>NaN</td>\n",
       "      <td>There is no greater supporter of Donald Trump in the world than Mark Zucker...</td>\n",
       "      <td>SpeakBravely</td>\n",
       "      <td>Twin Cities, Minnesota</td>\n",
       "      <td>Donald Trump</td>\n",
       "      <td>Minnesota</td>\n",
       "      <td>{'neg': 0.0, 'neu': 0.606, 'pos': 0.394, 'compound': 0.6369}</td>\n",
       "      <td>Positive</td>\n",
       "    </tr>\n",
       "  </tbody>\n",
       "</table>\n",
       "</div>"
      ],
      "text/plain": [
       "   geo  \\\n",
       "0  NaN   \n",
       "1  NaN   \n",
       "2  NaN   \n",
       "3  NaN   \n",
       "4  NaN   \n",
       "\n",
       "                                                                              text  \\\n",
       "0   After the confrontation that cost Walter Wallace Jr. his life set off prote...   \n",
       "1                               \"COVID-19 is still raging. Trump is still lying.\"    \n",
       "2   Donald Trump Jr.: \"Why aren't they talking about deaths? Oh, oh, because th...   \n",
       "3  Let’s not forget who created these problems. Tell Donald Trump his scheme to...   \n",
       "4   There is no greater supporter of Donald Trump in the world than Mark Zucker...   \n",
       "\n",
       "              user                   location       Subject          state  \\\n",
       "0    wheresestela1                 New Jersey  Donald Trump     New Jersey   \n",
       "1  TheFemaleYungin  The Wrong Address, Texas   Donald Trump          Texas   \n",
       "2  KathrynTomashu1           Northborough, MA  Donald Trump  Massachusetts   \n",
       "3         ajserino            New Jersey, USA  Donald Trump     New Jersey   \n",
       "4     SpeakBravely     Twin Cities, Minnesota  Donald Trump      Minnesota   \n",
       "\n",
       "                                                          Polarity Sentiment  \n",
       "0     {'neg': 0.448, 'neu': 0.552, 'pos': 0.0, 'compound': -0.743}  Negative  \n",
       "1            {'neg': 0.0, 'neu': 1.0, 'pos': 0.0, 'compound': 0.0}   Neutral  \n",
       "2  {'neg': 0.275, 'neu': 0.634, 'pos': 0.092, 'compound': -0.5574}  Negative  \n",
       "3  {'neg': 0.279, 'neu': 0.545, 'pos': 0.176, 'compound': -0.1779}  Negative  \n",
       "4     {'neg': 0.0, 'neu': 0.606, 'pos': 0.394, 'compound': 0.6369}  Positive  "
      ]
     },
     "execution_count": 154,
     "metadata": {},
     "output_type": "execute_result"
    }
   ],
   "source": [
    "tweets_df.head()"
   ]
  },
  {
   "cell_type": "markdown",
   "id": "variable-gallery",
   "metadata": {},
   "source": [
    "# NLTK text preprocess"
   ]
  },
  {
   "cell_type": "code",
   "execution_count": 155,
   "id": "joint-update",
   "metadata": {},
   "outputs": [],
   "source": [
    "def clean_tweet(tweet):\n",
    "    tweet = re.sub('RT','',tweet)\n",
    "    tweet = re.sub('@[\\w]*','',tweet)\n",
    "    tweet = re.sub('#[\\w]*','',tweet)\n",
    "    tweet = re.sub('https?://[A-Za-z0-9./]*','',tweet)\n",
    "    tweet = re.sub('\\n','',tweet)\n",
    "    return tweet"
   ]
  },
  {
   "cell_type": "code",
   "execution_count": 156,
   "id": "romance-basin",
   "metadata": {},
   "outputs": [],
   "source": [
    "# lemmatization function\n",
    "lemmatizer = WordNetLemmatizer()\n",
    "def lemmatize_tweet(tweet):\n",
    "    lemmatized_tweet = []\n",
    "    for word in tweet:\n",
    "        lemmatized_tweet.append(lemmatizer.lemmatize(word, pos='v'))\n",
    "    return lemmatized_tweet\n",
    "\n",
    "# stemming function\n",
    "porter = PorterStemmer()\n",
    "def stem_tweet(tweet):\n",
    "    stemmed_tweet = []\n",
    "    for word in tweet:\n",
    "        stemmed_tweet.append(porter.stem(word))\n",
    "    return stemmed_tweet\n",
    "\n",
    "\n",
    "# remove stopwords function\n",
    "def remove_stopwords(tweet):\n",
    "    tweet_witout_stops = []\n",
    "    for word in tweet:\n",
    "        if word not in stopwords_eng:\n",
    "            tweet_witout_stops.append(word)\n",
    "    return tweet_witout_stops"
   ]
  },
  {
   "cell_type": "code",
   "execution_count": 157,
   "id": "reasonable-dover",
   "metadata": {},
   "outputs": [],
   "source": [
    "tweets_df['cleaned_text'] = tweets_df['text'].apply(clean_tweet)"
   ]
  },
  {
   "cell_type": "code",
   "execution_count": 158,
   "id": "smoking-eating",
   "metadata": {},
   "outputs": [],
   "source": [
    "# make all text lowercase\n",
    "tweets_df['cleaned_text'] = tweets_df['cleaned_text'].apply(lambda x: x.lower())"
   ]
  },
  {
   "cell_type": "code",
   "execution_count": 159,
   "id": "decimal-browser",
   "metadata": {},
   "outputs": [
    {
     "name": "stderr",
     "output_type": "stream",
     "text": [
      "<ipython-input-159-7b644cf159d7>:2: FutureWarning:\n",
      "\n",
      "The default value of regex will change from True to False in a future version.\n",
      "\n"
     ]
    }
   ],
   "source": [
    "# remove punctuations and numbers and emoji\n",
    "tweets_df['cleaned_text'] = tweets_df['cleaned_text'].str.replace(\"[^a-zA-z]\", \" \")"
   ]
  },
  {
   "cell_type": "code",
   "execution_count": 160,
   "id": "liable-explanation",
   "metadata": {},
   "outputs": [],
   "source": [
    "#tokenize text\n",
    "tweets_df['tokenized_text'] = tweets_df['cleaned_text'].apply(lambda x: word_tokenize(x))"
   ]
  },
  {
   "cell_type": "code",
   "execution_count": 161,
   "id": "technical-metadata",
   "metadata": {},
   "outputs": [],
   "source": [
    "#remove stopwords\n",
    "tweets_df['tokenized_text'] = tweets_df['tokenized_text'].apply(remove_stopwords)"
   ]
  },
  {
   "cell_type": "code",
   "execution_count": 162,
   "id": "brazilian-funeral",
   "metadata": {},
   "outputs": [],
   "source": [
    "#lemmatize text\n",
    "tweets_df['lemmatized_text'] = tweets_df['tokenized_text']. apply(lemmatize_tweet)"
   ]
  },
  {
   "cell_type": "code",
   "execution_count": 163,
   "id": "chubby-nurse",
   "metadata": {},
   "outputs": [],
   "source": [
    "#stem text\n",
    "tweets_df['stemmed_text'] = tweets_df['lemmatized_text'].apply(stem_tweet)"
   ]
  },
  {
   "cell_type": "code",
   "execution_count": 164,
   "id": "south-pierce",
   "metadata": {},
   "outputs": [],
   "source": [
    "#de tokenize text\n",
    "tweets_df['lemmatized_string'] = tweets_df['lemmatized_text'].apply(lambda x: ' '.join(x))\n",
    "tweets_df['stemmed_string'] = tweets_df['stemmed_text'].apply(lambda x: ' '.join(x))"
   ]
  },
  {
   "cell_type": "code",
   "execution_count": 165,
   "id": "spectacular-tsunami",
   "metadata": {},
   "outputs": [
    {
     "data": {
      "text/html": [
       "<div>\n",
       "<style scoped>\n",
       "    .dataframe tbody tr th:only-of-type {\n",
       "        vertical-align: middle;\n",
       "    }\n",
       "\n",
       "    .dataframe tbody tr th {\n",
       "        vertical-align: top;\n",
       "    }\n",
       "\n",
       "    .dataframe thead th {\n",
       "        text-align: right;\n",
       "    }\n",
       "</style>\n",
       "<table border=\"1\" class=\"dataframe\">\n",
       "  <thead>\n",
       "    <tr style=\"text-align: right;\">\n",
       "      <th></th>\n",
       "      <th>geo</th>\n",
       "      <th>text</th>\n",
       "      <th>user</th>\n",
       "      <th>location</th>\n",
       "      <th>Subject</th>\n",
       "      <th>state</th>\n",
       "      <th>Polarity</th>\n",
       "      <th>Sentiment</th>\n",
       "      <th>cleaned_text</th>\n",
       "      <th>tokenized_text</th>\n",
       "      <th>lemmatized_text</th>\n",
       "      <th>stemmed_text</th>\n",
       "      <th>lemmatized_string</th>\n",
       "      <th>stemmed_string</th>\n",
       "    </tr>\n",
       "  </thead>\n",
       "  <tbody>\n",
       "    <tr>\n",
       "      <th>0</th>\n",
       "      <td>NaN</td>\n",
       "      <td>After the confrontation that cost Walter Wallace Jr. his life set off prote...</td>\n",
       "      <td>wheresestela1</td>\n",
       "      <td>New Jersey</td>\n",
       "      <td>Donald Trump</td>\n",
       "      <td>New Jersey</td>\n",
       "      <td>{'neg': 0.448, 'neu': 0.552, 'pos': 0.0, 'compound': -0.743}</td>\n",
       "      <td>Negative</td>\n",
       "      <td>after the confrontation that cost walter wallace jr  his life set off prote...</td>\n",
       "      <td>[confrontation, cost, walter, wallace, jr, life, set, protests, devolved, ri...</td>\n",
       "      <td>[confrontation, cost, walter, wallace, jr, life, set, protest, devolve, riot...</td>\n",
       "      <td>[confront, cost, walter, wallac, jr, life, set, protest, devolv, riot, loot,...</td>\n",
       "      <td>confrontation cost walter wallace jr life set protest devolve riot loot lead</td>\n",
       "      <td>confront cost walter wallac jr life set protest devolv riot loot lead</td>\n",
       "    </tr>\n",
       "    <tr>\n",
       "      <th>1</th>\n",
       "      <td>NaN</td>\n",
       "      <td>\"COVID-19 is still raging. Trump is still lying.\"</td>\n",
       "      <td>TheFemaleYungin</td>\n",
       "      <td>The Wrong Address, Texas</td>\n",
       "      <td>Donald Trump</td>\n",
       "      <td>Texas</td>\n",
       "      <td>{'neg': 0.0, 'neu': 1.0, 'pos': 0.0, 'compound': 0.0}</td>\n",
       "      <td>Neutral</td>\n",
       "      <td>covid    is still raging  trump is still lying</td>\n",
       "      <td>[covid, still, raging, trump, still, lying]</td>\n",
       "      <td>[covid, still, rag, trump, still, lie]</td>\n",
       "      <td>[covid, still, rag, trump, still, lie]</td>\n",
       "      <td>covid still rag trump still lie</td>\n",
       "      <td>covid still rag trump still lie</td>\n",
       "    </tr>\n",
       "    <tr>\n",
       "      <th>2</th>\n",
       "      <td>NaN</td>\n",
       "      <td>Donald Trump Jr.: \"Why aren't they talking about deaths? Oh, oh, because th...</td>\n",
       "      <td>KathrynTomashu1</td>\n",
       "      <td>Northborough, MA</td>\n",
       "      <td>Donald Trump</td>\n",
       "      <td>Massachusetts</td>\n",
       "      <td>{'neg': 0.275, 'neu': 0.634, 'pos': 0.092, 'compound': -0.5574}</td>\n",
       "      <td>Negative</td>\n",
       "      <td>donald trump jr    why aren t they talking about deaths  oh  oh  because th...</td>\n",
       "      <td>[donald, trump, jr, talking, deaths, oh, oh, number, almost, nothing, gott]</td>\n",
       "      <td>[donald, trump, jr, talk, deaths, oh, oh, number, almost, nothing, gott]</td>\n",
       "      <td>[donald, trump, jr, talk, death, oh, oh, number, almost, noth, gott]</td>\n",
       "      <td>donald trump jr talk deaths oh oh number almost nothing gott</td>\n",
       "      <td>donald trump jr talk death oh oh number almost noth gott</td>\n",
       "    </tr>\n",
       "    <tr>\n",
       "      <th>3</th>\n",
       "      <td>NaN</td>\n",
       "      <td>Let’s not forget who created these problems. Tell Donald Trump his scheme to...</td>\n",
       "      <td>ajserino</td>\n",
       "      <td>New Jersey, USA</td>\n",
       "      <td>Donald Trump</td>\n",
       "      <td>New Jersey</td>\n",
       "      <td>{'neg': 0.279, 'neu': 0.545, 'pos': 0.176, 'compound': -0.1779}</td>\n",
       "      <td>Negative</td>\n",
       "      <td>let s not forget who created these problems  tell donald trump his scheme to...</td>\n",
       "      <td>[let, forget, created, problems, tell, donald, trump, scheme, undermine, rig...</td>\n",
       "      <td>[let, forget, create, problems, tell, donald, trump, scheme, undermine, righ...</td>\n",
       "      <td>[let, forget, creat, problem, tell, donald, trump, scheme, undermin, right, ...</td>\n",
       "      <td>let forget create problems tell donald trump scheme undermine right vote safely</td>\n",
       "      <td>let forget creat problem tell donald trump scheme undermin right vote safe</td>\n",
       "    </tr>\n",
       "    <tr>\n",
       "      <th>4</th>\n",
       "      <td>NaN</td>\n",
       "      <td>There is no greater supporter of Donald Trump in the world than Mark Zucker...</td>\n",
       "      <td>SpeakBravely</td>\n",
       "      <td>Twin Cities, Minnesota</td>\n",
       "      <td>Donald Trump</td>\n",
       "      <td>Minnesota</td>\n",
       "      <td>{'neg': 0.0, 'neu': 0.606, 'pos': 0.394, 'compound': 0.6369}</td>\n",
       "      <td>Positive</td>\n",
       "      <td>there is no greater supporter of donald trump in the world than mark zucker...</td>\n",
       "      <td>[greater, supporter, donald, trump, world, mark, zuckerberg, one, done, elect]</td>\n",
       "      <td>[greater, supporter, donald, trump, world, mark, zuckerberg, one, do, elect]</td>\n",
       "      <td>[greater, support, donald, trump, world, mark, zuckerberg, one, do, elect]</td>\n",
       "      <td>greater supporter donald trump world mark zuckerberg one do elect</td>\n",
       "      <td>greater support donald trump world mark zuckerberg one do elect</td>\n",
       "    </tr>\n",
       "  </tbody>\n",
       "</table>\n",
       "</div>"
      ],
      "text/plain": [
       "   geo  \\\n",
       "0  NaN   \n",
       "1  NaN   \n",
       "2  NaN   \n",
       "3  NaN   \n",
       "4  NaN   \n",
       "\n",
       "                                                                              text  \\\n",
       "0   After the confrontation that cost Walter Wallace Jr. his life set off prote...   \n",
       "1                               \"COVID-19 is still raging. Trump is still lying.\"    \n",
       "2   Donald Trump Jr.: \"Why aren't they talking about deaths? Oh, oh, because th...   \n",
       "3  Let’s not forget who created these problems. Tell Donald Trump his scheme to...   \n",
       "4   There is no greater supporter of Donald Trump in the world than Mark Zucker...   \n",
       "\n",
       "              user                   location       Subject          state  \\\n",
       "0    wheresestela1                 New Jersey  Donald Trump     New Jersey   \n",
       "1  TheFemaleYungin  The Wrong Address, Texas   Donald Trump          Texas   \n",
       "2  KathrynTomashu1           Northborough, MA  Donald Trump  Massachusetts   \n",
       "3         ajserino            New Jersey, USA  Donald Trump     New Jersey   \n",
       "4     SpeakBravely     Twin Cities, Minnesota  Donald Trump      Minnesota   \n",
       "\n",
       "                                                          Polarity Sentiment  \\\n",
       "0     {'neg': 0.448, 'neu': 0.552, 'pos': 0.0, 'compound': -0.743}  Negative   \n",
       "1            {'neg': 0.0, 'neu': 1.0, 'pos': 0.0, 'compound': 0.0}   Neutral   \n",
       "2  {'neg': 0.275, 'neu': 0.634, 'pos': 0.092, 'compound': -0.5574}  Negative   \n",
       "3  {'neg': 0.279, 'neu': 0.545, 'pos': 0.176, 'compound': -0.1779}  Negative   \n",
       "4     {'neg': 0.0, 'neu': 0.606, 'pos': 0.394, 'compound': 0.6369}  Positive   \n",
       "\n",
       "                                                                      cleaned_text  \\\n",
       "0   after the confrontation that cost walter wallace jr  his life set off prote...   \n",
       "1                                covid    is still raging  trump is still lying      \n",
       "2   donald trump jr    why aren t they talking about deaths  oh  oh  because th...   \n",
       "3  let s not forget who created these problems  tell donald trump his scheme to...   \n",
       "4   there is no greater supporter of donald trump in the world than mark zucker...   \n",
       "\n",
       "                                                                    tokenized_text  \\\n",
       "0  [confrontation, cost, walter, wallace, jr, life, set, protests, devolved, ri...   \n",
       "1                                      [covid, still, raging, trump, still, lying]   \n",
       "2      [donald, trump, jr, talking, deaths, oh, oh, number, almost, nothing, gott]   \n",
       "3  [let, forget, created, problems, tell, donald, trump, scheme, undermine, rig...   \n",
       "4   [greater, supporter, donald, trump, world, mark, zuckerberg, one, done, elect]   \n",
       "\n",
       "                                                                   lemmatized_text  \\\n",
       "0  [confrontation, cost, walter, wallace, jr, life, set, protest, devolve, riot...   \n",
       "1                                           [covid, still, rag, trump, still, lie]   \n",
       "2         [donald, trump, jr, talk, deaths, oh, oh, number, almost, nothing, gott]   \n",
       "3  [let, forget, create, problems, tell, donald, trump, scheme, undermine, righ...   \n",
       "4     [greater, supporter, donald, trump, world, mark, zuckerberg, one, do, elect]   \n",
       "\n",
       "                                                                      stemmed_text  \\\n",
       "0  [confront, cost, walter, wallac, jr, life, set, protest, devolv, riot, loot,...   \n",
       "1                                           [covid, still, rag, trump, still, lie]   \n",
       "2             [donald, trump, jr, talk, death, oh, oh, number, almost, noth, gott]   \n",
       "3  [let, forget, creat, problem, tell, donald, trump, scheme, undermin, right, ...   \n",
       "4       [greater, support, donald, trump, world, mark, zuckerberg, one, do, elect]   \n",
       "\n",
       "                                                                 lemmatized_string  \\\n",
       "0     confrontation cost walter wallace jr life set protest devolve riot loot lead   \n",
       "1                                                  covid still rag trump still lie   \n",
       "2                     donald trump jr talk deaths oh oh number almost nothing gott   \n",
       "3  let forget create problems tell donald trump scheme undermine right vote safely   \n",
       "4                greater supporter donald trump world mark zuckerberg one do elect   \n",
       "\n",
       "                                                               stemmed_string  \n",
       "0       confront cost walter wallac jr life set protest devolv riot loot lead  \n",
       "1                                             covid still rag trump still lie  \n",
       "2                    donald trump jr talk death oh oh number almost noth gott  \n",
       "3  let forget creat problem tell donald trump scheme undermin right vote safe  \n",
       "4             greater support donald trump world mark zuckerberg one do elect  "
      ]
     },
     "execution_count": 165,
     "metadata": {},
     "output_type": "execute_result"
    }
   ],
   "source": [
    "tweets_df.head()"
   ]
  },
  {
   "cell_type": "code",
   "execution_count": 166,
   "id": "worth-advancement",
   "metadata": {},
   "outputs": [
    {
     "data": {
      "text/plain": [
       "Neutral     2029\n",
       "Negative    1977\n",
       "Positive    1547\n",
       "Name: Sentiment, dtype: int64"
      ]
     },
     "execution_count": 166,
     "metadata": {},
     "output_type": "execute_result"
    }
   ],
   "source": [
    "tweets_df['Sentiment'].value_counts()"
   ]
  },
  {
   "cell_type": "code",
   "execution_count": 167,
   "id": "returning-facial",
   "metadata": {},
   "outputs": [
    {
     "data": {
      "image/png": "[encoded data removed]",
      "text/plain": [
       "<Figure size 576x432 with 1 Axes>"
      ]
     },
     "metadata": {
      "needs_background": "light"
     },
     "output_type": "display_data"
    }
   ],
   "source": [
    "fig = plt.figure(figsize=(8,6))\n",
    "sns.countplot(x='Sentiment', data=tweets_df, palette='GnBu')\n",
    "fig.suptitle('Total tweets in each class', fontsize=16)\n",
    "fig.savefig('Plots/classes.png')"
   ]
  },
  {
   "cell_type": "code",
   "execution_count": null,
   "id": "destroyed-silicon",
   "metadata": {},
   "outputs": [],
   "source": []
  },
  {
   "cell_type": "code",
   "execution_count": null,
   "id": "dutch-complement",
   "metadata": {},
   "outputs": [],
   "source": []
  },
  {
   "cell_type": "markdown",
   "id": "yellow-thermal",
   "metadata": {},
   "source": [
    "# Text classification"
   ]
  },
  {
   "cell_type": "markdown",
   "id": "clean-tampa",
   "metadata": {},
   "source": [
    "### Split the dataset into train and test "
   ]
  },
  {
   "cell_type": "code",
   "execution_count": 168,
   "id": "inner-wiring",
   "metadata": {},
   "outputs": [],
   "source": [
    "from sklearn.model_selection import train_test_split"
   ]
  },
  {
   "cell_type": "code",
   "execution_count": 169,
   "id": "right-consent",
   "metadata": {},
   "outputs": [],
   "source": [
    "X = tweets_df['lemmatized_string']\n",
    "y = tweets_df['Sentiment']"
   ]
  },
  {
   "cell_type": "code",
   "execution_count": 170,
   "id": "featured-toyota",
   "metadata": {},
   "outputs": [],
   "source": [
    "X_train, X_test, y_train, y_test = train_test_split(X, y, test_size=0.3, random_state=42)"
   ]
  },
  {
   "cell_type": "code",
   "execution_count": 171,
   "id": "severe-librarian",
   "metadata": {},
   "outputs": [],
   "source": [
    "model_scores =[]"
   ]
  },
  {
   "cell_type": "markdown",
   "id": "hollow-conditions",
   "metadata": {},
   "source": [
    "#### Import Pipeline and metrics libraries"
   ]
  },
  {
   "cell_type": "code",
   "execution_count": 172,
   "id": "recognized-examination",
   "metadata": {},
   "outputs": [],
   "source": [
    "from sklearn.pipeline import Pipeline\n",
    "from sklearn.feature_extraction.text import TfidfVectorizer\n",
    "\n",
    "# metrics\n",
    "from sklearn.metrics import classification_report\n",
    "from sklearn.metrics import confusion_matrix\n",
    "from sklearn.metrics import f1_score\n",
    "from sklearn.metrics import accuracy_score\n",
    "from sklearn.metrics import recall_score\n",
    "from sklearn.metrics import precision_score\n",
    "from sklearn.metrics import plot_confusion_matrix"
   ]
  },
  {
   "cell_type": "markdown",
   "id": "looking-vanilla",
   "metadata": {},
   "source": [
    "## Dummy Classifier"
   ]
  },
  {
   "cell_type": "code",
   "execution_count": 173,
   "id": "charitable-diesel",
   "metadata": {},
   "outputs": [],
   "source": [
    "from sklearn.dummy import DummyClassifier"
   ]
  },
  {
   "cell_type": "code",
   "execution_count": 174,
   "id": "actual-methodology",
   "metadata": {},
   "outputs": [],
   "source": [
    "dummy_clf = Pipeline([('tfidf', TfidfVectorizer()), ('clf', DummyClassifier(strategy=\"most_frequent\"))])"
   ]
  },
  {
   "cell_type": "code",
   "execution_count": 175,
   "id": "educated-dairy",
   "metadata": {},
   "outputs": [
    {
     "data": {
      "text/plain": [
       "Pipeline(steps=[('tfidf', TfidfVectorizer()),\n",
       "                ('clf', DummyClassifier(strategy='most_frequent'))])"
      ]
     },
     "execution_count": 175,
     "metadata": {},
     "output_type": "execute_result"
    }
   ],
   "source": [
    "dummy_clf.fit(X_train,y_train)"
   ]
  },
  {
   "cell_type": "code",
   "execution_count": 176,
   "id": "appreciated-festival",
   "metadata": {},
   "outputs": [],
   "source": [
    "predictions = dummy_clf.predict(X_test)"
   ]
  },
  {
   "cell_type": "code",
   "execution_count": 177,
   "id": "judicial-slovak",
   "metadata": {},
   "outputs": [
    {
     "name": "stdout",
     "output_type": "stream",
     "text": [
      "              precision    recall  f1-score   support\n",
      "\n",
      "    Negative       0.00      0.00      0.00       602\n",
      "     Neutral       0.37      1.00      0.54       617\n",
      "    Positive       0.00      0.00      0.00       447\n",
      "\n",
      "    accuracy                           0.37      1666\n",
      "   macro avg       0.12      0.33      0.18      1666\n",
      "weighted avg       0.14      0.37      0.20      1666\n",
      "\n"
     ]
    },
    {
     "name": "stderr",
     "output_type": "stream",
     "text": [
      "c:\\users\\user\\documents\\twittersentimentanalysis\\env\\lib\\site-packages\\sklearn\\metrics\\_classification.py:1245: UndefinedMetricWarning:\n",
      "\n",
      "Precision and F-score are ill-defined and being set to 0.0 in labels with no predicted samples. Use `zero_division` parameter to control this behavior.\n",
      "\n",
      "c:\\users\\user\\documents\\twittersentimentanalysis\\env\\lib\\site-packages\\sklearn\\metrics\\_classification.py:1245: UndefinedMetricWarning:\n",
      "\n",
      "Precision and F-score are ill-defined and being set to 0.0 in labels with no predicted samples. Use `zero_division` parameter to control this behavior.\n",
      "\n",
      "c:\\users\\user\\documents\\twittersentimentanalysis\\env\\lib\\site-packages\\sklearn\\metrics\\_classification.py:1245: UndefinedMetricWarning:\n",
      "\n",
      "Precision and F-score are ill-defined and being set to 0.0 in labels with no predicted samples. Use `zero_division` parameter to control this behavior.\n",
      "\n"
     ]
    }
   ],
   "source": [
    "print(classification_report(y_test,predictions))"
   ]
  },
  {
   "cell_type": "code",
   "execution_count": 178,
   "id": "empirical-referral",
   "metadata": {},
   "outputs": [
    {
     "name": "stdout",
     "output_type": "stream",
     "text": [
      "0.18017228792524456\n"
     ]
    }
   ],
   "source": [
    "print(f1_score(y_test,predictions,average='macro'))"
   ]
  },
  {
   "cell_type": "code",
   "execution_count": 179,
   "id": "smaller-accommodation",
   "metadata": {},
   "outputs": [
    {
     "data": {
      "text/plain": [
       "<sklearn.metrics._plot.confusion_matrix.ConfusionMatrixDisplay at 0x20e6ff6e640>"
      ]
     },
     "execution_count": 179,
     "metadata": {},
     "output_type": "execute_result"
    },
    {
     "data": {
      "image/png": "[encoded data removed]",
      "text/plain": [
       "<Figure size 432x288 with 2 Axes>"
      ]
     },
     "metadata": {
      "needs_background": "light"
     },
     "output_type": "display_data"
    }
   ],
   "source": [
    "plot_confusion_matrix(dummy_clf, X_test, y_test, cmap='Blues')"
   ]
  },
  {
   "cell_type": "markdown",
   "id": "liberal-crime",
   "metadata": {},
   "source": [
    "## Naive Bayes"
   ]
  },
  {
   "cell_type": "code",
   "execution_count": 180,
   "id": "random-clothing",
   "metadata": {},
   "outputs": [],
   "source": [
    "from sklearn.naive_bayes import MultinomialNB\n",
    "\n",
    "text_clf_nb = Pipeline([('tfidf', TfidfVectorizer()), ('clf', MultinomialNB())])"
   ]
  },
  {
   "cell_type": "code",
   "execution_count": 181,
   "id": "mexican-influence",
   "metadata": {},
   "outputs": [
    {
     "data": {
      "text/plain": [
       "Pipeline(steps=[('tfidf', TfidfVectorizer()), ('clf', MultinomialNB())])"
      ]
     },
     "execution_count": 181,
     "metadata": {},
     "output_type": "execute_result"
    }
   ],
   "source": [
    "text_clf_nb.fit(X_train,y_train)"
   ]
  },
  {
   "cell_type": "code",
   "execution_count": 182,
   "id": "attempted-florist",
   "metadata": {},
   "outputs": [],
   "source": [
    "predictions = text_clf_nb.predict(X_test)"
   ]
  },
  {
   "cell_type": "code",
   "execution_count": 183,
   "id": "dimensional-penalty",
   "metadata": {},
   "outputs": [
    {
     "name": "stdout",
     "output_type": "stream",
     "text": [
      "              precision    recall  f1-score   support\n",
      "\n",
      "    Negative       0.91      0.89      0.90       602\n",
      "     Neutral       0.86      0.90      0.88       617\n",
      "    Positive       0.88      0.85      0.86       447\n",
      "\n",
      "    accuracy                           0.89      1666\n",
      "   macro avg       0.89      0.88      0.88      1666\n",
      "weighted avg       0.89      0.89      0.89      1666\n",
      "\n"
     ]
    }
   ],
   "source": [
    "print(classification_report(y_test,predictions))"
   ]
  },
  {
   "cell_type": "code",
   "execution_count": 184,
   "id": "dental-orange",
   "metadata": {},
   "outputs": [
    {
     "name": "stdout",
     "output_type": "stream",
     "text": [
      "0.8835834482688251\n"
     ]
    }
   ],
   "source": [
    "print(f1_score(y_test,predictions,average='macro'))"
   ]
  },
  {
   "cell_type": "code",
   "execution_count": 185,
   "id": "collectible-lincoln",
   "metadata": {},
   "outputs": [
    {
     "data": {
      "image/png": "[encoded data removed]",
      "text/plain": [
       "<Figure size 432x288 with 2 Axes>"
      ]
     },
     "metadata": {
      "needs_background": "light"
     },
     "output_type": "display_data"
    }
   ],
   "source": [
    "plot_confusion_matrix(text_clf_nb, X_test, y_test, cmap='Blues')\n",
    "plt.savefig('Plots/naive_bayes.png')"
   ]
  },
  {
   "cell_type": "code",
   "execution_count": 186,
   "id": "canadian-postage",
   "metadata": {},
   "outputs": [],
   "source": [
    "model_scores.append(f1_score(y_test,predictions,average='macro'))"
   ]
  },
  {
   "cell_type": "markdown",
   "id": "harmful-radio",
   "metadata": {},
   "source": [
    "## Support Vector Machines - SVM"
   ]
  },
  {
   "cell_type": "code",
   "execution_count": 187,
   "id": "acoustic-thursday",
   "metadata": {},
   "outputs": [],
   "source": [
    "from sklearn.svm import SVC\n",
    "\n",
    "text_clf_lsvc = Pipeline([('tfidf', TfidfVectorizer()), ('clf', SVC())])"
   ]
  },
  {
   "cell_type": "code",
   "execution_count": 188,
   "id": "pediatric-sequence",
   "metadata": {},
   "outputs": [
    {
     "data": {
      "text/plain": [
       "Pipeline(steps=[('tfidf', TfidfVectorizer()), ('clf', SVC())])"
      ]
     },
     "execution_count": 188,
     "metadata": {},
     "output_type": "execute_result"
    }
   ],
   "source": [
    "text_clf_lsvc.fit(X_train,y_train)"
   ]
  },
  {
   "cell_type": "code",
   "execution_count": 189,
   "id": "blessed-maldives",
   "metadata": {},
   "outputs": [],
   "source": [
    "predictions = text_clf_lsvc.predict(X_test)"
   ]
  },
  {
   "cell_type": "code",
   "execution_count": 190,
   "id": "forty-married",
   "metadata": {},
   "outputs": [
    {
     "name": "stdout",
     "output_type": "stream",
     "text": [
      "              precision    recall  f1-score   support\n",
      "\n",
      "    Negative       0.95      0.89      0.92       602\n",
      "     Neutral       0.85      0.96      0.91       617\n",
      "    Positive       0.95      0.86      0.91       447\n",
      "\n",
      "    accuracy                           0.91      1666\n",
      "   macro avg       0.92      0.91      0.91      1666\n",
      "weighted avg       0.92      0.91      0.91      1666\n",
      "\n"
     ]
    }
   ],
   "source": [
    "print(classification_report(y_test,predictions))"
   ]
  },
  {
   "cell_type": "code",
   "execution_count": 191,
   "id": "crude-spray",
   "metadata": {},
   "outputs": [
    {
     "name": "stdout",
     "output_type": "stream",
     "text": [
      "0.9103397916627007\n"
     ]
    }
   ],
   "source": [
    "print(f1_score(y_test,predictions,average='macro'))"
   ]
  },
  {
   "cell_type": "code",
   "execution_count": 192,
   "id": "rubber-bathroom",
   "metadata": {},
   "outputs": [
    {
     "data": {
      "image/png": "[encoded data removed]",
      "text/plain": [
       "<Figure size 432x288 with 2 Axes>"
      ]
     },
     "metadata": {
      "needs_background": "light"
     },
     "output_type": "display_data"
    }
   ],
   "source": [
    "plot_confusion_matrix(text_clf_lsvc, X_test, y_test, cmap='Blues')\n",
    "plt.savefig('Plots/SVC.png')"
   ]
  },
  {
   "cell_type": "code",
   "execution_count": 193,
   "id": "rental-walnut",
   "metadata": {},
   "outputs": [],
   "source": [
    "model_scores.append(f1_score(y_test,predictions,average='macro'))"
   ]
  },
  {
   "cell_type": "markdown",
   "id": "traditional-seeker",
   "metadata": {},
   "source": [
    "## Decision tree"
   ]
  },
  {
   "cell_type": "code",
   "execution_count": 194,
   "id": "genuine-headquarters",
   "metadata": {},
   "outputs": [],
   "source": [
    "from sklearn.tree import DecisionTreeClassifier\n",
    "\n",
    "text_clf_tree = Pipeline([('tfidf', TfidfVectorizer()), ('clf', DecisionTreeClassifier())])"
   ]
  },
  {
   "cell_type": "code",
   "execution_count": 195,
   "id": "respective-doctrine",
   "metadata": {},
   "outputs": [
    {
     "data": {
      "text/plain": [
       "Pipeline(steps=[('tfidf', TfidfVectorizer()),\n",
       "                ('clf', DecisionTreeClassifier())])"
      ]
     },
     "execution_count": 195,
     "metadata": {},
     "output_type": "execute_result"
    }
   ],
   "source": [
    "text_clf_tree.fit(X_train,y_train)"
   ]
  },
  {
   "cell_type": "code",
   "execution_count": 196,
   "id": "national-folder",
   "metadata": {},
   "outputs": [],
   "source": [
    "predictions = text_clf_tree.predict(X_test)"
   ]
  },
  {
   "cell_type": "code",
   "execution_count": 197,
   "id": "occasional-staff",
   "metadata": {},
   "outputs": [
    {
     "name": "stdout",
     "output_type": "stream",
     "text": [
      "              precision    recall  f1-score   support\n",
      "\n",
      "    Negative       0.92      0.89      0.90       602\n",
      "     Neutral       0.85      0.92      0.88       617\n",
      "    Positive       0.92      0.85      0.88       447\n",
      "\n",
      "    accuracy                           0.89      1666\n",
      "   macro avg       0.90      0.89      0.89      1666\n",
      "weighted avg       0.89      0.89      0.89      1666\n",
      "\n"
     ]
    }
   ],
   "source": [
    "print(classification_report(y_test,predictions))"
   ]
  },
  {
   "cell_type": "code",
   "execution_count": 198,
   "id": "proper-kenya",
   "metadata": {},
   "outputs": [
    {
     "name": "stdout",
     "output_type": "stream",
     "text": [
      "0.8897527987490769\n"
     ]
    }
   ],
   "source": [
    "print(f1_score(y_test,predictions,average='macro'))"
   ]
  },
  {
   "cell_type": "code",
   "execution_count": 199,
   "id": "thermal-kennedy",
   "metadata": {},
   "outputs": [
    {
     "data": {
      "image/png": "[encoded data removed]",
      "text/plain": [
       "<Figure size 432x288 with 2 Axes>"
      ]
     },
     "metadata": {
      "needs_background": "light"
     },
     "output_type": "display_data"
    }
   ],
   "source": [
    "plot_confusion_matrix(text_clf_tree, X_test, y_test, cmap='Blues')\n",
    "plt.savefig('Plots/decision_trees.png')"
   ]
  },
  {
   "cell_type": "code",
   "execution_count": 200,
   "id": "sacred-throat",
   "metadata": {},
   "outputs": [],
   "source": [
    "model_scores.append(f1_score(y_test,predictions,average='macro'))"
   ]
  },
  {
   "cell_type": "markdown",
   "id": "former-police",
   "metadata": {},
   "source": [
    "## K Nearest Neighors"
   ]
  },
  {
   "cell_type": "code",
   "execution_count": 201,
   "id": "compact-hazard",
   "metadata": {},
   "outputs": [],
   "source": [
    "from sklearn.neighbors import KNeighborsClassifier\n",
    "\n",
    "text_clf_knn = Pipeline([('tfidf', TfidfVectorizer()), ('clf', KNeighborsClassifier())])"
   ]
  },
  {
   "cell_type": "code",
   "execution_count": 202,
   "id": "powered-flour",
   "metadata": {},
   "outputs": [
    {
     "data": {
      "text/plain": [
       "Pipeline(steps=[('tfidf', TfidfVectorizer()), ('clf', KNeighborsClassifier())])"
      ]
     },
     "execution_count": 202,
     "metadata": {},
     "output_type": "execute_result"
    }
   ],
   "source": [
    "text_clf_knn.fit(X_train,y_train)"
   ]
  },
  {
   "cell_type": "code",
   "execution_count": 203,
   "id": "bound-springer",
   "metadata": {},
   "outputs": [],
   "source": [
    "predictions = text_clf_knn.predict(X_test)"
   ]
  },
  {
   "cell_type": "code",
   "execution_count": 204,
   "id": "conceptual-necklace",
   "metadata": {},
   "outputs": [
    {
     "name": "stdout",
     "output_type": "stream",
     "text": [
      "              precision    recall  f1-score   support\n",
      "\n",
      "    Negative       0.96      0.80      0.88       602\n",
      "     Neutral       0.73      0.97      0.83       617\n",
      "    Positive       0.96      0.72      0.82       447\n",
      "\n",
      "    accuracy                           0.84      1666\n",
      "   macro avg       0.88      0.83      0.84      1666\n",
      "weighted avg       0.87      0.84      0.85      1666\n",
      "\n"
     ]
    }
   ],
   "source": [
    "print(classification_report(y_test,predictions))"
   ]
  },
  {
   "cell_type": "code",
   "execution_count": 205,
   "id": "dressed-sleeping",
   "metadata": {},
   "outputs": [
    {
     "name": "stdout",
     "output_type": "stream",
     "text": [
      "0.843637002439016\n"
     ]
    }
   ],
   "source": [
    "print(f1_score(y_test,predictions,average='macro'))"
   ]
  },
  {
   "cell_type": "code",
   "execution_count": 206,
   "id": "grave-boating",
   "metadata": {},
   "outputs": [
    {
     "data": {
      "image/png": "[encoded data removed]",
      "text/plain": [
       "<Figure size 432x288 with 2 Axes>"
      ]
     },
     "metadata": {
      "needs_background": "light"
     },
     "output_type": "display_data"
    }
   ],
   "source": [
    "plot_confusion_matrix(text_clf_knn, X_test, y_test, cmap='Blues')\n",
    "plt.savefig('Plots/knn.png')"
   ]
  },
  {
   "cell_type": "code",
   "execution_count": 207,
   "id": "pleased-invitation",
   "metadata": {},
   "outputs": [],
   "source": [
    "model_scores.append(f1_score(y_test,predictions,average='macro'))"
   ]
  },
  {
   "cell_type": "markdown",
   "id": "extended-happiness",
   "metadata": {},
   "source": [
    "# Ensemble models"
   ]
  },
  {
   "cell_type": "markdown",
   "id": "animated-enforcement",
   "metadata": {},
   "source": [
    "### Random Forest"
   ]
  },
  {
   "cell_type": "code",
   "execution_count": 208,
   "id": "refined-association",
   "metadata": {},
   "outputs": [],
   "source": [
    "from sklearn.ensemble import RandomForestClassifier\n",
    "\n",
    "text_clf_randfo = Pipeline([('tfidf', TfidfVectorizer()), ('clf', RandomForestClassifier())])"
   ]
  },
  {
   "cell_type": "code",
   "execution_count": 209,
   "id": "outstanding-roulette",
   "metadata": {},
   "outputs": [
    {
     "data": {
      "text/plain": [
       "Pipeline(steps=[('tfidf', TfidfVectorizer()),\n",
       "                ('clf', RandomForestClassifier())])"
      ]
     },
     "execution_count": 209,
     "metadata": {},
     "output_type": "execute_result"
    }
   ],
   "source": [
    "text_clf_randfo.fit(X_train, y_train)"
   ]
  },
  {
   "cell_type": "code",
   "execution_count": 210,
   "id": "national-offset",
   "metadata": {},
   "outputs": [],
   "source": [
    "predictions = text_clf_randfo.predict(X_test)"
   ]
  },
  {
   "cell_type": "code",
   "execution_count": 211,
   "id": "trained-communist",
   "metadata": {},
   "outputs": [
    {
     "name": "stdout",
     "output_type": "stream",
     "text": [
      "              precision    recall  f1-score   support\n",
      "\n",
      "    Negative       0.98      0.86      0.91       602\n",
      "     Neutral       0.81      0.98      0.89       617\n",
      "    Positive       0.95      0.83      0.89       447\n",
      "\n",
      "    accuracy                           0.90      1666\n",
      "   macro avg       0.91      0.89      0.90      1666\n",
      "weighted avg       0.91      0.90      0.90      1666\n",
      "\n"
     ]
    }
   ],
   "source": [
    "print(classification_report(y_test,predictions))"
   ]
  },
  {
   "cell_type": "code",
   "execution_count": 212,
   "id": "artistic-belief",
   "metadata": {},
   "outputs": [
    {
     "name": "stdout",
     "output_type": "stream",
     "text": [
      "0.8964988384950298\n"
     ]
    }
   ],
   "source": [
    "print(f1_score(y_test,predictions,average='macro'))"
   ]
  },
  {
   "cell_type": "code",
   "execution_count": 213,
   "id": "protective-force",
   "metadata": {},
   "outputs": [
    {
     "data": {
      "image/png": "[encoded data removed]",
      "text/plain": [
       "<Figure size 432x288 with 2 Axes>"
      ]
     },
     "metadata": {
      "needs_background": "light"
     },
     "output_type": "display_data"
    }
   ],
   "source": [
    "plot_confusion_matrix(text_clf_randfo, X_test, y_test, cmap='Blues')\n",
    "plt.savefig('Plots/random_forests.png')"
   ]
  },
  {
   "cell_type": "code",
   "execution_count": 214,
   "id": "retained-enemy",
   "metadata": {},
   "outputs": [],
   "source": [
    "model_scores.append(f1_score(y_test,predictions,average='macro'))"
   ]
  },
  {
   "cell_type": "markdown",
   "id": "historical-hamilton",
   "metadata": {},
   "source": [
    "### Adaboost"
   ]
  },
  {
   "cell_type": "code",
   "execution_count": 215,
   "id": "dried-genesis",
   "metadata": {},
   "outputs": [],
   "source": [
    "from sklearn.ensemble import AdaBoostClassifier\n",
    "\n",
    "text_clf_ada = Pipeline([('tfidf', TfidfVectorizer()), ('clf', AdaBoostClassifier())])"
   ]
  },
  {
   "cell_type": "code",
   "execution_count": 216,
   "id": "sticky-cliff",
   "metadata": {},
   "outputs": [
    {
     "data": {
      "text/plain": [
       "Pipeline(steps=[('tfidf', TfidfVectorizer()), ('clf', AdaBoostClassifier())])"
      ]
     },
     "execution_count": 216,
     "metadata": {},
     "output_type": "execute_result"
    }
   ],
   "source": [
    "text_clf_ada.fit(X_train, y_train)"
   ]
  },
  {
   "cell_type": "code",
   "execution_count": 217,
   "id": "neutral-pacific",
   "metadata": {},
   "outputs": [],
   "source": [
    "predictions = text_clf_ada.predict(X_test)"
   ]
  },
  {
   "cell_type": "code",
   "execution_count": 218,
   "id": "refined-investment",
   "metadata": {},
   "outputs": [
    {
     "name": "stdout",
     "output_type": "stream",
     "text": [
      "              precision    recall  f1-score   support\n",
      "\n",
      "    Negative       0.96      0.66      0.79       602\n",
      "     Neutral       0.68      0.97      0.80       617\n",
      "    Positive       0.93      0.76      0.84       447\n",
      "\n",
      "    accuracy                           0.80      1666\n",
      "   macro avg       0.86      0.80      0.81      1666\n",
      "weighted avg       0.85      0.80      0.80      1666\n",
      "\n"
     ]
    }
   ],
   "source": [
    "print(classification_report(y_test,predictions))"
   ]
  },
  {
   "cell_type": "code",
   "execution_count": 219,
   "id": "fresh-reverse",
   "metadata": {},
   "outputs": [
    {
     "name": "stdout",
     "output_type": "stream",
     "text": [
      "0.8062145748015587\n"
     ]
    }
   ],
   "source": [
    "print(f1_score(y_test,predictions,average='macro'))"
   ]
  },
  {
   "cell_type": "code",
   "execution_count": 220,
   "id": "taken-prevention",
   "metadata": {},
   "outputs": [
    {
     "data": {
      "image/png": "[encoded data removed]",
      "text/plain": [
       "<Figure size 432x288 with 2 Axes>"
      ]
     },
     "metadata": {
      "needs_background": "light"
     },
     "output_type": "display_data"
    }
   ],
   "source": [
    "plot_confusion_matrix(text_clf_ada, X_test, y_test, cmap='Blues')\n",
    "plt.savefig('Plots/adaboost.png')"
   ]
  },
  {
   "cell_type": "code",
   "execution_count": 221,
   "id": "funny-basics",
   "metadata": {},
   "outputs": [],
   "source": [
    "model_scores.append(f1_score(y_test,predictions,average='macro'))"
   ]
  },
  {
   "cell_type": "markdown",
   "id": "acceptable-gardening",
   "metadata": {},
   "source": [
    "# Models F1 Score"
   ]
  },
  {
   "cell_type": "code",
   "execution_count": 222,
   "id": "successful-poison",
   "metadata": {},
   "outputs": [],
   "source": [
    "names = ['Multinomial Naive Bayes', 'SVC', 'Decision Trees', 'KNN', 'Random Forests', 'Adaboost']\n",
    "models_scores = pd.DataFrame(zip(names,model_scores), columns=['Model Name', 'F1 Score (macro)'])"
   ]
  },
  {
   "cell_type": "code",
   "execution_count": 223,
   "id": "failing-pacific",
   "metadata": {},
   "outputs": [
    {
     "data": {
      "text/html": [
       "<div>\n",
       "<style scoped>\n",
       "    .dataframe tbody tr th:only-of-type {\n",
       "        vertical-align: middle;\n",
       "    }\n",
       "\n",
       "    .dataframe tbody tr th {\n",
       "        vertical-align: top;\n",
       "    }\n",
       "\n",
       "    .dataframe thead th {\n",
       "        text-align: right;\n",
       "    }\n",
       "</style>\n",
       "<table border=\"1\" class=\"dataframe\">\n",
       "  <thead>\n",
       "    <tr style=\"text-align: right;\">\n",
       "      <th></th>\n",
       "      <th>Model Name</th>\n",
       "      <th>F1 Score (macro)</th>\n",
       "    </tr>\n",
       "  </thead>\n",
       "  <tbody>\n",
       "    <tr>\n",
       "      <th>0</th>\n",
       "      <td>Multinomial Naive Bayes</td>\n",
       "      <td>0.883583</td>\n",
       "    </tr>\n",
       "    <tr>\n",
       "      <th>1</th>\n",
       "      <td>SVC</td>\n",
       "      <td>0.910340</td>\n",
       "    </tr>\n",
       "    <tr>\n",
       "      <th>2</th>\n",
       "      <td>Decision Trees</td>\n",
       "      <td>0.889753</td>\n",
       "    </tr>\n",
       "    <tr>\n",
       "      <th>3</th>\n",
       "      <td>KNN</td>\n",
       "      <td>0.843637</td>\n",
       "    </tr>\n",
       "    <tr>\n",
       "      <th>4</th>\n",
       "      <td>Random Forests</td>\n",
       "      <td>0.896499</td>\n",
       "    </tr>\n",
       "    <tr>\n",
       "      <th>5</th>\n",
       "      <td>Adaboost</td>\n",
       "      <td>0.806215</td>\n",
       "    </tr>\n",
       "  </tbody>\n",
       "</table>\n",
       "</div>"
      ],
      "text/plain": [
       "                Model Name  F1 Score (macro)\n",
       "0  Multinomial Naive Bayes          0.883583\n",
       "1                      SVC          0.910340\n",
       "2           Decision Trees          0.889753\n",
       "3                      KNN          0.843637\n",
       "4           Random Forests          0.896499\n",
       "5                 Adaboost          0.806215"
      ]
     },
     "execution_count": 223,
     "metadata": {},
     "output_type": "execute_result"
    }
   ],
   "source": [
    "models_scores"
   ]
  },
  {
   "cell_type": "markdown",
   "id": "commercial-agreement",
   "metadata": {},
   "source": [
    "# Hypertune parameters with GridSearchCV"
   ]
  },
  {
   "cell_type": "markdown",
   "id": "organizational-bailey",
   "metadata": {},
   "source": [
    "### SVM"
   ]
  },
  {
   "cell_type": "code",
   "execution_count": 224,
   "id": "therapeutic-ground",
   "metadata": {},
   "outputs": [],
   "source": [
    "from sklearn.model_selection import GridSearchCV"
   ]
  },
  {
   "cell_type": "code",
   "execution_count": 225,
   "id": "informative-wallet",
   "metadata": {},
   "outputs": [
    {
     "name": "stderr",
     "output_type": "stream",
     "text": [
      "c:\\users\\user\\documents\\twittersentimentanalysis\\env\\lib\\site-packages\\sklearn\\model_selection\\_validation.py:610: FitFailedWarning:\n",
      "\n",
      "Estimator fit failed. The score on this train-test partition for these parameters will be set to nan. Details: \n",
      "Traceback (most recent call last):\n",
      "  File \"c:\\users\\user\\documents\\twittersentimentanalysis\\env\\lib\\site-packages\\sklearn\\model_selection\\_validation.py\", line 593, in _fit_and_score\n",
      "    estimator.fit(X_train, y_train, **fit_params)\n",
      "  File \"c:\\users\\user\\documents\\twittersentimentanalysis\\env\\lib\\site-packages\\sklearn\\pipeline.py\", line 346, in fit\n",
      "    self._final_estimator.fit(Xt, y, **fit_params_last_step)\n",
      "  File \"c:\\users\\user\\documents\\twittersentimentanalysis\\env\\lib\\site-packages\\sklearn\\svm\\_base.py\", line 173, in fit\n",
      "    y = self._validate_targets(y)\n",
      "  File \"c:\\users\\user\\documents\\twittersentimentanalysis\\env\\lib\\site-packages\\sklearn\\svm\\_base.py\", line 555, in _validate_targets\n",
      "    self.class_weight_ = compute_class_weight(self.class_weight,\n",
      "  File \"c:\\users\\user\\documents\\twittersentimentanalysis\\env\\lib\\site-packages\\sklearn\\utils\\validation.py\", line 63, in inner_f\n",
      "    return f(*args, **kwargs)\n",
      "  File \"c:\\users\\user\\documents\\twittersentimentanalysis\\env\\lib\\site-packages\\sklearn\\utils\\class_weight.py\", line 63, in compute_class_weight\n",
      "    raise ValueError(\"class_weight must be dict, 'balanced', or None,\"\n",
      "ValueError: class_weight must be dict, 'balanced', or None, got: 'none'\n",
      "\n",
      "\n",
      "c:\\users\\user\\documents\\twittersentimentanalysis\\env\\lib\\site-packages\\sklearn\\model_selection\\_validation.py:610: FitFailedWarning:\n",
      "\n",
      "Estimator fit failed. The score on this train-test partition for these parameters will be set to nan. Details: \n",
      "Traceback (most recent call last):\n",
      "  File \"c:\\users\\user\\documents\\twittersentimentanalysis\\env\\lib\\site-packages\\sklearn\\model_selection\\_validation.py\", line 593, in _fit_and_score\n",
      "    estimator.fit(X_train, y_train, **fit_params)\n",
      "  File \"c:\\users\\user\\documents\\twittersentimentanalysis\\env\\lib\\site-packages\\sklearn\\pipeline.py\", line 346, in fit\n",
      "    self._final_estimator.fit(Xt, y, **fit_params_last_step)\n",
      "  File \"c:\\users\\user\\documents\\twittersentimentanalysis\\env\\lib\\site-packages\\sklearn\\svm\\_base.py\", line 173, in fit\n",
      "    y = self._validate_targets(y)\n",
      "  File \"c:\\users\\user\\documents\\twittersentimentanalysis\\env\\lib\\site-packages\\sklearn\\svm\\_base.py\", line 555, in _validate_targets\n",
      "    self.class_weight_ = compute_class_weight(self.class_weight,\n",
      "  File \"c:\\users\\user\\documents\\twittersentimentanalysis\\env\\lib\\site-packages\\sklearn\\utils\\validation.py\", line 63, in inner_f\n",
      "    return f(*args, **kwargs)\n",
      "  File \"c:\\users\\user\\documents\\twittersentimentanalysis\\env\\lib\\site-packages\\sklearn\\utils\\class_weight.py\", line 63, in compute_class_weight\n",
      "    raise ValueError(\"class_weight must be dict, 'balanced', or None,\"\n",
      "ValueError: class_weight must be dict, 'balanced', or None, got: 'none'\n",
      "\n",
      "\n",
      "c:\\users\\user\\documents\\twittersentimentanalysis\\env\\lib\\site-packages\\sklearn\\model_selection\\_validation.py:610: FitFailedWarning:\n",
      "\n",
      "Estimator fit failed. The score on this train-test partition for these parameters will be set to nan. Details: \n",
      "Traceback (most recent call last):\n",
      "  File \"c:\\users\\user\\documents\\twittersentimentanalysis\\env\\lib\\site-packages\\sklearn\\model_selection\\_validation.py\", line 593, in _fit_and_score\n",
      "    estimator.fit(X_train, y_train, **fit_params)\n",
      "  File \"c:\\users\\user\\documents\\twittersentimentanalysis\\env\\lib\\site-packages\\sklearn\\pipeline.py\", line 346, in fit\n",
      "    self._final_estimator.fit(Xt, y, **fit_params_last_step)\n",
      "  File \"c:\\users\\user\\documents\\twittersentimentanalysis\\env\\lib\\site-packages\\sklearn\\svm\\_base.py\", line 173, in fit\n",
      "    y = self._validate_targets(y)\n",
      "  File \"c:\\users\\user\\documents\\twittersentimentanalysis\\env\\lib\\site-packages\\sklearn\\svm\\_base.py\", line 555, in _validate_targets\n",
      "    self.class_weight_ = compute_class_weight(self.class_weight,\n",
      "  File \"c:\\users\\user\\documents\\twittersentimentanalysis\\env\\lib\\site-packages\\sklearn\\utils\\validation.py\", line 63, in inner_f\n",
      "    return f(*args, **kwargs)\n",
      "  File \"c:\\users\\user\\documents\\twittersentimentanalysis\\env\\lib\\site-packages\\sklearn\\utils\\class_weight.py\", line 63, in compute_class_weight\n",
      "    raise ValueError(\"class_weight must be dict, 'balanced', or None,\"\n",
      "ValueError: class_weight must be dict, 'balanced', or None, got: 'none'\n",
      "\n",
      "\n",
      "c:\\users\\user\\documents\\twittersentimentanalysis\\env\\lib\\site-packages\\sklearn\\model_selection\\_validation.py:610: FitFailedWarning:\n",
      "\n",
      "Estimator fit failed. The score on this train-test partition for these parameters will be set to nan. Details: \n",
      "Traceback (most recent call last):\n",
      "  File \"c:\\users\\user\\documents\\twittersentimentanalysis\\env\\lib\\site-packages\\sklearn\\model_selection\\_validation.py\", line 593, in _fit_and_score\n",
      "    estimator.fit(X_train, y_train, **fit_params)\n",
      "  File \"c:\\users\\user\\documents\\twittersentimentanalysis\\env\\lib\\site-packages\\sklearn\\pipeline.py\", line 346, in fit\n",
      "    self._final_estimator.fit(Xt, y, **fit_params_last_step)\n",
      "  File \"c:\\users\\user\\documents\\twittersentimentanalysis\\env\\lib\\site-packages\\sklearn\\svm\\_base.py\", line 173, in fit\n",
      "    y = self._validate_targets(y)\n",
      "  File \"c:\\users\\user\\documents\\twittersentimentanalysis\\env\\lib\\site-packages\\sklearn\\svm\\_base.py\", line 555, in _validate_targets\n",
      "    self.class_weight_ = compute_class_weight(self.class_weight,\n",
      "  File \"c:\\users\\user\\documents\\twittersentimentanalysis\\env\\lib\\site-packages\\sklearn\\utils\\validation.py\", line 63, in inner_f\n",
      "    return f(*args, **kwargs)\n",
      "  File \"c:\\users\\user\\documents\\twittersentimentanalysis\\env\\lib\\site-packages\\sklearn\\utils\\class_weight.py\", line 63, in compute_class_weight\n",
      "    raise ValueError(\"class_weight must be dict, 'balanced', or None,\"\n",
      "ValueError: class_weight must be dict, 'balanced', or None, got: 'none'\n",
      "\n",
      "\n",
      "c:\\users\\user\\documents\\twittersentimentanalysis\\env\\lib\\site-packages\\sklearn\\model_selection\\_validation.py:610: FitFailedWarning:\n",
      "\n",
      "Estimator fit failed. The score on this train-test partition for these parameters will be set to nan. Details: \n",
      "Traceback (most recent call last):\n",
      "  File \"c:\\users\\user\\documents\\twittersentimentanalysis\\env\\lib\\site-packages\\sklearn\\model_selection\\_validation.py\", line 593, in _fit_and_score\n",
      "    estimator.fit(X_train, y_train, **fit_params)\n",
      "  File \"c:\\users\\user\\documents\\twittersentimentanalysis\\env\\lib\\site-packages\\sklearn\\pipeline.py\", line 346, in fit\n",
      "    self._final_estimator.fit(Xt, y, **fit_params_last_step)\n",
      "  File \"c:\\users\\user\\documents\\twittersentimentanalysis\\env\\lib\\site-packages\\sklearn\\svm\\_base.py\", line 173, in fit\n",
      "    y = self._validate_targets(y)\n",
      "  File \"c:\\users\\user\\documents\\twittersentimentanalysis\\env\\lib\\site-packages\\sklearn\\svm\\_base.py\", line 555, in _validate_targets\n",
      "    self.class_weight_ = compute_class_weight(self.class_weight,\n",
      "  File \"c:\\users\\user\\documents\\twittersentimentanalysis\\env\\lib\\site-packages\\sklearn\\utils\\validation.py\", line 63, in inner_f\n",
      "    return f(*args, **kwargs)\n",
      "  File \"c:\\users\\user\\documents\\twittersentimentanalysis\\env\\lib\\site-packages\\sklearn\\utils\\class_weight.py\", line 63, in compute_class_weight\n",
      "    raise ValueError(\"class_weight must be dict, 'balanced', or None,\"\n",
      "ValueError: class_weight must be dict, 'balanced', or None, got: 'none'\n",
      "\n",
      "\n",
      "c:\\users\\user\\documents\\twittersentimentanalysis\\env\\lib\\site-packages\\sklearn\\model_selection\\_validation.py:610: FitFailedWarning:\n",
      "\n",
      "Estimator fit failed. The score on this train-test partition for these parameters will be set to nan. Details: \n",
      "Traceback (most recent call last):\n",
      "  File \"c:\\users\\user\\documents\\twittersentimentanalysis\\env\\lib\\site-packages\\sklearn\\model_selection\\_validation.py\", line 593, in _fit_and_score\n",
      "    estimator.fit(X_train, y_train, **fit_params)\n",
      "  File \"c:\\users\\user\\documents\\twittersentimentanalysis\\env\\lib\\site-packages\\sklearn\\pipeline.py\", line 346, in fit\n",
      "    self._final_estimator.fit(Xt, y, **fit_params_last_step)\n",
      "  File \"c:\\users\\user\\documents\\twittersentimentanalysis\\env\\lib\\site-packages\\sklearn\\svm\\_base.py\", line 173, in fit\n",
      "    y = self._validate_targets(y)\n",
      "  File \"c:\\users\\user\\documents\\twittersentimentanalysis\\env\\lib\\site-packages\\sklearn\\svm\\_base.py\", line 555, in _validate_targets\n",
      "    self.class_weight_ = compute_class_weight(self.class_weight,\n",
      "  File \"c:\\users\\user\\documents\\twittersentimentanalysis\\env\\lib\\site-packages\\sklearn\\utils\\validation.py\", line 63, in inner_f\n",
      "    return f(*args, **kwargs)\n",
      "  File \"c:\\users\\user\\documents\\twittersentimentanalysis\\env\\lib\\site-packages\\sklearn\\utils\\class_weight.py\", line 63, in compute_class_weight\n",
      "    raise ValueError(\"class_weight must be dict, 'balanced', or None,\"\n",
      "ValueError: class_weight must be dict, 'balanced', or None, got: 'none'\n",
      "\n",
      "\n",
      "c:\\users\\user\\documents\\twittersentimentanalysis\\env\\lib\\site-packages\\sklearn\\model_selection\\_validation.py:610: FitFailedWarning:\n",
      "\n",
      "Estimator fit failed. The score on this train-test partition for these parameters will be set to nan. Details: \n",
      "Traceback (most recent call last):\n",
      "  File \"c:\\users\\user\\documents\\twittersentimentanalysis\\env\\lib\\site-packages\\sklearn\\model_selection\\_validation.py\", line 593, in _fit_and_score\n",
      "    estimator.fit(X_train, y_train, **fit_params)\n",
      "  File \"c:\\users\\user\\documents\\twittersentimentanalysis\\env\\lib\\site-packages\\sklearn\\pipeline.py\", line 346, in fit\n",
      "    self._final_estimator.fit(Xt, y, **fit_params_last_step)\n",
      "  File \"c:\\users\\user\\documents\\twittersentimentanalysis\\env\\lib\\site-packages\\sklearn\\svm\\_base.py\", line 173, in fit\n",
      "    y = self._validate_targets(y)\n",
      "  File \"c:\\users\\user\\documents\\twittersentimentanalysis\\env\\lib\\site-packages\\sklearn\\svm\\_base.py\", line 555, in _validate_targets\n",
      "    self.class_weight_ = compute_class_weight(self.class_weight,\n",
      "  File \"c:\\users\\user\\documents\\twittersentimentanalysis\\env\\lib\\site-packages\\sklearn\\utils\\validation.py\", line 63, in inner_f\n",
      "    return f(*args, **kwargs)\n",
      "  File \"c:\\users\\user\\documents\\twittersentimentanalysis\\env\\lib\\site-packages\\sklearn\\utils\\class_weight.py\", line 63, in compute_class_weight\n",
      "    raise ValueError(\"class_weight must be dict, 'balanced', or None,\"\n",
      "ValueError: class_weight must be dict, 'balanced', or None, got: 'none'\n",
      "\n",
      "\n",
      "c:\\users\\user\\documents\\twittersentimentanalysis\\env\\lib\\site-packages\\sklearn\\model_selection\\_validation.py:610: FitFailedWarning:\n",
      "\n",
      "Estimator fit failed. The score on this train-test partition for these parameters will be set to nan. Details: \n",
      "Traceback (most recent call last):\n",
      "  File \"c:\\users\\user\\documents\\twittersentimentanalysis\\env\\lib\\site-packages\\sklearn\\model_selection\\_validation.py\", line 593, in _fit_and_score\n",
      "    estimator.fit(X_train, y_train, **fit_params)\n",
      "  File \"c:\\users\\user\\documents\\twittersentimentanalysis\\env\\lib\\site-packages\\sklearn\\pipeline.py\", line 346, in fit\n",
      "    self._final_estimator.fit(Xt, y, **fit_params_last_step)\n",
      "  File \"c:\\users\\user\\documents\\twittersentimentanalysis\\env\\lib\\site-packages\\sklearn\\svm\\_base.py\", line 173, in fit\n",
      "    y = self._validate_targets(y)\n",
      "  File \"c:\\users\\user\\documents\\twittersentimentanalysis\\env\\lib\\site-packages\\sklearn\\svm\\_base.py\", line 555, in _validate_targets\n",
      "    self.class_weight_ = compute_class_weight(self.class_weight,\n",
      "  File \"c:\\users\\user\\documents\\twittersentimentanalysis\\env\\lib\\site-packages\\sklearn\\utils\\validation.py\", line 63, in inner_f\n",
      "    return f(*args, **kwargs)\n",
      "  File \"c:\\users\\user\\documents\\twittersentimentanalysis\\env\\lib\\site-packages\\sklearn\\utils\\class_weight.py\", line 63, in compute_class_weight\n",
      "    raise ValueError(\"class_weight must be dict, 'balanced', or None,\"\n",
      "ValueError: class_weight must be dict, 'balanced', or None, got: 'none'\n",
      "\n",
      "\n"
     ]
    },
    {
     "name": "stderr",
     "output_type": "stream",
     "text": [
      "c:\\users\\user\\documents\\twittersentimentanalysis\\env\\lib\\site-packages\\sklearn\\model_selection\\_validation.py:610: FitFailedWarning:\n",
      "\n",
      "Estimator fit failed. The score on this train-test partition for these parameters will be set to nan. Details: \n",
      "Traceback (most recent call last):\n",
      "  File \"c:\\users\\user\\documents\\twittersentimentanalysis\\env\\lib\\site-packages\\sklearn\\model_selection\\_validation.py\", line 593, in _fit_and_score\n",
      "    estimator.fit(X_train, y_train, **fit_params)\n",
      "  File \"c:\\users\\user\\documents\\twittersentimentanalysis\\env\\lib\\site-packages\\sklearn\\pipeline.py\", line 346, in fit\n",
      "    self._final_estimator.fit(Xt, y, **fit_params_last_step)\n",
      "  File \"c:\\users\\user\\documents\\twittersentimentanalysis\\env\\lib\\site-packages\\sklearn\\svm\\_base.py\", line 173, in fit\n",
      "    y = self._validate_targets(y)\n",
      "  File \"c:\\users\\user\\documents\\twittersentimentanalysis\\env\\lib\\site-packages\\sklearn\\svm\\_base.py\", line 555, in _validate_targets\n",
      "    self.class_weight_ = compute_class_weight(self.class_weight,\n",
      "  File \"c:\\users\\user\\documents\\twittersentimentanalysis\\env\\lib\\site-packages\\sklearn\\utils\\validation.py\", line 63, in inner_f\n",
      "    return f(*args, **kwargs)\n",
      "  File \"c:\\users\\user\\documents\\twittersentimentanalysis\\env\\lib\\site-packages\\sklearn\\utils\\class_weight.py\", line 63, in compute_class_weight\n",
      "    raise ValueError(\"class_weight must be dict, 'balanced', or None,\"\n",
      "ValueError: class_weight must be dict, 'balanced', or None, got: 'none'\n",
      "\n",
      "\n",
      "c:\\users\\user\\documents\\twittersentimentanalysis\\env\\lib\\site-packages\\sklearn\\model_selection\\_validation.py:610: FitFailedWarning:\n",
      "\n",
      "Estimator fit failed. The score on this train-test partition for these parameters will be set to nan. Details: \n",
      "Traceback (most recent call last):\n",
      "  File \"c:\\users\\user\\documents\\twittersentimentanalysis\\env\\lib\\site-packages\\sklearn\\model_selection\\_validation.py\", line 593, in _fit_and_score\n",
      "    estimator.fit(X_train, y_train, **fit_params)\n",
      "  File \"c:\\users\\user\\documents\\twittersentimentanalysis\\env\\lib\\site-packages\\sklearn\\pipeline.py\", line 346, in fit\n",
      "    self._final_estimator.fit(Xt, y, **fit_params_last_step)\n",
      "  File \"c:\\users\\user\\documents\\twittersentimentanalysis\\env\\lib\\site-packages\\sklearn\\svm\\_base.py\", line 173, in fit\n",
      "    y = self._validate_targets(y)\n",
      "  File \"c:\\users\\user\\documents\\twittersentimentanalysis\\env\\lib\\site-packages\\sklearn\\svm\\_base.py\", line 555, in _validate_targets\n",
      "    self.class_weight_ = compute_class_weight(self.class_weight,\n",
      "  File \"c:\\users\\user\\documents\\twittersentimentanalysis\\env\\lib\\site-packages\\sklearn\\utils\\validation.py\", line 63, in inner_f\n",
      "    return f(*args, **kwargs)\n",
      "  File \"c:\\users\\user\\documents\\twittersentimentanalysis\\env\\lib\\site-packages\\sklearn\\utils\\class_weight.py\", line 63, in compute_class_weight\n",
      "    raise ValueError(\"class_weight must be dict, 'balanced', or None,\"\n",
      "ValueError: class_weight must be dict, 'balanced', or None, got: 'none'\n",
      "\n",
      "\n",
      "c:\\users\\user\\documents\\twittersentimentanalysis\\env\\lib\\site-packages\\sklearn\\model_selection\\_validation.py:610: FitFailedWarning:\n",
      "\n",
      "Estimator fit failed. The score on this train-test partition for these parameters will be set to nan. Details: \n",
      "Traceback (most recent call last):\n",
      "  File \"c:\\users\\user\\documents\\twittersentimentanalysis\\env\\lib\\site-packages\\sklearn\\model_selection\\_validation.py\", line 593, in _fit_and_score\n",
      "    estimator.fit(X_train, y_train, **fit_params)\n",
      "  File \"c:\\users\\user\\documents\\twittersentimentanalysis\\env\\lib\\site-packages\\sklearn\\pipeline.py\", line 346, in fit\n",
      "    self._final_estimator.fit(Xt, y, **fit_params_last_step)\n",
      "  File \"c:\\users\\user\\documents\\twittersentimentanalysis\\env\\lib\\site-packages\\sklearn\\svm\\_base.py\", line 173, in fit\n",
      "    y = self._validate_targets(y)\n",
      "  File \"c:\\users\\user\\documents\\twittersentimentanalysis\\env\\lib\\site-packages\\sklearn\\svm\\_base.py\", line 555, in _validate_targets\n",
      "    self.class_weight_ = compute_class_weight(self.class_weight,\n",
      "  File \"c:\\users\\user\\documents\\twittersentimentanalysis\\env\\lib\\site-packages\\sklearn\\utils\\validation.py\", line 63, in inner_f\n",
      "    return f(*args, **kwargs)\n",
      "  File \"c:\\users\\user\\documents\\twittersentimentanalysis\\env\\lib\\site-packages\\sklearn\\utils\\class_weight.py\", line 63, in compute_class_weight\n",
      "    raise ValueError(\"class_weight must be dict, 'balanced', or None,\"\n",
      "ValueError: class_weight must be dict, 'balanced', or None, got: 'none'\n",
      "\n",
      "\n",
      "c:\\users\\user\\documents\\twittersentimentanalysis\\env\\lib\\site-packages\\sklearn\\model_selection\\_validation.py:610: FitFailedWarning:\n",
      "\n",
      "Estimator fit failed. The score on this train-test partition for these parameters will be set to nan. Details: \n",
      "Traceback (most recent call last):\n",
      "  File \"c:\\users\\user\\documents\\twittersentimentanalysis\\env\\lib\\site-packages\\sklearn\\model_selection\\_validation.py\", line 593, in _fit_and_score\n",
      "    estimator.fit(X_train, y_train, **fit_params)\n",
      "  File \"c:\\users\\user\\documents\\twittersentimentanalysis\\env\\lib\\site-packages\\sklearn\\pipeline.py\", line 346, in fit\n",
      "    self._final_estimator.fit(Xt, y, **fit_params_last_step)\n",
      "  File \"c:\\users\\user\\documents\\twittersentimentanalysis\\env\\lib\\site-packages\\sklearn\\svm\\_base.py\", line 173, in fit\n",
      "    y = self._validate_targets(y)\n",
      "  File \"c:\\users\\user\\documents\\twittersentimentanalysis\\env\\lib\\site-packages\\sklearn\\svm\\_base.py\", line 555, in _validate_targets\n",
      "    self.class_weight_ = compute_class_weight(self.class_weight,\n",
      "  File \"c:\\users\\user\\documents\\twittersentimentanalysis\\env\\lib\\site-packages\\sklearn\\utils\\validation.py\", line 63, in inner_f\n",
      "    return f(*args, **kwargs)\n",
      "  File \"c:\\users\\user\\documents\\twittersentimentanalysis\\env\\lib\\site-packages\\sklearn\\utils\\class_weight.py\", line 63, in compute_class_weight\n",
      "    raise ValueError(\"class_weight must be dict, 'balanced', or None,\"\n",
      "ValueError: class_weight must be dict, 'balanced', or None, got: 'none'\n",
      "\n",
      "\n",
      "c:\\users\\user\\documents\\twittersentimentanalysis\\env\\lib\\site-packages\\sklearn\\model_selection\\_validation.py:610: FitFailedWarning:\n",
      "\n",
      "Estimator fit failed. The score on this train-test partition for these parameters will be set to nan. Details: \n",
      "Traceback (most recent call last):\n",
      "  File \"c:\\users\\user\\documents\\twittersentimentanalysis\\env\\lib\\site-packages\\sklearn\\model_selection\\_validation.py\", line 593, in _fit_and_score\n",
      "    estimator.fit(X_train, y_train, **fit_params)\n",
      "  File \"c:\\users\\user\\documents\\twittersentimentanalysis\\env\\lib\\site-packages\\sklearn\\pipeline.py\", line 346, in fit\n",
      "    self._final_estimator.fit(Xt, y, **fit_params_last_step)\n",
      "  File \"c:\\users\\user\\documents\\twittersentimentanalysis\\env\\lib\\site-packages\\sklearn\\svm\\_base.py\", line 173, in fit\n",
      "    y = self._validate_targets(y)\n",
      "  File \"c:\\users\\user\\documents\\twittersentimentanalysis\\env\\lib\\site-packages\\sklearn\\svm\\_base.py\", line 555, in _validate_targets\n",
      "    self.class_weight_ = compute_class_weight(self.class_weight,\n",
      "  File \"c:\\users\\user\\documents\\twittersentimentanalysis\\env\\lib\\site-packages\\sklearn\\utils\\validation.py\", line 63, in inner_f\n",
      "    return f(*args, **kwargs)\n",
      "  File \"c:\\users\\user\\documents\\twittersentimentanalysis\\env\\lib\\site-packages\\sklearn\\utils\\class_weight.py\", line 63, in compute_class_weight\n",
      "    raise ValueError(\"class_weight must be dict, 'balanced', or None,\"\n",
      "ValueError: class_weight must be dict, 'balanced', or None, got: 'none'\n",
      "\n",
      "\n",
      "c:\\users\\user\\documents\\twittersentimentanalysis\\env\\lib\\site-packages\\sklearn\\model_selection\\_validation.py:610: FitFailedWarning:\n",
      "\n",
      "Estimator fit failed. The score on this train-test partition for these parameters will be set to nan. Details: \n",
      "Traceback (most recent call last):\n",
      "  File \"c:\\users\\user\\documents\\twittersentimentanalysis\\env\\lib\\site-packages\\sklearn\\model_selection\\_validation.py\", line 593, in _fit_and_score\n",
      "    estimator.fit(X_train, y_train, **fit_params)\n",
      "  File \"c:\\users\\user\\documents\\twittersentimentanalysis\\env\\lib\\site-packages\\sklearn\\pipeline.py\", line 346, in fit\n",
      "    self._final_estimator.fit(Xt, y, **fit_params_last_step)\n",
      "  File \"c:\\users\\user\\documents\\twittersentimentanalysis\\env\\lib\\site-packages\\sklearn\\svm\\_base.py\", line 173, in fit\n",
      "    y = self._validate_targets(y)\n",
      "  File \"c:\\users\\user\\documents\\twittersentimentanalysis\\env\\lib\\site-packages\\sklearn\\svm\\_base.py\", line 555, in _validate_targets\n",
      "    self.class_weight_ = compute_class_weight(self.class_weight,\n",
      "  File \"c:\\users\\user\\documents\\twittersentimentanalysis\\env\\lib\\site-packages\\sklearn\\utils\\validation.py\", line 63, in inner_f\n",
      "    return f(*args, **kwargs)\n",
      "  File \"c:\\users\\user\\documents\\twittersentimentanalysis\\env\\lib\\site-packages\\sklearn\\utils\\class_weight.py\", line 63, in compute_class_weight\n",
      "    raise ValueError(\"class_weight must be dict, 'balanced', or None,\"\n",
      "ValueError: class_weight must be dict, 'balanced', or None, got: 'none'\n",
      "\n",
      "\n"
     ]
    },
    {
     "name": "stderr",
     "output_type": "stream",
     "text": [
      "c:\\users\\user\\documents\\twittersentimentanalysis\\env\\lib\\site-packages\\sklearn\\model_selection\\_validation.py:610: FitFailedWarning:\n",
      "\n",
      "Estimator fit failed. The score on this train-test partition for these parameters will be set to nan. Details: \n",
      "Traceback (most recent call last):\n",
      "  File \"c:\\users\\user\\documents\\twittersentimentanalysis\\env\\lib\\site-packages\\sklearn\\model_selection\\_validation.py\", line 593, in _fit_and_score\n",
      "    estimator.fit(X_train, y_train, **fit_params)\n",
      "  File \"c:\\users\\user\\documents\\twittersentimentanalysis\\env\\lib\\site-packages\\sklearn\\pipeline.py\", line 346, in fit\n",
      "    self._final_estimator.fit(Xt, y, **fit_params_last_step)\n",
      "  File \"c:\\users\\user\\documents\\twittersentimentanalysis\\env\\lib\\site-packages\\sklearn\\svm\\_base.py\", line 173, in fit\n",
      "    y = self._validate_targets(y)\n",
      "  File \"c:\\users\\user\\documents\\twittersentimentanalysis\\env\\lib\\site-packages\\sklearn\\svm\\_base.py\", line 555, in _validate_targets\n",
      "    self.class_weight_ = compute_class_weight(self.class_weight,\n",
      "  File \"c:\\users\\user\\documents\\twittersentimentanalysis\\env\\lib\\site-packages\\sklearn\\utils\\validation.py\", line 63, in inner_f\n",
      "    return f(*args, **kwargs)\n",
      "  File \"c:\\users\\user\\documents\\twittersentimentanalysis\\env\\lib\\site-packages\\sklearn\\utils\\class_weight.py\", line 63, in compute_class_weight\n",
      "    raise ValueError(\"class_weight must be dict, 'balanced', or None,\"\n",
      "ValueError: class_weight must be dict, 'balanced', or None, got: 'none'\n",
      "\n",
      "\n",
      "c:\\users\\user\\documents\\twittersentimentanalysis\\env\\lib\\site-packages\\sklearn\\model_selection\\_validation.py:610: FitFailedWarning:\n",
      "\n",
      "Estimator fit failed. The score on this train-test partition for these parameters will be set to nan. Details: \n",
      "Traceback (most recent call last):\n",
      "  File \"c:\\users\\user\\documents\\twittersentimentanalysis\\env\\lib\\site-packages\\sklearn\\model_selection\\_validation.py\", line 593, in _fit_and_score\n",
      "    estimator.fit(X_train, y_train, **fit_params)\n",
      "  File \"c:\\users\\user\\documents\\twittersentimentanalysis\\env\\lib\\site-packages\\sklearn\\pipeline.py\", line 346, in fit\n",
      "    self._final_estimator.fit(Xt, y, **fit_params_last_step)\n",
      "  File \"c:\\users\\user\\documents\\twittersentimentanalysis\\env\\lib\\site-packages\\sklearn\\svm\\_base.py\", line 173, in fit\n",
      "    y = self._validate_targets(y)\n",
      "  File \"c:\\users\\user\\documents\\twittersentimentanalysis\\env\\lib\\site-packages\\sklearn\\svm\\_base.py\", line 555, in _validate_targets\n",
      "    self.class_weight_ = compute_class_weight(self.class_weight,\n",
      "  File \"c:\\users\\user\\documents\\twittersentimentanalysis\\env\\lib\\site-packages\\sklearn\\utils\\validation.py\", line 63, in inner_f\n",
      "    return f(*args, **kwargs)\n",
      "  File \"c:\\users\\user\\documents\\twittersentimentanalysis\\env\\lib\\site-packages\\sklearn\\utils\\class_weight.py\", line 63, in compute_class_weight\n",
      "    raise ValueError(\"class_weight must be dict, 'balanced', or None,\"\n",
      "ValueError: class_weight must be dict, 'balanced', or None, got: 'none'\n",
      "\n",
      "\n",
      "c:\\users\\user\\documents\\twittersentimentanalysis\\env\\lib\\site-packages\\sklearn\\model_selection\\_validation.py:610: FitFailedWarning:\n",
      "\n",
      "Estimator fit failed. The score on this train-test partition for these parameters will be set to nan. Details: \n",
      "Traceback (most recent call last):\n",
      "  File \"c:\\users\\user\\documents\\twittersentimentanalysis\\env\\lib\\site-packages\\sklearn\\model_selection\\_validation.py\", line 593, in _fit_and_score\n",
      "    estimator.fit(X_train, y_train, **fit_params)\n",
      "  File \"c:\\users\\user\\documents\\twittersentimentanalysis\\env\\lib\\site-packages\\sklearn\\pipeline.py\", line 346, in fit\n",
      "    self._final_estimator.fit(Xt, y, **fit_params_last_step)\n",
      "  File \"c:\\users\\user\\documents\\twittersentimentanalysis\\env\\lib\\site-packages\\sklearn\\svm\\_base.py\", line 173, in fit\n",
      "    y = self._validate_targets(y)\n",
      "  File \"c:\\users\\user\\documents\\twittersentimentanalysis\\env\\lib\\site-packages\\sklearn\\svm\\_base.py\", line 555, in _validate_targets\n",
      "    self.class_weight_ = compute_class_weight(self.class_weight,\n",
      "  File \"c:\\users\\user\\documents\\twittersentimentanalysis\\env\\lib\\site-packages\\sklearn\\utils\\validation.py\", line 63, in inner_f\n",
      "    return f(*args, **kwargs)\n",
      "  File \"c:\\users\\user\\documents\\twittersentimentanalysis\\env\\lib\\site-packages\\sklearn\\utils\\class_weight.py\", line 63, in compute_class_weight\n",
      "    raise ValueError(\"class_weight must be dict, 'balanced', or None,\"\n",
      "ValueError: class_weight must be dict, 'balanced', or None, got: 'none'\n",
      "\n",
      "\n",
      "c:\\users\\user\\documents\\twittersentimentanalysis\\env\\lib\\site-packages\\sklearn\\model_selection\\_validation.py:610: FitFailedWarning:\n",
      "\n",
      "Estimator fit failed. The score on this train-test partition for these parameters will be set to nan. Details: \n",
      "Traceback (most recent call last):\n",
      "  File \"c:\\users\\user\\documents\\twittersentimentanalysis\\env\\lib\\site-packages\\sklearn\\model_selection\\_validation.py\", line 593, in _fit_and_score\n",
      "    estimator.fit(X_train, y_train, **fit_params)\n",
      "  File \"c:\\users\\user\\documents\\twittersentimentanalysis\\env\\lib\\site-packages\\sklearn\\pipeline.py\", line 346, in fit\n",
      "    self._final_estimator.fit(Xt, y, **fit_params_last_step)\n",
      "  File \"c:\\users\\user\\documents\\twittersentimentanalysis\\env\\lib\\site-packages\\sklearn\\svm\\_base.py\", line 173, in fit\n",
      "    y = self._validate_targets(y)\n",
      "  File \"c:\\users\\user\\documents\\twittersentimentanalysis\\env\\lib\\site-packages\\sklearn\\svm\\_base.py\", line 555, in _validate_targets\n",
      "    self.class_weight_ = compute_class_weight(self.class_weight,\n",
      "  File \"c:\\users\\user\\documents\\twittersentimentanalysis\\env\\lib\\site-packages\\sklearn\\utils\\validation.py\", line 63, in inner_f\n",
      "    return f(*args, **kwargs)\n",
      "  File \"c:\\users\\user\\documents\\twittersentimentanalysis\\env\\lib\\site-packages\\sklearn\\utils\\class_weight.py\", line 63, in compute_class_weight\n",
      "    raise ValueError(\"class_weight must be dict, 'balanced', or None,\"\n",
      "ValueError: class_weight must be dict, 'balanced', or None, got: 'none'\n",
      "\n",
      "\n",
      "c:\\users\\user\\documents\\twittersentimentanalysis\\env\\lib\\site-packages\\sklearn\\model_selection\\_validation.py:610: FitFailedWarning:\n",
      "\n",
      "Estimator fit failed. The score on this train-test partition for these parameters will be set to nan. Details: \n",
      "Traceback (most recent call last):\n",
      "  File \"c:\\users\\user\\documents\\twittersentimentanalysis\\env\\lib\\site-packages\\sklearn\\model_selection\\_validation.py\", line 593, in _fit_and_score\n",
      "    estimator.fit(X_train, y_train, **fit_params)\n",
      "  File \"c:\\users\\user\\documents\\twittersentimentanalysis\\env\\lib\\site-packages\\sklearn\\pipeline.py\", line 346, in fit\n",
      "    self._final_estimator.fit(Xt, y, **fit_params_last_step)\n",
      "  File \"c:\\users\\user\\documents\\twittersentimentanalysis\\env\\lib\\site-packages\\sklearn\\svm\\_base.py\", line 173, in fit\n",
      "    y = self._validate_targets(y)\n",
      "  File \"c:\\users\\user\\documents\\twittersentimentanalysis\\env\\lib\\site-packages\\sklearn\\svm\\_base.py\", line 555, in _validate_targets\n",
      "    self.class_weight_ = compute_class_weight(self.class_weight,\n",
      "  File \"c:\\users\\user\\documents\\twittersentimentanalysis\\env\\lib\\site-packages\\sklearn\\utils\\validation.py\", line 63, in inner_f\n",
      "    return f(*args, **kwargs)\n",
      "  File \"c:\\users\\user\\documents\\twittersentimentanalysis\\env\\lib\\site-packages\\sklearn\\utils\\class_weight.py\", line 63, in compute_class_weight\n",
      "    raise ValueError(\"class_weight must be dict, 'balanced', or None,\"\n",
      "ValueError: class_weight must be dict, 'balanced', or None, got: 'none'\n",
      "\n",
      "\n",
      "c:\\users\\user\\documents\\twittersentimentanalysis\\env\\lib\\site-packages\\sklearn\\model_selection\\_validation.py:610: FitFailedWarning:\n",
      "\n",
      "Estimator fit failed. The score on this train-test partition for these parameters will be set to nan. Details: \n",
      "Traceback (most recent call last):\n",
      "  File \"c:\\users\\user\\documents\\twittersentimentanalysis\\env\\lib\\site-packages\\sklearn\\model_selection\\_validation.py\", line 593, in _fit_and_score\n",
      "    estimator.fit(X_train, y_train, **fit_params)\n",
      "  File \"c:\\users\\user\\documents\\twittersentimentanalysis\\env\\lib\\site-packages\\sklearn\\pipeline.py\", line 346, in fit\n",
      "    self._final_estimator.fit(Xt, y, **fit_params_last_step)\n",
      "  File \"c:\\users\\user\\documents\\twittersentimentanalysis\\env\\lib\\site-packages\\sklearn\\svm\\_base.py\", line 173, in fit\n",
      "    y = self._validate_targets(y)\n",
      "  File \"c:\\users\\user\\documents\\twittersentimentanalysis\\env\\lib\\site-packages\\sklearn\\svm\\_base.py\", line 555, in _validate_targets\n",
      "    self.class_weight_ = compute_class_weight(self.class_weight,\n",
      "  File \"c:\\users\\user\\documents\\twittersentimentanalysis\\env\\lib\\site-packages\\sklearn\\utils\\validation.py\", line 63, in inner_f\n",
      "    return f(*args, **kwargs)\n",
      "  File \"c:\\users\\user\\documents\\twittersentimentanalysis\\env\\lib\\site-packages\\sklearn\\utils\\class_weight.py\", line 63, in compute_class_weight\n",
      "    raise ValueError(\"class_weight must be dict, 'balanced', or None,\"\n",
      "ValueError: class_weight must be dict, 'balanced', or None, got: 'none'\n",
      "\n",
      "\n"
     ]
    },
    {
     "name": "stderr",
     "output_type": "stream",
     "text": [
      "c:\\users\\user\\documents\\twittersentimentanalysis\\env\\lib\\site-packages\\sklearn\\model_selection\\_validation.py:610: FitFailedWarning:\n",
      "\n",
      "Estimator fit failed. The score on this train-test partition for these parameters will be set to nan. Details: \n",
      "Traceback (most recent call last):\n",
      "  File \"c:\\users\\user\\documents\\twittersentimentanalysis\\env\\lib\\site-packages\\sklearn\\model_selection\\_validation.py\", line 593, in _fit_and_score\n",
      "    estimator.fit(X_train, y_train, **fit_params)\n",
      "  File \"c:\\users\\user\\documents\\twittersentimentanalysis\\env\\lib\\site-packages\\sklearn\\pipeline.py\", line 346, in fit\n",
      "    self._final_estimator.fit(Xt, y, **fit_params_last_step)\n",
      "  File \"c:\\users\\user\\documents\\twittersentimentanalysis\\env\\lib\\site-packages\\sklearn\\svm\\_base.py\", line 173, in fit\n",
      "    y = self._validate_targets(y)\n",
      "  File \"c:\\users\\user\\documents\\twittersentimentanalysis\\env\\lib\\site-packages\\sklearn\\svm\\_base.py\", line 555, in _validate_targets\n",
      "    self.class_weight_ = compute_class_weight(self.class_weight,\n",
      "  File \"c:\\users\\user\\documents\\twittersentimentanalysis\\env\\lib\\site-packages\\sklearn\\utils\\validation.py\", line 63, in inner_f\n",
      "    return f(*args, **kwargs)\n",
      "  File \"c:\\users\\user\\documents\\twittersentimentanalysis\\env\\lib\\site-packages\\sklearn\\utils\\class_weight.py\", line 63, in compute_class_weight\n",
      "    raise ValueError(\"class_weight must be dict, 'balanced', or None,\"\n",
      "ValueError: class_weight must be dict, 'balanced', or None, got: 'none'\n",
      "\n",
      "\n",
      "c:\\users\\user\\documents\\twittersentimentanalysis\\env\\lib\\site-packages\\sklearn\\model_selection\\_validation.py:610: FitFailedWarning:\n",
      "\n",
      "Estimator fit failed. The score on this train-test partition for these parameters will be set to nan. Details: \n",
      "Traceback (most recent call last):\n",
      "  File \"c:\\users\\user\\documents\\twittersentimentanalysis\\env\\lib\\site-packages\\sklearn\\model_selection\\_validation.py\", line 593, in _fit_and_score\n",
      "    estimator.fit(X_train, y_train, **fit_params)\n",
      "  File \"c:\\users\\user\\documents\\twittersentimentanalysis\\env\\lib\\site-packages\\sklearn\\pipeline.py\", line 346, in fit\n",
      "    self._final_estimator.fit(Xt, y, **fit_params_last_step)\n",
      "  File \"c:\\users\\user\\documents\\twittersentimentanalysis\\env\\lib\\site-packages\\sklearn\\svm\\_base.py\", line 173, in fit\n",
      "    y = self._validate_targets(y)\n",
      "  File \"c:\\users\\user\\documents\\twittersentimentanalysis\\env\\lib\\site-packages\\sklearn\\svm\\_base.py\", line 555, in _validate_targets\n",
      "    self.class_weight_ = compute_class_weight(self.class_weight,\n",
      "  File \"c:\\users\\user\\documents\\twittersentimentanalysis\\env\\lib\\site-packages\\sklearn\\utils\\validation.py\", line 63, in inner_f\n",
      "    return f(*args, **kwargs)\n",
      "  File \"c:\\users\\user\\documents\\twittersentimentanalysis\\env\\lib\\site-packages\\sklearn\\utils\\class_weight.py\", line 63, in compute_class_weight\n",
      "    raise ValueError(\"class_weight must be dict, 'balanced', or None,\"\n",
      "ValueError: class_weight must be dict, 'balanced', or None, got: 'none'\n",
      "\n",
      "\n",
      "c:\\users\\user\\documents\\twittersentimentanalysis\\env\\lib\\site-packages\\sklearn\\model_selection\\_validation.py:610: FitFailedWarning:\n",
      "\n",
      "Estimator fit failed. The score on this train-test partition for these parameters will be set to nan. Details: \n",
      "Traceback (most recent call last):\n",
      "  File \"c:\\users\\user\\documents\\twittersentimentanalysis\\env\\lib\\site-packages\\sklearn\\model_selection\\_validation.py\", line 593, in _fit_and_score\n",
      "    estimator.fit(X_train, y_train, **fit_params)\n",
      "  File \"c:\\users\\user\\documents\\twittersentimentanalysis\\env\\lib\\site-packages\\sklearn\\pipeline.py\", line 346, in fit\n",
      "    self._final_estimator.fit(Xt, y, **fit_params_last_step)\n",
      "  File \"c:\\users\\user\\documents\\twittersentimentanalysis\\env\\lib\\site-packages\\sklearn\\svm\\_base.py\", line 173, in fit\n",
      "    y = self._validate_targets(y)\n",
      "  File \"c:\\users\\user\\documents\\twittersentimentanalysis\\env\\lib\\site-packages\\sklearn\\svm\\_base.py\", line 555, in _validate_targets\n",
      "    self.class_weight_ = compute_class_weight(self.class_weight,\n",
      "  File \"c:\\users\\user\\documents\\twittersentimentanalysis\\env\\lib\\site-packages\\sklearn\\utils\\validation.py\", line 63, in inner_f\n",
      "    return f(*args, **kwargs)\n",
      "  File \"c:\\users\\user\\documents\\twittersentimentanalysis\\env\\lib\\site-packages\\sklearn\\utils\\class_weight.py\", line 63, in compute_class_weight\n",
      "    raise ValueError(\"class_weight must be dict, 'balanced', or None,\"\n",
      "ValueError: class_weight must be dict, 'balanced', or None, got: 'none'\n",
      "\n",
      "\n",
      "c:\\users\\user\\documents\\twittersentimentanalysis\\env\\lib\\site-packages\\sklearn\\model_selection\\_validation.py:610: FitFailedWarning:\n",
      "\n",
      "Estimator fit failed. The score on this train-test partition for these parameters will be set to nan. Details: \n",
      "Traceback (most recent call last):\n",
      "  File \"c:\\users\\user\\documents\\twittersentimentanalysis\\env\\lib\\site-packages\\sklearn\\model_selection\\_validation.py\", line 593, in _fit_and_score\n",
      "    estimator.fit(X_train, y_train, **fit_params)\n",
      "  File \"c:\\users\\user\\documents\\twittersentimentanalysis\\env\\lib\\site-packages\\sklearn\\pipeline.py\", line 346, in fit\n",
      "    self._final_estimator.fit(Xt, y, **fit_params_last_step)\n",
      "  File \"c:\\users\\user\\documents\\twittersentimentanalysis\\env\\lib\\site-packages\\sklearn\\svm\\_base.py\", line 173, in fit\n",
      "    y = self._validate_targets(y)\n",
      "  File \"c:\\users\\user\\documents\\twittersentimentanalysis\\env\\lib\\site-packages\\sklearn\\svm\\_base.py\", line 555, in _validate_targets\n",
      "    self.class_weight_ = compute_class_weight(self.class_weight,\n",
      "  File \"c:\\users\\user\\documents\\twittersentimentanalysis\\env\\lib\\site-packages\\sklearn\\utils\\validation.py\", line 63, in inner_f\n",
      "    return f(*args, **kwargs)\n",
      "  File \"c:\\users\\user\\documents\\twittersentimentanalysis\\env\\lib\\site-packages\\sklearn\\utils\\class_weight.py\", line 63, in compute_class_weight\n",
      "    raise ValueError(\"class_weight must be dict, 'balanced', or None,\"\n",
      "ValueError: class_weight must be dict, 'balanced', or None, got: 'none'\n",
      "\n",
      "\n",
      "c:\\users\\user\\documents\\twittersentimentanalysis\\env\\lib\\site-packages\\sklearn\\model_selection\\_validation.py:610: FitFailedWarning:\n",
      "\n",
      "Estimator fit failed. The score on this train-test partition for these parameters will be set to nan. Details: \n",
      "Traceback (most recent call last):\n",
      "  File \"c:\\users\\user\\documents\\twittersentimentanalysis\\env\\lib\\site-packages\\sklearn\\model_selection\\_validation.py\", line 593, in _fit_and_score\n",
      "    estimator.fit(X_train, y_train, **fit_params)\n",
      "  File \"c:\\users\\user\\documents\\twittersentimentanalysis\\env\\lib\\site-packages\\sklearn\\pipeline.py\", line 346, in fit\n",
      "    self._final_estimator.fit(Xt, y, **fit_params_last_step)\n",
      "  File \"c:\\users\\user\\documents\\twittersentimentanalysis\\env\\lib\\site-packages\\sklearn\\svm\\_base.py\", line 173, in fit\n",
      "    y = self._validate_targets(y)\n",
      "  File \"c:\\users\\user\\documents\\twittersentimentanalysis\\env\\lib\\site-packages\\sklearn\\svm\\_base.py\", line 555, in _validate_targets\n",
      "    self.class_weight_ = compute_class_weight(self.class_weight,\n",
      "  File \"c:\\users\\user\\documents\\twittersentimentanalysis\\env\\lib\\site-packages\\sklearn\\utils\\validation.py\", line 63, in inner_f\n",
      "    return f(*args, **kwargs)\n",
      "  File \"c:\\users\\user\\documents\\twittersentimentanalysis\\env\\lib\\site-packages\\sklearn\\utils\\class_weight.py\", line 63, in compute_class_weight\n",
      "    raise ValueError(\"class_weight must be dict, 'balanced', or None,\"\n",
      "ValueError: class_weight must be dict, 'balanced', or None, got: 'none'\n",
      "\n",
      "\n",
      "c:\\users\\user\\documents\\twittersentimentanalysis\\env\\lib\\site-packages\\sklearn\\model_selection\\_validation.py:610: FitFailedWarning:\n",
      "\n",
      "Estimator fit failed. The score on this train-test partition for these parameters will be set to nan. Details: \n",
      "Traceback (most recent call last):\n",
      "  File \"c:\\users\\user\\documents\\twittersentimentanalysis\\env\\lib\\site-packages\\sklearn\\model_selection\\_validation.py\", line 593, in _fit_and_score\n",
      "    estimator.fit(X_train, y_train, **fit_params)\n",
      "  File \"c:\\users\\user\\documents\\twittersentimentanalysis\\env\\lib\\site-packages\\sklearn\\pipeline.py\", line 346, in fit\n",
      "    self._final_estimator.fit(Xt, y, **fit_params_last_step)\n",
      "  File \"c:\\users\\user\\documents\\twittersentimentanalysis\\env\\lib\\site-packages\\sklearn\\svm\\_base.py\", line 173, in fit\n",
      "    y = self._validate_targets(y)\n",
      "  File \"c:\\users\\user\\documents\\twittersentimentanalysis\\env\\lib\\site-packages\\sklearn\\svm\\_base.py\", line 555, in _validate_targets\n",
      "    self.class_weight_ = compute_class_weight(self.class_weight,\n",
      "  File \"c:\\users\\user\\documents\\twittersentimentanalysis\\env\\lib\\site-packages\\sklearn\\utils\\validation.py\", line 63, in inner_f\n",
      "    return f(*args, **kwargs)\n",
      "  File \"c:\\users\\user\\documents\\twittersentimentanalysis\\env\\lib\\site-packages\\sklearn\\utils\\class_weight.py\", line 63, in compute_class_weight\n",
      "    raise ValueError(\"class_weight must be dict, 'balanced', or None,\"\n",
      "ValueError: class_weight must be dict, 'balanced', or None, got: 'none'\n",
      "\n",
      "\n",
      "c:\\users\\user\\documents\\twittersentimentanalysis\\env\\lib\\site-packages\\sklearn\\model_selection\\_validation.py:610: FitFailedWarning:\n",
      "\n",
      "Estimator fit failed. The score on this train-test partition for these parameters will be set to nan. Details: \n",
      "Traceback (most recent call last):\n",
      "  File \"c:\\users\\user\\documents\\twittersentimentanalysis\\env\\lib\\site-packages\\sklearn\\model_selection\\_validation.py\", line 593, in _fit_and_score\n",
      "    estimator.fit(X_train, y_train, **fit_params)\n",
      "  File \"c:\\users\\user\\documents\\twittersentimentanalysis\\env\\lib\\site-packages\\sklearn\\pipeline.py\", line 346, in fit\n",
      "    self._final_estimator.fit(Xt, y, **fit_params_last_step)\n",
      "  File \"c:\\users\\user\\documents\\twittersentimentanalysis\\env\\lib\\site-packages\\sklearn\\svm\\_base.py\", line 173, in fit\n",
      "    y = self._validate_targets(y)\n",
      "  File \"c:\\users\\user\\documents\\twittersentimentanalysis\\env\\lib\\site-packages\\sklearn\\svm\\_base.py\", line 555, in _validate_targets\n",
      "    self.class_weight_ = compute_class_weight(self.class_weight,\n",
      "  File \"c:\\users\\user\\documents\\twittersentimentanalysis\\env\\lib\\site-packages\\sklearn\\utils\\validation.py\", line 63, in inner_f\n",
      "    return f(*args, **kwargs)\n",
      "  File \"c:\\users\\user\\documents\\twittersentimentanalysis\\env\\lib\\site-packages\\sklearn\\utils\\class_weight.py\", line 63, in compute_class_weight\n",
      "    raise ValueError(\"class_weight must be dict, 'balanced', or None,\"\n",
      "ValueError: class_weight must be dict, 'balanced', or None, got: 'none'\n",
      "\n",
      "\n"
     ]
    },
    {
     "name": "stderr",
     "output_type": "stream",
     "text": [
      "c:\\users\\user\\documents\\twittersentimentanalysis\\env\\lib\\site-packages\\sklearn\\model_selection\\_validation.py:610: FitFailedWarning:\n",
      "\n",
      "Estimator fit failed. The score on this train-test partition for these parameters will be set to nan. Details: \n",
      "Traceback (most recent call last):\n",
      "  File \"c:\\users\\user\\documents\\twittersentimentanalysis\\env\\lib\\site-packages\\sklearn\\model_selection\\_validation.py\", line 593, in _fit_and_score\n",
      "    estimator.fit(X_train, y_train, **fit_params)\n",
      "  File \"c:\\users\\user\\documents\\twittersentimentanalysis\\env\\lib\\site-packages\\sklearn\\pipeline.py\", line 346, in fit\n",
      "    self._final_estimator.fit(Xt, y, **fit_params_last_step)\n",
      "  File \"c:\\users\\user\\documents\\twittersentimentanalysis\\env\\lib\\site-packages\\sklearn\\svm\\_base.py\", line 173, in fit\n",
      "    y = self._validate_targets(y)\n",
      "  File \"c:\\users\\user\\documents\\twittersentimentanalysis\\env\\lib\\site-packages\\sklearn\\svm\\_base.py\", line 555, in _validate_targets\n",
      "    self.class_weight_ = compute_class_weight(self.class_weight,\n",
      "  File \"c:\\users\\user\\documents\\twittersentimentanalysis\\env\\lib\\site-packages\\sklearn\\utils\\validation.py\", line 63, in inner_f\n",
      "    return f(*args, **kwargs)\n",
      "  File \"c:\\users\\user\\documents\\twittersentimentanalysis\\env\\lib\\site-packages\\sklearn\\utils\\class_weight.py\", line 63, in compute_class_weight\n",
      "    raise ValueError(\"class_weight must be dict, 'balanced', or None,\"\n",
      "ValueError: class_weight must be dict, 'balanced', or None, got: 'none'\n",
      "\n",
      "\n",
      "c:\\users\\user\\documents\\twittersentimentanalysis\\env\\lib\\site-packages\\sklearn\\model_selection\\_validation.py:610: FitFailedWarning:\n",
      "\n",
      "Estimator fit failed. The score on this train-test partition for these parameters will be set to nan. Details: \n",
      "Traceback (most recent call last):\n",
      "  File \"c:\\users\\user\\documents\\twittersentimentanalysis\\env\\lib\\site-packages\\sklearn\\model_selection\\_validation.py\", line 593, in _fit_and_score\n",
      "    estimator.fit(X_train, y_train, **fit_params)\n",
      "  File \"c:\\users\\user\\documents\\twittersentimentanalysis\\env\\lib\\site-packages\\sklearn\\pipeline.py\", line 346, in fit\n",
      "    self._final_estimator.fit(Xt, y, **fit_params_last_step)\n",
      "  File \"c:\\users\\user\\documents\\twittersentimentanalysis\\env\\lib\\site-packages\\sklearn\\svm\\_base.py\", line 173, in fit\n",
      "    y = self._validate_targets(y)\n",
      "  File \"c:\\users\\user\\documents\\twittersentimentanalysis\\env\\lib\\site-packages\\sklearn\\svm\\_base.py\", line 555, in _validate_targets\n",
      "    self.class_weight_ = compute_class_weight(self.class_weight,\n",
      "  File \"c:\\users\\user\\documents\\twittersentimentanalysis\\env\\lib\\site-packages\\sklearn\\utils\\validation.py\", line 63, in inner_f\n",
      "    return f(*args, **kwargs)\n",
      "  File \"c:\\users\\user\\documents\\twittersentimentanalysis\\env\\lib\\site-packages\\sklearn\\utils\\class_weight.py\", line 63, in compute_class_weight\n",
      "    raise ValueError(\"class_weight must be dict, 'balanced', or None,\"\n",
      "ValueError: class_weight must be dict, 'balanced', or None, got: 'none'\n",
      "\n",
      "\n",
      "c:\\users\\user\\documents\\twittersentimentanalysis\\env\\lib\\site-packages\\sklearn\\model_selection\\_validation.py:610: FitFailedWarning:\n",
      "\n",
      "Estimator fit failed. The score on this train-test partition for these parameters will be set to nan. Details: \n",
      "Traceback (most recent call last):\n",
      "  File \"c:\\users\\user\\documents\\twittersentimentanalysis\\env\\lib\\site-packages\\sklearn\\model_selection\\_validation.py\", line 593, in _fit_and_score\n",
      "    estimator.fit(X_train, y_train, **fit_params)\n",
      "  File \"c:\\users\\user\\documents\\twittersentimentanalysis\\env\\lib\\site-packages\\sklearn\\pipeline.py\", line 346, in fit\n",
      "    self._final_estimator.fit(Xt, y, **fit_params_last_step)\n",
      "  File \"c:\\users\\user\\documents\\twittersentimentanalysis\\env\\lib\\site-packages\\sklearn\\svm\\_base.py\", line 173, in fit\n",
      "    y = self._validate_targets(y)\n",
      "  File \"c:\\users\\user\\documents\\twittersentimentanalysis\\env\\lib\\site-packages\\sklearn\\svm\\_base.py\", line 555, in _validate_targets\n",
      "    self.class_weight_ = compute_class_weight(self.class_weight,\n",
      "  File \"c:\\users\\user\\documents\\twittersentimentanalysis\\env\\lib\\site-packages\\sklearn\\utils\\validation.py\", line 63, in inner_f\n",
      "    return f(*args, **kwargs)\n",
      "  File \"c:\\users\\user\\documents\\twittersentimentanalysis\\env\\lib\\site-packages\\sklearn\\utils\\class_weight.py\", line 63, in compute_class_weight\n",
      "    raise ValueError(\"class_weight must be dict, 'balanced', or None,\"\n",
      "ValueError: class_weight must be dict, 'balanced', or None, got: 'none'\n",
      "\n",
      "\n",
      "c:\\users\\user\\documents\\twittersentimentanalysis\\env\\lib\\site-packages\\sklearn\\model_selection\\_validation.py:610: FitFailedWarning:\n",
      "\n",
      "Estimator fit failed. The score on this train-test partition for these parameters will be set to nan. Details: \n",
      "Traceback (most recent call last):\n",
      "  File \"c:\\users\\user\\documents\\twittersentimentanalysis\\env\\lib\\site-packages\\sklearn\\model_selection\\_validation.py\", line 593, in _fit_and_score\n",
      "    estimator.fit(X_train, y_train, **fit_params)\n",
      "  File \"c:\\users\\user\\documents\\twittersentimentanalysis\\env\\lib\\site-packages\\sklearn\\pipeline.py\", line 346, in fit\n",
      "    self._final_estimator.fit(Xt, y, **fit_params_last_step)\n",
      "  File \"c:\\users\\user\\documents\\twittersentimentanalysis\\env\\lib\\site-packages\\sklearn\\svm\\_base.py\", line 173, in fit\n",
      "    y = self._validate_targets(y)\n",
      "  File \"c:\\users\\user\\documents\\twittersentimentanalysis\\env\\lib\\site-packages\\sklearn\\svm\\_base.py\", line 555, in _validate_targets\n",
      "    self.class_weight_ = compute_class_weight(self.class_weight,\n",
      "  File \"c:\\users\\user\\documents\\twittersentimentanalysis\\env\\lib\\site-packages\\sklearn\\utils\\validation.py\", line 63, in inner_f\n",
      "    return f(*args, **kwargs)\n",
      "  File \"c:\\users\\user\\documents\\twittersentimentanalysis\\env\\lib\\site-packages\\sklearn\\utils\\class_weight.py\", line 63, in compute_class_weight\n",
      "    raise ValueError(\"class_weight must be dict, 'balanced', or None,\"\n",
      "ValueError: class_weight must be dict, 'balanced', or None, got: 'none'\n",
      "\n",
      "\n",
      "c:\\users\\user\\documents\\twittersentimentanalysis\\env\\lib\\site-packages\\sklearn\\model_selection\\_validation.py:610: FitFailedWarning:\n",
      "\n",
      "Estimator fit failed. The score on this train-test partition for these parameters will be set to nan. Details: \n",
      "Traceback (most recent call last):\n",
      "  File \"c:\\users\\user\\documents\\twittersentimentanalysis\\env\\lib\\site-packages\\sklearn\\model_selection\\_validation.py\", line 593, in _fit_and_score\n",
      "    estimator.fit(X_train, y_train, **fit_params)\n",
      "  File \"c:\\users\\user\\documents\\twittersentimentanalysis\\env\\lib\\site-packages\\sklearn\\pipeline.py\", line 346, in fit\n",
      "    self._final_estimator.fit(Xt, y, **fit_params_last_step)\n",
      "  File \"c:\\users\\user\\documents\\twittersentimentanalysis\\env\\lib\\site-packages\\sklearn\\svm\\_base.py\", line 173, in fit\n",
      "    y = self._validate_targets(y)\n",
      "  File \"c:\\users\\user\\documents\\twittersentimentanalysis\\env\\lib\\site-packages\\sklearn\\svm\\_base.py\", line 555, in _validate_targets\n",
      "    self.class_weight_ = compute_class_weight(self.class_weight,\n",
      "  File \"c:\\users\\user\\documents\\twittersentimentanalysis\\env\\lib\\site-packages\\sklearn\\utils\\validation.py\", line 63, in inner_f\n",
      "    return f(*args, **kwargs)\n",
      "  File \"c:\\users\\user\\documents\\twittersentimentanalysis\\env\\lib\\site-packages\\sklearn\\utils\\class_weight.py\", line 63, in compute_class_weight\n",
      "    raise ValueError(\"class_weight must be dict, 'balanced', or None,\"\n",
      "ValueError: class_weight must be dict, 'balanced', or None, got: 'none'\n",
      "\n",
      "\n",
      "c:\\users\\user\\documents\\twittersentimentanalysis\\env\\lib\\site-packages\\sklearn\\model_selection\\_validation.py:610: FitFailedWarning:\n",
      "\n",
      "Estimator fit failed. The score on this train-test partition for these parameters will be set to nan. Details: \n",
      "Traceback (most recent call last):\n",
      "  File \"c:\\users\\user\\documents\\twittersentimentanalysis\\env\\lib\\site-packages\\sklearn\\model_selection\\_validation.py\", line 593, in _fit_and_score\n",
      "    estimator.fit(X_train, y_train, **fit_params)\n",
      "  File \"c:\\users\\user\\documents\\twittersentimentanalysis\\env\\lib\\site-packages\\sklearn\\pipeline.py\", line 346, in fit\n",
      "    self._final_estimator.fit(Xt, y, **fit_params_last_step)\n",
      "  File \"c:\\users\\user\\documents\\twittersentimentanalysis\\env\\lib\\site-packages\\sklearn\\svm\\_base.py\", line 173, in fit\n",
      "    y = self._validate_targets(y)\n",
      "  File \"c:\\users\\user\\documents\\twittersentimentanalysis\\env\\lib\\site-packages\\sklearn\\svm\\_base.py\", line 555, in _validate_targets\n",
      "    self.class_weight_ = compute_class_weight(self.class_weight,\n",
      "  File \"c:\\users\\user\\documents\\twittersentimentanalysis\\env\\lib\\site-packages\\sklearn\\utils\\validation.py\", line 63, in inner_f\n",
      "    return f(*args, **kwargs)\n",
      "  File \"c:\\users\\user\\documents\\twittersentimentanalysis\\env\\lib\\site-packages\\sklearn\\utils\\class_weight.py\", line 63, in compute_class_weight\n",
      "    raise ValueError(\"class_weight must be dict, 'balanced', or None,\"\n",
      "ValueError: class_weight must be dict, 'balanced', or None, got: 'none'\n",
      "\n",
      "\n",
      "c:\\users\\user\\documents\\twittersentimentanalysis\\env\\lib\\site-packages\\sklearn\\model_selection\\_validation.py:610: FitFailedWarning:\n",
      "\n",
      "Estimator fit failed. The score on this train-test partition for these parameters will be set to nan. Details: \n",
      "Traceback (most recent call last):\n",
      "  File \"c:\\users\\user\\documents\\twittersentimentanalysis\\env\\lib\\site-packages\\sklearn\\model_selection\\_validation.py\", line 593, in _fit_and_score\n",
      "    estimator.fit(X_train, y_train, **fit_params)\n",
      "  File \"c:\\users\\user\\documents\\twittersentimentanalysis\\env\\lib\\site-packages\\sklearn\\pipeline.py\", line 346, in fit\n",
      "    self._final_estimator.fit(Xt, y, **fit_params_last_step)\n",
      "  File \"c:\\users\\user\\documents\\twittersentimentanalysis\\env\\lib\\site-packages\\sklearn\\svm\\_base.py\", line 173, in fit\n",
      "    y = self._validate_targets(y)\n",
      "  File \"c:\\users\\user\\documents\\twittersentimentanalysis\\env\\lib\\site-packages\\sklearn\\svm\\_base.py\", line 555, in _validate_targets\n",
      "    self.class_weight_ = compute_class_weight(self.class_weight,\n",
      "  File \"c:\\users\\user\\documents\\twittersentimentanalysis\\env\\lib\\site-packages\\sklearn\\utils\\validation.py\", line 63, in inner_f\n",
      "    return f(*args, **kwargs)\n",
      "  File \"c:\\users\\user\\documents\\twittersentimentanalysis\\env\\lib\\site-packages\\sklearn\\utils\\class_weight.py\", line 63, in compute_class_weight\n",
      "    raise ValueError(\"class_weight must be dict, 'balanced', or None,\"\n",
      "ValueError: class_weight must be dict, 'balanced', or None, got: 'none'\n",
      "\n",
      "\n"
     ]
    },
    {
     "name": "stderr",
     "output_type": "stream",
     "text": [
      "c:\\users\\user\\documents\\twittersentimentanalysis\\env\\lib\\site-packages\\sklearn\\model_selection\\_validation.py:610: FitFailedWarning:\n",
      "\n",
      "Estimator fit failed. The score on this train-test partition for these parameters will be set to nan. Details: \n",
      "Traceback (most recent call last):\n",
      "  File \"c:\\users\\user\\documents\\twittersentimentanalysis\\env\\lib\\site-packages\\sklearn\\model_selection\\_validation.py\", line 593, in _fit_and_score\n",
      "    estimator.fit(X_train, y_train, **fit_params)\n",
      "  File \"c:\\users\\user\\documents\\twittersentimentanalysis\\env\\lib\\site-packages\\sklearn\\pipeline.py\", line 346, in fit\n",
      "    self._final_estimator.fit(Xt, y, **fit_params_last_step)\n",
      "  File \"c:\\users\\user\\documents\\twittersentimentanalysis\\env\\lib\\site-packages\\sklearn\\svm\\_base.py\", line 173, in fit\n",
      "    y = self._validate_targets(y)\n",
      "  File \"c:\\users\\user\\documents\\twittersentimentanalysis\\env\\lib\\site-packages\\sklearn\\svm\\_base.py\", line 555, in _validate_targets\n",
      "    self.class_weight_ = compute_class_weight(self.class_weight,\n",
      "  File \"c:\\users\\user\\documents\\twittersentimentanalysis\\env\\lib\\site-packages\\sklearn\\utils\\validation.py\", line 63, in inner_f\n",
      "    return f(*args, **kwargs)\n",
      "  File \"c:\\users\\user\\documents\\twittersentimentanalysis\\env\\lib\\site-packages\\sklearn\\utils\\class_weight.py\", line 63, in compute_class_weight\n",
      "    raise ValueError(\"class_weight must be dict, 'balanced', or None,\"\n",
      "ValueError: class_weight must be dict, 'balanced', or None, got: 'none'\n",
      "\n",
      "\n",
      "c:\\users\\user\\documents\\twittersentimentanalysis\\env\\lib\\site-packages\\sklearn\\model_selection\\_validation.py:610: FitFailedWarning:\n",
      "\n",
      "Estimator fit failed. The score on this train-test partition for these parameters will be set to nan. Details: \n",
      "Traceback (most recent call last):\n",
      "  File \"c:\\users\\user\\documents\\twittersentimentanalysis\\env\\lib\\site-packages\\sklearn\\model_selection\\_validation.py\", line 593, in _fit_and_score\n",
      "    estimator.fit(X_train, y_train, **fit_params)\n",
      "  File \"c:\\users\\user\\documents\\twittersentimentanalysis\\env\\lib\\site-packages\\sklearn\\pipeline.py\", line 346, in fit\n",
      "    self._final_estimator.fit(Xt, y, **fit_params_last_step)\n",
      "  File \"c:\\users\\user\\documents\\twittersentimentanalysis\\env\\lib\\site-packages\\sklearn\\svm\\_base.py\", line 173, in fit\n",
      "    y = self._validate_targets(y)\n",
      "  File \"c:\\users\\user\\documents\\twittersentimentanalysis\\env\\lib\\site-packages\\sklearn\\svm\\_base.py\", line 555, in _validate_targets\n",
      "    self.class_weight_ = compute_class_weight(self.class_weight,\n",
      "  File \"c:\\users\\user\\documents\\twittersentimentanalysis\\env\\lib\\site-packages\\sklearn\\utils\\validation.py\", line 63, in inner_f\n",
      "    return f(*args, **kwargs)\n",
      "  File \"c:\\users\\user\\documents\\twittersentimentanalysis\\env\\lib\\site-packages\\sklearn\\utils\\class_weight.py\", line 63, in compute_class_weight\n",
      "    raise ValueError(\"class_weight must be dict, 'balanced', or None,\"\n",
      "ValueError: class_weight must be dict, 'balanced', or None, got: 'none'\n",
      "\n",
      "\n",
      "c:\\users\\user\\documents\\twittersentimentanalysis\\env\\lib\\site-packages\\sklearn\\model_selection\\_validation.py:610: FitFailedWarning:\n",
      "\n",
      "Estimator fit failed. The score on this train-test partition for these parameters will be set to nan. Details: \n",
      "Traceback (most recent call last):\n",
      "  File \"c:\\users\\user\\documents\\twittersentimentanalysis\\env\\lib\\site-packages\\sklearn\\model_selection\\_validation.py\", line 593, in _fit_and_score\n",
      "    estimator.fit(X_train, y_train, **fit_params)\n",
      "  File \"c:\\users\\user\\documents\\twittersentimentanalysis\\env\\lib\\site-packages\\sklearn\\pipeline.py\", line 346, in fit\n",
      "    self._final_estimator.fit(Xt, y, **fit_params_last_step)\n",
      "  File \"c:\\users\\user\\documents\\twittersentimentanalysis\\env\\lib\\site-packages\\sklearn\\svm\\_base.py\", line 173, in fit\n",
      "    y = self._validate_targets(y)\n",
      "  File \"c:\\users\\user\\documents\\twittersentimentanalysis\\env\\lib\\site-packages\\sklearn\\svm\\_base.py\", line 555, in _validate_targets\n",
      "    self.class_weight_ = compute_class_weight(self.class_weight,\n",
      "  File \"c:\\users\\user\\documents\\twittersentimentanalysis\\env\\lib\\site-packages\\sklearn\\utils\\validation.py\", line 63, in inner_f\n",
      "    return f(*args, **kwargs)\n",
      "  File \"c:\\users\\user\\documents\\twittersentimentanalysis\\env\\lib\\site-packages\\sklearn\\utils\\class_weight.py\", line 63, in compute_class_weight\n",
      "    raise ValueError(\"class_weight must be dict, 'balanced', or None,\"\n",
      "ValueError: class_weight must be dict, 'balanced', or None, got: 'none'\n",
      "\n",
      "\n",
      "c:\\users\\user\\documents\\twittersentimentanalysis\\env\\lib\\site-packages\\sklearn\\model_selection\\_validation.py:610: FitFailedWarning:\n",
      "\n",
      "Estimator fit failed. The score on this train-test partition for these parameters will be set to nan. Details: \n",
      "Traceback (most recent call last):\n",
      "  File \"c:\\users\\user\\documents\\twittersentimentanalysis\\env\\lib\\site-packages\\sklearn\\model_selection\\_validation.py\", line 593, in _fit_and_score\n",
      "    estimator.fit(X_train, y_train, **fit_params)\n",
      "  File \"c:\\users\\user\\documents\\twittersentimentanalysis\\env\\lib\\site-packages\\sklearn\\pipeline.py\", line 346, in fit\n",
      "    self._final_estimator.fit(Xt, y, **fit_params_last_step)\n",
      "  File \"c:\\users\\user\\documents\\twittersentimentanalysis\\env\\lib\\site-packages\\sklearn\\svm\\_base.py\", line 173, in fit\n",
      "    y = self._validate_targets(y)\n",
      "  File \"c:\\users\\user\\documents\\twittersentimentanalysis\\env\\lib\\site-packages\\sklearn\\svm\\_base.py\", line 555, in _validate_targets\n",
      "    self.class_weight_ = compute_class_weight(self.class_weight,\n",
      "  File \"c:\\users\\user\\documents\\twittersentimentanalysis\\env\\lib\\site-packages\\sklearn\\utils\\validation.py\", line 63, in inner_f\n",
      "    return f(*args, **kwargs)\n",
      "  File \"c:\\users\\user\\documents\\twittersentimentanalysis\\env\\lib\\site-packages\\sklearn\\utils\\class_weight.py\", line 63, in compute_class_weight\n",
      "    raise ValueError(\"class_weight must be dict, 'balanced', or None,\"\n",
      "ValueError: class_weight must be dict, 'balanced', or None, got: 'none'\n",
      "\n",
      "\n",
      "c:\\users\\user\\documents\\twittersentimentanalysis\\env\\lib\\site-packages\\sklearn\\model_selection\\_validation.py:610: FitFailedWarning:\n",
      "\n",
      "Estimator fit failed. The score on this train-test partition for these parameters will be set to nan. Details: \n",
      "Traceback (most recent call last):\n",
      "  File \"c:\\users\\user\\documents\\twittersentimentanalysis\\env\\lib\\site-packages\\sklearn\\model_selection\\_validation.py\", line 593, in _fit_and_score\n",
      "    estimator.fit(X_train, y_train, **fit_params)\n",
      "  File \"c:\\users\\user\\documents\\twittersentimentanalysis\\env\\lib\\site-packages\\sklearn\\pipeline.py\", line 346, in fit\n",
      "    self._final_estimator.fit(Xt, y, **fit_params_last_step)\n",
      "  File \"c:\\users\\user\\documents\\twittersentimentanalysis\\env\\lib\\site-packages\\sklearn\\svm\\_base.py\", line 173, in fit\n",
      "    y = self._validate_targets(y)\n",
      "  File \"c:\\users\\user\\documents\\twittersentimentanalysis\\env\\lib\\site-packages\\sklearn\\svm\\_base.py\", line 555, in _validate_targets\n",
      "    self.class_weight_ = compute_class_weight(self.class_weight,\n",
      "  File \"c:\\users\\user\\documents\\twittersentimentanalysis\\env\\lib\\site-packages\\sklearn\\utils\\validation.py\", line 63, in inner_f\n",
      "    return f(*args, **kwargs)\n",
      "  File \"c:\\users\\user\\documents\\twittersentimentanalysis\\env\\lib\\site-packages\\sklearn\\utils\\class_weight.py\", line 63, in compute_class_weight\n",
      "    raise ValueError(\"class_weight must be dict, 'balanced', or None,\"\n",
      "ValueError: class_weight must be dict, 'balanced', or None, got: 'none'\n",
      "\n",
      "\n",
      "c:\\users\\user\\documents\\twittersentimentanalysis\\env\\lib\\site-packages\\sklearn\\model_selection\\_validation.py:610: FitFailedWarning:\n",
      "\n",
      "Estimator fit failed. The score on this train-test partition for these parameters will be set to nan. Details: \n",
      "Traceback (most recent call last):\n",
      "  File \"c:\\users\\user\\documents\\twittersentimentanalysis\\env\\lib\\site-packages\\sklearn\\model_selection\\_validation.py\", line 593, in _fit_and_score\n",
      "    estimator.fit(X_train, y_train, **fit_params)\n",
      "  File \"c:\\users\\user\\documents\\twittersentimentanalysis\\env\\lib\\site-packages\\sklearn\\pipeline.py\", line 346, in fit\n",
      "    self._final_estimator.fit(Xt, y, **fit_params_last_step)\n",
      "  File \"c:\\users\\user\\documents\\twittersentimentanalysis\\env\\lib\\site-packages\\sklearn\\svm\\_base.py\", line 173, in fit\n",
      "    y = self._validate_targets(y)\n",
      "  File \"c:\\users\\user\\documents\\twittersentimentanalysis\\env\\lib\\site-packages\\sklearn\\svm\\_base.py\", line 555, in _validate_targets\n",
      "    self.class_weight_ = compute_class_weight(self.class_weight,\n",
      "  File \"c:\\users\\user\\documents\\twittersentimentanalysis\\env\\lib\\site-packages\\sklearn\\utils\\validation.py\", line 63, in inner_f\n",
      "    return f(*args, **kwargs)\n",
      "  File \"c:\\users\\user\\documents\\twittersentimentanalysis\\env\\lib\\site-packages\\sklearn\\utils\\class_weight.py\", line 63, in compute_class_weight\n",
      "    raise ValueError(\"class_weight must be dict, 'balanced', or None,\"\n",
      "ValueError: class_weight must be dict, 'balanced', or None, got: 'none'\n",
      "\n",
      "\n"
     ]
    },
    {
     "name": "stderr",
     "output_type": "stream",
     "text": [
      "c:\\users\\user\\documents\\twittersentimentanalysis\\env\\lib\\site-packages\\sklearn\\model_selection\\_search.py:918: UserWarning:\n",
      "\n",
      "One or more of the test scores are non-finite: [       nan        nan 0.59490109 0.47213922        nan        nan\n",
      " 0.82793337 0.80504014        nan        nan 0.90644432 0.89910401\n",
      "        nan        nan 0.91262951 0.9068715 ]\n",
      "\n"
     ]
    },
    {
     "name": "stdout",
     "output_type": "stream",
     "text": [
      "Best estimator is: {'clf__C': 10, 'clf__class_weight': 'balanced', 'clf__kernel': 'linear'}\n",
      "F1-Score (macro avg) on train: 91.26%\n"
     ]
    }
   ],
   "source": [
    "param_grid = {'clf__kernel':['linear', 'rbf'],\n",
    "             'clf__C':[0.01,0.1,1,10],\n",
    "             'clf__class_weight':['none', 'balanced']}\n",
    "\n",
    "text_clf_svc = Pipeline([('tfidf', TfidfVectorizer()), ('clf', SVC(random_state=42))])\n",
    "grid_search_svm = GridSearchCV(text_clf_svc, param_grid, cv=5, scoring='f1_macro')\n",
    "\n",
    "grid_search_svm.fit(X_train,y_train)\n",
    "\n",
    "print(\"Best estimator is: \"+str(grid_search_svm.best_params_))\n",
    "print(\"F1-Score (macro avg) on train: \"+\"{0:.2%}\".format(grid_search_svm.best_score_))"
   ]
  },
  {
   "cell_type": "code",
   "execution_count": 226,
   "id": "vocal-earth",
   "metadata": {},
   "outputs": [],
   "source": [
    "predictions = grid_search_svm.best_estimator_.predict(X_test)"
   ]
  },
  {
   "cell_type": "code",
   "execution_count": 227,
   "id": "ordered-ideal",
   "metadata": {},
   "outputs": [
    {
     "name": "stdout",
     "output_type": "stream",
     "text": [
      "              precision    recall  f1-score   support\n",
      "\n",
      "    Negative       0.93      0.93      0.93       602\n",
      "     Neutral       0.91      0.94      0.93       617\n",
      "    Positive       0.94      0.90      0.92       447\n",
      "\n",
      "    accuracy                           0.93      1666\n",
      "   macro avg       0.93      0.92      0.93      1666\n",
      "weighted avg       0.93      0.93      0.93      1666\n",
      "\n"
     ]
    }
   ],
   "source": [
    "print(classification_report(y_test,predictions))"
   ]
  },
  {
   "cell_type": "code",
   "execution_count": 228,
   "id": "understanding-farming",
   "metadata": {},
   "outputs": [
    {
     "name": "stdout",
     "output_type": "stream",
     "text": [
      "0.9250835199565678\n"
     ]
    }
   ],
   "source": [
    "print(f1_score(y_test,predictions,average='macro'))"
   ]
  },
  {
   "cell_type": "code",
   "execution_count": 229,
   "id": "hollywood-mixer",
   "metadata": {},
   "outputs": [
    {
     "data": {
      "image/png": "[encoded data removed]",
      "text/plain": [
       "<Figure size 432x288 with 2 Axes>"
      ]
     },
     "metadata": {
      "needs_background": "light"
     },
     "output_type": "display_data"
    }
   ],
   "source": [
    "plot_confusion_matrix(grid_search_svm.best_estimator_, X_test, y_test, cmap='Blues')\n",
    "plt.savefig('Plots/svm_hypertuned')"
   ]
  },
  {
   "cell_type": "markdown",
   "id": "elder-error",
   "metadata": {},
   "source": [
    "### Random Forest"
   ]
  },
  {
   "cell_type": "code",
   "execution_count": 230,
   "id": "southeast-aggregate",
   "metadata": {},
   "outputs": [
    {
     "name": "stdout",
     "output_type": "stream",
     "text": [
      "Best estimator is: {'clf__max_depth': 200, 'clf__max_features': 15, 'clf__n_estimators': 200}\n",
      "F1-Score (macro avg) on train: 89.60%\n"
     ]
    }
   ],
   "source": [
    "param_grid = {'clf__n_estimators':[50,100,150,200],\n",
    "             'clf__max_features':[2,5,10,15],\n",
    "              'clf__max_depth':[50,100,150,200]}\n",
    "\n",
    "text_clf_randfo = Pipeline([('tfidf', TfidfVectorizer()), ('clf', RandomForestClassifier(random_state=42))])\n",
    "grid_search_randfo = GridSearchCV(text_clf_randfo,param_grid,cv=5,scoring='f1_macro')\n",
    "\n",
    "grid_search_randfo.fit(X_train,y_train)\n",
    "\n",
    "print(\"Best estimator is: \"+str(grid_search_randfo.best_params_))\n",
    "print(\"F1-Score (macro avg) on train: \"+\"{0:.2%}\".format(grid_search_randfo.best_score_))"
   ]
  },
  {
   "cell_type": "code",
   "execution_count": 231,
   "id": "absent-lawrence",
   "metadata": {},
   "outputs": [],
   "source": [
    "predictions = grid_search_randfo.best_estimator_.predict(X_test)"
   ]
  },
  {
   "cell_type": "code",
   "execution_count": 232,
   "id": "decimal-trader",
   "metadata": {},
   "outputs": [
    {
     "name": "stdout",
     "output_type": "stream",
     "text": [
      "              precision    recall  f1-score   support\n",
      "\n",
      "    Negative       0.97      0.87      0.91       602\n",
      "     Neutral       0.83      0.98      0.90       617\n",
      "    Positive       0.96      0.86      0.91       447\n",
      "\n",
      "    accuracy                           0.91      1666\n",
      "   macro avg       0.92      0.90      0.91      1666\n",
      "weighted avg       0.91      0.91      0.91      1666\n",
      "\n"
     ]
    }
   ],
   "source": [
    "print(classification_report(y_test,predictions))"
   ]
  },
  {
   "cell_type": "code",
   "execution_count": 233,
   "id": "later-works",
   "metadata": {},
   "outputs": [
    {
     "name": "stdout",
     "output_type": "stream",
     "text": [
      "0.9056722978830725\n"
     ]
    }
   ],
   "source": [
    "print(f1_score(y_test,predictions,average='macro'))"
   ]
  },
  {
   "cell_type": "code",
   "execution_count": 234,
   "id": "settled-qualification",
   "metadata": {},
   "outputs": [
    {
     "data": {
      "image/png": "[encoded data removed]",
      "text/plain": [
       "<Figure size 432x288 with 2 Axes>"
      ]
     },
     "metadata": {
      "needs_background": "light"
     },
     "output_type": "display_data"
    }
   ],
   "source": [
    "plot_confusion_matrix(grid_search_randfo.best_estimator_, X_test, y_test, cmap='Blues')\n",
    "plt.savefig('Plots/random_forests_hypertuned')"
   ]
  },
  {
   "cell_type": "markdown",
   "id": "dense-checklist",
   "metadata": {},
   "source": [
    "# Predict elections on new data"
   ]
  },
  {
   "cell_type": "code",
   "execution_count": 235,
   "id": "matched-disney",
   "metadata": {},
   "outputs": [],
   "source": [
    "trump_df = pd.read_csv('Data/hashtag_donaldtrump.csv', lineterminator='\\n')\n",
    "biden_df = pd.read_csv('Data/hashtag_joebiden.csv', lineterminator='\\n')"
   ]
  },
  {
   "cell_type": "code",
   "execution_count": 236,
   "id": "vocational-shepherd",
   "metadata": {},
   "outputs": [],
   "source": [
    "trump_df = trump_df.drop(columns=['tweet_id','user_id','user_name','user_screen_name','user_description','user_join_date','collected_at'])\n",
    "biden_df = biden_df.drop(columns=['tweet_id','user_id','user_name','user_screen_name','user_description','user_join_date','collected_at'])"
   ]
  },
  {
   "cell_type": "code",
   "execution_count": 237,
   "id": "third-copying",
   "metadata": {},
   "outputs": [],
   "source": [
    "trump_df['country'].replace({\"United States of America\":\"United States\"}, inplace=True)\n",
    "biden_df['country'].replace({\"United States of America\":\"United States\"}, inplace=True)"
   ]
  },
  {
   "cell_type": "code",
   "execution_count": 238,
   "id": "exact-massage",
   "metadata": {},
   "outputs": [],
   "source": [
    "trump_df = trump_df.loc[trump_df['country'] == \"United States\"]\n",
    "biden_df = biden_df.loc[biden_df['country'] == \"United States\"]"
   ]
  },
  {
   "cell_type": "code",
   "execution_count": 239,
   "id": "sized-checkout",
   "metadata": {},
   "outputs": [],
   "source": [
    "trump_df = trump_df.dropna()\n",
    "biden_df = biden_df.dropna()"
   ]
  },
  {
   "cell_type": "code",
   "execution_count": 240,
   "id": "indirect-spare",
   "metadata": {},
   "outputs": [],
   "source": [
    "trump_df.loc[:,'subject'] = 'Donald Trump'\n",
    "biden_df.loc[:,'subject'] = 'Joe Biden'"
   ]
  },
  {
   "cell_type": "code",
   "execution_count": 241,
   "id": "lovely-depth",
   "metadata": {},
   "outputs": [],
   "source": [
    "trump_df = trump_df[(trump_df['state'] != 'District of Columbia') & (trump_df['state'] != 'Puerto Rico')]\n",
    "biden_df = biden_df[(biden_df['state'] != 'District of Columbia') & (biden_df['state'] != 'Puerto Rico')]"
   ]
  },
  {
   "cell_type": "code",
   "execution_count": 242,
   "id": "phantom-therapy",
   "metadata": {},
   "outputs": [],
   "source": [
    "trump_df['created_at'] = pd.to_datetime(trump_df['created_at'], format='%Y-%m-%d %H:%M:%S')\n",
    "biden_df['created_at'] = pd.to_datetime(biden_df['created_at'], format='%Y-%m-%d %H:%M:%S')"
   ]
  },
  {
   "cell_type": "code",
   "execution_count": 243,
   "id": "furnished-voltage",
   "metadata": {},
   "outputs": [],
   "source": [
    "trump_df = trump_df[trump_df['created_at'] < \"2020-11-3 00:00:00\"]\n",
    "biden_df = biden_df[biden_df['created_at'] < \"2020-11-3 00:00:00\"]"
   ]
  },
  {
   "cell_type": "code",
   "execution_count": 244,
   "id": "elder-prairie",
   "metadata": {},
   "outputs": [],
   "source": [
    "trump_df['cleaned_text'] = trump_df['tweet'].apply(clean_tweet)\n",
    "biden_df['cleaned_text'] = biden_df['tweet'].apply(clean_tweet)"
   ]
  },
  {
   "cell_type": "code",
   "execution_count": 245,
   "id": "descending-recovery",
   "metadata": {},
   "outputs": [],
   "source": [
    "# make all text lowercase\n",
    "trump_df['cleaned_text'] = trump_df['cleaned_text'].apply(lambda x: x.lower())\n",
    "biden_df['cleaned_text'] = biden_df['cleaned_text'].apply(lambda x: x.lower())"
   ]
  },
  {
   "cell_type": "code",
   "execution_count": 246,
   "id": "sudden-geneva",
   "metadata": {},
   "outputs": [
    {
     "name": "stderr",
     "output_type": "stream",
     "text": [
      "<ipython-input-246-e8f7946ad7f5>:2: FutureWarning:\n",
      "\n",
      "The default value of regex will change from True to False in a future version.\n",
      "\n",
      "<ipython-input-246-e8f7946ad7f5>:3: FutureWarning:\n",
      "\n",
      "The default value of regex will change from True to False in a future version.\n",
      "\n"
     ]
    }
   ],
   "source": [
    "# remove punctuations and numbers and emoji\n",
    "trump_df['cleaned_text'] = trump_df['cleaned_text'].str.replace(\"[^a-zA-z]\", \" \")\n",
    "biden_df['cleaned_text'] = biden_df['cleaned_text'].str.replace(\"[^a-zA-z]\", \" \")"
   ]
  },
  {
   "cell_type": "code",
   "execution_count": 247,
   "id": "floppy-wholesale",
   "metadata": {},
   "outputs": [],
   "source": [
    "#tokenize text\n",
    "trump_df['tokenized_text'] = trump_df['cleaned_text'].apply(lambda x: word_tokenize(x))\n",
    "biden_df['tokenized_text'] = biden_df['cleaned_text'].apply(lambda x: word_tokenize(x))"
   ]
  },
  {
   "cell_type": "code",
   "execution_count": 248,
   "id": "facial-hacker",
   "metadata": {},
   "outputs": [],
   "source": [
    "#remove stopwords\n",
    "trump_df['tokenized_text'] = trump_df['tokenized_text'].apply(remove_stopwords)\n",
    "biden_df['tokenized_text'] = biden_df['tokenized_text'].apply(remove_stopwords)"
   ]
  },
  {
   "cell_type": "code",
   "execution_count": 249,
   "id": "valued-shannon",
   "metadata": {},
   "outputs": [],
   "source": [
    "#lemmatize text\n",
    "trump_df['lemmatized_text'] = trump_df['tokenized_text']. apply(lemmatize_tweet)\n",
    "biden_df['lemmatized_text'] = biden_df['tokenized_text']. apply(lemmatize_tweet)"
   ]
  },
  {
   "cell_type": "code",
   "execution_count": 250,
   "id": "experienced-appeal",
   "metadata": {},
   "outputs": [],
   "source": [
    "#stem text\n",
    "trump_df['stemmed_text'] = trump_df['lemmatized_text'].apply(stem_tweet)\n",
    "biden_df['stemmed_text'] = biden_df['lemmatized_text'].apply(stem_tweet)"
   ]
  },
  {
   "cell_type": "code",
   "execution_count": 251,
   "id": "colored-theme",
   "metadata": {},
   "outputs": [],
   "source": [
    "#de tokenize text\n",
    "trump_df['lemmatized_string'] = trump_df['lemmatized_text'].apply(lambda x: ' '.join(x))\n",
    "trump_df['stemmed_string'] = trump_df['stemmed_text'].apply(lambda x: ' '.join(x))\n",
    "\n",
    "biden_df['lemmatized_string'] = biden_df['lemmatized_text'].apply(lambda x: ' '.join(x))\n",
    "biden_df['stemmed_string'] = biden_df['stemmed_text'].apply(lambda x: ' '.join(x))"
   ]
  },
  {
   "cell_type": "code",
   "execution_count": 252,
   "id": "regional-capability",
   "metadata": {},
   "outputs": [],
   "source": [
    "df = pd.concat([trump_df, biden_df])"
   ]
  },
  {
   "cell_type": "code",
   "execution_count": 253,
   "id": "supposed-richardson",
   "metadata": {},
   "outputs": [],
   "source": [
    "df['Sentiment'] = grid_search_svm.best_estimator_.predict(df['lemmatized_string'])"
   ]
  },
  {
   "cell_type": "code",
   "execution_count": 254,
   "id": "formal-bankruptcy",
   "metadata": {},
   "outputs": [],
   "source": [
    "positive_trump = len(df[(df['subject'] == 'Donald Trump') & (df['Sentiment'] == 'Positive')])\n",
    "neutral_trump = len(df[(df['subject'] == 'Donald Trump') & (df['Sentiment'] == 'Neutral')])\n",
    "negative_trump = len(df[(df['subject'] == 'Donald Trump') & (df['Sentiment'] == 'Negative')])\n",
    "\n",
    "positive_biden = len(df[(df['subject'] == 'Joe Biden') & (df['Sentiment'] == 'Positive')])\n",
    "neutral_biden = len(df[(df['subject'] == 'Joe Biden') & (df['Sentiment'] == 'Neutral')])\n",
    "negative_biden = len(df[(df['subject'] == 'Joe Biden') & (df['Sentiment'] == 'Negative')])"
   ]
  },
  {
   "cell_type": "code",
   "execution_count": 255,
   "id": "amazing-least",
   "metadata": {},
   "outputs": [
    {
     "data": {
      "text/html": [
       "<div>\n",
       "<style scoped>\n",
       "    .dataframe tbody tr th:only-of-type {\n",
       "        vertical-align: middle;\n",
       "    }\n",
       "\n",
       "    .dataframe tbody tr th {\n",
       "        vertical-align: top;\n",
       "    }\n",
       "\n",
       "    .dataframe thead th {\n",
       "        text-align: right;\n",
       "    }\n",
       "</style>\n",
       "<table border=\"1\" class=\"dataframe\">\n",
       "  <thead>\n",
       "    <tr style=\"text-align: right;\">\n",
       "      <th></th>\n",
       "      <th>Positive</th>\n",
       "      <th>Neutral</th>\n",
       "      <th>Negative</th>\n",
       "    </tr>\n",
       "  </thead>\n",
       "  <tbody>\n",
       "    <tr>\n",
       "      <th>Donald Trump</th>\n",
       "      <td>18094</td>\n",
       "      <td>19740</td>\n",
       "      <td>20489</td>\n",
       "    </tr>\n",
       "    <tr>\n",
       "      <th>Joe Biden</th>\n",
       "      <td>14325</td>\n",
       "      <td>18483</td>\n",
       "      <td>12699</td>\n",
       "    </tr>\n",
       "  </tbody>\n",
       "</table>\n",
       "</div>"
      ],
      "text/plain": [
       "             Positive Neutral Negative\n",
       "Donald Trump    18094   19740    20489\n",
       "Joe Biden       14325   18483    12699"
      ]
     },
     "execution_count": 255,
     "metadata": {},
     "output_type": "execute_result"
    }
   ],
   "source": [
    "myindex = ['Donald Trump', 'Joe Biden']\n",
    "mycolumns = ['Positive', 'Neutral', 'Negative']\n",
    "sentimet_df = pd.DataFrame(index=myindex, columns=mycolumns)\n",
    "\n",
    "sentimet_df.at['Donald Trump', 'Positive'] = positive_trump\n",
    "sentimet_df.at['Donald Trump', 'Neutral'] = neutral_trump\n",
    "sentimet_df.at['Donald Trump', 'Negative'] = negative_trump\n",
    "\n",
    "sentimet_df.at['Joe Biden', 'Positive'] = positive_biden\n",
    "sentimet_df.at['Joe Biden', 'Neutral'] = neutral_biden\n",
    "sentimet_df.at['Joe Biden', 'Negative'] = negative_biden\n",
    "\n",
    "sentimet_df"
   ]
  },
  {
   "cell_type": "code",
   "execution_count": 256,
   "id": "cardiovascular-hardware",
   "metadata": {},
   "outputs": [],
   "source": [
    "labels = list(sentimet_df.index)\n",
    "labels.append('Others')\n",
    "percentage_trump = round(((positive_trump + negative_biden + neutral_trump*0.3)/len(df))*100, 2)\n",
    "percentage_biden = round(((positive_biden + negative_trump + neutral_biden*0.3)/len(df))*100, 2)\n",
    "percentage_others = round(100 - percentage_biden - percentage_trump, 2)\n",
    "data = [percentage_trump, percentage_biden, percentage_others]"
   ]
  },
  {
   "cell_type": "code",
   "execution_count": 257,
   "id": "institutional-clark",
   "metadata": {},
   "outputs": [
    {
     "data": {
      "image/png": "[encoded data removed]",
      "text/plain": [
       "<Figure size 720x288 with 1 Axes>"
      ]
     },
     "metadata": {},
     "output_type": "display_data"
    }
   ],
   "source": [
    "fig, axes = plt.subplots(figsize=(10,4))\n",
    "axes.pie(data, labels=labels, autopct='%1.1f%%',radius=1.2,colors=['red','blue','gray'])\n",
    "fig.suptitle(\"Election estimations\",fontsize=16)\n",
    "fig.savefig('Plots/estimations_with_hypertuned_model.png')"
   ]
  },
  {
   "cell_type": "code",
   "execution_count": 258,
   "id": "brilliant-nomination",
   "metadata": {},
   "outputs": [
    {
     "data": {
      "text/plain": [
       "Donald Trump    58323\n",
       "Joe Biden       45507\n",
       "Name: subject, dtype: int64"
      ]
     },
     "execution_count": 258,
     "metadata": {},
     "output_type": "execute_result"
    }
   ],
   "source": [
    "df['subject'].value_counts()"
   ]
  },
  {
   "cell_type": "code",
   "execution_count": 270,
   "id": "third-motor",
   "metadata": {},
   "outputs": [
    {
     "data": {
      "text/html": [
       "<div>\n",
       "<style scoped>\n",
       "    .dataframe tbody tr th:only-of-type {\n",
       "        vertical-align: middle;\n",
       "    }\n",
       "\n",
       "    .dataframe tbody tr th {\n",
       "        vertical-align: top;\n",
       "    }\n",
       "\n",
       "    .dataframe thead th {\n",
       "        text-align: right;\n",
       "    }\n",
       "</style>\n",
       "<table border=\"1\" class=\"dataframe\">\n",
       "  <thead>\n",
       "    <tr style=\"text-align: right;\">\n",
       "      <th></th>\n",
       "      <th>created_at</th>\n",
       "      <th>tweet</th>\n",
       "      <th>likes</th>\n",
       "      <th>retweet_count</th>\n",
       "      <th>source</th>\n",
       "      <th>user_followers_count</th>\n",
       "      <th>user_location</th>\n",
       "      <th>lat</th>\n",
       "      <th>long</th>\n",
       "      <th>city</th>\n",
       "      <th>...</th>\n",
       "      <th>state</th>\n",
       "      <th>state_code</th>\n",
       "      <th>subject</th>\n",
       "      <th>cleaned_text</th>\n",
       "      <th>tokenized_text</th>\n",
       "      <th>lemmatized_text</th>\n",
       "      <th>stemmed_text</th>\n",
       "      <th>lemmatized_string</th>\n",
       "      <th>stemmed_string</th>\n",
       "      <th>Sentiment</th>\n",
       "    </tr>\n",
       "  </thead>\n",
       "  <tbody>\n",
       "    <tr>\n",
       "      <th>2</th>\n",
       "      <td>2020-10-15 00:00:02</td>\n",
       "      <td>#Trump: As a student I used to hear for years, for ten years, I heard China!...</td>\n",
       "      <td>2.0</td>\n",
       "      <td>1.0</td>\n",
       "      <td>Twitter Web App</td>\n",
       "      <td>1185.0</td>\n",
       "      <td>Portland</td>\n",
       "      <td>45.520247</td>\n",
       "      <td>-122.674195</td>\n",
       "      <td>Portland</td>\n",
       "      <td>...</td>\n",
       "      <td>Oregon</td>\n",
       "      <td>OR</td>\n",
       "      <td>Donald Trump</td>\n",
       "      <td>as a student i used to hear for years  for ten years  i heard china  in   ...</td>\n",
       "      <td>[student, used, hear, years, ten, years, heard, china, know, many, asked, ma...</td>\n",
       "      <td>[student, use, hear, years, ten, years, hear, china, know, many, ask, many, ...</td>\n",
       "      <td>[student, use, hear, year, ten, year, hear, china, know, mani, ask, mani, sa...</td>\n",
       "      <td>student use hear years ten years hear china know many ask many say sir know ...</td>\n",
       "      <td>student use hear year ten year hear china know mani ask mani say sir know mi...</td>\n",
       "      <td>Positive</td>\n",
       "    </tr>\n",
       "    <tr>\n",
       "      <th>11</th>\n",
       "      <td>2020-10-15 00:00:25</td>\n",
       "      <td>In 2020, #NYPost is being #censorship #CENSORED by Twitter to manipulate a U...</td>\n",
       "      <td>0.0</td>\n",
       "      <td>0.0</td>\n",
       "      <td>Twitter for iPhone</td>\n",
       "      <td>1396.0</td>\n",
       "      <td>Chicago, Illinois</td>\n",
       "      <td>41.875562</td>\n",
       "      <td>-87.624421</td>\n",
       "      <td>Chicago</td>\n",
       "      <td>...</td>\n",
       "      <td>Illinois</td>\n",
       "      <td>IL</td>\n",
       "      <td>Donald Trump</td>\n",
       "      <td>in        is being   by twitter to manipulate a us election in favor of  and...</td>\n",
       "      <td>[twitter, manipulate, us, election, favor, ccp, porn, twitter, always, fine,...</td>\n",
       "      <td>[twitter, manipulate, us, election, favor, ccp, porn, twitter, always, fine,...</td>\n",
       "      <td>[twitter, manipul, us, elect, favor, ccp, porn, twitter, alway, fine, sick]</td>\n",
       "      <td>twitter manipulate us election favor ccp porn twitter always fine sick</td>\n",
       "      <td>twitter manipul us elect favor ccp porn twitter alway fine sick</td>\n",
       "      <td>Positive</td>\n",
       "    </tr>\n",
       "    <tr>\n",
       "      <th>12</th>\n",
       "      <td>2020-10-15 00:00:26</td>\n",
       "      <td>#Trump #PresidentTrump #Trump2020LandslideVictory #Trump2020 #MAGA #KAG #4Mo...</td>\n",
       "      <td>3.0</td>\n",
       "      <td>5.0</td>\n",
       "      <td>Twitter for Android</td>\n",
       "      <td>496.0</td>\n",
       "      <td>San Diego, CA</td>\n",
       "      <td>32.717421</td>\n",
       "      <td>-117.162771</td>\n",
       "      <td>San Diego</td>\n",
       "      <td>...</td>\n",
       "      <td>California</td>\n",
       "      <td>CA</td>\n",
       "      <td>Donald Trump</td>\n",
       "      <td></td>\n",
       "      <td>[]</td>\n",
       "      <td>[]</td>\n",
       "      <td>[]</td>\n",
       "      <td></td>\n",
       "      <td></td>\n",
       "      <td>Neutral</td>\n",
       "    </tr>\n",
       "    <tr>\n",
       "      <th>22</th>\n",
       "      <td>2020-10-15 00:01:14</td>\n",
       "      <td>#Trump: Nobody likes to tell you this, but some of the farmers were doing be...</td>\n",
       "      <td>1.0</td>\n",
       "      <td>1.0</td>\n",
       "      <td>Twitter Web App</td>\n",
       "      <td>1185.0</td>\n",
       "      <td>Portland</td>\n",
       "      <td>45.520247</td>\n",
       "      <td>-122.674195</td>\n",
       "      <td>Portland</td>\n",
       "      <td>...</td>\n",
       "      <td>Oregon</td>\n",
       "      <td>OR</td>\n",
       "      <td>Donald Trump</td>\n",
       "      <td>nobody likes to tell you this  but some of the farmers were doing better t...</td>\n",
       "      <td>[nobody, likes, tell, farmers, better, way, working, asses, check, totally, ...</td>\n",
       "      <td>[nobody, like, tell, farmers, better, way, work, asses, check, totally, mail...</td>\n",
       "      <td>[nobodi, like, tell, farmer, better, way, work, ass, check, total, mail, right]</td>\n",
       "      <td>nobody like tell farmers better way work asses check totally mail right</td>\n",
       "      <td>nobodi like tell farmer better way work ass check total mail right</td>\n",
       "      <td>Positive</td>\n",
       "    </tr>\n",
       "    <tr>\n",
       "      <th>27</th>\n",
       "      <td>2020-10-15 00:01:23</td>\n",
       "      <td>Comments on this? \"Do Democrats Understand how Ruthless China is?\" https://t...</td>\n",
       "      <td>0.0</td>\n",
       "      <td>0.0</td>\n",
       "      <td>Twitter Web App</td>\n",
       "      <td>83.0</td>\n",
       "      <td>Tampa, Florida</td>\n",
       "      <td>27.947760</td>\n",
       "      <td>-82.458444</td>\n",
       "      <td>Tampa</td>\n",
       "      <td>...</td>\n",
       "      <td>Florida</td>\n",
       "      <td>FL</td>\n",
       "      <td>Donald Trump</td>\n",
       "      <td>comments on this   do democrats understand how ruthless china is</td>\n",
       "      <td>[comments, democrats, understand, ruthless, china]</td>\n",
       "      <td>[comment, democrats, understand, ruthless, china]</td>\n",
       "      <td>[comment, democrat, understand, ruthless, china]</td>\n",
       "      <td>comment democrats understand ruthless china</td>\n",
       "      <td>comment democrat understand ruthless china</td>\n",
       "      <td>Neutral</td>\n",
       "    </tr>\n",
       "  </tbody>\n",
       "</table>\n",
       "<p>5 rows × 22 columns</p>\n",
       "</div>"
      ],
      "text/plain": [
       "            created_at  \\\n",
       "2  2020-10-15 00:00:02   \n",
       "11 2020-10-15 00:00:25   \n",
       "12 2020-10-15 00:00:26   \n",
       "22 2020-10-15 00:01:14   \n",
       "27 2020-10-15 00:01:23   \n",
       "\n",
       "                                                                              tweet  \\\n",
       "2   #Trump: As a student I used to hear for years, for ten years, I heard China!...   \n",
       "11  In 2020, #NYPost is being #censorship #CENSORED by Twitter to manipulate a U...   \n",
       "12  #Trump #PresidentTrump #Trump2020LandslideVictory #Trump2020 #MAGA #KAG #4Mo...   \n",
       "22  #Trump: Nobody likes to tell you this, but some of the farmers were doing be...   \n",
       "27  Comments on this? \"Do Democrats Understand how Ruthless China is?\" https://t...   \n",
       "\n",
       "    likes  retweet_count               source  user_followers_count  \\\n",
       "2     2.0            1.0      Twitter Web App                1185.0   \n",
       "11    0.0            0.0   Twitter for iPhone                1396.0   \n",
       "12    3.0            5.0  Twitter for Android                 496.0   \n",
       "22    1.0            1.0      Twitter Web App                1185.0   \n",
       "27    0.0            0.0      Twitter Web App                  83.0   \n",
       "\n",
       "        user_location        lat        long       city  ...       state  \\\n",
       "2            Portland  45.520247 -122.674195   Portland  ...      Oregon   \n",
       "11  Chicago, Illinois  41.875562  -87.624421    Chicago  ...    Illinois   \n",
       "12      San Diego, CA  32.717421 -117.162771  San Diego  ...  California   \n",
       "22           Portland  45.520247 -122.674195   Portland  ...      Oregon   \n",
       "27     Tampa, Florida  27.947760  -82.458444      Tampa  ...     Florida   \n",
       "\n",
       "   state_code       subject  \\\n",
       "2          OR  Donald Trump   \n",
       "11         IL  Donald Trump   \n",
       "12         CA  Donald Trump   \n",
       "22         OR  Donald Trump   \n",
       "27         FL  Donald Trump   \n",
       "\n",
       "                                                                       cleaned_text  \\\n",
       "2     as a student i used to hear for years  for ten years  i heard china  in   ...   \n",
       "11  in        is being   by twitter to manipulate a us election in favor of  and...   \n",
       "12                                                                                    \n",
       "22    nobody likes to tell you this  but some of the farmers were doing better t...   \n",
       "27  comments on this   do democrats understand how ruthless china is                  \n",
       "\n",
       "                                                                     tokenized_text  \\\n",
       "2   [student, used, hear, years, ten, years, heard, china, know, many, asked, ma...   \n",
       "11  [twitter, manipulate, us, election, favor, ccp, porn, twitter, always, fine,...   \n",
       "12                                                                               []   \n",
       "22  [nobody, likes, tell, farmers, better, way, working, asses, check, totally, ...   \n",
       "27                               [comments, democrats, understand, ruthless, china]   \n",
       "\n",
       "                                                                    lemmatized_text  \\\n",
       "2   [student, use, hear, years, ten, years, hear, china, know, many, ask, many, ...   \n",
       "11  [twitter, manipulate, us, election, favor, ccp, porn, twitter, always, fine,...   \n",
       "12                                                                               []   \n",
       "22  [nobody, like, tell, farmers, better, way, work, asses, check, totally, mail...   \n",
       "27                                [comment, democrats, understand, ruthless, china]   \n",
       "\n",
       "                                                                       stemmed_text  \\\n",
       "2   [student, use, hear, year, ten, year, hear, china, know, mani, ask, mani, sa...   \n",
       "11      [twitter, manipul, us, elect, favor, ccp, porn, twitter, alway, fine, sick]   \n",
       "12                                                                               []   \n",
       "22  [nobodi, like, tell, farmer, better, way, work, ass, check, total, mail, right]   \n",
       "27                                 [comment, democrat, understand, ruthless, china]   \n",
       "\n",
       "                                                                  lemmatized_string  \\\n",
       "2   student use hear years ten years hear china know many ask many say sir know ...   \n",
       "11           twitter manipulate us election favor ccp porn twitter always fine sick   \n",
       "12                                                                                    \n",
       "22          nobody like tell farmers better way work asses check totally mail right   \n",
       "27                                      comment democrats understand ruthless china   \n",
       "\n",
       "                                                                     stemmed_string  \\\n",
       "2   student use hear year ten year hear china know mani ask mani say sir know mi...   \n",
       "11                  twitter manipul us elect favor ccp porn twitter alway fine sick   \n",
       "12                                                                                    \n",
       "22               nobodi like tell farmer better way work ass check total mail right   \n",
       "27                                       comment democrat understand ruthless china   \n",
       "\n",
       "   Sentiment  \n",
       "2   Positive  \n",
       "11  Positive  \n",
       "12   Neutral  \n",
       "22  Positive  \n",
       "27   Neutral  \n",
       "\n",
       "[5 rows x 22 columns]"
      ]
     },
     "execution_count": 270,
     "metadata": {},
     "output_type": "execute_result"
    }
   ],
   "source": [
    "df.head()"
   ]
  },
  {
   "cell_type": "markdown",
   "id": "legal-dietary",
   "metadata": {},
   "source": [
    "# NLTK Sentiment Analysis"
   ]
  },
  {
   "cell_type": "code",
   "execution_count": 271,
   "id": "challenging-harbor",
   "metadata": {},
   "outputs": [
    {
     "name": "stderr",
     "output_type": "stream",
     "text": [
      "[nltk_data] Downloading package vader_lexicon to\n",
      "[nltk_data]     C:\\Users\\user\\AppData\\Roaming\\nltk_data...\n",
      "[nltk_data]   Package vader_lexicon is already up-to-date!\n"
     ]
    },
    {
     "data": {
      "text/plain": [
       "True"
      ]
     },
     "execution_count": 271,
     "metadata": {},
     "output_type": "execute_result"
    }
   ],
   "source": [
    "import nltk\n",
    "from nltk.sentiment.vader import SentimentIntensityAnalyzer\n",
    "nltk.download('vader_lexicon')"
   ]
  },
  {
   "cell_type": "code",
   "execution_count": 272,
   "id": "grateful-morning",
   "metadata": {},
   "outputs": [],
   "source": [
    "sid = SentimentIntensityAnalyzer()"
   ]
  },
  {
   "cell_type": "code",
   "execution_count": 273,
   "id": "attractive-database",
   "metadata": {},
   "outputs": [],
   "source": [
    "def tweet_polarity(tweet):\n",
    "    return sid.polarity_scores(tweet)"
   ]
  },
  {
   "cell_type": "code",
   "execution_count": 298,
   "id": "orange-petite",
   "metadata": {},
   "outputs": [],
   "source": [
    "df['Polarity'] = df['stemmed_string'].apply(tweet_polarity)"
   ]
  },
  {
   "cell_type": "code",
   "execution_count": 299,
   "id": "about-teacher",
   "metadata": {},
   "outputs": [],
   "source": [
    "def sentimentVerdict(polarity):\n",
    "    #print(polarity['compound'])\n",
    "    if polarity['compound'] >= 0.05:\n",
    "        return \"Positive\"\n",
    "    elif polarity['compound'] <= -0.05:\n",
    "        return \"Negative\"\n",
    "    else:\n",
    "        return \"Neutral\""
   ]
  },
  {
   "cell_type": "code",
   "execution_count": 300,
   "id": "informative-opinion",
   "metadata": {},
   "outputs": [],
   "source": [
    "df['NLTK_Sentiment'] = df['Polarity'].apply(sentimentVerdict)"
   ]
  },
  {
   "cell_type": "code",
   "execution_count": 301,
   "id": "adequate-energy",
   "metadata": {},
   "outputs": [
    {
     "name": "stdout",
     "output_type": "stream",
     "text": [
      "              precision    recall  f1-score   support\n",
      "\n",
      "    Negative       0.64      0.58      0.61     33188\n",
      "     Neutral       0.67      0.72      0.70     38223\n",
      "    Positive       0.69      0.70      0.70     32419\n",
      "\n",
      "    accuracy                           0.67    103830\n",
      "   macro avg       0.67      0.67      0.67    103830\n",
      "weighted avg       0.67      0.67      0.67    103830\n",
      "\n"
     ]
    }
   ],
   "source": [
    "print(classification_report(df['Sentiment'],df['NLTK_Sentiment']))"
   ]
  },
  {
   "cell_type": "code",
   "execution_count": 307,
   "id": "tender-conversation",
   "metadata": {},
   "outputs": [],
   "source": [
    "positive_trump_nltk = len(df[(df['subject'] == 'Donald Trump') & (df['NLTK_Sentiment'] == 'Positive')])\n",
    "neutral_trump_nltk = len(df[(df['subject'] == 'Donald Trump') & (df['NLTK_Sentiment'] == 'Neutral')])\n",
    "negative_trump_nltk = len(df[(df['subject'] == 'Donald Trump') & (df['NLTK_Sentiment'] == 'Negative')])\n",
    "\n",
    "positive_biden_nltk = len(df[(df['subject'] == 'Joe Biden') & (df['NLTK_Sentiment'] == 'Positive')])\n",
    "neutral_biden_nltk = len(df[(df['subject'] == 'Joe Biden') & (df['NLTK_Sentiment'] == 'Neutral')])\n",
    "negative_biden_nltk = len(df[(df['subject'] == 'Joe Biden') & (df['NLTK_Sentiment'] == 'Negative')])"
   ]
  },
  {
   "cell_type": "code",
   "execution_count": 308,
   "id": "opening-complement",
   "metadata": {},
   "outputs": [
    {
     "data": {
      "text/html": [
       "<div>\n",
       "<style scoped>\n",
       "    .dataframe tbody tr th:only-of-type {\n",
       "        vertical-align: middle;\n",
       "    }\n",
       "\n",
       "    .dataframe tbody tr th {\n",
       "        vertical-align: top;\n",
       "    }\n",
       "\n",
       "    .dataframe thead th {\n",
       "        text-align: right;\n",
       "    }\n",
       "</style>\n",
       "<table border=\"1\" class=\"dataframe\">\n",
       "  <thead>\n",
       "    <tr style=\"text-align: right;\">\n",
       "      <th></th>\n",
       "      <th>Positive</th>\n",
       "      <th>Neutral</th>\n",
       "      <th>Negative</th>\n",
       "    </tr>\n",
       "  </thead>\n",
       "  <tbody>\n",
       "    <tr>\n",
       "      <th>Donald Trump</th>\n",
       "      <td>17961</td>\n",
       "      <td>21527</td>\n",
       "      <td>18835</td>\n",
       "    </tr>\n",
       "    <tr>\n",
       "      <th>Joe Biden</th>\n",
       "      <td>14745</td>\n",
       "      <td>19678</td>\n",
       "      <td>11084</td>\n",
       "    </tr>\n",
       "  </tbody>\n",
       "</table>\n",
       "</div>"
      ],
      "text/plain": [
       "             Positive Neutral Negative\n",
       "Donald Trump    17961   21527    18835\n",
       "Joe Biden       14745   19678    11084"
      ]
     },
     "execution_count": 308,
     "metadata": {},
     "output_type": "execute_result"
    }
   ],
   "source": [
    "myindex = ['Donald Trump', 'Joe Biden']\n",
    "mycolumns = ['Positive', 'Neutral', 'Negative']\n",
    "sentimet_df_nltk = pd.DataFrame(index=myindex, columns=mycolumns)\n",
    "\n",
    "sentimet_df_nltk.at['Donald Trump', 'Positive'] = positive_trump_nltk\n",
    "sentimet_df_nltk.at['Donald Trump', 'Neutral'] = neutral_trump_nltk\n",
    "sentimet_df_nltk.at['Donald Trump', 'Negative'] = negative_trump_nltk\n",
    "\n",
    "sentimet_df_nltk.at['Joe Biden', 'Positive'] = positive_biden_nltk\n",
    "sentimet_df_nltk.at['Joe Biden', 'Neutral'] = neutral_biden_nltk\n",
    "sentimet_df_nltk.at['Joe Biden', 'Negative'] = negative_biden_nltk\n",
    "\n",
    "sentimet_df_nltk"
   ]
  },
  {
   "cell_type": "code",
   "execution_count": 309,
   "id": "excess-retention",
   "metadata": {},
   "outputs": [],
   "source": [
    "labels_nltk = list(sentimet_df_nltk.index)\n",
    "labels_nltk.append('Others')\n",
    "percentage_trump_nltk = round(((positive_trump_nltk + negative_biden_nltk + neutral_trump_nltk*0.3)/len(df))*100, 2)\n",
    "percentage_biden_nltk = round(((positive_biden_nltk + negative_trump_nltk + neutral_biden_nltk*0.3)/len(df))*100, 2)\n",
    "percentage_others_nltk = round(100 - percentage_biden_nltk - percentage_trump_nltk, 2)\n",
    "data = [percentage_trump_nltk, percentage_biden_nltk, percentage_others_nltk]"
   ]
  },
  {
   "cell_type": "code",
   "execution_count": 311,
   "id": "beautiful-plastic",
   "metadata": {},
   "outputs": [
    {
     "data": {
      "image/png": "[encoded data removed]",
      "text/plain": [
       "<Figure size 720x288 with 1 Axes>"
      ]
     },
     "metadata": {},
     "output_type": "display_data"
    }
   ],
   "source": [
    "fig, axes = plt.subplots(figsize=(10,4))\n",
    "axes.pie(data, labels=labels_nltk, autopct='%1.1f%%',radius=1.2,colors=['red','blue','gray'])\n",
    "fig.suptitle(\"NLTK Election estimations\",fontsize=16)\n",
    "fig.savefig('Plots/NLTK_estimations_on_new_data.png')"
   ]
  },
  {
   "cell_type": "code",
   "execution_count": null,
   "id": "thirty-encounter",
   "metadata": {},
   "outputs": [],
   "source": []
  }
 ],
 "metadata": {
  "kernelspec": {
   "display_name": "Python 3",
   "language": "python",
   "name": "python3"
  },
  "language_info": {
   "codemirror_mode": {
    "name": "ipython",
    "version": 3
   },
   "file_extension": ".py",
   "mimetype": "text/x-python",
   "name": "python",
   "nbconvert_exporter": "python",
   "pygments_lexer": "ipython3",
   "version": "3.8.0"
  }
 },
 "nbformat": 4,
 "nbformat_minor": 5
}
