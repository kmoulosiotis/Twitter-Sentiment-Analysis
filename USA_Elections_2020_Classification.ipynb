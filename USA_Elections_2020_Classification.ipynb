{
 "cells": [
  {
   "cell_type": "code",
   "execution_count": 1,
   "id": "polar-interim",
   "metadata": {},
   "outputs": [],
   "source": [
    "import numpy as np\n",
    "import pandas as pd\n",
    "pd.set_option('max_colwidth',80)\n",
    "\n",
    "import re\n",
    "import nltk\n",
    "from nltk.corpus import stopwords\n",
    "from nltk.tokenize import word_tokenize\n",
    "from nltk.stem import WordNetLemmatizer\n",
    "from nltk.stem import PorterStemmer\n",
    "\n",
    "import matplotlib.pyplot as plt"
   ]
  },
  {
   "cell_type": "code",
   "execution_count": 2,
   "id": "lightweight-hampshire",
   "metadata": {},
   "outputs": [
    {
     "name": "stderr",
     "output_type": "stream",
     "text": [
      "[nltk_data] Downloading package stopwords to\n",
      "[nltk_data]     C:\\Users\\user\\AppData\\Roaming\\nltk_data...\n",
      "[nltk_data]   Package stopwords is already up-to-date!\n",
      "[nltk_data] Downloading package punkt to\n",
      "[nltk_data]     C:\\Users\\user\\AppData\\Roaming\\nltk_data...\n",
      "[nltk_data]   Package punkt is already up-to-date!\n",
      "[nltk_data] Downloading package wordnet to\n",
      "[nltk_data]     C:\\Users\\user\\AppData\\Roaming\\nltk_data...\n",
      "[nltk_data]   Package wordnet is already up-to-date!\n"
     ]
    },
    {
     "data": {
      "text/plain": [
       "True"
      ]
     },
     "execution_count": 2,
     "metadata": {},
     "output_type": "execute_result"
    }
   ],
   "source": [
    "nltk.download('stopwords')\n",
    "nltk.download('punkt')\n",
    "nltk.download('wordnet')"
   ]
  },
  {
   "cell_type": "code",
   "execution_count": 3,
   "id": "signed-brake",
   "metadata": {},
   "outputs": [],
   "source": [
    "stopwords_eng = stopwords.words('english')"
   ]
  },
  {
   "cell_type": "markdown",
   "id": "ethical-genre",
   "metadata": {},
   "source": [
    "# Import Data"
   ]
  },
  {
   "cell_type": "code",
   "execution_count": 4,
   "id": "progressive-literacy",
   "metadata": {},
   "outputs": [],
   "source": [
    "tweets_df = pd.read_csv('Data/sentiments_for_us_tweets.csv')\n",
    "tweets_df.drop(tweets_df.columns[0], axis=1, inplace=True)"
   ]
  },
  {
   "cell_type": "code",
   "execution_count": 5,
   "id": "annual-plaintiff",
   "metadata": {},
   "outputs": [
    {
     "data": {
      "text/html": [
       "<div>\n",
       "<style scoped>\n",
       "    .dataframe tbody tr th:only-of-type {\n",
       "        vertical-align: middle;\n",
       "    }\n",
       "\n",
       "    .dataframe tbody tr th {\n",
       "        vertical-align: top;\n",
       "    }\n",
       "\n",
       "    .dataframe thead th {\n",
       "        text-align: right;\n",
       "    }\n",
       "</style>\n",
       "<table border=\"1\" class=\"dataframe\">\n",
       "  <thead>\n",
       "    <tr style=\"text-align: right;\">\n",
       "      <th></th>\n",
       "      <th>geo</th>\n",
       "      <th>text</th>\n",
       "      <th>user</th>\n",
       "      <th>location</th>\n",
       "      <th>Subject</th>\n",
       "      <th>state</th>\n",
       "      <th>Polarity</th>\n",
       "      <th>Sentiment</th>\n",
       "    </tr>\n",
       "  </thead>\n",
       "  <tbody>\n",
       "    <tr>\n",
       "      <th>0</th>\n",
       "      <td>NaN</td>\n",
       "      <td>After the confrontation that cost Walter Wallace Jr. his life set off prote...</td>\n",
       "      <td>wheresestela1</td>\n",
       "      <td>New Jersey</td>\n",
       "      <td>Donald Trump</td>\n",
       "      <td>New Jersey</td>\n",
       "      <td>{'neg': 0.448, 'neu': 0.552, 'pos': 0.0, 'compound': -0.743}</td>\n",
       "      <td>Negative</td>\n",
       "    </tr>\n",
       "    <tr>\n",
       "      <th>1</th>\n",
       "      <td>NaN</td>\n",
       "      <td>\"COVID-19 is still raging. Trump is still lying.\"</td>\n",
       "      <td>TheFemaleYungin</td>\n",
       "      <td>The Wrong Address, Texas</td>\n",
       "      <td>Donald Trump</td>\n",
       "      <td>Texas</td>\n",
       "      <td>{'neg': 0.0, 'neu': 1.0, 'pos': 0.0, 'compound': 0.0}</td>\n",
       "      <td>Neutral</td>\n",
       "    </tr>\n",
       "    <tr>\n",
       "      <th>2</th>\n",
       "      <td>NaN</td>\n",
       "      <td>Donald Trump Jr.: \"Why aren't they talking about deaths? Oh, oh, because th...</td>\n",
       "      <td>KathrynTomashu1</td>\n",
       "      <td>Northborough, MA</td>\n",
       "      <td>Donald Trump</td>\n",
       "      <td>Massachusetts</td>\n",
       "      <td>{'neg': 0.275, 'neu': 0.634, 'pos': 0.092, 'compound': -0.5574}</td>\n",
       "      <td>Negative</td>\n",
       "    </tr>\n",
       "    <tr>\n",
       "      <th>3</th>\n",
       "      <td>NaN</td>\n",
       "      <td>Let’s not forget who created these problems. Tell Donald Trump his scheme to...</td>\n",
       "      <td>ajserino</td>\n",
       "      <td>New Jersey, USA</td>\n",
       "      <td>Donald Trump</td>\n",
       "      <td>New Jersey</td>\n",
       "      <td>{'neg': 0.279, 'neu': 0.545, 'pos': 0.176, 'compound': -0.1779}</td>\n",
       "      <td>Negative</td>\n",
       "    </tr>\n",
       "    <tr>\n",
       "      <th>4</th>\n",
       "      <td>NaN</td>\n",
       "      <td>There is no greater supporter of Donald Trump in the world than Mark Zucker...</td>\n",
       "      <td>SpeakBravely</td>\n",
       "      <td>Twin Cities, Minnesota</td>\n",
       "      <td>Donald Trump</td>\n",
       "      <td>Minnesota</td>\n",
       "      <td>{'neg': 0.0, 'neu': 0.606, 'pos': 0.394, 'compound': 0.6369}</td>\n",
       "      <td>Positive</td>\n",
       "    </tr>\n",
       "  </tbody>\n",
       "</table>\n",
       "</div>"
      ],
      "text/plain": [
       "   geo  \\\n",
       "0  NaN   \n",
       "1  NaN   \n",
       "2  NaN   \n",
       "3  NaN   \n",
       "4  NaN   \n",
       "\n",
       "                                                                              text  \\\n",
       "0   After the confrontation that cost Walter Wallace Jr. his life set off prote...   \n",
       "1                               \"COVID-19 is still raging. Trump is still lying.\"    \n",
       "2   Donald Trump Jr.: \"Why aren't they talking about deaths? Oh, oh, because th...   \n",
       "3  Let’s not forget who created these problems. Tell Donald Trump his scheme to...   \n",
       "4   There is no greater supporter of Donald Trump in the world than Mark Zucker...   \n",
       "\n",
       "              user                   location       Subject          state  \\\n",
       "0    wheresestela1                 New Jersey  Donald Trump     New Jersey   \n",
       "1  TheFemaleYungin  The Wrong Address, Texas   Donald Trump          Texas   \n",
       "2  KathrynTomashu1           Northborough, MA  Donald Trump  Massachusetts   \n",
       "3         ajserino            New Jersey, USA  Donald Trump     New Jersey   \n",
       "4     SpeakBravely     Twin Cities, Minnesota  Donald Trump      Minnesota   \n",
       "\n",
       "                                                          Polarity Sentiment  \n",
       "0     {'neg': 0.448, 'neu': 0.552, 'pos': 0.0, 'compound': -0.743}  Negative  \n",
       "1            {'neg': 0.0, 'neu': 1.0, 'pos': 0.0, 'compound': 0.0}   Neutral  \n",
       "2  {'neg': 0.275, 'neu': 0.634, 'pos': 0.092, 'compound': -0.5574}  Negative  \n",
       "3  {'neg': 0.279, 'neu': 0.545, 'pos': 0.176, 'compound': -0.1779}  Negative  \n",
       "4     {'neg': 0.0, 'neu': 0.606, 'pos': 0.394, 'compound': 0.6369}  Positive  "
      ]
     },
     "execution_count": 5,
     "metadata": {},
     "output_type": "execute_result"
    }
   ],
   "source": [
    "tweets_df.head()"
   ]
  },
  {
   "cell_type": "markdown",
   "id": "variable-gallery",
   "metadata": {},
   "source": [
    "# NLTK text preprocess"
   ]
  },
  {
   "cell_type": "code",
   "execution_count": 6,
   "id": "joint-update",
   "metadata": {},
   "outputs": [],
   "source": [
    "def clean_tweet(tweet):\n",
    "    tweet = re.sub('RT','',tweet)\n",
    "    tweet = re.sub('@','',tweet)\n",
    "    tweet = re.sub('#','',tweet)\n",
    "    tweet = re.sub('https?://[A-Za-z0-9./]*','',tweet)\n",
    "    tweet = re.sub('\\n','',tweet)\n",
    "    return tweet"
   ]
  },
  {
   "cell_type": "code",
   "execution_count": 7,
   "id": "romance-basin",
   "metadata": {},
   "outputs": [],
   "source": [
    "# lemmatization function\n",
    "lemmatizer = WordNetLemmatizer()\n",
    "def lemmatize_tweet(tweet):\n",
    "    lemmatized_tweet = []\n",
    "    for word in tweet:\n",
    "        lemmatized_tweet.append(lemmatizer.lemmatize(word, pos='v'))\n",
    "    return lemmatized_tweet\n",
    "\n",
    "# stemming function\n",
    "porter = PorterStemmer()\n",
    "def stem_tweet(tweet):\n",
    "    stemmed_tweet = []\n",
    "    for word in tweet:\n",
    "        stemmed_tweet.append(porter.stem(word))\n",
    "    return stemmed_tweet\n",
    "\n",
    "\n",
    "# remove stopwords function\n",
    "def remove_stopwords(tweet):\n",
    "    tweet_witout_stops = []\n",
    "    for word in tweet:\n",
    "        if word not in stopwords_eng:\n",
    "            tweet_witout_stops.append(word)\n",
    "    return tweet_witout_stops"
   ]
  },
  {
   "cell_type": "code",
   "execution_count": 8,
   "id": "reasonable-dover",
   "metadata": {},
   "outputs": [],
   "source": [
    "tweets_df['cleaned_text'] = tweets_df['text'].apply(clean_tweet)"
   ]
  },
  {
   "cell_type": "code",
   "execution_count": 9,
   "id": "smoking-eating",
   "metadata": {},
   "outputs": [],
   "source": [
    "# make all text lowercase\n",
    "tweets_df['cleaned_text'] = tweets_df['cleaned_text'].apply(lambda x: x.lower())"
   ]
  },
  {
   "cell_type": "code",
   "execution_count": 10,
   "id": "decimal-browser",
   "metadata": {},
   "outputs": [
    {
     "name": "stderr",
     "output_type": "stream",
     "text": [
      "<ipython-input-10-7b644cf159d7>:2: FutureWarning: The default value of regex will change from True to False in a future version.\n",
      "  tweets_df['cleaned_text'] = tweets_df['cleaned_text'].str.replace(\"[^a-zA-z]\", \" \")\n"
     ]
    }
   ],
   "source": [
    "# remove punctuations and numbers and emoji\n",
    "tweets_df['cleaned_text'] = tweets_df['cleaned_text'].str.replace(\"[^a-zA-z]\", \" \")"
   ]
  },
  {
   "cell_type": "code",
   "execution_count": 11,
   "id": "liable-explanation",
   "metadata": {},
   "outputs": [],
   "source": [
    "#tokenize text\n",
    "tweets_df['tokenized_text'] = tweets_df['cleaned_text'].apply(lambda x: word_tokenize(x))"
   ]
  },
  {
   "cell_type": "code",
   "execution_count": 12,
   "id": "technical-metadata",
   "metadata": {},
   "outputs": [],
   "source": [
    "#remove stopwords\n",
    "tweets_df['tokenized_text'] = tweets_df['tokenized_text'].apply(remove_stopwords)"
   ]
  },
  {
   "cell_type": "code",
   "execution_count": 13,
   "id": "brazilian-funeral",
   "metadata": {},
   "outputs": [],
   "source": [
    "#lemmatize text\n",
    "tweets_df['lemmatized_text'] = tweets_df['tokenized_text']. apply(lemmatize_tweet)"
   ]
  },
  {
   "cell_type": "code",
   "execution_count": 14,
   "id": "chubby-nurse",
   "metadata": {},
   "outputs": [],
   "source": [
    "#stem text\n",
    "tweets_df['stemmed_text'] = tweets_df['lemmatized_text'].apply(stem_tweet)"
   ]
  },
  {
   "cell_type": "code",
   "execution_count": 15,
   "id": "south-pierce",
   "metadata": {},
   "outputs": [],
   "source": [
    "#de tokenize text\n",
    "tweets_df['lemmatized_string'] = tweets_df['lemmatized_text'].apply(lambda x: ' '.join(x))\n",
    "tweets_df['stemmed_string'] = tweets_df['stemmed_text'].apply(lambda x: ' '.join(x))"
   ]
  },
  {
   "cell_type": "code",
   "execution_count": 16,
   "id": "spectacular-tsunami",
   "metadata": {},
   "outputs": [
    {
     "data": {
      "text/html": [
       "<div>\n",
       "<style scoped>\n",
       "    .dataframe tbody tr th:only-of-type {\n",
       "        vertical-align: middle;\n",
       "    }\n",
       "\n",
       "    .dataframe tbody tr th {\n",
       "        vertical-align: top;\n",
       "    }\n",
       "\n",
       "    .dataframe thead th {\n",
       "        text-align: right;\n",
       "    }\n",
       "</style>\n",
       "<table border=\"1\" class=\"dataframe\">\n",
       "  <thead>\n",
       "    <tr style=\"text-align: right;\">\n",
       "      <th></th>\n",
       "      <th>geo</th>\n",
       "      <th>text</th>\n",
       "      <th>user</th>\n",
       "      <th>location</th>\n",
       "      <th>Subject</th>\n",
       "      <th>state</th>\n",
       "      <th>Polarity</th>\n",
       "      <th>Sentiment</th>\n",
       "      <th>cleaned_text</th>\n",
       "      <th>tokenized_text</th>\n",
       "      <th>lemmatized_text</th>\n",
       "      <th>stemmed_text</th>\n",
       "      <th>lemmatized_string</th>\n",
       "      <th>stemmed_string</th>\n",
       "    </tr>\n",
       "  </thead>\n",
       "  <tbody>\n",
       "    <tr>\n",
       "      <th>0</th>\n",
       "      <td>NaN</td>\n",
       "      <td>After the confrontation that cost Walter Wallace Jr. his life set off prote...</td>\n",
       "      <td>wheresestela1</td>\n",
       "      <td>New Jersey</td>\n",
       "      <td>Donald Trump</td>\n",
       "      <td>New Jersey</td>\n",
       "      <td>{'neg': 0.448, 'neu': 0.552, 'pos': 0.0, 'compound': -0.743}</td>\n",
       "      <td>Negative</td>\n",
       "      <td>after the confrontation that cost walter wallace jr  his life set off prote...</td>\n",
       "      <td>[confrontation, cost, walter, wallace, jr, life, set, protests, devolved, ri...</td>\n",
       "      <td>[confrontation, cost, walter, wallace, jr, life, set, protest, devolve, riot...</td>\n",
       "      <td>[confront, cost, walter, wallac, jr, life, set, protest, devolv, riot, loot,...</td>\n",
       "      <td>confrontation cost walter wallace jr life set protest devolve riot loot lead</td>\n",
       "      <td>confront cost walter wallac jr life set protest devolv riot loot lead</td>\n",
       "    </tr>\n",
       "    <tr>\n",
       "      <th>1</th>\n",
       "      <td>NaN</td>\n",
       "      <td>\"COVID-19 is still raging. Trump is still lying.\"</td>\n",
       "      <td>TheFemaleYungin</td>\n",
       "      <td>The Wrong Address, Texas</td>\n",
       "      <td>Donald Trump</td>\n",
       "      <td>Texas</td>\n",
       "      <td>{'neg': 0.0, 'neu': 1.0, 'pos': 0.0, 'compound': 0.0}</td>\n",
       "      <td>Neutral</td>\n",
       "      <td>covid    is still raging  trump is still lying</td>\n",
       "      <td>[covid, still, raging, trump, still, lying]</td>\n",
       "      <td>[covid, still, rag, trump, still, lie]</td>\n",
       "      <td>[covid, still, rag, trump, still, lie]</td>\n",
       "      <td>covid still rag trump still lie</td>\n",
       "      <td>covid still rag trump still lie</td>\n",
       "    </tr>\n",
       "    <tr>\n",
       "      <th>2</th>\n",
       "      <td>NaN</td>\n",
       "      <td>Donald Trump Jr.: \"Why aren't they talking about deaths? Oh, oh, because th...</td>\n",
       "      <td>KathrynTomashu1</td>\n",
       "      <td>Northborough, MA</td>\n",
       "      <td>Donald Trump</td>\n",
       "      <td>Massachusetts</td>\n",
       "      <td>{'neg': 0.275, 'neu': 0.634, 'pos': 0.092, 'compound': -0.5574}</td>\n",
       "      <td>Negative</td>\n",
       "      <td>donald trump jr    why aren t they talking about deaths  oh  oh  because th...</td>\n",
       "      <td>[donald, trump, jr, talking, deaths, oh, oh, number, almost, nothing, gott]</td>\n",
       "      <td>[donald, trump, jr, talk, deaths, oh, oh, number, almost, nothing, gott]</td>\n",
       "      <td>[donald, trump, jr, talk, death, oh, oh, number, almost, noth, gott]</td>\n",
       "      <td>donald trump jr talk deaths oh oh number almost nothing gott</td>\n",
       "      <td>donald trump jr talk death oh oh number almost noth gott</td>\n",
       "    </tr>\n",
       "    <tr>\n",
       "      <th>3</th>\n",
       "      <td>NaN</td>\n",
       "      <td>Let’s not forget who created these problems. Tell Donald Trump his scheme to...</td>\n",
       "      <td>ajserino</td>\n",
       "      <td>New Jersey, USA</td>\n",
       "      <td>Donald Trump</td>\n",
       "      <td>New Jersey</td>\n",
       "      <td>{'neg': 0.279, 'neu': 0.545, 'pos': 0.176, 'compound': -0.1779}</td>\n",
       "      <td>Negative</td>\n",
       "      <td>let s not forget who created these problems  tell donald trump his scheme to...</td>\n",
       "      <td>[let, forget, created, problems, tell, donald, trump, scheme, undermine, rig...</td>\n",
       "      <td>[let, forget, create, problems, tell, donald, trump, scheme, undermine, righ...</td>\n",
       "      <td>[let, forget, creat, problem, tell, donald, trump, scheme, undermin, right, ...</td>\n",
       "      <td>let forget create problems tell donald trump scheme undermine right vote safely</td>\n",
       "      <td>let forget creat problem tell donald trump scheme undermin right vote safe</td>\n",
       "    </tr>\n",
       "    <tr>\n",
       "      <th>4</th>\n",
       "      <td>NaN</td>\n",
       "      <td>There is no greater supporter of Donald Trump in the world than Mark Zucker...</td>\n",
       "      <td>SpeakBravely</td>\n",
       "      <td>Twin Cities, Minnesota</td>\n",
       "      <td>Donald Trump</td>\n",
       "      <td>Minnesota</td>\n",
       "      <td>{'neg': 0.0, 'neu': 0.606, 'pos': 0.394, 'compound': 0.6369}</td>\n",
       "      <td>Positive</td>\n",
       "      <td>there is no greater supporter of donald trump in the world than mark zucker...</td>\n",
       "      <td>[greater, supporter, donald, trump, world, mark, zuckerberg, one, done, elect]</td>\n",
       "      <td>[greater, supporter, donald, trump, world, mark, zuckerberg, one, do, elect]</td>\n",
       "      <td>[greater, support, donald, trump, world, mark, zuckerberg, one, do, elect]</td>\n",
       "      <td>greater supporter donald trump world mark zuckerberg one do elect</td>\n",
       "      <td>greater support donald trump world mark zuckerberg one do elect</td>\n",
       "    </tr>\n",
       "  </tbody>\n",
       "</table>\n",
       "</div>"
      ],
      "text/plain": [
       "   geo  \\\n",
       "0  NaN   \n",
       "1  NaN   \n",
       "2  NaN   \n",
       "3  NaN   \n",
       "4  NaN   \n",
       "\n",
       "                                                                              text  \\\n",
       "0   After the confrontation that cost Walter Wallace Jr. his life set off prote...   \n",
       "1                               \"COVID-19 is still raging. Trump is still lying.\"    \n",
       "2   Donald Trump Jr.: \"Why aren't they talking about deaths? Oh, oh, because th...   \n",
       "3  Let’s not forget who created these problems. Tell Donald Trump his scheme to...   \n",
       "4   There is no greater supporter of Donald Trump in the world than Mark Zucker...   \n",
       "\n",
       "              user                   location       Subject          state  \\\n",
       "0    wheresestela1                 New Jersey  Donald Trump     New Jersey   \n",
       "1  TheFemaleYungin  The Wrong Address, Texas   Donald Trump          Texas   \n",
       "2  KathrynTomashu1           Northborough, MA  Donald Trump  Massachusetts   \n",
       "3         ajserino            New Jersey, USA  Donald Trump     New Jersey   \n",
       "4     SpeakBravely     Twin Cities, Minnesota  Donald Trump      Minnesota   \n",
       "\n",
       "                                                          Polarity Sentiment  \\\n",
       "0     {'neg': 0.448, 'neu': 0.552, 'pos': 0.0, 'compound': -0.743}  Negative   \n",
       "1            {'neg': 0.0, 'neu': 1.0, 'pos': 0.0, 'compound': 0.0}   Neutral   \n",
       "2  {'neg': 0.275, 'neu': 0.634, 'pos': 0.092, 'compound': -0.5574}  Negative   \n",
       "3  {'neg': 0.279, 'neu': 0.545, 'pos': 0.176, 'compound': -0.1779}  Negative   \n",
       "4     {'neg': 0.0, 'neu': 0.606, 'pos': 0.394, 'compound': 0.6369}  Positive   \n",
       "\n",
       "                                                                      cleaned_text  \\\n",
       "0   after the confrontation that cost walter wallace jr  his life set off prote...   \n",
       "1                                covid    is still raging  trump is still lying      \n",
       "2   donald trump jr    why aren t they talking about deaths  oh  oh  because th...   \n",
       "3  let s not forget who created these problems  tell donald trump his scheme to...   \n",
       "4   there is no greater supporter of donald trump in the world than mark zucker...   \n",
       "\n",
       "                                                                    tokenized_text  \\\n",
       "0  [confrontation, cost, walter, wallace, jr, life, set, protests, devolved, ri...   \n",
       "1                                      [covid, still, raging, trump, still, lying]   \n",
       "2      [donald, trump, jr, talking, deaths, oh, oh, number, almost, nothing, gott]   \n",
       "3  [let, forget, created, problems, tell, donald, trump, scheme, undermine, rig...   \n",
       "4   [greater, supporter, donald, trump, world, mark, zuckerberg, one, done, elect]   \n",
       "\n",
       "                                                                   lemmatized_text  \\\n",
       "0  [confrontation, cost, walter, wallace, jr, life, set, protest, devolve, riot...   \n",
       "1                                           [covid, still, rag, trump, still, lie]   \n",
       "2         [donald, trump, jr, talk, deaths, oh, oh, number, almost, nothing, gott]   \n",
       "3  [let, forget, create, problems, tell, donald, trump, scheme, undermine, righ...   \n",
       "4     [greater, supporter, donald, trump, world, mark, zuckerberg, one, do, elect]   \n",
       "\n",
       "                                                                      stemmed_text  \\\n",
       "0  [confront, cost, walter, wallac, jr, life, set, protest, devolv, riot, loot,...   \n",
       "1                                           [covid, still, rag, trump, still, lie]   \n",
       "2             [donald, trump, jr, talk, death, oh, oh, number, almost, noth, gott]   \n",
       "3  [let, forget, creat, problem, tell, donald, trump, scheme, undermin, right, ...   \n",
       "4       [greater, support, donald, trump, world, mark, zuckerberg, one, do, elect]   \n",
       "\n",
       "                                                                 lemmatized_string  \\\n",
       "0     confrontation cost walter wallace jr life set protest devolve riot loot lead   \n",
       "1                                                  covid still rag trump still lie   \n",
       "2                     donald trump jr talk deaths oh oh number almost nothing gott   \n",
       "3  let forget create problems tell donald trump scheme undermine right vote safely   \n",
       "4                greater supporter donald trump world mark zuckerberg one do elect   \n",
       "\n",
       "                                                               stemmed_string  \n",
       "0       confront cost walter wallac jr life set protest devolv riot loot lead  \n",
       "1                                             covid still rag trump still lie  \n",
       "2                    donald trump jr talk death oh oh number almost noth gott  \n",
       "3  let forget creat problem tell donald trump scheme undermin right vote safe  \n",
       "4             greater support donald trump world mark zuckerberg one do elect  "
      ]
     },
     "execution_count": 16,
     "metadata": {},
     "output_type": "execute_result"
    }
   ],
   "source": [
    "tweets_df.head()"
   ]
  },
  {
   "cell_type": "markdown",
   "id": "yellow-thermal",
   "metadata": {},
   "source": [
    "# Text classification"
   ]
  },
  {
   "cell_type": "markdown",
   "id": "clean-tampa",
   "metadata": {},
   "source": [
    "### Split the dataset into train and test "
   ]
  },
  {
   "cell_type": "code",
   "execution_count": 17,
   "id": "inner-wiring",
   "metadata": {},
   "outputs": [],
   "source": [
    "from sklearn.model_selection import train_test_split"
   ]
  },
  {
   "cell_type": "code",
   "execution_count": 18,
   "id": "right-consent",
   "metadata": {},
   "outputs": [],
   "source": [
    "X = tweets_df['lemmatized_string']\n",
    "y = tweets_df['Sentiment']"
   ]
  },
  {
   "cell_type": "code",
   "execution_count": 19,
   "id": "featured-toyota",
   "metadata": {},
   "outputs": [],
   "source": [
    "X_train, X_test, y_train, y_test = train_test_split(X, y, test_size=0.3, random_state=42)"
   ]
  },
  {
   "cell_type": "markdown",
   "id": "hollow-conditions",
   "metadata": {},
   "source": [
    "#### Import Pipeline and metrics libraries"
   ]
  },
  {
   "cell_type": "code",
   "execution_count": 20,
   "id": "recognized-examination",
   "metadata": {},
   "outputs": [],
   "source": [
    "from sklearn.pipeline import Pipeline\n",
    "from sklearn.feature_extraction.text import TfidfVectorizer\n",
    "\n",
    "# metrics\n",
    "from sklearn.metrics import classification_report\n",
    "from sklearn.metrics import confusion_matrix\n",
    "from sklearn.metrics import f1_score\n",
    "from sklearn.metrics import accuracy_score\n",
    "from sklearn.metrics import recall_score\n",
    "from sklearn.metrics import precision_score\n",
    "from sklearn.metrics import plot_confusion_matrix"
   ]
  },
  {
   "cell_type": "markdown",
   "id": "liberal-crime",
   "metadata": {},
   "source": [
    "## Naive Bayes"
   ]
  },
  {
   "cell_type": "code",
   "execution_count": 21,
   "id": "random-clothing",
   "metadata": {},
   "outputs": [],
   "source": [
    "from sklearn.naive_bayes import MultinomialNB\n",
    "\n",
    "text_clf_nb = Pipeline([('tfidf', TfidfVectorizer()), ('clf', MultinomialNB())])"
   ]
  },
  {
   "cell_type": "code",
   "execution_count": 22,
   "id": "mexican-influence",
   "metadata": {},
   "outputs": [
    {
     "data": {
      "text/plain": [
       "Pipeline(steps=[('tfidf', TfidfVectorizer()), ('clf', MultinomialNB())])"
      ]
     },
     "execution_count": 22,
     "metadata": {},
     "output_type": "execute_result"
    }
   ],
   "source": [
    "text_clf_nb.fit(X_train,y_train)"
   ]
  },
  {
   "cell_type": "code",
   "execution_count": 23,
   "id": "attempted-florist",
   "metadata": {},
   "outputs": [],
   "source": [
    "predictions = text_clf_nb.predict(X_test)"
   ]
  },
  {
   "cell_type": "code",
   "execution_count": 24,
   "id": "dimensional-penalty",
   "metadata": {},
   "outputs": [
    {
     "name": "stdout",
     "output_type": "stream",
     "text": [
      "              precision    recall  f1-score   support\n",
      "\n",
      "    Negative       0.91      0.90      0.90       602\n",
      "     Neutral       0.87      0.90      0.88       617\n",
      "    Positive       0.88      0.85      0.86       447\n",
      "\n",
      "    accuracy                           0.89      1666\n",
      "   macro avg       0.89      0.88      0.88      1666\n",
      "weighted avg       0.89      0.89      0.89      1666\n",
      "\n"
     ]
    }
   ],
   "source": [
    "print(classification_report(y_test,predictions))"
   ]
  },
  {
   "cell_type": "code",
   "execution_count": 25,
   "id": "dental-orange",
   "metadata": {},
   "outputs": [
    {
     "name": "stdout",
     "output_type": "stream",
     "text": [
      "0.8841167426610382\n"
     ]
    }
   ],
   "source": [
    "print(f1_score(y_test,predictions,average='macro'))"
   ]
  },
  {
   "cell_type": "code",
   "execution_count": 26,
   "id": "collectible-lincoln",
   "metadata": {},
   "outputs": [
    {
     "data": {
      "image/png": "[encoded data removed]",
      "text/plain": [
       "<Figure size 432x288 with 2 Axes>"
      ]
     },
     "metadata": {
      "needs_background": "light"
     },
     "output_type": "display_data"
    }
   ],
   "source": [
    "plot_confusion_matrix(text_clf_nb, X_test, y_test, cmap='Blues')\n",
    "plt.show()"
   ]
  },
  {
   "cell_type": "markdown",
   "id": "harmful-radio",
   "metadata": {},
   "source": [
    "## Linear SVC"
   ]
  },
  {
   "cell_type": "code",
   "execution_count": 27,
   "id": "acoustic-thursday",
   "metadata": {},
   "outputs": [],
   "source": [
    "from sklearn.svm import LinearSVC\n",
    "\n",
    "text_clf_lsvc = Pipeline([('tfidf', TfidfVectorizer()), ('clf', LinearSVC())])"
   ]
  },
  {
   "cell_type": "code",
   "execution_count": 28,
   "id": "pediatric-sequence",
   "metadata": {},
   "outputs": [
    {
     "data": {
      "text/plain": [
       "Pipeline(steps=[('tfidf', TfidfVectorizer()), ('clf', LinearSVC())])"
      ]
     },
     "execution_count": 28,
     "metadata": {},
     "output_type": "execute_result"
    }
   ],
   "source": [
    "text_clf_lsvc.fit(X_train,y_train)"
   ]
  },
  {
   "cell_type": "code",
   "execution_count": 29,
   "id": "blessed-maldives",
   "metadata": {},
   "outputs": [],
   "source": [
    "predictions = text_clf_lsvc.predict(X_test)"
   ]
  },
  {
   "cell_type": "code",
   "execution_count": 30,
   "id": "forty-married",
   "metadata": {},
   "outputs": [
    {
     "name": "stdout",
     "output_type": "stream",
     "text": [
      "              precision    recall  f1-score   support\n",
      "\n",
      "    Negative       0.95      0.92      0.94       602\n",
      "     Neutral       0.90      0.95      0.92       617\n",
      "    Positive       0.93      0.90      0.92       447\n",
      "\n",
      "    accuracy                           0.93      1666\n",
      "   macro avg       0.93      0.92      0.92      1666\n",
      "weighted avg       0.93      0.93      0.93      1666\n",
      "\n"
     ]
    }
   ],
   "source": [
    "print(classification_report(y_test,predictions))"
   ]
  },
  {
   "cell_type": "code",
   "execution_count": 31,
   "id": "crude-spray",
   "metadata": {},
   "outputs": [
    {
     "name": "stdout",
     "output_type": "stream",
     "text": [
      "0.9247353370213678\n"
     ]
    }
   ],
   "source": [
    "print(f1_score(y_test,predictions,average='macro'))"
   ]
  },
  {
   "cell_type": "code",
   "execution_count": 32,
   "id": "rubber-bathroom",
   "metadata": {},
   "outputs": [
    {
     "data": {
      "image/png": "[encoded data removed]",
      "text/plain": [
       "<Figure size 432x288 with 2 Axes>"
      ]
     },
     "metadata": {
      "needs_background": "light"
     },
     "output_type": "display_data"
    }
   ],
   "source": [
    "plot_confusion_matrix(text_clf_lsvc, X_test, y_test, cmap='Blues')\n",
    "plt.show()"
   ]
  },
  {
   "cell_type": "markdown",
   "id": "traditional-seeker",
   "metadata": {},
   "source": [
    "## Decision tree"
   ]
  },
  {
   "cell_type": "code",
   "execution_count": 33,
   "id": "genuine-headquarters",
   "metadata": {},
   "outputs": [],
   "source": [
    "from sklearn.tree import DecisionTreeClassifier\n",
    "\n",
    "text_clf_tree = Pipeline([('tfidf', TfidfVectorizer()), ('clf', DecisionTreeClassifier())])"
   ]
  },
  {
   "cell_type": "code",
   "execution_count": 34,
   "id": "respective-doctrine",
   "metadata": {},
   "outputs": [
    {
     "data": {
      "text/plain": [
       "Pipeline(steps=[('tfidf', TfidfVectorizer()),\n",
       "                ('clf', DecisionTreeClassifier())])"
      ]
     },
     "execution_count": 34,
     "metadata": {},
     "output_type": "execute_result"
    }
   ],
   "source": [
    "text_clf_tree.fit(X_train,y_train)"
   ]
  },
  {
   "cell_type": "code",
   "execution_count": 35,
   "id": "national-folder",
   "metadata": {},
   "outputs": [],
   "source": [
    "predictions = text_clf_tree.predict(X_test)"
   ]
  },
  {
   "cell_type": "code",
   "execution_count": 36,
   "id": "occasional-staff",
   "metadata": {},
   "outputs": [
    {
     "name": "stdout",
     "output_type": "stream",
     "text": [
      "              precision    recall  f1-score   support\n",
      "\n",
      "    Negative       0.93      0.90      0.91       602\n",
      "     Neutral       0.85      0.92      0.88       617\n",
      "    Positive       0.91      0.84      0.87       447\n",
      "\n",
      "    accuracy                           0.89      1666\n",
      "   macro avg       0.89      0.88      0.89      1666\n",
      "weighted avg       0.89      0.89      0.89      1666\n",
      "\n"
     ]
    }
   ],
   "source": [
    "print(classification_report(y_test,predictions))"
   ]
  },
  {
   "cell_type": "code",
   "execution_count": 37,
   "id": "proper-kenya",
   "metadata": {},
   "outputs": [
    {
     "name": "stdout",
     "output_type": "stream",
     "text": [
      "0.8876669262791609\n"
     ]
    }
   ],
   "source": [
    "print(f1_score(y_test,predictions,average='macro'))"
   ]
  },
  {
   "cell_type": "code",
   "execution_count": 38,
   "id": "thermal-kennedy",
   "metadata": {},
   "outputs": [
    {
     "data": {
      "image/png": "[encoded data removed]",
      "text/plain": [
       "<Figure size 432x288 with 2 Axes>"
      ]
     },
     "metadata": {
      "needs_background": "light"
     },
     "output_type": "display_data"
    }
   ],
   "source": [
    "plot_confusion_matrix(text_clf_tree, X_test, y_test, cmap='Blues')\n",
    "plt.show()"
   ]
  },
  {
   "cell_type": "markdown",
   "id": "former-police",
   "metadata": {},
   "source": [
    "## K Nearest Neighors"
   ]
  },
  {
   "cell_type": "code",
   "execution_count": 39,
   "id": "compact-hazard",
   "metadata": {},
   "outputs": [],
   "source": [
    "from sklearn.neighbors import KNeighborsClassifier\n",
    "\n",
    "text_clf_knn = Pipeline([('tfidf', TfidfVectorizer()), ('clf', KNeighborsClassifier())])"
   ]
  },
  {
   "cell_type": "code",
   "execution_count": 40,
   "id": "powered-flour",
   "metadata": {},
   "outputs": [
    {
     "data": {
      "text/plain": [
       "Pipeline(steps=[('tfidf', TfidfVectorizer()), ('clf', KNeighborsClassifier())])"
      ]
     },
     "execution_count": 40,
     "metadata": {},
     "output_type": "execute_result"
    }
   ],
   "source": [
    "text_clf_knn.fit(X_train,y_train)"
   ]
  },
  {
   "cell_type": "code",
   "execution_count": 41,
   "id": "bound-springer",
   "metadata": {},
   "outputs": [],
   "source": [
    "predictions = text_clf_knn.predict(X_test)"
   ]
  },
  {
   "cell_type": "code",
   "execution_count": 42,
   "id": "conceptual-necklace",
   "metadata": {},
   "outputs": [
    {
     "name": "stdout",
     "output_type": "stream",
     "text": [
      "              precision    recall  f1-score   support\n",
      "\n",
      "    Negative       0.95      0.80      0.87       602\n",
      "     Neutral       0.73      0.97      0.83       617\n",
      "    Positive       0.96      0.72      0.82       447\n",
      "\n",
      "    accuracy                           0.84      1666\n",
      "   macro avg       0.88      0.83      0.84      1666\n",
      "weighted avg       0.87      0.84      0.84      1666\n",
      "\n"
     ]
    }
   ],
   "source": [
    "print(classification_report(y_test,predictions))"
   ]
  },
  {
   "cell_type": "code",
   "execution_count": 43,
   "id": "dressed-sleeping",
   "metadata": {},
   "outputs": [
    {
     "name": "stdout",
     "output_type": "stream",
     "text": [
      "0.8423574357548302\n"
     ]
    }
   ],
   "source": [
    "print(f1_score(y_test,predictions,average='macro'))"
   ]
  },
  {
   "cell_type": "code",
   "execution_count": 44,
   "id": "grave-boating",
   "metadata": {},
   "outputs": [
    {
     "data": {
      "image/png": "[encoded data removed]",
      "text/plain": [
       "<Figure size 432x288 with 2 Axes>"
      ]
     },
     "metadata": {
      "needs_background": "light"
     },
     "output_type": "display_data"
    }
   ],
   "source": [
    "plot_confusion_matrix(text_clf_knn, X_test, y_test, cmap='Blues')\n",
    "plt.show()"
   ]
  },
  {
   "cell_type": "code",
   "execution_count": null,
   "id": "alive-quest",
   "metadata": {},
   "outputs": [],
   "source": []
  },
  {
   "cell_type": "code",
   "execution_count": null,
   "id": "infrared-radius",
   "metadata": {},
   "outputs": [],
   "source": []
  }
 ],
 "metadata": {
  "kernelspec": {
   "display_name": "Python 3",
   "language": "python",
   "name": "python3"
  },
  "language_info": {
   "codemirror_mode": {
    "name": "ipython",
    "version": 3
   },
   "file_extension": ".py",
   "mimetype": "text/x-python",
   "name": "python",
   "nbconvert_exporter": "python",
   "pygments_lexer": "ipython3",
   "version": "3.8.0"
  }
 },
 "nbformat": 4,
 "nbformat_minor": 5
}
