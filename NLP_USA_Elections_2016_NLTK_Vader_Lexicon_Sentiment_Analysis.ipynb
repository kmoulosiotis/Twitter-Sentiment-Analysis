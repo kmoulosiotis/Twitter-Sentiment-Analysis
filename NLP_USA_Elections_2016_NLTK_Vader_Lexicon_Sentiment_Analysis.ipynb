{
 "cells": [
  {
   "cell_type": "code",
   "execution_count": 1,
   "id": "nutritional-hobby",
   "metadata": {},
   "outputs": [],
   "source": [
    "import numpy as np\n",
    "import pandas as pd\n",
    "pd.set_option('max_colwidth',80)\n",
    "\n",
    "import re\n",
    "import nltk\n",
    "from nltk.corpus import stopwords\n",
    "from nltk.tokenize import word_tokenize\n",
    "from nltk.stem import WordNetLemmatizer\n",
    "from nltk.stem import PorterStemmer\n",
    "\n",
    "import seaborn as sns\n",
    "import matplotlib.pyplot as plt\n",
    "import plotly.express as px\n",
    "from wordcloud import WordCloud, STOPWORDS\n",
    "\n",
    "from sklearn.feature_extraction.text import TfidfVectorizer, CountVectorizer\n",
    "from sklearn.cluster import KMeans"
   ]
  },
  {
   "cell_type": "code",
   "execution_count": 2,
   "id": "square-meaning",
   "metadata": {},
   "outputs": [
    {
     "name": "stderr",
     "output_type": "stream",
     "text": [
      "[nltk_data] Downloading package stopwords to\n",
      "[nltk_data]     C:\\Users\\user\\AppData\\Roaming\\nltk_data...\n",
      "[nltk_data]   Package stopwords is already up-to-date!\n",
      "[nltk_data] Downloading package punkt to\n",
      "[nltk_data]     C:\\Users\\user\\AppData\\Roaming\\nltk_data...\n",
      "[nltk_data]   Package punkt is already up-to-date!\n",
      "[nltk_data] Downloading package wordnet to\n",
      "[nltk_data]     C:\\Users\\user\\AppData\\Roaming\\nltk_data...\n",
      "[nltk_data]   Package wordnet is already up-to-date!\n"
     ]
    },
    {
     "data": {
      "text/plain": [
       "True"
      ]
     },
     "execution_count": 2,
     "metadata": {},
     "output_type": "execute_result"
    }
   ],
   "source": [
    "nltk.download('stopwords')\n",
    "nltk.download('punkt')\n",
    "nltk.download('wordnet')"
   ]
  },
  {
   "cell_type": "code",
   "execution_count": 3,
   "id": "supposed-owner",
   "metadata": {},
   "outputs": [],
   "source": [
    "stopwords_eng = stopwords.words('english')"
   ]
  },
  {
   "cell_type": "markdown",
   "id": "double-defensive",
   "metadata": {},
   "source": [
    "# Import Data"
   ]
  },
  {
   "cell_type": "markdown",
   "id": "blocked-florence",
   "metadata": {},
   "source": [
    "Dataset accessed from: https://www.kaggle.com/benhamner/clinton-trump-tweets"
   ]
  },
  {
   "cell_type": "code",
   "execution_count": 14,
   "id": "shared-index",
   "metadata": {},
   "outputs": [],
   "source": [
    "tweets_df = pd.read_csv('Data/tweets_elections_2016.csv')"
   ]
  },
  {
   "cell_type": "code",
   "execution_count": 15,
   "id": "developmental-wireless",
   "metadata": {},
   "outputs": [
    {
     "data": {
      "text/html": [
       "<div>\n",
       "<style scoped>\n",
       "    .dataframe tbody tr th:only-of-type {\n",
       "        vertical-align: middle;\n",
       "    }\n",
       "\n",
       "    .dataframe tbody tr th {\n",
       "        vertical-align: top;\n",
       "    }\n",
       "\n",
       "    .dataframe thead th {\n",
       "        text-align: right;\n",
       "    }\n",
       "</style>\n",
       "<table border=\"1\" class=\"dataframe\">\n",
       "  <thead>\n",
       "    <tr style=\"text-align: right;\">\n",
       "      <th></th>\n",
       "      <th>id</th>\n",
       "      <th>handle</th>\n",
       "      <th>text</th>\n",
       "      <th>is_retweet</th>\n",
       "      <th>original_author</th>\n",
       "      <th>time</th>\n",
       "      <th>in_reply_to_screen_name</th>\n",
       "      <th>in_reply_to_status_id</th>\n",
       "      <th>in_reply_to_user_id</th>\n",
       "      <th>is_quote_status</th>\n",
       "      <th>...</th>\n",
       "      <th>place_type</th>\n",
       "      <th>place_country_code</th>\n",
       "      <th>place_country</th>\n",
       "      <th>place_contained_within</th>\n",
       "      <th>place_attributes</th>\n",
       "      <th>place_bounding_box</th>\n",
       "      <th>source_url</th>\n",
       "      <th>truncated</th>\n",
       "      <th>entities</th>\n",
       "      <th>extended_entities</th>\n",
       "    </tr>\n",
       "  </thead>\n",
       "  <tbody>\n",
       "    <tr>\n",
       "      <th>0</th>\n",
       "      <td>780925634159796224</td>\n",
       "      <td>HillaryClinton</td>\n",
       "      <td>The question in this election: Who can put the plans into action that will m...</td>\n",
       "      <td>False</td>\n",
       "      <td>NaN</td>\n",
       "      <td>2016-09-28T00:22:34</td>\n",
       "      <td>NaN</td>\n",
       "      <td>NaN</td>\n",
       "      <td>NaN</td>\n",
       "      <td>False</td>\n",
       "      <td>...</td>\n",
       "      <td>NaN</td>\n",
       "      <td>NaN</td>\n",
       "      <td>NaN</td>\n",
       "      <td>NaN</td>\n",
       "      <td>NaN</td>\n",
       "      <td>NaN</td>\n",
       "      <td>https://studio.twitter.com</td>\n",
       "      <td>False</td>\n",
       "      <td>{'media': [{'display_url': 'pic.twitter.com/XreEY9OicG', 'expanded_url': 'ht...</td>\n",
       "      <td>{'media': [{'display_url': 'pic.twitter.com/XreEY9OicG', 'sizes': {'medium':...</td>\n",
       "    </tr>\n",
       "    <tr>\n",
       "      <th>1</th>\n",
       "      <td>780916180899037184</td>\n",
       "      <td>HillaryClinton</td>\n",
       "      <td>Last night, Donald Trump said not paying taxes was \"smart.\" You know what I ...</td>\n",
       "      <td>True</td>\n",
       "      <td>timkaine</td>\n",
       "      <td>2016-09-27T23:45:00</td>\n",
       "      <td>NaN</td>\n",
       "      <td>NaN</td>\n",
       "      <td>NaN</td>\n",
       "      <td>False</td>\n",
       "      <td>...</td>\n",
       "      <td>NaN</td>\n",
       "      <td>NaN</td>\n",
       "      <td>NaN</td>\n",
       "      <td>NaN</td>\n",
       "      <td>NaN</td>\n",
       "      <td>NaN</td>\n",
       "      <td>http://twitter.com</td>\n",
       "      <td>False</td>\n",
       "      <td>{'media': [{'display_url': 'pic.twitter.com/t0xmBfj7zF', 'sizes': {'medium':...</td>\n",
       "      <td>{'media': [{'display_url': 'pic.twitter.com/t0xmBfj7zF', 'sizes': {'medium':...</td>\n",
       "    </tr>\n",
       "    <tr>\n",
       "      <th>2</th>\n",
       "      <td>780911564857761793</td>\n",
       "      <td>HillaryClinton</td>\n",
       "      <td>Couldn't be more proud of @HillaryClinton. Her vision and command during las...</td>\n",
       "      <td>True</td>\n",
       "      <td>POTUS</td>\n",
       "      <td>2016-09-27T23:26:40</td>\n",
       "      <td>NaN</td>\n",
       "      <td>NaN</td>\n",
       "      <td>NaN</td>\n",
       "      <td>False</td>\n",
       "      <td>...</td>\n",
       "      <td>NaN</td>\n",
       "      <td>NaN</td>\n",
       "      <td>NaN</td>\n",
       "      <td>NaN</td>\n",
       "      <td>NaN</td>\n",
       "      <td>NaN</td>\n",
       "      <td>https://about.twitter.com/products/tweetdeck</td>\n",
       "      <td>False</td>\n",
       "      <td>{'user_mentions': [{'id_str': '1536791610', 'name': 'President Obama', 'id':...</td>\n",
       "      <td>NaN</td>\n",
       "    </tr>\n",
       "    <tr>\n",
       "      <th>3</th>\n",
       "      <td>780907038650068994</td>\n",
       "      <td>HillaryClinton</td>\n",
       "      <td>If we stand together, there's nothing we can't do. \\n\\nMake sure you're read...</td>\n",
       "      <td>False</td>\n",
       "      <td>NaN</td>\n",
       "      <td>2016-09-27T23:08:41</td>\n",
       "      <td>NaN</td>\n",
       "      <td>NaN</td>\n",
       "      <td>NaN</td>\n",
       "      <td>False</td>\n",
       "      <td>...</td>\n",
       "      <td>NaN</td>\n",
       "      <td>NaN</td>\n",
       "      <td>NaN</td>\n",
       "      <td>NaN</td>\n",
       "      <td>NaN</td>\n",
       "      <td>NaN</td>\n",
       "      <td>https://studio.twitter.com</td>\n",
       "      <td>False</td>\n",
       "      <td>{'media': [{'display_url': 'pic.twitter.com/Q3Ymbb7UNy', 'expanded_url': 'ht...</td>\n",
       "      <td>{'media': [{'display_url': 'pic.twitter.com/Q3Ymbb7UNy', 'sizes': {'thumb': ...</td>\n",
       "    </tr>\n",
       "    <tr>\n",
       "      <th>4</th>\n",
       "      <td>780897419462602752</td>\n",
       "      <td>HillaryClinton</td>\n",
       "      <td>Both candidates were asked about how they'd confront racial injustice. Only ...</td>\n",
       "      <td>False</td>\n",
       "      <td>NaN</td>\n",
       "      <td>2016-09-27T22:30:27</td>\n",
       "      <td>NaN</td>\n",
       "      <td>NaN</td>\n",
       "      <td>NaN</td>\n",
       "      <td>False</td>\n",
       "      <td>...</td>\n",
       "      <td>NaN</td>\n",
       "      <td>NaN</td>\n",
       "      <td>NaN</td>\n",
       "      <td>NaN</td>\n",
       "      <td>NaN</td>\n",
       "      <td>NaN</td>\n",
       "      <td>https://about.twitter.com/products/tweetdeck</td>\n",
       "      <td>False</td>\n",
       "      <td>{'user_mentions': [], 'symbols': [], 'urls': [{'display_url': 'hrc.io/2cTNXP...</td>\n",
       "      <td>NaN</td>\n",
       "    </tr>\n",
       "  </tbody>\n",
       "</table>\n",
       "<p>5 rows × 28 columns</p>\n",
       "</div>"
      ],
      "text/plain": [
       "                   id          handle  \\\n",
       "0  780925634159796224  HillaryClinton   \n",
       "1  780916180899037184  HillaryClinton   \n",
       "2  780911564857761793  HillaryClinton   \n",
       "3  780907038650068994  HillaryClinton   \n",
       "4  780897419462602752  HillaryClinton   \n",
       "\n",
       "                                                                              text  \\\n",
       "0  The question in this election: Who can put the plans into action that will m...   \n",
       "1  Last night, Donald Trump said not paying taxes was \"smart.\" You know what I ...   \n",
       "2  Couldn't be more proud of @HillaryClinton. Her vision and command during las...   \n",
       "3  If we stand together, there's nothing we can't do. \\n\\nMake sure you're read...   \n",
       "4  Both candidates were asked about how they'd confront racial injustice. Only ...   \n",
       "\n",
       "   is_retweet original_author                 time in_reply_to_screen_name  \\\n",
       "0       False             NaN  2016-09-28T00:22:34                     NaN   \n",
       "1        True        timkaine  2016-09-27T23:45:00                     NaN   \n",
       "2        True           POTUS  2016-09-27T23:26:40                     NaN   \n",
       "3       False             NaN  2016-09-27T23:08:41                     NaN   \n",
       "4       False             NaN  2016-09-27T22:30:27                     NaN   \n",
       "\n",
       "   in_reply_to_status_id  in_reply_to_user_id  is_quote_status  ...  \\\n",
       "0                    NaN                  NaN            False  ...   \n",
       "1                    NaN                  NaN            False  ...   \n",
       "2                    NaN                  NaN            False  ...   \n",
       "3                    NaN                  NaN            False  ...   \n",
       "4                    NaN                  NaN            False  ...   \n",
       "\n",
       "  place_type  place_country_code  place_country  place_contained_within  \\\n",
       "0        NaN                 NaN            NaN                     NaN   \n",
       "1        NaN                 NaN            NaN                     NaN   \n",
       "2        NaN                 NaN            NaN                     NaN   \n",
       "3        NaN                 NaN            NaN                     NaN   \n",
       "4        NaN                 NaN            NaN                     NaN   \n",
       "\n",
       "   place_attributes place_bounding_box  \\\n",
       "0               NaN                NaN   \n",
       "1               NaN                NaN   \n",
       "2               NaN                NaN   \n",
       "3               NaN                NaN   \n",
       "4               NaN                NaN   \n",
       "\n",
       "                                     source_url truncated  \\\n",
       "0                    https://studio.twitter.com     False   \n",
       "1                            http://twitter.com     False   \n",
       "2  https://about.twitter.com/products/tweetdeck     False   \n",
       "3                    https://studio.twitter.com     False   \n",
       "4  https://about.twitter.com/products/tweetdeck     False   \n",
       "\n",
       "                                                                          entities  \\\n",
       "0  {'media': [{'display_url': 'pic.twitter.com/XreEY9OicG', 'expanded_url': 'ht...   \n",
       "1  {'media': [{'display_url': 'pic.twitter.com/t0xmBfj7zF', 'sizes': {'medium':...   \n",
       "2  {'user_mentions': [{'id_str': '1536791610', 'name': 'President Obama', 'id':...   \n",
       "3  {'media': [{'display_url': 'pic.twitter.com/Q3Ymbb7UNy', 'expanded_url': 'ht...   \n",
       "4  {'user_mentions': [], 'symbols': [], 'urls': [{'display_url': 'hrc.io/2cTNXP...   \n",
       "\n",
       "                                                                 extended_entities  \n",
       "0  {'media': [{'display_url': 'pic.twitter.com/XreEY9OicG', 'sizes': {'medium':...  \n",
       "1  {'media': [{'display_url': 'pic.twitter.com/t0xmBfj7zF', 'sizes': {'medium':...  \n",
       "2                                                                              NaN  \n",
       "3  {'media': [{'display_url': 'pic.twitter.com/Q3Ymbb7UNy', 'sizes': {'thumb': ...  \n",
       "4                                                                              NaN  \n",
       "\n",
       "[5 rows x 28 columns]"
      ]
     },
     "execution_count": 15,
     "metadata": {},
     "output_type": "execute_result"
    }
   ],
   "source": [
    "tweets_df.head()"
   ]
  },
  {
   "cell_type": "code",
   "execution_count": 16,
   "id": "encouraging-yield",
   "metadata": {},
   "outputs": [
    {
     "data": {
      "text/plain": [
       "(6444, 28)"
      ]
     },
     "execution_count": 16,
     "metadata": {},
     "output_type": "execute_result"
    }
   ],
   "source": [
    "tweets_df.shape"
   ]
  },
  {
   "cell_type": "code",
   "execution_count": 17,
   "id": "nonprofit-adaptation",
   "metadata": {},
   "outputs": [],
   "source": [
    "tweets_df = tweets_df[[ 'handle', 'text', 'is_retweet', 'original_author', \n",
    "                 'time', 'lang', 'retweet_count', 'favorite_count']]"
   ]
  },
  {
   "cell_type": "code",
   "execution_count": 18,
   "id": "expensive-balance",
   "metadata": {},
   "outputs": [
    {
     "data": {
      "text/html": [
       "<div>\n",
       "<style scoped>\n",
       "    .dataframe tbody tr th:only-of-type {\n",
       "        vertical-align: middle;\n",
       "    }\n",
       "\n",
       "    .dataframe tbody tr th {\n",
       "        vertical-align: top;\n",
       "    }\n",
       "\n",
       "    .dataframe thead th {\n",
       "        text-align: right;\n",
       "    }\n",
       "</style>\n",
       "<table border=\"1\" class=\"dataframe\">\n",
       "  <thead>\n",
       "    <tr style=\"text-align: right;\">\n",
       "      <th></th>\n",
       "      <th>handle</th>\n",
       "      <th>text</th>\n",
       "      <th>is_retweet</th>\n",
       "      <th>original_author</th>\n",
       "      <th>time</th>\n",
       "      <th>lang</th>\n",
       "      <th>retweet_count</th>\n",
       "      <th>favorite_count</th>\n",
       "    </tr>\n",
       "  </thead>\n",
       "  <tbody>\n",
       "    <tr>\n",
       "      <th>0</th>\n",
       "      <td>HillaryClinton</td>\n",
       "      <td>The question in this election: Who can put the plans into action that will m...</td>\n",
       "      <td>False</td>\n",
       "      <td>NaN</td>\n",
       "      <td>2016-09-28T00:22:34</td>\n",
       "      <td>en</td>\n",
       "      <td>218</td>\n",
       "      <td>651</td>\n",
       "    </tr>\n",
       "    <tr>\n",
       "      <th>1</th>\n",
       "      <td>HillaryClinton</td>\n",
       "      <td>Last night, Donald Trump said not paying taxes was \"smart.\" You know what I ...</td>\n",
       "      <td>True</td>\n",
       "      <td>timkaine</td>\n",
       "      <td>2016-09-27T23:45:00</td>\n",
       "      <td>en</td>\n",
       "      <td>2445</td>\n",
       "      <td>5308</td>\n",
       "    </tr>\n",
       "    <tr>\n",
       "      <th>2</th>\n",
       "      <td>HillaryClinton</td>\n",
       "      <td>Couldn't be more proud of @HillaryClinton. Her vision and command during las...</td>\n",
       "      <td>True</td>\n",
       "      <td>POTUS</td>\n",
       "      <td>2016-09-27T23:26:40</td>\n",
       "      <td>en</td>\n",
       "      <td>7834</td>\n",
       "      <td>27234</td>\n",
       "    </tr>\n",
       "    <tr>\n",
       "      <th>3</th>\n",
       "      <td>HillaryClinton</td>\n",
       "      <td>If we stand together, there's nothing we can't do. \\n\\nMake sure you're read...</td>\n",
       "      <td>False</td>\n",
       "      <td>NaN</td>\n",
       "      <td>2016-09-27T23:08:41</td>\n",
       "      <td>en</td>\n",
       "      <td>916</td>\n",
       "      <td>2542</td>\n",
       "    </tr>\n",
       "    <tr>\n",
       "      <th>4</th>\n",
       "      <td>HillaryClinton</td>\n",
       "      <td>Both candidates were asked about how they'd confront racial injustice. Only ...</td>\n",
       "      <td>False</td>\n",
       "      <td>NaN</td>\n",
       "      <td>2016-09-27T22:30:27</td>\n",
       "      <td>en</td>\n",
       "      <td>859</td>\n",
       "      <td>2882</td>\n",
       "    </tr>\n",
       "  </tbody>\n",
       "</table>\n",
       "</div>"
      ],
      "text/plain": [
       "           handle  \\\n",
       "0  HillaryClinton   \n",
       "1  HillaryClinton   \n",
       "2  HillaryClinton   \n",
       "3  HillaryClinton   \n",
       "4  HillaryClinton   \n",
       "\n",
       "                                                                              text  \\\n",
       "0  The question in this election: Who can put the plans into action that will m...   \n",
       "1  Last night, Donald Trump said not paying taxes was \"smart.\" You know what I ...   \n",
       "2  Couldn't be more proud of @HillaryClinton. Her vision and command during las...   \n",
       "3  If we stand together, there's nothing we can't do. \\n\\nMake sure you're read...   \n",
       "4  Both candidates were asked about how they'd confront racial injustice. Only ...   \n",
       "\n",
       "   is_retweet original_author                 time lang  retweet_count  \\\n",
       "0       False             NaN  2016-09-28T00:22:34   en            218   \n",
       "1        True        timkaine  2016-09-27T23:45:00   en           2445   \n",
       "2        True           POTUS  2016-09-27T23:26:40   en           7834   \n",
       "3       False             NaN  2016-09-27T23:08:41   en            916   \n",
       "4       False             NaN  2016-09-27T22:30:27   en            859   \n",
       "\n",
       "   favorite_count  \n",
       "0             651  \n",
       "1            5308  \n",
       "2           27234  \n",
       "3            2542  \n",
       "4            2882  "
      ]
     },
     "execution_count": 18,
     "metadata": {},
     "output_type": "execute_result"
    }
   ],
   "source": [
    "tweets_df.head()"
   ]
  },
  {
   "cell_type": "code",
   "execution_count": 19,
   "id": "wicked-promotion",
   "metadata": {},
   "outputs": [
    {
     "data": {
      "text/plain": [
       "en     6248\n",
       "es      105\n",
       "und      82\n",
       "da        3\n",
       "fr        2\n",
       "tl        2\n",
       "fi        1\n",
       "et        1\n",
       "Name: lang, dtype: int64"
      ]
     },
     "execution_count": 19,
     "metadata": {},
     "output_type": "execute_result"
    }
   ],
   "source": [
    "tweets_df['lang'].value_counts()"
   ]
  },
  {
   "cell_type": "code",
   "execution_count": 20,
   "id": "retired-marathon",
   "metadata": {},
   "outputs": [],
   "source": [
    "tweets_df = tweets_df[tweets_df['lang'] == 'en']"
   ]
  },
  {
   "cell_type": "code",
   "execution_count": 21,
   "id": "stable-hours",
   "metadata": {},
   "outputs": [
    {
     "data": {
      "text/plain": [
       "(6248, 8)"
      ]
     },
     "execution_count": 21,
     "metadata": {},
     "output_type": "execute_result"
    }
   ],
   "source": [
    "tweets_df.shape"
   ]
  },
  {
   "cell_type": "code",
   "execution_count": 22,
   "id": "russian-norway",
   "metadata": {},
   "outputs": [
    {
     "data": {
      "text/html": [
       "<div>\n",
       "<style scoped>\n",
       "    .dataframe tbody tr th:only-of-type {\n",
       "        vertical-align: middle;\n",
       "    }\n",
       "\n",
       "    .dataframe tbody tr th {\n",
       "        vertical-align: top;\n",
       "    }\n",
       "\n",
       "    .dataframe thead th {\n",
       "        text-align: right;\n",
       "    }\n",
       "</style>\n",
       "<table border=\"1\" class=\"dataframe\">\n",
       "  <thead>\n",
       "    <tr style=\"text-align: right;\">\n",
       "      <th></th>\n",
       "      <th>handle</th>\n",
       "      <th>text</th>\n",
       "      <th>is_retweet</th>\n",
       "      <th>original_author</th>\n",
       "      <th>time</th>\n",
       "      <th>lang</th>\n",
       "      <th>retweet_count</th>\n",
       "      <th>favorite_count</th>\n",
       "    </tr>\n",
       "  </thead>\n",
       "  <tbody>\n",
       "    <tr>\n",
       "      <th>0</th>\n",
       "      <td>HillaryClinton</td>\n",
       "      <td>The question in this election: Who can put the plans into action that will m...</td>\n",
       "      <td>False</td>\n",
       "      <td>NaN</td>\n",
       "      <td>2016-09-28T00:22:34</td>\n",
       "      <td>en</td>\n",
       "      <td>218</td>\n",
       "      <td>651</td>\n",
       "    </tr>\n",
       "    <tr>\n",
       "      <th>1</th>\n",
       "      <td>HillaryClinton</td>\n",
       "      <td>Last night, Donald Trump said not paying taxes was \"smart.\" You know what I ...</td>\n",
       "      <td>True</td>\n",
       "      <td>timkaine</td>\n",
       "      <td>2016-09-27T23:45:00</td>\n",
       "      <td>en</td>\n",
       "      <td>2445</td>\n",
       "      <td>5308</td>\n",
       "    </tr>\n",
       "    <tr>\n",
       "      <th>2</th>\n",
       "      <td>HillaryClinton</td>\n",
       "      <td>Couldn't be more proud of @HillaryClinton. Her vision and command during las...</td>\n",
       "      <td>True</td>\n",
       "      <td>POTUS</td>\n",
       "      <td>2016-09-27T23:26:40</td>\n",
       "      <td>en</td>\n",
       "      <td>7834</td>\n",
       "      <td>27234</td>\n",
       "    </tr>\n",
       "    <tr>\n",
       "      <th>3</th>\n",
       "      <td>HillaryClinton</td>\n",
       "      <td>If we stand together, there's nothing we can't do. \\n\\nMake sure you're read...</td>\n",
       "      <td>False</td>\n",
       "      <td>NaN</td>\n",
       "      <td>2016-09-27T23:08:41</td>\n",
       "      <td>en</td>\n",
       "      <td>916</td>\n",
       "      <td>2542</td>\n",
       "    </tr>\n",
       "    <tr>\n",
       "      <th>4</th>\n",
       "      <td>HillaryClinton</td>\n",
       "      <td>Both candidates were asked about how they'd confront racial injustice. Only ...</td>\n",
       "      <td>False</td>\n",
       "      <td>NaN</td>\n",
       "      <td>2016-09-27T22:30:27</td>\n",
       "      <td>en</td>\n",
       "      <td>859</td>\n",
       "      <td>2882</td>\n",
       "    </tr>\n",
       "  </tbody>\n",
       "</table>\n",
       "</div>"
      ],
      "text/plain": [
       "           handle  \\\n",
       "0  HillaryClinton   \n",
       "1  HillaryClinton   \n",
       "2  HillaryClinton   \n",
       "3  HillaryClinton   \n",
       "4  HillaryClinton   \n",
       "\n",
       "                                                                              text  \\\n",
       "0  The question in this election: Who can put the plans into action that will m...   \n",
       "1  Last night, Donald Trump said not paying taxes was \"smart.\" You know what I ...   \n",
       "2  Couldn't be more proud of @HillaryClinton. Her vision and command during las...   \n",
       "3  If we stand together, there's nothing we can't do. \\n\\nMake sure you're read...   \n",
       "4  Both candidates were asked about how they'd confront racial injustice. Only ...   \n",
       "\n",
       "   is_retweet original_author                 time lang  retweet_count  \\\n",
       "0       False             NaN  2016-09-28T00:22:34   en            218   \n",
       "1        True        timkaine  2016-09-27T23:45:00   en           2445   \n",
       "2        True           POTUS  2016-09-27T23:26:40   en           7834   \n",
       "3       False             NaN  2016-09-27T23:08:41   en            916   \n",
       "4       False             NaN  2016-09-27T22:30:27   en            859   \n",
       "\n",
       "   favorite_count  \n",
       "0             651  \n",
       "1            5308  \n",
       "2           27234  \n",
       "3            2542  \n",
       "4            2882  "
      ]
     },
     "execution_count": 22,
     "metadata": {},
     "output_type": "execute_result"
    }
   ],
   "source": [
    "tweets_df.head()"
   ]
  },
  {
   "cell_type": "markdown",
   "id": "public-cyprus",
   "metadata": {},
   "source": [
    "# NLTK text preprocess"
   ]
  },
  {
   "cell_type": "code",
   "execution_count": 23,
   "id": "fresh-spider",
   "metadata": {},
   "outputs": [],
   "source": [
    "def clean_tweet(tweet):\n",
    "    tweet = re.sub('RT','',tweet)\n",
    "    tweet = re.sub('@','',tweet)\n",
    "    tweet = re.sub('#','',tweet)\n",
    "    tweet = re.sub('https?://[A-Za-z0-9./]*','',tweet)\n",
    "    tweet = re.sub('\\n','',tweet)\n",
    "    return tweet"
   ]
  },
  {
   "cell_type": "code",
   "execution_count": 24,
   "id": "processed-prototype",
   "metadata": {},
   "outputs": [],
   "source": [
    "# lemmatization function\n",
    "lemmatizer = WordNetLemmatizer()\n",
    "def lemmatize_tweet(tweet):\n",
    "    lemmatized_tweet = []\n",
    "    for word in tweet:\n",
    "        lemmatized_tweet.append(lemmatizer.lemmatize(word, pos='v'))\n",
    "    return lemmatized_tweet\n",
    "\n",
    "# stemming function\n",
    "porter = PorterStemmer()\n",
    "def stem_tweet(tweet):\n",
    "    stemmed_tweet = []\n",
    "    for word in tweet:\n",
    "        stemmed_tweet.append(porter.stem(word))\n",
    "    return stemmed_tweet\n",
    "\n",
    "\n",
    "# remove stopwords function\n",
    "def remove_stopwords(tweet):\n",
    "    tweet_witout_stops = []\n",
    "    for word in tweet:\n",
    "        if word not in stopwords_eng:\n",
    "            tweet_witout_stops.append(word)\n",
    "    return tweet_witout_stops"
   ]
  },
  {
   "cell_type": "code",
   "execution_count": 25,
   "id": "smoking-secret",
   "metadata": {},
   "outputs": [
    {
     "name": "stderr",
     "output_type": "stream",
     "text": [
      "<ipython-input-25-723cdd9efce0>:1: SettingWithCopyWarning: \n",
      "A value is trying to be set on a copy of a slice from a DataFrame.\n",
      "Try using .loc[row_indexer,col_indexer] = value instead\n",
      "\n",
      "See the caveats in the documentation: https://pandas.pydata.org/pandas-docs/stable/user_guide/indexing.html#returning-a-view-versus-a-copy\n",
      "  tweets_df['cleaned_text'] = tweets_df['text'].apply(clean_tweet)\n"
     ]
    }
   ],
   "source": [
    "tweets_df['cleaned_text'] = tweets_df['text'].apply(clean_tweet)"
   ]
  },
  {
   "cell_type": "code",
   "execution_count": 27,
   "id": "stunning-spanish",
   "metadata": {},
   "outputs": [
    {
     "name": "stderr",
     "output_type": "stream",
     "text": [
      "<ipython-input-27-a271d70e467d>:2: SettingWithCopyWarning: \n",
      "A value is trying to be set on a copy of a slice from a DataFrame.\n",
      "Try using .loc[row_indexer,col_indexer] = value instead\n",
      "\n",
      "See the caveats in the documentation: https://pandas.pydata.org/pandas-docs/stable/user_guide/indexing.html#returning-a-view-versus-a-copy\n",
      "  tweets_df['cleaned_text'] = tweets_df['cleaned_text'].apply(lambda x: x.lower())\n"
     ]
    }
   ],
   "source": [
    "# make all text lowercase\n",
    "tweets_df['cleaned_text'] = tweets_df['cleaned_text'].apply(lambda x: x.lower())"
   ]
  },
  {
   "cell_type": "code",
   "execution_count": 30,
   "id": "approved-original",
   "metadata": {},
   "outputs": [
    {
     "name": "stderr",
     "output_type": "stream",
     "text": [
      "<ipython-input-30-7b644cf159d7>:2: FutureWarning: The default value of regex will change from True to False in a future version.\n",
      "  tweets_df['cleaned_text'] = tweets_df['cleaned_text'].str.replace(\"[^a-zA-z]\", \" \")\n",
      "<ipython-input-30-7b644cf159d7>:2: SettingWithCopyWarning: \n",
      "A value is trying to be set on a copy of a slice from a DataFrame.\n",
      "Try using .loc[row_indexer,col_indexer] = value instead\n",
      "\n",
      "See the caveats in the documentation: https://pandas.pydata.org/pandas-docs/stable/user_guide/indexing.html#returning-a-view-versus-a-copy\n",
      "  tweets_df['cleaned_text'] = tweets_df['cleaned_text'].str.replace(\"[^a-zA-z]\", \" \")\n"
     ]
    }
   ],
   "source": [
    "# remove punctuations and numbers and emoji\n",
    "tweets_df['cleaned_text'] = tweets_df['cleaned_text'].str.replace(\"[^a-zA-z]\", \" \")"
   ]
  },
  {
   "cell_type": "code",
   "execution_count": 32,
   "id": "unauthorized-massage",
   "metadata": {},
   "outputs": [
    {
     "name": "stderr",
     "output_type": "stream",
     "text": [
      "<ipython-input-32-6d98780dd824>:2: SettingWithCopyWarning: \n",
      "A value is trying to be set on a copy of a slice from a DataFrame.\n",
      "Try using .loc[row_indexer,col_indexer] = value instead\n",
      "\n",
      "See the caveats in the documentation: https://pandas.pydata.org/pandas-docs/stable/user_guide/indexing.html#returning-a-view-versus-a-copy\n",
      "  tweets_df['tokenized_text'] = tweets_df['cleaned_text'].apply(lambda x: word_tokenize(x))\n"
     ]
    }
   ],
   "source": [
    "#tokenize text\n",
    "tweets_df['tokenized_text'] = tweets_df['cleaned_text'].apply(lambda x: word_tokenize(x))"
   ]
  },
  {
   "cell_type": "code",
   "execution_count": 33,
   "id": "gothic-invention",
   "metadata": {},
   "outputs": [
    {
     "name": "stderr",
     "output_type": "stream",
     "text": [
      "<ipython-input-33-a124637c410b>:2: SettingWithCopyWarning: \n",
      "A value is trying to be set on a copy of a slice from a DataFrame.\n",
      "Try using .loc[row_indexer,col_indexer] = value instead\n",
      "\n",
      "See the caveats in the documentation: https://pandas.pydata.org/pandas-docs/stable/user_guide/indexing.html#returning-a-view-versus-a-copy\n",
      "  tweets_df['tokenized_text'] = tweets_df['tokenized_text'].apply(remove_stopwords)\n"
     ]
    }
   ],
   "source": [
    "#remove stopwords\n",
    "tweets_df['tokenized_text'] = tweets_df['tokenized_text'].apply(remove_stopwords)"
   ]
  },
  {
   "cell_type": "code",
   "execution_count": 34,
   "id": "silent-commander",
   "metadata": {},
   "outputs": [],
   "source": [
    "#lemmatize text\n",
    "tweets_df['lemmatized_text'] = tweets_df['tokenized_text']. apply(lemmatize_tweet)"
   ]
  },
  {
   "cell_type": "code",
   "execution_count": 35,
   "id": "beginning-speech",
   "metadata": {},
   "outputs": [],
   "source": [
    "#stem text\n",
    "tweets_df['stemmed_text'] = tweets_df['lemmatized_text'].apply(stem_tweet)"
   ]
  },
  {
   "cell_type": "code",
   "execution_count": 36,
   "id": "arranged-continent",
   "metadata": {},
   "outputs": [],
   "source": [
    "#de tokenize text\n",
    "tweets_df['lemmatized_string'] = tweets_df['lemmatized_text'].apply(lambda x: ' '.join(x))\n",
    "tweets_df['stemmed_string'] = tweets_df['stemmed_text'].apply(lambda x: ' '.join(x))"
   ]
  },
  {
   "cell_type": "code",
   "execution_count": 37,
   "id": "earned-distance",
   "metadata": {},
   "outputs": [
    {
     "data": {
      "text/html": [
       "<div>\n",
       "<style scoped>\n",
       "    .dataframe tbody tr th:only-of-type {\n",
       "        vertical-align: middle;\n",
       "    }\n",
       "\n",
       "    .dataframe tbody tr th {\n",
       "        vertical-align: top;\n",
       "    }\n",
       "\n",
       "    .dataframe thead th {\n",
       "        text-align: right;\n",
       "    }\n",
       "</style>\n",
       "<table border=\"1\" class=\"dataframe\">\n",
       "  <thead>\n",
       "    <tr style=\"text-align: right;\">\n",
       "      <th></th>\n",
       "      <th>handle</th>\n",
       "      <th>text</th>\n",
       "      <th>is_retweet</th>\n",
       "      <th>original_author</th>\n",
       "      <th>time</th>\n",
       "      <th>lang</th>\n",
       "      <th>retweet_count</th>\n",
       "      <th>favorite_count</th>\n",
       "      <th>cleaned_text</th>\n",
       "      <th>tokenized_text</th>\n",
       "      <th>lemmatized_text</th>\n",
       "      <th>stemmed_text</th>\n",
       "      <th>lemmatized_string</th>\n",
       "      <th>stemmed_string</th>\n",
       "    </tr>\n",
       "  </thead>\n",
       "  <tbody>\n",
       "    <tr>\n",
       "      <th>0</th>\n",
       "      <td>HillaryClinton</td>\n",
       "      <td>The question in this election: Who can put the plans into action that will m...</td>\n",
       "      <td>False</td>\n",
       "      <td>NaN</td>\n",
       "      <td>2016-09-28T00:22:34</td>\n",
       "      <td>en</td>\n",
       "      <td>218</td>\n",
       "      <td>651</td>\n",
       "      <td>the question in this election  who can put the plans into action that will m...</td>\n",
       "      <td>[question, election, put, plans, action, make, life, better]</td>\n",
       "      <td>[question, election, put, plan, action, make, life, better]</td>\n",
       "      <td>[question, elect, put, plan, action, make, life, better]</td>\n",
       "      <td>question election put plan action make life better</td>\n",
       "      <td>question elect put plan action make life better</td>\n",
       "    </tr>\n",
       "    <tr>\n",
       "      <th>1</th>\n",
       "      <td>HillaryClinton</td>\n",
       "      <td>Last night, Donald Trump said not paying taxes was \"smart.\" You know what I ...</td>\n",
       "      <td>True</td>\n",
       "      <td>timkaine</td>\n",
       "      <td>2016-09-27T23:45:00</td>\n",
       "      <td>en</td>\n",
       "      <td>2445</td>\n",
       "      <td>5308</td>\n",
       "      <td>last night  donald trump said not paying taxes was  smart   you know what i ...</td>\n",
       "      <td>[last, night, donald, trump, said, paying, taxes, smart, know, call, unpatri...</td>\n",
       "      <td>[last, night, donald, trump, say, pay, tax, smart, know, call, unpatriotic]</td>\n",
       "      <td>[last, night, donald, trump, say, pay, tax, smart, know, call, unpatriot]</td>\n",
       "      <td>last night donald trump say pay tax smart know call unpatriotic</td>\n",
       "      <td>last night donald trump say pay tax smart know call unpatriot</td>\n",
       "    </tr>\n",
       "    <tr>\n",
       "      <th>2</th>\n",
       "      <td>HillaryClinton</td>\n",
       "      <td>Couldn't be more proud of @HillaryClinton. Her vision and command during las...</td>\n",
       "      <td>True</td>\n",
       "      <td>POTUS</td>\n",
       "      <td>2016-09-27T23:26:40</td>\n",
       "      <td>en</td>\n",
       "      <td>7834</td>\n",
       "      <td>27234</td>\n",
       "      <td>couldn t be more proud of hillaryclinton  her vision and command during last...</td>\n",
       "      <td>[proud, hillaryclinton, vision, command, last, night, debate, showed, ready,...</td>\n",
       "      <td>[proud, hillaryclinton, vision, command, last, night, debate, show, ready, n...</td>\n",
       "      <td>[proud, hillaryclinton, vision, command, last, night, debat, show, readi, ne...</td>\n",
       "      <td>proud hillaryclinton vision command last night debate show ready next potus</td>\n",
       "      <td>proud hillaryclinton vision command last night debat show readi next potu</td>\n",
       "    </tr>\n",
       "    <tr>\n",
       "      <th>3</th>\n",
       "      <td>HillaryClinton</td>\n",
       "      <td>If we stand together, there's nothing we can't do. \\n\\nMake sure you're read...</td>\n",
       "      <td>False</td>\n",
       "      <td>NaN</td>\n",
       "      <td>2016-09-27T23:08:41</td>\n",
       "      <td>en</td>\n",
       "      <td>916</td>\n",
       "      <td>2542</td>\n",
       "      <td>if we stand together  there s nothing we can t do  make sure you re ready to...</td>\n",
       "      <td>[stand, together, nothing, make, sure, ready, vote]</td>\n",
       "      <td>[stand, together, nothing, make, sure, ready, vote]</td>\n",
       "      <td>[stand, togeth, noth, make, sure, readi, vote]</td>\n",
       "      <td>stand together nothing make sure ready vote</td>\n",
       "      <td>stand togeth noth make sure readi vote</td>\n",
       "    </tr>\n",
       "    <tr>\n",
       "      <th>4</th>\n",
       "      <td>HillaryClinton</td>\n",
       "      <td>Both candidates were asked about how they'd confront racial injustice. Only ...</td>\n",
       "      <td>False</td>\n",
       "      <td>NaN</td>\n",
       "      <td>2016-09-27T22:30:27</td>\n",
       "      <td>en</td>\n",
       "      <td>859</td>\n",
       "      <td>2882</td>\n",
       "      <td>both candidates were asked about how they d confront racial injustice  only ...</td>\n",
       "      <td>[candidates, asked, confront, racial, injustice, one, real, answer]</td>\n",
       "      <td>[candidates, ask, confront, racial, injustice, one, real, answer]</td>\n",
       "      <td>[candid, ask, confront, racial, injustic, one, real, answer]</td>\n",
       "      <td>candidates ask confront racial injustice one real answer</td>\n",
       "      <td>candid ask confront racial injustic one real answer</td>\n",
       "    </tr>\n",
       "  </tbody>\n",
       "</table>\n",
       "</div>"
      ],
      "text/plain": [
       "           handle  \\\n",
       "0  HillaryClinton   \n",
       "1  HillaryClinton   \n",
       "2  HillaryClinton   \n",
       "3  HillaryClinton   \n",
       "4  HillaryClinton   \n",
       "\n",
       "                                                                              text  \\\n",
       "0  The question in this election: Who can put the plans into action that will m...   \n",
       "1  Last night, Donald Trump said not paying taxes was \"smart.\" You know what I ...   \n",
       "2  Couldn't be more proud of @HillaryClinton. Her vision and command during las...   \n",
       "3  If we stand together, there's nothing we can't do. \\n\\nMake sure you're read...   \n",
       "4  Both candidates were asked about how they'd confront racial injustice. Only ...   \n",
       "\n",
       "   is_retweet original_author                 time lang  retweet_count  \\\n",
       "0       False             NaN  2016-09-28T00:22:34   en            218   \n",
       "1        True        timkaine  2016-09-27T23:45:00   en           2445   \n",
       "2        True           POTUS  2016-09-27T23:26:40   en           7834   \n",
       "3       False             NaN  2016-09-27T23:08:41   en            916   \n",
       "4       False             NaN  2016-09-27T22:30:27   en            859   \n",
       "\n",
       "   favorite_count  \\\n",
       "0             651   \n",
       "1            5308   \n",
       "2           27234   \n",
       "3            2542   \n",
       "4            2882   \n",
       "\n",
       "                                                                      cleaned_text  \\\n",
       "0  the question in this election  who can put the plans into action that will m...   \n",
       "1  last night  donald trump said not paying taxes was  smart   you know what i ...   \n",
       "2  couldn t be more proud of hillaryclinton  her vision and command during last...   \n",
       "3  if we stand together  there s nothing we can t do  make sure you re ready to...   \n",
       "4  both candidates were asked about how they d confront racial injustice  only ...   \n",
       "\n",
       "                                                                    tokenized_text  \\\n",
       "0                     [question, election, put, plans, action, make, life, better]   \n",
       "1  [last, night, donald, trump, said, paying, taxes, smart, know, call, unpatri...   \n",
       "2  [proud, hillaryclinton, vision, command, last, night, debate, showed, ready,...   \n",
       "3                              [stand, together, nothing, make, sure, ready, vote]   \n",
       "4              [candidates, asked, confront, racial, injustice, one, real, answer]   \n",
       "\n",
       "                                                                   lemmatized_text  \\\n",
       "0                      [question, election, put, plan, action, make, life, better]   \n",
       "1      [last, night, donald, trump, say, pay, tax, smart, know, call, unpatriotic]   \n",
       "2  [proud, hillaryclinton, vision, command, last, night, debate, show, ready, n...   \n",
       "3                              [stand, together, nothing, make, sure, ready, vote]   \n",
       "4                [candidates, ask, confront, racial, injustice, one, real, answer]   \n",
       "\n",
       "                                                                      stemmed_text  \\\n",
       "0                         [question, elect, put, plan, action, make, life, better]   \n",
       "1        [last, night, donald, trump, say, pay, tax, smart, know, call, unpatriot]   \n",
       "2  [proud, hillaryclinton, vision, command, last, night, debat, show, readi, ne...   \n",
       "3                                   [stand, togeth, noth, make, sure, readi, vote]   \n",
       "4                     [candid, ask, confront, racial, injustic, one, real, answer]   \n",
       "\n",
       "                                                             lemmatized_string  \\\n",
       "0                           question election put plan action make life better   \n",
       "1              last night donald trump say pay tax smart know call unpatriotic   \n",
       "2  proud hillaryclinton vision command last night debate show ready next potus   \n",
       "3                                  stand together nothing make sure ready vote   \n",
       "4                     candidates ask confront racial injustice one real answer   \n",
       "\n",
       "                                                              stemmed_string  \n",
       "0                            question elect put plan action make life better  \n",
       "1              last night donald trump say pay tax smart know call unpatriot  \n",
       "2  proud hillaryclinton vision command last night debat show readi next potu  \n",
       "3                                     stand togeth noth make sure readi vote  \n",
       "4                        candid ask confront racial injustic one real answer  "
      ]
     },
     "execution_count": 37,
     "metadata": {},
     "output_type": "execute_result"
    }
   ],
   "source": [
    "tweets_df.head()"
   ]
  },
  {
   "cell_type": "code",
   "execution_count": 38,
   "id": "offensive-certificate",
   "metadata": {},
   "outputs": [
    {
     "data": {
      "text/plain": [
       "realDonaldTrump    3131\n",
       "HillaryClinton     3117\n",
       "Name: handle, dtype: int64"
      ]
     },
     "execution_count": 38,
     "metadata": {},
     "output_type": "execute_result"
    }
   ],
   "source": [
    "tweets_df['handle'].value_counts()"
   ]
  },
  {
   "cell_type": "code",
   "execution_count": 41,
   "id": "false-plant",
   "metadata": {},
   "outputs": [
    {
     "name": "stdout",
     "output_type": "stream",
     "text": [
      "Donald Trump mentions: 3131\n",
      "Hillary Clinton mentions: 3117\n"
     ]
    }
   ],
   "source": [
    "trump_mentions = len(tweets_df[tweets_df['handle'] == 'realDonaldTrump'])\n",
    "print(f'Donald Trump mentions: {trump_mentions}')\n",
    "\n",
    "hillary_mentions = len(tweets_df[tweets_df['handle'] == 'HillaryClinton'])\n",
    "print(f'Hillary Clinton mentions: {hillary_mentions}')"
   ]
  },
  {
   "cell_type": "markdown",
   "id": "aging-pontiac",
   "metadata": {},
   "source": [
    "# NLTK sentiment Analysis"
   ]
  },
  {
   "cell_type": "code",
   "execution_count": 42,
   "id": "amended-giving",
   "metadata": {},
   "outputs": [
    {
     "name": "stderr",
     "output_type": "stream",
     "text": [
      "[nltk_data] Downloading package vader_lexicon to\n",
      "[nltk_data]     C:\\Users\\user\\AppData\\Roaming\\nltk_data...\n",
      "[nltk_data]   Package vader_lexicon is already up-to-date!\n"
     ]
    },
    {
     "data": {
      "text/plain": [
       "True"
      ]
     },
     "execution_count": 42,
     "metadata": {},
     "output_type": "execute_result"
    }
   ],
   "source": [
    "import nltk\n",
    "from nltk.sentiment.vader import SentimentIntensityAnalyzer\n",
    "nltk.download('vader_lexicon')"
   ]
  },
  {
   "cell_type": "code",
   "execution_count": 43,
   "id": "excellent-damages",
   "metadata": {},
   "outputs": [],
   "source": [
    "sid = SentimentIntensityAnalyzer()"
   ]
  },
  {
   "cell_type": "code",
   "execution_count": 44,
   "id": "binding-preview",
   "metadata": {},
   "outputs": [],
   "source": [
    "def tweet_polarity(tweet):\n",
    "    return sid.polarity_scores(tweet)"
   ]
  },
  {
   "cell_type": "code",
   "execution_count": 76,
   "id": "fundamental-copyright",
   "metadata": {},
   "outputs": [],
   "source": [
    "#tweets_df['Polarity'] = tweets_df['Cleaned Tweet'].apply(tweet_polarity)\n",
    "tweets_df['Polarity'] = tweets_df['lemmatized_string'].apply(tweet_polarity)"
   ]
  },
  {
   "cell_type": "code",
   "execution_count": 77,
   "id": "mounted-screening",
   "metadata": {},
   "outputs": [],
   "source": [
    "#tweets_df.drop('Tweet', axis=1, inplace=True)\n",
    "\n",
    "def sentimentVerdict(polarity):\n",
    "    #print(polarity['compound'])\n",
    "    if polarity['compound'] >= 0.05:\n",
    "        return \"Positive\"\n",
    "    elif polarity['compound'] <= -0.05:\n",
    "        return \"Negative\"\n",
    "    else:\n",
    "        return \"Neutral\""
   ]
  },
  {
   "cell_type": "code",
   "execution_count": 78,
   "id": "measured-middle",
   "metadata": {},
   "outputs": [],
   "source": [
    "tweets_df['Sentiment'] = tweets_df['Polarity'].apply(sentimentVerdict)"
   ]
  },
  {
   "cell_type": "code",
   "execution_count": 79,
   "id": "differential-visitor",
   "metadata": {},
   "outputs": [
    {
     "data": {
      "text/html": [
       "<div>\n",
       "<style scoped>\n",
       "    .dataframe tbody tr th:only-of-type {\n",
       "        vertical-align: middle;\n",
       "    }\n",
       "\n",
       "    .dataframe tbody tr th {\n",
       "        vertical-align: top;\n",
       "    }\n",
       "\n",
       "    .dataframe thead th {\n",
       "        text-align: right;\n",
       "    }\n",
       "</style>\n",
       "<table border=\"1\" class=\"dataframe\">\n",
       "  <thead>\n",
       "    <tr style=\"text-align: right;\">\n",
       "      <th></th>\n",
       "      <th>handle</th>\n",
       "      <th>text</th>\n",
       "      <th>is_retweet</th>\n",
       "      <th>original_author</th>\n",
       "      <th>time</th>\n",
       "      <th>lang</th>\n",
       "      <th>retweet_count</th>\n",
       "      <th>favorite_count</th>\n",
       "      <th>cleaned_text</th>\n",
       "      <th>tokenized_text</th>\n",
       "      <th>lemmatized_text</th>\n",
       "      <th>stemmed_text</th>\n",
       "      <th>lemmatized_string</th>\n",
       "      <th>stemmed_string</th>\n",
       "      <th>Polarity</th>\n",
       "      <th>Sentiment</th>\n",
       "    </tr>\n",
       "  </thead>\n",
       "  <tbody>\n",
       "    <tr>\n",
       "      <th>0</th>\n",
       "      <td>HillaryClinton</td>\n",
       "      <td>The question in this election: Who can put the plans into action that will m...</td>\n",
       "      <td>False</td>\n",
       "      <td>NaN</td>\n",
       "      <td>2016-09-28T00:22:34</td>\n",
       "      <td>en</td>\n",
       "      <td>218</td>\n",
       "      <td>651</td>\n",
       "      <td>the question in this election  who can put the plans into action that will m...</td>\n",
       "      <td>[question, election, put, plans, action, make, life, better]</td>\n",
       "      <td>[question, election, put, plan, action, make, life, better]</td>\n",
       "      <td>[question, elect, put, plan, action, make, life, better]</td>\n",
       "      <td>question election put plan action make life better</td>\n",
       "      <td>question elect put plan action make life better</td>\n",
       "      <td>{'neg': 0.0, 'neu': 0.707, 'pos': 0.293, 'compound': 0.4404}</td>\n",
       "      <td>Positive</td>\n",
       "    </tr>\n",
       "    <tr>\n",
       "      <th>1</th>\n",
       "      <td>HillaryClinton</td>\n",
       "      <td>Last night, Donald Trump said not paying taxes was \"smart.\" You know what I ...</td>\n",
       "      <td>True</td>\n",
       "      <td>timkaine</td>\n",
       "      <td>2016-09-27T23:45:00</td>\n",
       "      <td>en</td>\n",
       "      <td>2445</td>\n",
       "      <td>5308</td>\n",
       "      <td>last night  donald trump said not paying taxes was  smart   you know what i ...</td>\n",
       "      <td>[last, night, donald, trump, said, paying, taxes, smart, know, call, unpatri...</td>\n",
       "      <td>[last, night, donald, trump, say, pay, tax, smart, know, call, unpatriotic]</td>\n",
       "      <td>[last, night, donald, trump, say, pay, tax, smart, know, call, unpatriot]</td>\n",
       "      <td>last night donald trump say pay tax smart know call unpatriotic</td>\n",
       "      <td>last night donald trump say pay tax smart know call unpatriot</td>\n",
       "      <td>{'neg': 0.107, 'neu': 0.687, 'pos': 0.206, 'compound': 0.3182}</td>\n",
       "      <td>Positive</td>\n",
       "    </tr>\n",
       "    <tr>\n",
       "      <th>2</th>\n",
       "      <td>HillaryClinton</td>\n",
       "      <td>Couldn't be more proud of @HillaryClinton. Her vision and command during las...</td>\n",
       "      <td>True</td>\n",
       "      <td>POTUS</td>\n",
       "      <td>2016-09-27T23:26:40</td>\n",
       "      <td>en</td>\n",
       "      <td>7834</td>\n",
       "      <td>27234</td>\n",
       "      <td>couldn t be more proud of hillaryclinton  her vision and command during last...</td>\n",
       "      <td>[proud, hillaryclinton, vision, command, last, night, debate, showed, ready,...</td>\n",
       "      <td>[proud, hillaryclinton, vision, command, last, night, debate, show, ready, n...</td>\n",
       "      <td>[proud, hillaryclinton, vision, command, last, night, debat, show, readi, ne...</td>\n",
       "      <td>proud hillaryclinton vision command last night debate show ready next potus</td>\n",
       "      <td>proud hillaryclinton vision command last night debat show readi next potu</td>\n",
       "      <td>{'neg': 0.0, 'neu': 0.513, 'pos': 0.487, 'compound': 0.765}</td>\n",
       "      <td>Positive</td>\n",
       "    </tr>\n",
       "    <tr>\n",
       "      <th>3</th>\n",
       "      <td>HillaryClinton</td>\n",
       "      <td>If we stand together, there's nothing we can't do. \\n\\nMake sure you're read...</td>\n",
       "      <td>False</td>\n",
       "      <td>NaN</td>\n",
       "      <td>2016-09-27T23:08:41</td>\n",
       "      <td>en</td>\n",
       "      <td>916</td>\n",
       "      <td>2542</td>\n",
       "      <td>if we stand together  there s nothing we can t do  make sure you re ready to...</td>\n",
       "      <td>[stand, together, nothing, make, sure, ready, vote]</td>\n",
       "      <td>[stand, together, nothing, make, sure, ready, vote]</td>\n",
       "      <td>[stand, togeth, noth, make, sure, readi, vote]</td>\n",
       "      <td>stand together nothing make sure ready vote</td>\n",
       "      <td>stand togeth noth make sure readi vote</td>\n",
       "      <td>{'neg': 0.449, 'neu': 0.551, 'pos': 0.0, 'compound': -0.4717}</td>\n",
       "      <td>Negative</td>\n",
       "    </tr>\n",
       "    <tr>\n",
       "      <th>4</th>\n",
       "      <td>HillaryClinton</td>\n",
       "      <td>Both candidates were asked about how they'd confront racial injustice. Only ...</td>\n",
       "      <td>False</td>\n",
       "      <td>NaN</td>\n",
       "      <td>2016-09-27T22:30:27</td>\n",
       "      <td>en</td>\n",
       "      <td>859</td>\n",
       "      <td>2882</td>\n",
       "      <td>both candidates were asked about how they d confront racial injustice  only ...</td>\n",
       "      <td>[candidates, asked, confront, racial, injustice, one, real, answer]</td>\n",
       "      <td>[candidates, ask, confront, racial, injustice, one, real, answer]</td>\n",
       "      <td>[candid, ask, confront, racial, injustic, one, real, answer]</td>\n",
       "      <td>candidates ask confront racial injustice one real answer</td>\n",
       "      <td>candid ask confront racial injustic one real answer</td>\n",
       "      <td>{'neg': 0.474, 'neu': 0.526, 'pos': 0.0, 'compound': -0.6597}</td>\n",
       "      <td>Negative</td>\n",
       "    </tr>\n",
       "  </tbody>\n",
       "</table>\n",
       "</div>"
      ],
      "text/plain": [
       "           handle  \\\n",
       "0  HillaryClinton   \n",
       "1  HillaryClinton   \n",
       "2  HillaryClinton   \n",
       "3  HillaryClinton   \n",
       "4  HillaryClinton   \n",
       "\n",
       "                                                                              text  \\\n",
       "0  The question in this election: Who can put the plans into action that will m...   \n",
       "1  Last night, Donald Trump said not paying taxes was \"smart.\" You know what I ...   \n",
       "2  Couldn't be more proud of @HillaryClinton. Her vision and command during las...   \n",
       "3  If we stand together, there's nothing we can't do. \\n\\nMake sure you're read...   \n",
       "4  Both candidates were asked about how they'd confront racial injustice. Only ...   \n",
       "\n",
       "   is_retweet original_author                 time lang  retweet_count  \\\n",
       "0       False             NaN  2016-09-28T00:22:34   en            218   \n",
       "1        True        timkaine  2016-09-27T23:45:00   en           2445   \n",
       "2        True           POTUS  2016-09-27T23:26:40   en           7834   \n",
       "3       False             NaN  2016-09-27T23:08:41   en            916   \n",
       "4       False             NaN  2016-09-27T22:30:27   en            859   \n",
       "\n",
       "   favorite_count  \\\n",
       "0             651   \n",
       "1            5308   \n",
       "2           27234   \n",
       "3            2542   \n",
       "4            2882   \n",
       "\n",
       "                                                                      cleaned_text  \\\n",
       "0  the question in this election  who can put the plans into action that will m...   \n",
       "1  last night  donald trump said not paying taxes was  smart   you know what i ...   \n",
       "2  couldn t be more proud of hillaryclinton  her vision and command during last...   \n",
       "3  if we stand together  there s nothing we can t do  make sure you re ready to...   \n",
       "4  both candidates were asked about how they d confront racial injustice  only ...   \n",
       "\n",
       "                                                                    tokenized_text  \\\n",
       "0                     [question, election, put, plans, action, make, life, better]   \n",
       "1  [last, night, donald, trump, said, paying, taxes, smart, know, call, unpatri...   \n",
       "2  [proud, hillaryclinton, vision, command, last, night, debate, showed, ready,...   \n",
       "3                              [stand, together, nothing, make, sure, ready, vote]   \n",
       "4              [candidates, asked, confront, racial, injustice, one, real, answer]   \n",
       "\n",
       "                                                                   lemmatized_text  \\\n",
       "0                      [question, election, put, plan, action, make, life, better]   \n",
       "1      [last, night, donald, trump, say, pay, tax, smart, know, call, unpatriotic]   \n",
       "2  [proud, hillaryclinton, vision, command, last, night, debate, show, ready, n...   \n",
       "3                              [stand, together, nothing, make, sure, ready, vote]   \n",
       "4                [candidates, ask, confront, racial, injustice, one, real, answer]   \n",
       "\n",
       "                                                                      stemmed_text  \\\n",
       "0                         [question, elect, put, plan, action, make, life, better]   \n",
       "1        [last, night, donald, trump, say, pay, tax, smart, know, call, unpatriot]   \n",
       "2  [proud, hillaryclinton, vision, command, last, night, debat, show, readi, ne...   \n",
       "3                                   [stand, togeth, noth, make, sure, readi, vote]   \n",
       "4                     [candid, ask, confront, racial, injustic, one, real, answer]   \n",
       "\n",
       "                                                             lemmatized_string  \\\n",
       "0                           question election put plan action make life better   \n",
       "1              last night donald trump say pay tax smart know call unpatriotic   \n",
       "2  proud hillaryclinton vision command last night debate show ready next potus   \n",
       "3                                  stand together nothing make sure ready vote   \n",
       "4                     candidates ask confront racial injustice one real answer   \n",
       "\n",
       "                                                              stemmed_string  \\\n",
       "0                            question elect put plan action make life better   \n",
       "1              last night donald trump say pay tax smart know call unpatriot   \n",
       "2  proud hillaryclinton vision command last night debat show readi next potu   \n",
       "3                                     stand togeth noth make sure readi vote   \n",
       "4                        candid ask confront racial injustic one real answer   \n",
       "\n",
       "                                                         Polarity Sentiment  \n",
       "0    {'neg': 0.0, 'neu': 0.707, 'pos': 0.293, 'compound': 0.4404}  Positive  \n",
       "1  {'neg': 0.107, 'neu': 0.687, 'pos': 0.206, 'compound': 0.3182}  Positive  \n",
       "2     {'neg': 0.0, 'neu': 0.513, 'pos': 0.487, 'compound': 0.765}  Positive  \n",
       "3   {'neg': 0.449, 'neu': 0.551, 'pos': 0.0, 'compound': -0.4717}  Negative  \n",
       "4   {'neg': 0.474, 'neu': 0.526, 'pos': 0.0, 'compound': -0.6597}  Negative  "
      ]
     },
     "execution_count": 79,
     "metadata": {},
     "output_type": "execute_result"
    }
   ],
   "source": [
    "tweets_df.head()"
   ]
  },
  {
   "cell_type": "code",
   "execution_count": 80,
   "id": "dense-capture",
   "metadata": {},
   "outputs": [],
   "source": [
    "myindex = ['Donald Trump', 'Hillary Clinton']"
   ]
  },
  {
   "cell_type": "code",
   "execution_count": 81,
   "id": "biblical-defense",
   "metadata": {},
   "outputs": [],
   "source": [
    "mycolumns = ['Positive', 'Neutral', 'Negative']"
   ]
  },
  {
   "cell_type": "code",
   "execution_count": 82,
   "id": "executive-sixth",
   "metadata": {},
   "outputs": [],
   "source": [
    "sentimet_df = pd.DataFrame(index=myindex, columns=mycolumns)"
   ]
  },
  {
   "cell_type": "code",
   "execution_count": 83,
   "id": "quick-torture",
   "metadata": {},
   "outputs": [],
   "source": [
    "positive_trump = len(tweets_df[(tweets_df['handle'] == 'realDonaldTrump') & (tweets_df['Sentiment'] == 'Positive')])\n",
    "neutral_trump = len(tweets_df[(tweets_df['handle'] == 'realDonaldTrump') & (tweets_df['Sentiment'] == 'Neutral')])\n",
    "negative_trump = len(tweets_df[(tweets_df['handle'] == 'realDonaldTrump') & (tweets_df['Sentiment'] == 'Negative')])\n",
    "\n",
    "positive_hillary = len(tweets_df[(tweets_df['handle'] == 'HillaryClinton') & (tweets_df['Sentiment'] == 'Positive')])\n",
    "neutral_hillary = len(tweets_df[(tweets_df['handle'] == 'HillaryClinton') & (tweets_df['Sentiment'] == 'Neutral')])\n",
    "negative_hillary = len(tweets_df[(tweets_df['handle'] == 'HillaryClinton') & (tweets_df['Sentiment'] == 'Negative')])"
   ]
  },
  {
   "cell_type": "code",
   "execution_count": 84,
   "id": "corresponding-correspondence",
   "metadata": {},
   "outputs": [
    {
     "data": {
      "text/html": [
       "<div>\n",
       "<style scoped>\n",
       "    .dataframe tbody tr th:only-of-type {\n",
       "        vertical-align: middle;\n",
       "    }\n",
       "\n",
       "    .dataframe tbody tr th {\n",
       "        vertical-align: top;\n",
       "    }\n",
       "\n",
       "    .dataframe thead th {\n",
       "        text-align: right;\n",
       "    }\n",
       "</style>\n",
       "<table border=\"1\" class=\"dataframe\">\n",
       "  <thead>\n",
       "    <tr style=\"text-align: right;\">\n",
       "      <th></th>\n",
       "      <th>Positive</th>\n",
       "      <th>Neutral</th>\n",
       "      <th>Negative</th>\n",
       "    </tr>\n",
       "  </thead>\n",
       "  <tbody>\n",
       "    <tr>\n",
       "      <th>Donald Trump</th>\n",
       "      <td>1831</td>\n",
       "      <td>455</td>\n",
       "      <td>845</td>\n",
       "    </tr>\n",
       "    <tr>\n",
       "      <th>Hillary Clinton</th>\n",
       "      <td>1524</td>\n",
       "      <td>729</td>\n",
       "      <td>864</td>\n",
       "    </tr>\n",
       "  </tbody>\n",
       "</table>\n",
       "</div>"
      ],
      "text/plain": [
       "                Positive Neutral Negative\n",
       "Donald Trump        1831     455      845\n",
       "Hillary Clinton     1524     729      864"
      ]
     },
     "execution_count": 84,
     "metadata": {},
     "output_type": "execute_result"
    }
   ],
   "source": [
    "sentimet_df.at['Donald Trump', 'Positive'] = positive_trump\n",
    "sentimet_df.at['Donald Trump', 'Neutral'] = neutral_trump\n",
    "sentimet_df.at['Donald Trump', 'Negative'] = negative_trump\n",
    "\n",
    "sentimet_df.at['Hillary Clinton', 'Positive'] = positive_hillary\n",
    "sentimet_df.at['Hillary Clinton', 'Neutral'] = neutral_hillary\n",
    "sentimet_df.at['Hillary Clinton', 'Negative'] = negative_hillary\n",
    "\n",
    "sentimet_df"
   ]
  },
  {
   "cell_type": "markdown",
   "id": "fabulous-nation",
   "metadata": {},
   "source": [
    "# Estimations of elections results"
   ]
  },
  {
   "cell_type": "code",
   "execution_count": 85,
   "id": "answering-ribbon",
   "metadata": {},
   "outputs": [],
   "source": [
    "labels = list(sentimet_df.index)\n",
    "labels.append('Others')\n",
    "percentage_trump = round(((positive_trump + negative_hillary + neutral_trump*0.3)/len(tweets_df))*100, 2)\n",
    "percentage_hillary = round(((positive_hillary + negative_trump + neutral_hillary*0.3)/len(tweets_df))*100, 2)\n",
    "percentage_others = round(100 - percentage_hillary - percentage_trump, 2)\n",
    "data = [percentage_trump, percentage_hillary, percentage_others]"
   ]
  },
  {
   "cell_type": "code",
   "execution_count": 86,
   "id": "attempted-gates",
   "metadata": {},
   "outputs": [
    {
     "data": {
      "text/plain": [
       "['Donald Trump', 'Hillary Clinton', 'Others']"
      ]
     },
     "execution_count": 86,
     "metadata": {},
     "output_type": "execute_result"
    }
   ],
   "source": [
    "labels"
   ]
  },
  {
   "cell_type": "code",
   "execution_count": 88,
   "id": "defensive-grounds",
   "metadata": {},
   "outputs": [
    {
     "data": {
      "image/png": "[encoded data removed]",
      "text/plain": [
       "<Figure size 720x288 with 1 Axes>"
      ]
     },
     "metadata": {},
     "output_type": "display_data"
    }
   ],
   "source": [
    "fig, axes = plt.subplots(figsize=(10,4))\n",
    "axes.pie(data, labels=labels, autopct='%1.1f%%',radius=1.2,colors=['red','blue','gray'])\n",
    "fig.suptitle(\"2016 Election estimations\",fontsize=16)\n",
    "fig.savefig('Plots/estimations_2016.png')"
   ]
  },
  {
   "cell_type": "code",
   "execution_count": null,
   "id": "laden-remains",
   "metadata": {},
   "outputs": [],
   "source": []
  }
 ],
 "metadata": {
  "kernelspec": {
   "display_name": "Python 3",
   "language": "python",
   "name": "python3"
  },
  "language_info": {
   "codemirror_mode": {
    "name": "ipython",
    "version": 3
   },
   "file_extension": ".py",
   "mimetype": "text/x-python",
   "name": "python",
   "nbconvert_exporter": "python",
   "pygments_lexer": "ipython3",
   "version": "3.8.0"
  }
 },
 "nbformat": 4,
 "nbformat_minor": 5
}
