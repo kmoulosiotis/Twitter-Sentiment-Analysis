{
 "cells": [
  {
   "cell_type": "code",
   "execution_count": 1,
   "id": "composed-wesley",
   "metadata": {},
   "outputs": [],
   "source": [
    "import numpy as np\n",
    "import pandas as pd"
   ]
  },
  {
   "cell_type": "code",
   "execution_count": 87,
   "id": "multiple-motion",
   "metadata": {},
   "outputs": [],
   "source": [
    "df = pd.DataFrame(tweets)"
   ]
  },
  {
   "cell_type": "code",
   "execution_count": 88,
   "id": "realistic-brown",
   "metadata": {
    "scrolled": false
   },
   "outputs": [
    {
     "data": {
      "text/html": [
       "<div>\n",
       "<style scoped>\n",
       "    .dataframe tbody tr th:only-of-type {\n",
       "        vertical-align: middle;\n",
       "    }\n",
       "\n",
       "    .dataframe tbody tr th {\n",
       "        vertical-align: top;\n",
       "    }\n",
       "\n",
       "    .dataframe thead th {\n",
       "        text-align: right;\n",
       "    }\n",
       "</style>\n",
       "<table border=\"1\" class=\"dataframe\">\n",
       "  <thead>\n",
       "    <tr style=\"text-align: right;\">\n",
       "      <th></th>\n",
       "      <th>Tweet</th>\n",
       "      <th>User</th>\n",
       "      <th>Location</th>\n",
       "      <th>Timestamp</th>\n",
       "    </tr>\n",
       "  </thead>\n",
       "  <tbody>\n",
       "    <tr>\n",
       "      <th>0</th>\n",
       "      <td>RT @Strandjunker: Allow me to address the elephant in the Coumo shitstorm: Trump loving Congressman Lee Zeldin is running for Governor of N…</td>\n",
       "      <td>vic_volare</td>\n",
       "      <td></td>\n",
       "      <td>2021-04-08 14:11:33</td>\n",
       "    </tr>\n",
       "    <tr>\n",
       "      <th>1</th>\n",
       "      <td>RT @Strandjunker: Allow me to address the elephant in the Coumo shitstorm: Trump loving Congressman Lee Zeldin is running for Governor of N…</td>\n",
       "      <td>illjord</td>\n",
       "      <td>Raleigh, NC</td>\n",
       "      <td>2021-04-08 14:11:32</td>\n",
       "    </tr>\n",
       "    <tr>\n",
       "      <th>2</th>\n",
       "      <td>RT @Strandjunker: Allow me to address the elephant in the Coumo shitstorm: Trump loving Congressman Lee Zeldin is running for Governor of N…</td>\n",
       "      <td>sandyrazo1964</td>\n",
       "      <td>Fairbury, IL</td>\n",
       "      <td>2021-04-08 14:11:31</td>\n",
       "    </tr>\n",
       "    <tr>\n",
       "      <th>3</th>\n",
       "      <td>RT @TeaPainUSA: Partial list of leaders that attacked America.\\n\\nKing George\\nRobert E. Lee\\nEmperor Hirohito\\nAdolf Hitler\\nOsama Bin Laden\\nDon…</td>\n",
       "      <td>Aleksan14370378</td>\n",
       "      <td>Northern California</td>\n",
       "      <td>2021-04-08 14:11:30</td>\n",
       "    </tr>\n",
       "    <tr>\n",
       "      <th>4</th>\n",
       "      <td>@USAmbUN @IsraelinUN Yet you’re giving $millions to the Palestinian Authority to literally murder Jews. Seems a tad… https://t.co/WH6iznqZHR</td>\n",
       "      <td>Tweetisrael</td>\n",
       "      <td></td>\n",
       "      <td>2021-04-08 14:11:29</td>\n",
       "    </tr>\n",
       "  </tbody>\n",
       "</table>\n",
       "</div>"
      ],
      "text/plain": [
       "                                                                                                                                                 Tweet  \\\n",
       "0         RT @Strandjunker: Allow me to address the elephant in the Coumo shitstorm: Trump loving Congressman Lee Zeldin is running for Governor of N…   \n",
       "1         RT @Strandjunker: Allow me to address the elephant in the Coumo shitstorm: Trump loving Congressman Lee Zeldin is running for Governor of N…   \n",
       "2         RT @Strandjunker: Allow me to address the elephant in the Coumo shitstorm: Trump loving Congressman Lee Zeldin is running for Governor of N…   \n",
       "3  RT @TeaPainUSA: Partial list of leaders that attacked America.\\n\\nKing George\\nRobert E. Lee\\nEmperor Hirohito\\nAdolf Hitler\\nOsama Bin Laden\\nDon…   \n",
       "4         @USAmbUN @IsraelinUN Yet you’re giving $millions to the Palestinian Authority to literally murder Jews. Seems a tad… https://t.co/WH6iznqZHR   \n",
       "\n",
       "              User              Location           Timestamp  \n",
       "0       vic_volare                       2021-04-08 14:11:33  \n",
       "1          illjord           Raleigh, NC 2021-04-08 14:11:32  \n",
       "2    sandyrazo1964          Fairbury, IL 2021-04-08 14:11:31  \n",
       "3  Aleksan14370378  Northern California  2021-04-08 14:11:30  \n",
       "4      Tweetisrael                       2021-04-08 14:11:29  "
      ]
     },
     "execution_count": 88,
     "metadata": {},
     "output_type": "execute_result"
    }
   ],
   "source": [
    "pd.set_option('max_colwidth',800)\n",
    "df"
   ]
  },
  {
   "cell_type": "code",
   "execution_count": 31,
   "id": "under-kitty",
   "metadata": {},
   "outputs": [],
   "source": [
    "df['Cleaned Tweet'] = df['Tweet'].apply(clean_tweet)\n",
    "df['Subject'] = keyword"
   ]
  },
  {
   "cell_type": "markdown",
   "id": "sunset-negative",
   "metadata": {},
   "source": [
    "# Sentiment Analysis"
   ]
  },
  {
   "cell_type": "code",
   "execution_count": 2,
   "id": "private-shopper",
   "metadata": {},
   "outputs": [
    {
     "name": "stderr",
     "output_type": "stream",
     "text": [
      "[nltk_data] Downloading package vader_lexicon to\n",
      "[nltk_data]     C:\\Users\\user\\AppData\\Roaming\\nltk_data...\n",
      "[nltk_data]   Package vader_lexicon is already up-to-date!\n"
     ]
    },
    {
     "data": {
      "text/plain": [
       "True"
      ]
     },
     "execution_count": 2,
     "metadata": {},
     "output_type": "execute_result"
    }
   ],
   "source": [
    "import nltk\n",
    "from nltk.sentiment.vader import SentimentIntensityAnalyzer\n",
    "nltk.download('vader_lexicon')"
   ]
  },
  {
   "cell_type": "code",
   "execution_count": 3,
   "id": "serious-corrections",
   "metadata": {},
   "outputs": [],
   "source": [
    "tweets_df = pd.read_csv('tweets_election.csv')\n",
    "tweets_df.drop(tweets_df.columns[0], axis=1, inplace=True)"
   ]
  },
  {
   "cell_type": "code",
   "execution_count": 4,
   "id": "cooked-angle",
   "metadata": {
    "scrolled": true
   },
   "outputs": [
    {
     "data": {
      "text/html": [
       "<div>\n",
       "<style scoped>\n",
       "    .dataframe tbody tr th:only-of-type {\n",
       "        vertical-align: middle;\n",
       "    }\n",
       "\n",
       "    .dataframe tbody tr th {\n",
       "        vertical-align: top;\n",
       "    }\n",
       "\n",
       "    .dataframe thead th {\n",
       "        text-align: right;\n",
       "    }\n",
       "</style>\n",
       "<table border=\"1\" class=\"dataframe\">\n",
       "  <thead>\n",
       "    <tr style=\"text-align: right;\">\n",
       "      <th></th>\n",
       "      <th>geo</th>\n",
       "      <th>text</th>\n",
       "      <th>user</th>\n",
       "      <th>location</th>\n",
       "      <th>Subject</th>\n",
       "      <th>state</th>\n",
       "    </tr>\n",
       "  </thead>\n",
       "  <tbody>\n",
       "    <tr>\n",
       "      <th>0</th>\n",
       "      <td>NaN</td>\n",
       "      <td>After the confrontation that cost Walter Wall...</td>\n",
       "      <td>wheresestela1</td>\n",
       "      <td>New Jersey</td>\n",
       "      <td>Donald Trump</td>\n",
       "      <td>New Jersey</td>\n",
       "    </tr>\n",
       "    <tr>\n",
       "      <th>1</th>\n",
       "      <td>NaN</td>\n",
       "      <td>\"COVID-19 is still raging. Trump is still lyi...</td>\n",
       "      <td>TheFemaleYungin</td>\n",
       "      <td>The Wrong Address, Texas</td>\n",
       "      <td>Donald Trump</td>\n",
       "      <td>Texas</td>\n",
       "    </tr>\n",
       "    <tr>\n",
       "      <th>2</th>\n",
       "      <td>NaN</td>\n",
       "      <td>Donald Trump Jr.: \"Why aren't they talking ab...</td>\n",
       "      <td>KathrynTomashu1</td>\n",
       "      <td>Northborough, MA</td>\n",
       "      <td>Donald Trump</td>\n",
       "      <td>Massachusetts</td>\n",
       "    </tr>\n",
       "    <tr>\n",
       "      <th>3</th>\n",
       "      <td>NaN</td>\n",
       "      <td>Let’s not forget who created these problems. T...</td>\n",
       "      <td>ajserino</td>\n",
       "      <td>New Jersey, USA</td>\n",
       "      <td>Donald Trump</td>\n",
       "      <td>New Jersey</td>\n",
       "    </tr>\n",
       "    <tr>\n",
       "      <th>4</th>\n",
       "      <td>NaN</td>\n",
       "      <td>There is no greater supporter of Donald Trump...</td>\n",
       "      <td>SpeakBravely</td>\n",
       "      <td>Twin Cities, Minnesota</td>\n",
       "      <td>Donald Trump</td>\n",
       "      <td>Minnesota</td>\n",
       "    </tr>\n",
       "    <tr>\n",
       "      <th>...</th>\n",
       "      <td>...</td>\n",
       "      <td>...</td>\n",
       "      <td>...</td>\n",
       "      <td>...</td>\n",
       "      <td>...</td>\n",
       "      <td>...</td>\n",
       "    </tr>\n",
       "    <tr>\n",
       "      <th>5548</th>\n",
       "      <td>NaN</td>\n",
       "      <td>Donald Trump is just one big #COVID19 super s...</td>\n",
       "      <td>karen_brioso</td>\n",
       "      <td>Salem, OR</td>\n",
       "      <td>Joe Biden</td>\n",
       "      <td>Oregon</td>\n",
       "    </tr>\n",
       "    <tr>\n",
       "      <th>5549</th>\n",
       "      <td>NaN</td>\n",
       "      <td>Obama was a black voted by all! He reigned...</td>\n",
       "      <td>ArcYuyu</td>\n",
       "      <td>Las Vegas, Nevada, USA</td>\n",
       "      <td>Joe Biden</td>\n",
       "      <td>Nevada</td>\n",
       "    </tr>\n",
       "    <tr>\n",
       "      <th>5550</th>\n",
       "      <td>NaN</td>\n",
       "      <td>Tony Bobulinski Communicates A Message To Joe ...</td>\n",
       "      <td>USMCMIL03</td>\n",
       "      <td>Texas, USA</td>\n",
       "      <td>Joe Biden</td>\n",
       "      <td>Texas</td>\n",
       "    </tr>\n",
       "    <tr>\n",
       "      <th>5551</th>\n",
       "      <td>NaN</td>\n",
       "      <td>After campaigning in 2016 to lift up the ‘forg...</td>\n",
       "      <td>JoeBiden</td>\n",
       "      <td>Wilmington, DE</td>\n",
       "      <td>Joe Biden</td>\n",
       "      <td>Delaware</td>\n",
       "    </tr>\n",
       "    <tr>\n",
       "      <th>5552</th>\n",
       "      <td>NaN</td>\n",
       "      <td>But yes. Let’s all run and vote in corrupt, pr...</td>\n",
       "      <td>ZeroIndulgence</td>\n",
       "      <td>San Jose, CA</td>\n",
       "      <td>Joe Biden</td>\n",
       "      <td>California</td>\n",
       "    </tr>\n",
       "  </tbody>\n",
       "</table>\n",
       "<p>5553 rows × 6 columns</p>\n",
       "</div>"
      ],
      "text/plain": [
       "      geo                                               text             user  \\\n",
       "0     NaN   After the confrontation that cost Walter Wall...    wheresestela1   \n",
       "1     NaN   \"COVID-19 is still raging. Trump is still lyi...  TheFemaleYungin   \n",
       "2     NaN   Donald Trump Jr.: \"Why aren't they talking ab...  KathrynTomashu1   \n",
       "3     NaN  Let’s not forget who created these problems. T...         ajserino   \n",
       "4     NaN   There is no greater supporter of Donald Trump...     SpeakBravely   \n",
       "...   ...                                                ...              ...   \n",
       "5548  NaN   Donald Trump is just one big #COVID19 super s...     karen_brioso   \n",
       "5549  NaN      Obama was a black voted by all! He reigned...          ArcYuyu   \n",
       "5550  NaN  Tony Bobulinski Communicates A Message To Joe ...        USMCMIL03   \n",
       "5551  NaN  After campaigning in 2016 to lift up the ‘forg...         JoeBiden   \n",
       "5552  NaN  But yes. Let’s all run and vote in corrupt, pr...   ZeroIndulgence   \n",
       "\n",
       "                       location       Subject          state  \n",
       "0                    New Jersey  Donald Trump     New Jersey  \n",
       "1     The Wrong Address, Texas   Donald Trump          Texas  \n",
       "2              Northborough, MA  Donald Trump  Massachusetts  \n",
       "3               New Jersey, USA  Donald Trump     New Jersey  \n",
       "4        Twin Cities, Minnesota  Donald Trump      Minnesota  \n",
       "...                         ...           ...            ...  \n",
       "5548                  Salem, OR     Joe Biden         Oregon  \n",
       "5549     Las Vegas, Nevada, USA     Joe Biden         Nevada  \n",
       "5550                 Texas, USA     Joe Biden          Texas  \n",
       "5551             Wilmington, DE     Joe Biden       Delaware  \n",
       "5552               San Jose, CA     Joe Biden     California  \n",
       "\n",
       "[5553 rows x 6 columns]"
      ]
     },
     "execution_count": 4,
     "metadata": {},
     "output_type": "execute_result"
    }
   ],
   "source": [
    "tweets_df"
   ]
  },
  {
   "cell_type": "code",
   "execution_count": 5,
   "id": "powerful-assist",
   "metadata": {},
   "outputs": [],
   "source": [
    "import re\n",
    "import spacy\n",
    "nlp = spacy.load('en_core_web_lg')"
   ]
  },
  {
   "cell_type": "code",
   "execution_count": 6,
   "id": "affiliated-titanium",
   "metadata": {},
   "outputs": [],
   "source": [
    "def clean_tweet(tweet):\n",
    "    tweet = re.sub('RT @[\\w]*:','',tweet)\n",
    "    tweet = re.sub('@[\\w]*','',tweet)\n",
    "    tweet = re.sub(\"https?://[A-Za-z0-9./]*\",\"\",tweet)\n",
    "    tweet = re.sub(\"\\n\",\"\",tweet)\n",
    "    tweet = str(tweet).lower()\n",
    "    \n",
    "    \n",
    "    tweet = \" \".join(str(token) for token in nlp(tweet) if str(token) not in nlp.Defaults.stop_words)\n",
    "    tweet = \" \".join(str(token.lemma_) for token in nlp(tweet) if not token.is_punct)\n",
    "    return tweet"
   ]
  },
  {
   "cell_type": "code",
   "execution_count": 7,
   "id": "atmospheric-tuition",
   "metadata": {},
   "outputs": [],
   "source": [
    "tweets_df['cleaned_text'] = tweets_df['text'].apply(clean_tweet)"
   ]
  },
  {
   "cell_type": "code",
   "execution_count": 8,
   "id": "headed-medicine",
   "metadata": {},
   "outputs": [
    {
     "data": {
      "text/html": [
       "<div>\n",
       "<style scoped>\n",
       "    .dataframe tbody tr th:only-of-type {\n",
       "        vertical-align: middle;\n",
       "    }\n",
       "\n",
       "    .dataframe tbody tr th {\n",
       "        vertical-align: top;\n",
       "    }\n",
       "\n",
       "    .dataframe thead th {\n",
       "        text-align: right;\n",
       "    }\n",
       "</style>\n",
       "<table border=\"1\" class=\"dataframe\">\n",
       "  <thead>\n",
       "    <tr style=\"text-align: right;\">\n",
       "      <th></th>\n",
       "      <th>geo</th>\n",
       "      <th>text</th>\n",
       "      <th>user</th>\n",
       "      <th>location</th>\n",
       "      <th>Subject</th>\n",
       "      <th>state</th>\n",
       "      <th>cleaned_text</th>\n",
       "    </tr>\n",
       "  </thead>\n",
       "  <tbody>\n",
       "    <tr>\n",
       "      <th>0</th>\n",
       "      <td>NaN</td>\n",
       "      <td>After the confrontation that cost Walter Wall...</td>\n",
       "      <td>wheresestela1</td>\n",
       "      <td>New Jersey</td>\n",
       "      <td>Donald Trump</td>\n",
       "      <td>New Jersey</td>\n",
       "      <td>confrontation cost walter wallace jr life s...</td>\n",
       "    </tr>\n",
       "    <tr>\n",
       "      <th>1</th>\n",
       "      <td>NaN</td>\n",
       "      <td>\"COVID-19 is still raging. Trump is still lyi...</td>\n",
       "      <td>TheFemaleYungin</td>\n",
       "      <td>The Wrong Address, Texas</td>\n",
       "      <td>Donald Trump</td>\n",
       "      <td>Texas</td>\n",
       "      <td>covid-19 rage trump lie</td>\n",
       "    </tr>\n",
       "    <tr>\n",
       "      <th>2</th>\n",
       "      <td>NaN</td>\n",
       "      <td>Donald Trump Jr.: \"Why aren't they talking ab...</td>\n",
       "      <td>KathrynTomashu1</td>\n",
       "      <td>Northborough, MA</td>\n",
       "      <td>Donald Trump</td>\n",
       "      <td>Massachusetts</td>\n",
       "      <td>donald trump jr talk death oh oh number gott</td>\n",
       "    </tr>\n",
       "    <tr>\n",
       "      <th>3</th>\n",
       "      <td>NaN</td>\n",
       "      <td>Let’s not forget who created these problems. T...</td>\n",
       "      <td>ajserino</td>\n",
       "      <td>New Jersey, USA</td>\n",
       "      <td>Donald Trump</td>\n",
       "      <td>New Jersey</td>\n",
       "      <td>let forget create problem tell donald trump sc...</td>\n",
       "    </tr>\n",
       "    <tr>\n",
       "      <th>4</th>\n",
       "      <td>NaN</td>\n",
       "      <td>There is no greater supporter of Donald Trump...</td>\n",
       "      <td>SpeakBravely</td>\n",
       "      <td>Twin Cities, Minnesota</td>\n",
       "      <td>Donald Trump</td>\n",
       "      <td>Minnesota</td>\n",
       "      <td>great supporter donald trump world mark zuc...</td>\n",
       "    </tr>\n",
       "  </tbody>\n",
       "</table>\n",
       "</div>"
      ],
      "text/plain": [
       "   geo                                               text             user  \\\n",
       "0  NaN   After the confrontation that cost Walter Wall...    wheresestela1   \n",
       "1  NaN   \"COVID-19 is still raging. Trump is still lyi...  TheFemaleYungin   \n",
       "2  NaN   Donald Trump Jr.: \"Why aren't they talking ab...  KathrynTomashu1   \n",
       "3  NaN  Let’s not forget who created these problems. T...         ajserino   \n",
       "4  NaN   There is no greater supporter of Donald Trump...     SpeakBravely   \n",
       "\n",
       "                    location       Subject          state  \\\n",
       "0                 New Jersey  Donald Trump     New Jersey   \n",
       "1  The Wrong Address, Texas   Donald Trump          Texas   \n",
       "2           Northborough, MA  Donald Trump  Massachusetts   \n",
       "3            New Jersey, USA  Donald Trump     New Jersey   \n",
       "4     Twin Cities, Minnesota  Donald Trump      Minnesota   \n",
       "\n",
       "                                        cleaned_text  \n",
       "0     confrontation cost walter wallace jr life s...  \n",
       "1                            covid-19 rage trump lie  \n",
       "2       donald trump jr talk death oh oh number gott  \n",
       "3  let forget create problem tell donald trump sc...  \n",
       "4     great supporter donald trump world mark zuc...  "
      ]
     },
     "execution_count": 8,
     "metadata": {},
     "output_type": "execute_result"
    }
   ],
   "source": [
    "tweets_df.head()"
   ]
  },
  {
   "cell_type": "code",
   "execution_count": 9,
   "id": "square-detective",
   "metadata": {},
   "outputs": [
    {
     "data": {
      "text/plain": [
       "'confrontation cost walter wallace jr life set protest devolve rioting loot'"
      ]
     },
     "execution_count": 9,
     "metadata": {},
     "output_type": "execute_result"
    }
   ],
   "source": [
    "clean_tweet(\"After the confrontation that cost Walter Wallace Jr. his life set off protests that devolved into rioting, looting\")"
   ]
  },
  {
   "cell_type": "code",
   "execution_count": 10,
   "id": "natural-mouth",
   "metadata": {},
   "outputs": [],
   "source": [
    "sid = SentimentIntensityAnalyzer()"
   ]
  },
  {
   "cell_type": "code",
   "execution_count": 11,
   "id": "civilian-pearl",
   "metadata": {},
   "outputs": [],
   "source": [
    "def tweet_polarity(tweet):\n",
    "    return sid.polarity_scores(tweet)"
   ]
  },
  {
   "cell_type": "code",
   "execution_count": 12,
   "id": "diverse-airplane",
   "metadata": {},
   "outputs": [],
   "source": [
    "#tweets_df['Polarity'] = tweets_df['Cleaned Tweet'].apply(tweet_polarity)\n",
    "tweets_df['Polarity'] = tweets_df['cleaned_text'].apply(tweet_polarity)"
   ]
  },
  {
   "cell_type": "code",
   "execution_count": 13,
   "id": "exposed-rider",
   "metadata": {},
   "outputs": [],
   "source": [
    "#tweets_df.drop('Tweet', axis=1, inplace=True)\n",
    "\n",
    "def sentimentVerdict(polarity):\n",
    "    #print(polarity['compound'])\n",
    "    if polarity['compound'] >= 0.05:\n",
    "        return \"Positive\"\n",
    "    elif polarity['compound'] <= -0.05:\n",
    "        return \"Negative\"\n",
    "    else:\n",
    "        return \"Neutral\"\n"
   ]
  },
  {
   "cell_type": "code",
   "execution_count": 14,
   "id": "transsexual-camcorder",
   "metadata": {},
   "outputs": [],
   "source": [
    "tweets_df['Sentiment'] = tweets_df['Polarity'].apply(sentimentVerdict)"
   ]
  },
  {
   "cell_type": "code",
   "execution_count": 15,
   "id": "residential-trademark",
   "metadata": {},
   "outputs": [
    {
     "data": {
      "text/html": [
       "<div>\n",
       "<style scoped>\n",
       "    .dataframe tbody tr th:only-of-type {\n",
       "        vertical-align: middle;\n",
       "    }\n",
       "\n",
       "    .dataframe tbody tr th {\n",
       "        vertical-align: top;\n",
       "    }\n",
       "\n",
       "    .dataframe thead th {\n",
       "        text-align: right;\n",
       "    }\n",
       "</style>\n",
       "<table border=\"1\" class=\"dataframe\">\n",
       "  <thead>\n",
       "    <tr style=\"text-align: right;\">\n",
       "      <th></th>\n",
       "      <th>geo</th>\n",
       "      <th>text</th>\n",
       "      <th>user</th>\n",
       "      <th>location</th>\n",
       "      <th>Subject</th>\n",
       "      <th>state</th>\n",
       "      <th>cleaned_text</th>\n",
       "      <th>Polarity</th>\n",
       "      <th>Sentiment</th>\n",
       "    </tr>\n",
       "  </thead>\n",
       "  <tbody>\n",
       "    <tr>\n",
       "      <th>0</th>\n",
       "      <td>NaN</td>\n",
       "      <td>After the confrontation that cost Walter Wall...</td>\n",
       "      <td>wheresestela1</td>\n",
       "      <td>New Jersey</td>\n",
       "      <td>Donald Trump</td>\n",
       "      <td>New Jersey</td>\n",
       "      <td>confrontation cost walter wallace jr life s...</td>\n",
       "      <td>{'neg': 0.301, 'neu': 0.699, 'pos': 0.0, 'comp...</td>\n",
       "      <td>Negative</td>\n",
       "    </tr>\n",
       "    <tr>\n",
       "      <th>1</th>\n",
       "      <td>NaN</td>\n",
       "      <td>\"COVID-19 is still raging. Trump is still lyi...</td>\n",
       "      <td>TheFemaleYungin</td>\n",
       "      <td>The Wrong Address, Texas</td>\n",
       "      <td>Donald Trump</td>\n",
       "      <td>Texas</td>\n",
       "      <td>covid-19 rage trump lie</td>\n",
       "      <td>{'neg': 0.545, 'neu': 0.455, 'pos': 0.0, 'comp...</td>\n",
       "      <td>Negative</td>\n",
       "    </tr>\n",
       "    <tr>\n",
       "      <th>2</th>\n",
       "      <td>NaN</td>\n",
       "      <td>Donald Trump Jr.: \"Why aren't they talking ab...</td>\n",
       "      <td>KathrynTomashu1</td>\n",
       "      <td>Northborough, MA</td>\n",
       "      <td>Donald Trump</td>\n",
       "      <td>Massachusetts</td>\n",
       "      <td>donald trump jr talk death oh oh number gott</td>\n",
       "      <td>{'neg': 0.32, 'neu': 0.574, 'pos': 0.107, 'com...</td>\n",
       "      <td>Negative</td>\n",
       "    </tr>\n",
       "    <tr>\n",
       "      <th>3</th>\n",
       "      <td>NaN</td>\n",
       "      <td>Let’s not forget who created these problems. T...</td>\n",
       "      <td>ajserino</td>\n",
       "      <td>New Jersey, USA</td>\n",
       "      <td>Donald Trump</td>\n",
       "      <td>New Jersey</td>\n",
       "      <td>let forget create problem tell donald trump sc...</td>\n",
       "      <td>{'neg': 0.356, 'neu': 0.366, 'pos': 0.277, 'co...</td>\n",
       "      <td>Negative</td>\n",
       "    </tr>\n",
       "    <tr>\n",
       "      <th>4</th>\n",
       "      <td>NaN</td>\n",
       "      <td>There is no greater supporter of Donald Trump...</td>\n",
       "      <td>SpeakBravely</td>\n",
       "      <td>Twin Cities, Minnesota</td>\n",
       "      <td>Donald Trump</td>\n",
       "      <td>Minnesota</td>\n",
       "      <td>great supporter donald trump world mark zuc...</td>\n",
       "      <td>{'neg': 0.153, 'neu': 0.417, 'pos': 0.431, 'co...</td>\n",
       "      <td>Positive</td>\n",
       "    </tr>\n",
       "    <tr>\n",
       "      <th>...</th>\n",
       "      <td>...</td>\n",
       "      <td>...</td>\n",
       "      <td>...</td>\n",
       "      <td>...</td>\n",
       "      <td>...</td>\n",
       "      <td>...</td>\n",
       "      <td>...</td>\n",
       "      <td>...</td>\n",
       "      <td>...</td>\n",
       "    </tr>\n",
       "    <tr>\n",
       "      <th>5548</th>\n",
       "      <td>NaN</td>\n",
       "      <td>Donald Trump is just one big #COVID19 super s...</td>\n",
       "      <td>karen_brioso</td>\n",
       "      <td>Salem, OR</td>\n",
       "      <td>Joe Biden</td>\n",
       "      <td>Oregon</td>\n",
       "      <td>donald trump big covid19 super spreader nat...</td>\n",
       "      <td>{'neg': 0.0, 'neu': 0.755, 'pos': 0.245, 'comp...</td>\n",
       "      <td>Positive</td>\n",
       "    </tr>\n",
       "    <tr>\n",
       "      <th>5549</th>\n",
       "      <td>NaN</td>\n",
       "      <td>Obama was a black voted by all! He reigned...</td>\n",
       "      <td>ArcYuyu</td>\n",
       "      <td>Las Vegas, Nevada, USA</td>\n",
       "      <td>Joe Biden</td>\n",
       "      <td>Nevada</td>\n",
       "      <td>obama black vote reign 8 yrs sid</td>\n",
       "      <td>{'neg': 0.0, 'neu': 1.0, 'pos': 0.0, 'compound...</td>\n",
       "      <td>Neutral</td>\n",
       "    </tr>\n",
       "    <tr>\n",
       "      <th>5550</th>\n",
       "      <td>NaN</td>\n",
       "      <td>Tony Bobulinski Communicates A Message To Joe ...</td>\n",
       "      <td>USMCMIL03</td>\n",
       "      <td>Texas, USA</td>\n",
       "      <td>Joe Biden</td>\n",
       "      <td>Texas</td>\n",
       "      <td>tony bobulinski communicate message joe biden</td>\n",
       "      <td>{'neg': 0.0, 'neu': 1.0, 'pos': 0.0, 'compound...</td>\n",
       "      <td>Neutral</td>\n",
       "    </tr>\n",
       "    <tr>\n",
       "      <th>5551</th>\n",
       "      <td>NaN</td>\n",
       "      <td>After campaigning in 2016 to lift up the ‘forg...</td>\n",
       "      <td>JoeBiden</td>\n",
       "      <td>Wilmington, DE</td>\n",
       "      <td>Joe Biden</td>\n",
       "      <td>Delaware</td>\n",
       "      <td>campaign 2016 lift forget man president trump ...</td>\n",
       "      <td>{'neg': 0.329, 'neu': 0.671, 'pos': 0.0, 'comp...</td>\n",
       "      <td>Negative</td>\n",
       "    </tr>\n",
       "    <tr>\n",
       "      <th>5552</th>\n",
       "      <td>NaN</td>\n",
       "      <td>But yes. Let’s all run and vote in corrupt, pr...</td>\n",
       "      <td>ZeroIndulgence</td>\n",
       "      <td>San Jose, CA</td>\n",
       "      <td>Joe Biden</td>\n",
       "      <td>California</td>\n",
       "      <td>yes let run vote corrupt pro lockdown forever ...</td>\n",
       "      <td>{'neg': 0.239, 'neu': 0.508, 'pos': 0.254, 'co...</td>\n",
       "      <td>Negative</td>\n",
       "    </tr>\n",
       "  </tbody>\n",
       "</table>\n",
       "<p>5553 rows × 9 columns</p>\n",
       "</div>"
      ],
      "text/plain": [
       "      geo                                               text             user  \\\n",
       "0     NaN   After the confrontation that cost Walter Wall...    wheresestela1   \n",
       "1     NaN   \"COVID-19 is still raging. Trump is still lyi...  TheFemaleYungin   \n",
       "2     NaN   Donald Trump Jr.: \"Why aren't they talking ab...  KathrynTomashu1   \n",
       "3     NaN  Let’s not forget who created these problems. T...         ajserino   \n",
       "4     NaN   There is no greater supporter of Donald Trump...     SpeakBravely   \n",
       "...   ...                                                ...              ...   \n",
       "5548  NaN   Donald Trump is just one big #COVID19 super s...     karen_brioso   \n",
       "5549  NaN      Obama was a black voted by all! He reigned...          ArcYuyu   \n",
       "5550  NaN  Tony Bobulinski Communicates A Message To Joe ...        USMCMIL03   \n",
       "5551  NaN  After campaigning in 2016 to lift up the ‘forg...         JoeBiden   \n",
       "5552  NaN  But yes. Let’s all run and vote in corrupt, pr...   ZeroIndulgence   \n",
       "\n",
       "                       location       Subject          state  \\\n",
       "0                    New Jersey  Donald Trump     New Jersey   \n",
       "1     The Wrong Address, Texas   Donald Trump          Texas   \n",
       "2              Northborough, MA  Donald Trump  Massachusetts   \n",
       "3               New Jersey, USA  Donald Trump     New Jersey   \n",
       "4        Twin Cities, Minnesota  Donald Trump      Minnesota   \n",
       "...                         ...           ...            ...   \n",
       "5548                  Salem, OR     Joe Biden         Oregon   \n",
       "5549     Las Vegas, Nevada, USA     Joe Biden         Nevada   \n",
       "5550                 Texas, USA     Joe Biden          Texas   \n",
       "5551             Wilmington, DE     Joe Biden       Delaware   \n",
       "5552               San Jose, CA     Joe Biden     California   \n",
       "\n",
       "                                           cleaned_text  \\\n",
       "0        confrontation cost walter wallace jr life s...   \n",
       "1                               covid-19 rage trump lie   \n",
       "2          donald trump jr talk death oh oh number gott   \n",
       "3     let forget create problem tell donald trump sc...   \n",
       "4        great supporter donald trump world mark zuc...   \n",
       "...                                                 ...   \n",
       "5548     donald trump big covid19 super spreader nat...   \n",
       "5549                   obama black vote reign 8 yrs sid   \n",
       "5550      tony bobulinski communicate message joe biden   \n",
       "5551  campaign 2016 lift forget man president trump ...   \n",
       "5552  yes let run vote corrupt pro lockdown forever ...   \n",
       "\n",
       "                                               Polarity Sentiment  \n",
       "0     {'neg': 0.301, 'neu': 0.699, 'pos': 0.0, 'comp...  Negative  \n",
       "1     {'neg': 0.545, 'neu': 0.455, 'pos': 0.0, 'comp...  Negative  \n",
       "2     {'neg': 0.32, 'neu': 0.574, 'pos': 0.107, 'com...  Negative  \n",
       "3     {'neg': 0.356, 'neu': 0.366, 'pos': 0.277, 'co...  Negative  \n",
       "4     {'neg': 0.153, 'neu': 0.417, 'pos': 0.431, 'co...  Positive  \n",
       "...                                                 ...       ...  \n",
       "5548  {'neg': 0.0, 'neu': 0.755, 'pos': 0.245, 'comp...  Positive  \n",
       "5549  {'neg': 0.0, 'neu': 1.0, 'pos': 0.0, 'compound...   Neutral  \n",
       "5550  {'neg': 0.0, 'neu': 1.0, 'pos': 0.0, 'compound...   Neutral  \n",
       "5551  {'neg': 0.329, 'neu': 0.671, 'pos': 0.0, 'comp...  Negative  \n",
       "5552  {'neg': 0.239, 'neu': 0.508, 'pos': 0.254, 'co...  Negative  \n",
       "\n",
       "[5553 rows x 9 columns]"
      ]
     },
     "execution_count": 15,
     "metadata": {},
     "output_type": "execute_result"
    }
   ],
   "source": [
    "tweets_df"
   ]
  },
  {
   "cell_type": "code",
   "execution_count": 16,
   "id": "linear-tolerance",
   "metadata": {},
   "outputs": [],
   "source": [
    "#a = tweets_df.groupby(['Subject', 'Sentiment']).count()"
   ]
  },
  {
   "cell_type": "code",
   "execution_count": 17,
   "id": "color-sudan",
   "metadata": {},
   "outputs": [],
   "source": [
    "myindex = ['Donald Trump', 'Joe Biden']"
   ]
  },
  {
   "cell_type": "code",
   "execution_count": 18,
   "id": "hungarian-phone",
   "metadata": {},
   "outputs": [],
   "source": [
    "mycolumns = ['Positive', 'Neutral', 'Negative']"
   ]
  },
  {
   "cell_type": "code",
   "execution_count": 19,
   "id": "after-flexibility",
   "metadata": {},
   "outputs": [],
   "source": [
    "sentimet_df = pd.DataFrame(index=myindex, columns=mycolumns)"
   ]
  },
  {
   "cell_type": "code",
   "execution_count": 20,
   "id": "seven-sharp",
   "metadata": {},
   "outputs": [],
   "source": [
    "positive_trump = tweets_df[(tweets_df['Subject'] == 'Donald Trump') & (tweets_df['Sentiment'] == 'Positive')].count()['user']\n",
    "neutral_trump = tweets_df[(tweets_df['Subject'] == 'Donald Trump') & (tweets_df['Sentiment'] == 'Neutral')].count()['user']\n",
    "negative_trump = tweets_df[(tweets_df['Subject'] == 'Donald Trump') & (tweets_df['Sentiment'] == 'Negative')].count()['user']\n",
    "\n",
    "positive_biden = tweets_df[(tweets_df['Subject'] == 'Joe Biden') & (tweets_df['Sentiment'] == 'Positive')].count()['user']\n",
    "neutral_biden = tweets_df[(tweets_df['Subject'] == 'Joe Biden') & (tweets_df['Sentiment'] == 'Neutral')].count()['user']\n",
    "negative_biden = tweets_df[(tweets_df['Subject'] == 'Joe Biden') & (tweets_df['Sentiment'] == 'Negative')].count()['user']"
   ]
  },
  {
   "cell_type": "code",
   "execution_count": 21,
   "id": "nonprofit-watson",
   "metadata": {},
   "outputs": [
    {
     "data": {
      "text/html": [
       "<div>\n",
       "<style scoped>\n",
       "    .dataframe tbody tr th:only-of-type {\n",
       "        vertical-align: middle;\n",
       "    }\n",
       "\n",
       "    .dataframe tbody tr th {\n",
       "        vertical-align: top;\n",
       "    }\n",
       "\n",
       "    .dataframe thead th {\n",
       "        text-align: right;\n",
       "    }\n",
       "</style>\n",
       "<table border=\"1\" class=\"dataframe\">\n",
       "  <thead>\n",
       "    <tr style=\"text-align: right;\">\n",
       "      <th></th>\n",
       "      <th>Positive</th>\n",
       "      <th>Neutral</th>\n",
       "      <th>Negative</th>\n",
       "    </tr>\n",
       "  </thead>\n",
       "  <tbody>\n",
       "    <tr>\n",
       "      <th>Donald Trump</th>\n",
       "      <td>900</td>\n",
       "      <td>805</td>\n",
       "      <td>1223</td>\n",
       "    </tr>\n",
       "    <tr>\n",
       "      <th>Joe Biden</th>\n",
       "      <td>916</td>\n",
       "      <td>692</td>\n",
       "      <td>1017</td>\n",
       "    </tr>\n",
       "  </tbody>\n",
       "</table>\n",
       "</div>"
      ],
      "text/plain": [
       "             Positive Neutral Negative\n",
       "Donald Trump      900     805     1223\n",
       "Joe Biden         916     692     1017"
      ]
     },
     "execution_count": 21,
     "metadata": {},
     "output_type": "execute_result"
    }
   ],
   "source": [
    "sentimet_df.at['Donald Trump', 'Positive'] = positive_trump\n",
    "sentimet_df.at['Donald Trump', 'Neutral'] = neutral_trump\n",
    "sentimet_df.at['Donald Trump', 'Negative'] = negative_trump\n",
    "\n",
    "sentimet_df.at['Joe Biden', 'Positive'] = positive_biden\n",
    "sentimet_df.at['Joe Biden', 'Neutral'] = neutral_biden\n",
    "sentimet_df.at['Joe Biden', 'Negative'] = negative_biden\n",
    "\n",
    "sentimet_df"
   ]
  },
  {
   "cell_type": "markdown",
   "id": "broad-assembly",
   "metadata": {},
   "source": [
    "A formula developed by using the approach suggested by Wicaksono et al. According to\n",
    "Wicaksono et al, a positive tweet about a candidate indicates the intention to vote for that\n",
    "candidate, and a negative tweet indicates the intention to vote for an opposition candidate. Using this\n",
    "approach, as the third alternative method, vote share prediction is formulated as follow:\n",
    "(𝑣𝑜𝑡𝑒 𝑠ℎ𝑎𝑟𝑒 𝑜𝑓 𝑝𝑎𝑟𝑡𝑦 (𝐴))% =\n",
    "[𝑝𝑜𝑠(𝐴) + 𝑛𝑒𝑔(𝐵)] /\n",
    "[𝑇(𝐴) + 𝑇(𝐵)]\n"
   ]
  },
  {
   "cell_type": "code",
   "execution_count": 22,
   "id": "exclusive-hurricane",
   "metadata": {},
   "outputs": [
    {
     "data": {
      "text/plain": [
       "5553"
      ]
     },
     "execution_count": 22,
     "metadata": {},
     "output_type": "execute_result"
    }
   ],
   "source": [
    "len(tweets_df)"
   ]
  },
  {
   "cell_type": "markdown",
   "id": "sexual-penalty",
   "metadata": {},
   "source": [
    "# Text classification"
   ]
  },
  {
   "cell_type": "code",
   "execution_count": 23,
   "id": "electronic-rouge",
   "metadata": {},
   "outputs": [],
   "source": [
    "from sklearn.model_selection import train_test_split"
   ]
  },
  {
   "cell_type": "code",
   "execution_count": 24,
   "id": "better-blast",
   "metadata": {},
   "outputs": [],
   "source": [
    "X = tweets_df['cleaned_text']\n",
    "y = tweets_df['Sentiment']"
   ]
  },
  {
   "cell_type": "code",
   "execution_count": 25,
   "id": "happy-congress",
   "metadata": {},
   "outputs": [],
   "source": [
    "X_train, X_test, y_train, y_test = train_test_split(X, y, test_size=0.3, random_state=42)"
   ]
  },
  {
   "cell_type": "code",
   "execution_count": 26,
   "id": "uniform-salon",
   "metadata": {},
   "outputs": [],
   "source": [
    "from sklearn.pipeline import Pipeline\n",
    "from sklearn.feature_extraction.text import TfidfVectorizer\n",
    "from sklearn.naive_bayes import MultinomialNB\n",
    "from sklearn.svm import LinearSVC\n",
    "from sklearn.tree import DecisionTreeClassifier\n",
    "from sklearn import metrics\n",
    "\n",
    "# Naïve Bayes:\n",
    "text_clf_nb = Pipeline([('tfidf', TfidfVectorizer()),\n",
    "                     ('clf', MultinomialNB()),\n",
    "])\n",
    "\n",
    "# Linear SVC:\n",
    "text_clf_lsvc = Pipeline([('tfidf', TfidfVectorizer()),\n",
    "                     ('clf', LinearSVC()),\n",
    "])\n",
    "\n",
    "# Decision Trees\n",
    "text_clf_trees = Pipeline([('tfidf', TfidfVectorizer()),\n",
    "                     ('clf', DecisionTreeClassifier()),\n",
    "])"
   ]
  },
  {
   "cell_type": "markdown",
   "id": "adequate-pantyhose",
   "metadata": {},
   "source": [
    "# Naive Bayes"
   ]
  },
  {
   "cell_type": "code",
   "execution_count": 27,
   "id": "perfect-johnson",
   "metadata": {},
   "outputs": [
    {
     "data": {
      "text/plain": [
       "Pipeline(steps=[('tfidf', TfidfVectorizer()), ('clf', MultinomialNB())])"
      ]
     },
     "execution_count": 27,
     "metadata": {},
     "output_type": "execute_result"
    }
   ],
   "source": [
    "text_clf_nb.fit(X_train,y_train)"
   ]
  },
  {
   "cell_type": "code",
   "execution_count": 28,
   "id": "general-carry",
   "metadata": {},
   "outputs": [],
   "source": [
    "predictions = text_clf_nb.predict(X_test)"
   ]
  },
  {
   "cell_type": "code",
   "execution_count": 29,
   "id": "dressed-laptop",
   "metadata": {},
   "outputs": [
    {
     "name": "stdout",
     "output_type": "stream",
     "text": [
      "              precision    recall  f1-score   support\n",
      "\n",
      "    Negative       0.89      0.89      0.89       692\n",
      "     Neutral       0.88      0.77      0.82       449\n",
      "    Positive       0.82      0.90      0.86       525\n",
      "\n",
      "    accuracy                           0.86      1666\n",
      "   macro avg       0.86      0.85      0.86      1666\n",
      "weighted avg       0.86      0.86      0.86      1666\n",
      "\n"
     ]
    }
   ],
   "source": [
    "print(metrics.classification_report(y_test,predictions))"
   ]
  },
  {
   "cell_type": "code",
   "execution_count": 30,
   "id": "invalid-exhaust",
   "metadata": {},
   "outputs": [
    {
     "name": "stdout",
     "output_type": "stream",
     "text": [
      "0.8613445378151261\n"
     ]
    }
   ],
   "source": [
    "print(metrics.accuracy_score(y_test, predictions))"
   ]
  },
  {
   "cell_type": "code",
   "execution_count": 31,
   "id": "controversial-education",
   "metadata": {},
   "outputs": [],
   "source": [
    "confusion_matrix = metrics.confusion_matrix(y_test, predictions)"
   ]
  },
  {
   "cell_type": "code",
   "execution_count": 32,
   "id": "surprising-neighbor",
   "metadata": {},
   "outputs": [
    {
     "data": {
      "text/plain": [
       "array([[615,  28,  49],\n",
       "       [ 45, 346,  58],\n",
       "       [ 31,  20, 474]], dtype=int64)"
      ]
     },
     "execution_count": 32,
     "metadata": {},
     "output_type": "execute_result"
    }
   ],
   "source": [
    "confusion_matrix"
   ]
  },
  {
   "cell_type": "code",
   "execution_count": 33,
   "id": "impressive-promise",
   "metadata": {},
   "outputs": [],
   "source": [
    "import matplotlib.pyplot as plt\n",
    "from mpl_toolkits.axes_grid1.axes_divider import make_axes_locatable"
   ]
  },
  {
   "cell_type": "code",
   "execution_count": 34,
   "id": "nervous-alexandria",
   "metadata": {},
   "outputs": [
    {
     "data": {
      "image/png": "[encoded data removed]",
      "text/plain": [
       "<Figure size 432x288 with 2 Axes>"
      ]
     },
     "metadata": {
      "needs_background": "light"
     },
     "output_type": "display_data"
    }
   ],
   "source": [
    "sent_list = ['Positive', 'Neutral', 'Negative']\n",
    "\n",
    "fig, axes = plt.subplots()\n",
    "im = axes.imshow(confusion_matrix, cmap='Blues')\n",
    "axes_divider = make_axes_locatable(axes)\n",
    "\n",
    "# Add an axes to the right of the main axes.\n",
    "cax = axes_divider.append_axes(\"right\", size=\"10%\", pad=\"4%\")\n",
    "\n",
    "# We want to show all ticks...\n",
    "axes.set_xticks(np.arange(len(confusion_matrix)))\n",
    "axes.set_yticks(np.arange(len(confusion_matrix)))\n",
    "# ... and label them with the respective list entries\n",
    "axes.set_xticklabels(sent_list)\n",
    "axes.set_yticklabels(sent_list)\n",
    "\n",
    "# Set x,y label names\n",
    "axes.set_xlabel('Predicted label')\n",
    "axes.set_ylabel('True label')\n",
    "\n",
    "# Loop over data dimensions and create text annotations.\n",
    "for i in range(len(confusion_matrix)):\n",
    "    for j in range(len(confusion_matrix)):\n",
    "        axes.text(j, i, confusion_matrix[i,j], ha='center', va='center', color='black')\n",
    "\n",
    "cb = fig.colorbar(im, cax=cax)"
   ]
  },
  {
   "cell_type": "code",
   "execution_count": 35,
   "id": "civic-matrix",
   "metadata": {},
   "outputs": [],
   "source": [
    "fig.savefig('naive-bayes.png')"
   ]
  },
  {
   "cell_type": "code",
   "execution_count": 36,
   "id": "acceptable-kinase",
   "metadata": {},
   "outputs": [
    {
     "data": {
      "text/plain": [
       "3"
      ]
     },
     "execution_count": 36,
     "metadata": {},
     "output_type": "execute_result"
    }
   ],
   "source": [
    "len(confusion_matrix)"
   ]
  },
  {
   "cell_type": "markdown",
   "id": "australian-employer",
   "metadata": {},
   "source": [
    "# Linear SCV"
   ]
  },
  {
   "cell_type": "code",
   "execution_count": 37,
   "id": "handled-mercy",
   "metadata": {},
   "outputs": [
    {
     "data": {
      "text/plain": [
       "Pipeline(steps=[('tfidf', TfidfVectorizer()), ('clf', LinearSVC())])"
      ]
     },
     "execution_count": 37,
     "metadata": {},
     "output_type": "execute_result"
    }
   ],
   "source": [
    "text_clf_lsvc.fit(X_train,y_train)"
   ]
  },
  {
   "cell_type": "code",
   "execution_count": 38,
   "id": "approximate-kinase",
   "metadata": {},
   "outputs": [],
   "source": [
    "predictions = text_clf_lsvc.predict(X_test)"
   ]
  },
  {
   "cell_type": "code",
   "execution_count": 39,
   "id": "superior-classroom",
   "metadata": {},
   "outputs": [
    {
     "name": "stdout",
     "output_type": "stream",
     "text": [
      "              precision    recall  f1-score   support\n",
      "\n",
      "    Negative       0.93      0.92      0.92       692\n",
      "     Neutral       0.89      0.87      0.88       449\n",
      "    Positive       0.89      0.92      0.90       525\n",
      "\n",
      "    accuracy                           0.91      1666\n",
      "   macro avg       0.90      0.90      0.90      1666\n",
      "weighted avg       0.91      0.91      0.91      1666\n",
      "\n"
     ]
    }
   ],
   "source": [
    "print(metrics.classification_report(y_test,predictions))"
   ]
  },
  {
   "cell_type": "code",
   "execution_count": 40,
   "id": "focal-tutorial",
   "metadata": {},
   "outputs": [
    {
     "name": "stdout",
     "output_type": "stream",
     "text": [
      "0.9063625450180072\n"
     ]
    }
   ],
   "source": [
    "print(metrics.accuracy_score(y_test, predictions))"
   ]
  },
  {
   "cell_type": "code",
   "execution_count": 41,
   "id": "drawn-wallace",
   "metadata": {},
   "outputs": [],
   "source": [
    "confusion_matrix = metrics.confusion_matrix(y_test, predictions)"
   ]
  },
  {
   "cell_type": "code",
   "execution_count": 42,
   "id": "strange-polyester",
   "metadata": {},
   "outputs": [
    {
     "data": {
      "text/plain": [
       "array([[637,  26,  29],\n",
       "       [ 28, 389,  32],\n",
       "       [ 21,  20, 484]], dtype=int64)"
      ]
     },
     "execution_count": 42,
     "metadata": {},
     "output_type": "execute_result"
    }
   ],
   "source": [
    "confusion_matrix"
   ]
  },
  {
   "cell_type": "code",
   "execution_count": 43,
   "id": "pointed-chambers",
   "metadata": {},
   "outputs": [
    {
     "data": {
      "image/png": "[encoded data removed]",
      "text/plain": [
       "<Figure size 432x288 with 2 Axes>"
      ]
     },
     "metadata": {
      "needs_background": "light"
     },
     "output_type": "display_data"
    }
   ],
   "source": [
    "sent_list = ['Positive', 'Neutral', 'Negative']\n",
    "\n",
    "fig, axes = plt.subplots()\n",
    "im = axes.imshow(confusion_matrix, cmap='Blues')\n",
    "axes_divider = make_axes_locatable(axes)\n",
    "\n",
    "# Add an axes to the right of the main axes.\n",
    "cax = axes_divider.append_axes(\"right\", size=\"10%\", pad=\"4%\")\n",
    "\n",
    "# We want to show all ticks...\n",
    "axes.set_xticks(np.arange(len(confusion_matrix)))\n",
    "axes.set_yticks(np.arange(len(confusion_matrix)))\n",
    "# ... and label them with the respective list entries\n",
    "axes.set_xticklabels(sent_list)\n",
    "axes.set_yticklabels(sent_list)\n",
    "\n",
    "# Set x,y label names\n",
    "axes.set_xlabel('Predicted label')\n",
    "axes.set_ylabel('True label')\n",
    "\n",
    "# Loop over data dimensions and create text annotations.\n",
    "for i in range(len(confusion_matrix)):\n",
    "    for j in range(len(confusion_matrix)):\n",
    "        axes.text(j, i, confusion_matrix[i,j], ha='center', va='center', color='black')\n",
    "\n",
    "cb = fig.colorbar(im, cax=cax)"
   ]
  },
  {
   "cell_type": "code",
   "execution_count": 127,
   "id": "realistic-march",
   "metadata": {},
   "outputs": [],
   "source": [
    "fig.savefig('svc.png')"
   ]
  },
  {
   "cell_type": "code",
   "execution_count": 42,
   "id": "polar-poison",
   "metadata": {},
   "outputs": [],
   "source": [
    "import joblib"
   ]
  },
  {
   "cell_type": "code",
   "execution_count": 43,
   "id": "indoor-berlin",
   "metadata": {},
   "outputs": [
    {
     "data": {
      "text/plain": [
       "['sentiment_model.sav']"
      ]
     },
     "execution_count": 43,
     "metadata": {},
     "output_type": "execute_result"
    }
   ],
   "source": [
    "joblib.dump(text_clf_lsvc, 'sentiment_model.sav')"
   ]
  },
  {
   "cell_type": "code",
   "execution_count": null,
   "id": "angry-graphics",
   "metadata": {},
   "outputs": [],
   "source": []
  },
  {
   "cell_type": "markdown",
   "id": "considerable-iraqi",
   "metadata": {},
   "source": [
    "# LDA"
   ]
  },
  {
   "cell_type": "code",
   "execution_count": 44,
   "id": "specialized-swimming",
   "metadata": {},
   "outputs": [],
   "source": [
    "from sklearn.feature_extraction.text import CountVectorizer"
   ]
  },
  {
   "cell_type": "code",
   "execution_count": 45,
   "id": "reserved-copyright",
   "metadata": {},
   "outputs": [],
   "source": [
    "cv = CountVectorizer(max_df=0.9, min_df=2, stop_words='english')"
   ]
  },
  {
   "cell_type": "code",
   "execution_count": 46,
   "id": "invalid-expression",
   "metadata": {},
   "outputs": [],
   "source": [
    "dtm = cv.fit_transform(tweets_df['text'])"
   ]
  },
  {
   "cell_type": "code",
   "execution_count": 47,
   "id": "interior-witch",
   "metadata": {},
   "outputs": [
    {
     "data": {
      "text/plain": [
       "<5553x2737 sparse matrix of type '<class 'numpy.int64'>'\n",
       "\twith 54170 stored elements in Compressed Sparse Row format>"
      ]
     },
     "execution_count": 47,
     "metadata": {},
     "output_type": "execute_result"
    }
   ],
   "source": [
    "dtm"
   ]
  },
  {
   "cell_type": "code",
   "execution_count": 48,
   "id": "presidential-browse",
   "metadata": {},
   "outputs": [],
   "source": [
    "from sklearn.decomposition import LatentDirichletAllocation"
   ]
  },
  {
   "cell_type": "code",
   "execution_count": 49,
   "id": "retained-allowance",
   "metadata": {},
   "outputs": [],
   "source": [
    "lda = LatentDirichletAllocation(n_components=5, random_state=42)"
   ]
  },
  {
   "cell_type": "code",
   "execution_count": 50,
   "id": "unknown-nepal",
   "metadata": {},
   "outputs": [
    {
     "data": {
      "text/plain": [
       "LatentDirichletAllocation(n_components=5, random_state=42)"
      ]
     },
     "execution_count": 50,
     "metadata": {},
     "output_type": "execute_result"
    }
   ],
   "source": [
    "lda.fit(dtm)"
   ]
  },
  {
   "cell_type": "code",
   "execution_count": 51,
   "id": "precise-easter",
   "metadata": {},
   "outputs": [
    {
     "data": {
      "text/plain": [
       "2737"
      ]
     },
     "execution_count": 51,
     "metadata": {},
     "output_type": "execute_result"
    }
   ],
   "source": [
    "len(cv.get_feature_names())"
   ]
  },
  {
   "cell_type": "code",
   "execution_count": 52,
   "id": "norwegian-malaysia",
   "metadata": {},
   "outputs": [
    {
     "name": "stdout",
     "output_type": "stream",
     "text": [
      "The top 15 words for topic #0\n",
      "['donald', 'trump', 'discovered', 'smears', 'bogus', 'named', 'martin', 'aspen', 'fake', 'exposed', 'hunter', 'man', 'nbc', 'joe', 'biden']\n",
      "\n",
      "\n",
      "The top 15 words for topic #1\n",
      "['successes', 'money', '11', 'term', 'greater', 'zuckerberg', 'elect', 'mark', 'supporter', 'fbi', 'biden', 'world', 'president', 'donald', 'trump']\n",
      "\n",
      "\n",
      "The top 15 words for topic #2\n",
      "['lift', 'campaigning', 'lost', 'completely', 'man', 'working', 'just', '2016', 'election', 'president', 'people', 'donald', 'joe', 'biden', 'trump']\n",
      "\n",
      "\n",
      "The top 15 words for topic #3\n",
      "['innocent', 'dear', 'followers', 'retweet', 'million', 'gym', 'couldn', 'high', 'school', 'polls', 'vote', 'joe', 'donald', 'trump', 'biden']\n",
      "\n",
      "\n",
      "The top 15 words for topic #4\n",
      "['gott', 'number', 'aren', 'talking', 've', 'hunter', 'son', 'day', 'deaths', 'jr', 'oh', 'joe', 'donald', 'trump', 'biden']\n",
      "\n",
      "\n"
     ]
    }
   ],
   "source": [
    "for index,topic in enumerate(lda.components_):\n",
    "    print(f\"The top 15 words for topic #{index}\")\n",
    "    print([cv.get_feature_names()[i] for i in topic.argsort()[-15:]])\n",
    "    print('\\n')"
   ]
  },
  {
   "cell_type": "markdown",
   "id": "collective-summary",
   "metadata": {},
   "source": [
    "# Visualizations"
   ]
  },
  {
   "cell_type": "code",
   "execution_count": 53,
   "id": "stopped-tulsa",
   "metadata": {},
   "outputs": [],
   "source": [
    "import seaborn as sns\n",
    "import matplotlib.pyplot as plt"
   ]
  },
  {
   "cell_type": "code",
   "execution_count": 54,
   "id": "conscious-heavy",
   "metadata": {},
   "outputs": [
    {
     "data": {
      "text/html": [
       "<div>\n",
       "<style scoped>\n",
       "    .dataframe tbody tr th:only-of-type {\n",
       "        vertical-align: middle;\n",
       "    }\n",
       "\n",
       "    .dataframe tbody tr th {\n",
       "        vertical-align: top;\n",
       "    }\n",
       "\n",
       "    .dataframe thead th {\n",
       "        text-align: right;\n",
       "    }\n",
       "</style>\n",
       "<table border=\"1\" class=\"dataframe\">\n",
       "  <thead>\n",
       "    <tr style=\"text-align: right;\">\n",
       "      <th></th>\n",
       "      <th>geo</th>\n",
       "      <th>text</th>\n",
       "      <th>user</th>\n",
       "      <th>location</th>\n",
       "      <th>Subject</th>\n",
       "      <th>state</th>\n",
       "      <th>cleaned_text</th>\n",
       "      <th>Polarity</th>\n",
       "      <th>Sentiment</th>\n",
       "    </tr>\n",
       "  </thead>\n",
       "  <tbody>\n",
       "    <tr>\n",
       "      <th>0</th>\n",
       "      <td>NaN</td>\n",
       "      <td>After the confrontation that cost Walter Wall...</td>\n",
       "      <td>wheresestela1</td>\n",
       "      <td>New Jersey</td>\n",
       "      <td>Donald Trump</td>\n",
       "      <td>New Jersey</td>\n",
       "      <td>confrontation cost walter wallace jr life s...</td>\n",
       "      <td>{'neg': 0.301, 'neu': 0.699, 'pos': 0.0, 'comp...</td>\n",
       "      <td>Negative</td>\n",
       "    </tr>\n",
       "    <tr>\n",
       "      <th>1</th>\n",
       "      <td>NaN</td>\n",
       "      <td>\"COVID-19 is still raging. Trump is still lyi...</td>\n",
       "      <td>TheFemaleYungin</td>\n",
       "      <td>The Wrong Address, Texas</td>\n",
       "      <td>Donald Trump</td>\n",
       "      <td>Texas</td>\n",
       "      <td>covid-19 rage trump lie</td>\n",
       "      <td>{'neg': 0.545, 'neu': 0.455, 'pos': 0.0, 'comp...</td>\n",
       "      <td>Negative</td>\n",
       "    </tr>\n",
       "    <tr>\n",
       "      <th>2</th>\n",
       "      <td>NaN</td>\n",
       "      <td>Donald Trump Jr.: \"Why aren't they talking ab...</td>\n",
       "      <td>KathrynTomashu1</td>\n",
       "      <td>Northborough, MA</td>\n",
       "      <td>Donald Trump</td>\n",
       "      <td>Massachusetts</td>\n",
       "      <td>donald trump jr talk death oh oh number gott</td>\n",
       "      <td>{'neg': 0.32, 'neu': 0.574, 'pos': 0.107, 'com...</td>\n",
       "      <td>Negative</td>\n",
       "    </tr>\n",
       "    <tr>\n",
       "      <th>3</th>\n",
       "      <td>NaN</td>\n",
       "      <td>Let’s not forget who created these problems. T...</td>\n",
       "      <td>ajserino</td>\n",
       "      <td>New Jersey, USA</td>\n",
       "      <td>Donald Trump</td>\n",
       "      <td>New Jersey</td>\n",
       "      <td>let forget create problem tell donald trump sc...</td>\n",
       "      <td>{'neg': 0.356, 'neu': 0.366, 'pos': 0.277, 'co...</td>\n",
       "      <td>Negative</td>\n",
       "    </tr>\n",
       "    <tr>\n",
       "      <th>4</th>\n",
       "      <td>NaN</td>\n",
       "      <td>There is no greater supporter of Donald Trump...</td>\n",
       "      <td>SpeakBravely</td>\n",
       "      <td>Twin Cities, Minnesota</td>\n",
       "      <td>Donald Trump</td>\n",
       "      <td>Minnesota</td>\n",
       "      <td>great supporter donald trump world mark zuc...</td>\n",
       "      <td>{'neg': 0.153, 'neu': 0.417, 'pos': 0.431, 'co...</td>\n",
       "      <td>Positive</td>\n",
       "    </tr>\n",
       "  </tbody>\n",
       "</table>\n",
       "</div>"
      ],
      "text/plain": [
       "   geo                                               text             user  \\\n",
       "0  NaN   After the confrontation that cost Walter Wall...    wheresestela1   \n",
       "1  NaN   \"COVID-19 is still raging. Trump is still lyi...  TheFemaleYungin   \n",
       "2  NaN   Donald Trump Jr.: \"Why aren't they talking ab...  KathrynTomashu1   \n",
       "3  NaN  Let’s not forget who created these problems. T...         ajserino   \n",
       "4  NaN   There is no greater supporter of Donald Trump...     SpeakBravely   \n",
       "\n",
       "                    location       Subject          state  \\\n",
       "0                 New Jersey  Donald Trump     New Jersey   \n",
       "1  The Wrong Address, Texas   Donald Trump          Texas   \n",
       "2           Northborough, MA  Donald Trump  Massachusetts   \n",
       "3            New Jersey, USA  Donald Trump     New Jersey   \n",
       "4     Twin Cities, Minnesota  Donald Trump      Minnesota   \n",
       "\n",
       "                                        cleaned_text  \\\n",
       "0     confrontation cost walter wallace jr life s...   \n",
       "1                            covid-19 rage trump lie   \n",
       "2       donald trump jr talk death oh oh number gott   \n",
       "3  let forget create problem tell donald trump sc...   \n",
       "4     great supporter donald trump world mark zuc...   \n",
       "\n",
       "                                            Polarity Sentiment  \n",
       "0  {'neg': 0.301, 'neu': 0.699, 'pos': 0.0, 'comp...  Negative  \n",
       "1  {'neg': 0.545, 'neu': 0.455, 'pos': 0.0, 'comp...  Negative  \n",
       "2  {'neg': 0.32, 'neu': 0.574, 'pos': 0.107, 'com...  Negative  \n",
       "3  {'neg': 0.356, 'neu': 0.366, 'pos': 0.277, 'co...  Negative  \n",
       "4  {'neg': 0.153, 'neu': 0.417, 'pos': 0.431, 'co...  Positive  "
      ]
     },
     "execution_count": 54,
     "metadata": {},
     "output_type": "execute_result"
    }
   ],
   "source": [
    "tweets_df.head()"
   ]
  },
  {
   "cell_type": "code",
   "execution_count": 55,
   "id": "atomic-firewall",
   "metadata": {},
   "outputs": [
    {
     "data": {
      "text/plain": [
       "Text(0.5, 0.98, 'Sentiments for each candidate')"
      ]
     },
     "execution_count": 55,
     "metadata": {},
     "output_type": "execute_result"
    },
    {
     "data": {
      "image/png": "[encoded data removed]",
      "text/plain": [
       "<Figure size 576x432 with 1 Axes>"
      ]
     },
     "metadata": {
      "needs_background": "light"
     },
     "output_type": "display_data"
    }
   ],
   "source": [
    "fig = plt.figure(figsize=(8,6))\n",
    "sns.countplot(x='Subject',hue='Sentiment', data=tweets_df, palette='GnBu')\n",
    "fig.suptitle('Sentiments for each candidate', fontsize=16)"
   ]
  },
  {
   "cell_type": "code",
   "execution_count": 56,
   "id": "tested-warrant",
   "metadata": {},
   "outputs": [],
   "source": [
    "labels = list(sentimet_df.index)\n",
    "labels.append('Others')\n",
    "percentage_trump = round(((positive_trump + negative_biden)/len(tweets_df))*100, 2)\n",
    "percentage_biden = round(((positive_biden + negative_trump)/len(tweets_df))*100, 2)\n",
    "percentage_others = round(100 - percentage_biden - percentage_trump, 2)\n",
    "data = [percentage_trump, percentage_biden, percentage_others]"
   ]
  },
  {
   "cell_type": "code",
   "execution_count": 57,
   "id": "referenced-console",
   "metadata": {},
   "outputs": [
    {
     "data": {
      "text/plain": [
       "['Donald Trump', 'Joe Biden', 'Others']"
      ]
     },
     "execution_count": 57,
     "metadata": {},
     "output_type": "execute_result"
    }
   ],
   "source": [
    "labels"
   ]
  },
  {
   "cell_type": "code",
   "execution_count": 58,
   "id": "essential-computer",
   "metadata": {},
   "outputs": [
    {
     "data": {
      "text/plain": [
       "Text(0.5, 0.98, 'Election estimations')"
      ]
     },
     "execution_count": 58,
     "metadata": {},
     "output_type": "execute_result"
    },
    {
     "data": {
      "image/png": "[encoded data removed]",
      "text/plain": [
       "<Figure size 720x288 with 1 Axes>"
      ]
     },
     "metadata": {},
     "output_type": "display_data"
    }
   ],
   "source": [
    "fig, axes = plt.subplots(figsize=(10,4))\n",
    "axes.pie(data, labels=labels, autopct='%1.1f%%',radius=1.2,colors=['red','blue','gray'])\n",
    "fig.suptitle(\"Election estimations\",fontsize=16)"
   ]
  },
  {
   "cell_type": "code",
   "execution_count": 133,
   "id": "referenced-howard",
   "metadata": {},
   "outputs": [],
   "source": [
    "fig.savefig('estimations.png')"
   ]
  },
  {
   "cell_type": "code",
   "execution_count": null,
   "id": "unique-grave",
   "metadata": {},
   "outputs": [],
   "source": []
  }
 ],
 "metadata": {
  "kernelspec": {
   "display_name": "Python 3",
   "language": "python",
   "name": "python3"
  },
  "language_info": {
   "codemirror_mode": {
    "name": "ipython",
    "version": 3
   },
   "file_extension": ".py",
   "mimetype": "text/x-python",
   "name": "python",
   "nbconvert_exporter": "python",
   "pygments_lexer": "ipython3",
   "version": "3.8.0"
  }
 },
 "nbformat": 4,
 "nbformat_minor": 5
}
